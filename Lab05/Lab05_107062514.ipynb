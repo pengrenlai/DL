{
 "cells": [
  {
   "cell_type": "code",
   "execution_count": 107,
   "metadata": {},
   "outputs": [
    {
     "name": "stdout",
     "output_type": "stream",
     "text": [
      "(52399, 8)\n",
      "Index(['PERIOD', 'GAME_CLOCK', 'SHOT_CLOCK', 'DRIBBLES', 'TOUCH_TIME',\n",
      "       'SHOT_DIST', 'PTS_TYPE', 'CLOSE_DEF_DIST'],\n",
      "      dtype='object')\n",
      "Index(['FGM'], dtype='object')\n",
      "   PERIOD  GAME_CLOCK  SHOT_CLOCK  DRIBBLES  TOUCH_TIME  SHOT_DIST  PTS_TYPE  \\\n",
      "0       2         557        15.5         0         0.7        2.1         2   \n",
      "1       2         151        20.1         0         0.8        2.7         2   \n",
      "2       3         448        14.2         0         0.8        5.1         2   \n",
      "3       1         279        10.6         0         0.6        1.9         2   \n",
      "\n",
      "   CLOSE_DEF_DIST  \n",
      "0             0.0  \n",
      "1             3.4  \n",
      "2             0.1  \n",
      "3             2.7  \n",
      "   FGM\n",
      "0    1\n",
      "1    1\n",
      "2    0\n",
      "3    1\n",
      "(52399, 8)\n"
     ]
    },
    {
     "name": "stderr",
     "output_type": "stream",
     "text": [
      "c:\\users\\ren\\appdata\\local\\programs\\python\\python37\\lib\\site-packages\\ipykernel_launcher.py:26: FutureWarning: Method .as_matrix will be removed in a future version. Use .values instead.\n",
      "c:\\users\\ren\\appdata\\local\\programs\\python\\python37\\lib\\site-packages\\ipykernel_launcher.py:45: DataConversionWarning: A column-vector y was passed when a 1d array was expected. Please change the shape of y to (n_samples,), for example using ravel().\n"
     ]
    },
    {
     "name": "stdout",
     "output_type": "stream",
     "text": [
      " 1) GAME_CLOCK                     0.203219\n",
      " 2) SHOT_DIST                      0.199475\n",
      " 3) SHOT_CLOCK                     0.179909\n",
      " 4) CLOSE_DEF_DIST                 0.170689\n",
      " 5) TOUCH_TIME                     0.140588\n",
      " 6) PERIOD                         0.051054\n",
      " 7) DRIBBLES                       0.047976\n",
      " 8) PTS_TYPE                       0.007091\n"
     ]
    },
    {
     "name": "stderr",
     "output_type": "stream",
     "text": [
      "c:\\users\\ren\\appdata\\local\\programs\\python\\python37\\lib\\site-packages\\ipykernel_launcher.py:70: DataConversionWarning: A column-vector y was passed when a 1d array was expected. Please change the shape of y to (n_samples,), for example using ravel().\n"
     ]
    },
    {
     "name": "stdout",
     "output_type": "stream",
     "text": [
      "ACC: 0.51\n"
     ]
    }
   ],
   "source": [
    "%matplotlib inline\n",
    "\n",
    "import pandas as pd\n",
    "import numpy as np\n",
    "from sklearn.model_selection import train_test_split\n",
    "from sklearn.linear_model import LinearRegression\n",
    "from sklearn.preprocessing import PolynomialFeatures\n",
    "from sklearn.metrics import mean_squared_error\n",
    "from sklearn.preprocessing import StandardScaler\n",
    "import matplotlib.pyplot as plt\n",
    "\n",
    "X_train = pd.read_csv('./data/nba/X_train.csv')\n",
    "y_train = pd.read_csv('./data/nba/y_train.csv')\n",
    "\n",
    "X_test = pd.read_csv('./data/nba/X_test.csv')\n",
    "print(X_train.shape)\n",
    "print(X_train.columns)\n",
    "print(y_train.columns)\n",
    "\n",
    "X_columns = X_train.columns.values\n",
    "\n",
    "print(X_train[:4])\n",
    "print(y_train[:4])\n",
    "\n",
    "def pd2np(df):\n",
    "  return df.as_matrix()\n",
    "\n",
    "X_train = pd2np(X_train)\n",
    "y_train = pd2np(y_train)\n",
    "\n",
    "X_test = pd2np(X_test)\n",
    "print(X_train.shape)\n",
    "\n",
    "def getACC(ty, py):\n",
    "    py = py>0.5\n",
    "    return np.average(ty==py)\n",
    "\n",
    "\n",
    "from sklearn.ensemble import RandomForestClassifier\n",
    "\n",
    "forest = RandomForestClassifier(criterion='entropy',\n",
    "                                n_estimators=200, \n",
    "                                random_state=1,\n",
    "                                n_jobs=2)\n",
    "forest.fit(X_train, y_train)\n",
    "\n",
    "import matplotlib.pyplot as plt\n",
    "\n",
    "importances = forest.feature_importances_\n",
    "# get sort indices in descending order\n",
    "indices = np.argsort(importances)[::-1]\n",
    "\n",
    "for f in range(X_train.shape[1]):\n",
    "    print(\"%2d) %-*s %f\" % (f + 1, 30, \n",
    "                            X_columns[indices[f]], \n",
    "                            importances[indices[f]]))\n",
    "\n",
    "from sklearn.feature_selection import SelectFromModel\n",
    "\n",
    "sfm = SelectFromModel(forest, threshold=0.175, prefit=True)\n",
    "X_train_sel = sfm.transform(X_train)\n",
    "\n",
    "X_train_forest, X_valid_forest, y_train_forest, y_valid_forest = train_test_split(\n",
    "    X_train_sel, y_train, test_size=0.3, random_state=0)\n",
    "\n",
    "forest = RandomForestClassifier(criterion='entropy',\n",
    "                                n_estimators=200, \n",
    "                                random_state=1,\n",
    "                                n_jobs=2)\n",
    "forest.fit(X_train_forest, y_train_forest)\n",
    "\n",
    "y_pred = forest.predict(X_valid_forest)\n",
    "from sklearn.metrics import accuracy_score\n",
    "\n",
    "print('ACC: %.2f' % getACC(y_valid, y_pred))\n",
    "\n"
   ]
  },
  {
   "cell_type": "code",
   "execution_count": 108,
   "metadata": {},
   "outputs": [
    {
     "data": {
      "image/png": "[encoded data removed]",
      "text/plain": [
       "<Figure size 432x288 with 1 Axes>"
      ]
     },
     "metadata": {
      "needs_background": "light"
     },
     "output_type": "display_data"
    },
    {
     "name": "stdout",
     "output_type": "stream",
     "text": [
      "Selected attributes: ['SHOT_CLOCK' 'SHOT_DIST' 'CLOSE_DEF_DIST']\n"
     ]
    }
   ],
   "source": [
    "#feature selection using LASSO\n",
    "var_num = X_train.shape[1]\n",
    "\n",
    "lr_lasso = Lasso(alpha = 0.1)\n",
    "lr_lasso.fit(X_train, y_train)\n",
    "\n",
    "plt.scatter(range(var_num),lr_lasso.coef_, label = 'LASSO', color = 'blue')\n",
    "plt.hlines(y=0, xmin=0, xmax=var_num-1, color='red', linestyle ='--')\n",
    "plt.xlim(0,12)\n",
    "plt.legend(loc = 'upper right')\n",
    "plt.xlabel('Coefficients index')\n",
    "plt.ylabel('Coefficients')\n",
    "plt.tight_layout()\n",
    "plt.show()\n",
    "\n",
    "epsilon = 1e-4\n",
    "idxs = np.where(abs(lr_lasso.coef_) > epsilon)\n",
    "print('Selected attributes: {}'.format(X_columns[idxs]))\n",
    "\n",
    "X_train = X_train[:, idxs[0]]\n",
    "X_test = X_test[:, idxs[0]]\n",
    "\n",
    "X_train_raw = X_train\n",
    "y_train_raw = y_train\n",
    "\n",
    "X_train, X_valid, y_train, y_valid = train_test_split(X_train, y_train, test_size=0.3, random_state=0)\n",
    "\n",
    "sc = StandardScaler()\n",
    "X_train_std = sc.fit_transform(X_train)\n",
    "X_valid_std = sc.transform(X_valid)"
   ]
  },
  {
   "cell_type": "code",
   "execution_count": 109,
   "metadata": {},
   "outputs": [
    {
     "name": "stdout",
     "output_type": "stream",
     "text": [
      "(36679, 20)\n",
      "Linear Regression:\n",
      "ACC train: 0.6034\n",
      "ACC valid: 0.6109\n",
      "MSE train: 0.2352\n",
      "MSE valid: 0.2337\n",
      "Polynomial Regression:\n",
      "ACC train: 0.6147\n",
      "ACC valid: 0.6204\n",
      "MSE train: 0.2314\n",
      "MSE valid: 0.2304\n"
     ]
    }
   ],
   "source": [
    "poly = PolynomialFeatures(degree=3)\n",
    "X_poly_train = poly.fit_transform(X_train_std)\n",
    "X_poly_valid = poly.transform(X_valid_std)\n",
    "\n",
    "print(X_poly_train.shape)\n",
    "\n",
    "lr = LinearRegression()\n",
    "lr.fit(X_train_std, y_train)\n",
    "\n",
    "print('Linear Regression:')\n",
    "print('ACC train: %.4f' % getACC(y_train, lr.predict(X_train_std)))\n",
    "print('ACC valid: %.4f' % getACC(y_valid, lr.predict(X_valid_std)))\n",
    "print('MSE train: %.4f' % mean_squared_error(y_train, lr.predict(X_train_std)))\n",
    "print('MSE valid: %.4f' % mean_squared_error(y_valid, lr.predict(X_valid_std)))\n",
    "\n",
    "lr = LinearRegression()\n",
    "lr.fit(X_poly_train, y_train)\n",
    "print('Polynomial Regression:')\n",
    "print('ACC train: %.4f' % getACC(y_train, lr.predict(X_poly_train)))\n",
    "print('ACC valid: %.4f' % getACC(y_valid, lr.predict(X_poly_valid)))\n",
    "print('MSE train: %.4f' % mean_squared_error(y_train, lr.predict(X_poly_train)))\n",
    "print('MSE valid: %.4f' % mean_squared_error(y_valid, lr.predict(X_poly_valid)))"
   ]
  },
  {
   "cell_type": "code",
   "execution_count": 110,
   "metadata": {
    "scrolled": false
   },
   "outputs": [
    {
     "name": "stdout",
     "output_type": "stream",
     "text": [
      "Linear:\n",
      "\n",
      "[Alpha = 0]\n",
      "ACC train: 0.6034, valid: 0.6109\n",
      "MSE train: 0.2352, valid: 0.2337\n",
      "\n",
      "[Alpha = 1]\n",
      "ACC train: 0.6034, valid: 0.6109\n",
      "MSE train: 0.2352, valid: 0.2337\n",
      "\n",
      "[Alpha = 10]\n",
      "ACC train: 0.6033, valid: 0.6109\n",
      "MSE train: 0.2352, valid: 0.2337\n",
      "\n",
      "[Alpha = 100]\n",
      "ACC train: 0.6036, valid: 0.6109\n",
      "MSE train: 0.2352, valid: 0.2337\n",
      "\n",
      "[Alpha = 1000]\n",
      "ACC train: 0.6043, valid: 0.6111\n",
      "MSE train: 0.2352, valid: 0.2338\n",
      "\n",
      "Polynomial:\n",
      "\n",
      "[Alpha = 0]\n",
      "ACC train: 0.6147, valid: 0.6204\n",
      "MSE train: 0.2314, valid: 0.2304\n",
      "\n",
      "[Alpha = 1]\n",
      "ACC train: 0.6147, valid: 0.6204\n",
      "MSE train: 0.2314, valid: 0.2304\n",
      "\n",
      "[Alpha = 10]\n",
      "ACC train: 0.6147, valid: 0.6204\n",
      "MSE train: 0.2314, valid: 0.2304\n",
      "\n",
      "[Alpha = 100]\n",
      "ACC train: 0.6148, valid: 0.6203\n",
      "MSE train: 0.2314, valid: 0.2304\n",
      "\n",
      "[Alpha = 1000]\n",
      "ACC train: 0.6149, valid: 0.6209\n",
      "MSE train: 0.2315, valid: 0.2305\n"
     ]
    }
   ],
   "source": [
    "from sklearn.linear_model import Ridge\n",
    "\n",
    "print('Linear:')\n",
    "for a in [0, 1, 10, 100, 1000]:\n",
    "    lr_rg = Ridge(alpha=a)\n",
    "    lr_rg.fit(X_train_std, y_train)\n",
    "\n",
    "    print('\\n[Alpha = %d]' % a )\n",
    "    print('ACC train: %.4f, valid: %.4f' % (\n",
    "                    getACC(y_train, lr_rg.predict(X_train_std)),\n",
    "                    getACC(y_valid, lr_rg.predict(X_valid_std))))  \n",
    "    \n",
    "    print('MSE train: %.4f, valid: %.4f' % (\n",
    "                    mean_squared_error(y_train, lr_rg.predict(X_train_std)),\n",
    "                    mean_squared_error(y_valid, lr_rg.predict(X_valid_std))))  \n",
    "\n",
    "    \n",
    "print('\\nPolynomial:')\n",
    "for a in [0, 1, 10, 100, 1000]:\n",
    "    lr_rg = Ridge(alpha=a)\n",
    "    lr_rg.fit(X_poly_train, y_train)\n",
    "\n",
    "    print('\\n[Alpha = %d]' % a )\n",
    "    print('ACC train: %.4f, valid: %.4f' % (\n",
    "                    getACC(y_train, lr_rg.predict(X_poly_train)),\n",
    "                    getACC(y_valid, lr_rg.predict(X_poly_valid)))) \n",
    "    \n",
    "    print('MSE train: %.4f, valid: %.4f' % (\n",
    "                    mean_squared_error(y_train, lr_rg.predict(X_poly_train)),\n",
    "                    mean_squared_error(y_valid, lr_rg.predict(X_poly_valid))))  "
   ]
  },
  {
   "cell_type": "code",
   "execution_count": 111,
   "metadata": {},
   "outputs": [
    {
     "name": "stdout",
     "output_type": "stream",
     "text": [
      "\n",
      "[Alpha = 0.001]\n",
      "ACC train: 0.5109, valid: 0.5104\n",
      "MSE train: 0.2352, valid: 0.2338\n",
      "\n",
      "[Alpha = 0.010]\n",
      "ACC train: 0.5120, valid: 0.5115\n",
      "MSE train: 0.2357, valid: 0.2346\n",
      "\n",
      "[Alpha = 0.100]\n",
      "ACC train: 0.5443, valid: 0.5423\n",
      "MSE train: 0.2480, valid: 0.2482\n",
      "\n",
      "[Alpha = 1.000]\n",
      "ACC train: 0.5443, valid: 0.5423\n",
      "MSE train: 0.2480, valid: 0.2482\n",
      "\n",
      "[Alpha = 10.000]\n",
      "ACC train: 0.5443, valid: 0.5423\n",
      "MSE train: 0.2480, valid: 0.2482\n",
      "\n",
      "\n",
      "\n",
      "\n",
      "[Alpha = 0.001]\n",
      "ACC train: 0.5194, valid: 0.5184\n",
      "MSE train: 0.2315, valid: 0.2304\n",
      "\n",
      "[Alpha = 0.010]\n",
      "ACC train: 0.5187, valid: 0.5179\n",
      "MSE train: 0.2334, valid: 0.2326\n",
      "\n",
      "[Alpha = 0.100]\n",
      "ACC train: 0.5382, valid: 0.5366\n",
      "MSE train: 0.2427, valid: 0.2426\n",
      "\n",
      "[Alpha = 1.000]\n",
      "ACC train: 0.5443, valid: 0.5423\n",
      "MSE train: 0.2480, valid: 0.2482\n",
      "\n",
      "[Alpha = 10.000]\n",
      "ACC train: 0.5443, valid: 0.5423\n",
      "MSE train: 0.2480, valid: 0.2482\n"
     ]
    }
   ],
   "source": [
    "from sklearn.linear_model import Lasso\n",
    "\n",
    "for a in [0.001, 0.01, 0.1, 1, 10]:\n",
    "    lr_rg = Lasso(alpha=a)\n",
    "    lr_rg.fit(X_train_std, y_train)\n",
    "\n",
    "    print('\\n[Alpha = %.3f]' % a )\n",
    "    print('ACC train: %.4f, valid: %.4f' % (\n",
    "                    getACC(y_train, lr_rg.predict(X_train_std)),\n",
    "                    getACC(y_valid, lr_rg.predict(X_valid_std))))  \n",
    "    \n",
    "    print('MSE train: %.4f, valid: %.4f' % (\n",
    "                    mean_squared_error(y_train, lr_rg.predict(X_train_std)),\n",
    "                    mean_squared_error(y_valid, lr_rg.predict(X_valid_std))))  \n",
    "    \n",
    "print('\\n\\n')\n",
    "for a in [0.001, 0.01, 0.1, 1, 10]:\n",
    "    lr_rg = Lasso(alpha=a)\n",
    "    lr_rg.fit(X_poly_train, y_train)\n",
    "\n",
    "    print('\\n[Alpha = %.3f]' % a )\n",
    "    print('ACC train: %.4f, valid: %.4f' % (\n",
    "                    getACC(y_train, lr_rg.predict(X_poly_train)),\n",
    "                    getACC(y_valid, lr_rg.predict(X_poly_valid))))  \n",
    "    \n",
    "    print('MSE train: %.4f, valid: %.4f' % (\n",
    "                    mean_squared_error(y_train, lr_rg.predict(X_poly_train)),\n",
    "                    mean_squared_error(y_valid, lr_rg.predict(X_poly_valid))))  "
   ]
  },
  {
   "cell_type": "code",
   "execution_count": 112,
   "metadata": {},
   "outputs": [
    {
     "name": "stdout",
     "output_type": "stream",
     "text": [
      "MSE train : 0.23\n",
      "ACC train : 0.62\n"
     ]
    }
   ],
   "source": [
    "X_train = X_train_raw\n",
    "y_train = y_train_raw\n",
    "\n",
    "sc = StandardScaler()\n",
    "X_train_std = sc.fit_transform(X_train)\n",
    "X_test_std = sc.transform(X_test)\n",
    "\n",
    "poly = PolynomialFeatures(degree=3)\n",
    "X_poly_train = poly.fit_transform(X_train_std)\n",
    "X_poly_test = poly.transform(X_test_std)\n",
    "\n",
    "best_rg = Ridge(alpha=1)\n",
    "best_rg.fit(X_poly_train, y_train)\n",
    "\n",
    "print('MSE train : %.2f' % mean_squared_error(y_train, best_rg.predict(X_poly_train)))\n",
    "print('ACC train : %.2f' % getACC(y_train, best_rg.predict(X_poly_train)))\n",
    "\n",
    "import numpy\n",
    "\n",
    "y_pred = best_rg.predict(X_poly_test)\n",
    "\n",
    "y_pred = y_pred>0.5\n",
    "\n",
    "numpy.savetxt(\"./output/y_pred.csv\", y_pred ,fmt=\"%d\")"
   ]
  },
  {
   "cell_type": "code",
   "execution_count": 113,
   "metadata": {},
   "outputs": [
    {
     "data": {
      "image/png": "[encoded data removed]",
      "text/plain": [
       "<Figure size 432x288 with 1 Axes>"
      ]
     },
     "metadata": {
      "needs_background": "light"
     },
     "output_type": "display_data"
    }
   ],
   "source": [
    "from sklearn.metrics import accuracy_score\n",
    "\n",
    "def error_measure(model, X, y):\n",
    "    pred = model.predict(X) > 0.5\n",
    "    return np.average(y!=pred)\n",
    "\n",
    "from sklearn.learning_curve import learning_curve\n",
    "\n",
    "train_sizes, train_scores, test_scores = learning_curve(\n",
    "    estimator=Ridge(alpha=1), X=X_poly_train, y=y_train, scoring=error_measure)\n",
    "\n",
    "train_mean = np.mean(train_scores, axis=1)\n",
    "train_std = np.std(train_scores, axis=1)\n",
    "test_mean = np.mean(test_scores, axis=1)\n",
    "test_std = np.std(test_scores, axis=1)\n",
    "\n",
    "plt.plot(train_sizes, train_mean,\n",
    "    color='blue', marker='o',\n",
    "    markersize=5,\n",
    "    label='Training error')\n",
    "plt.fill_between(train_sizes,\n",
    "    train_mean+train_std,\n",
    "    train_mean-train_std,\n",
    "    alpha=0.15, color='blue')\n",
    "    \n",
    "plt.plot(train_sizes, test_mean,\n",
    "    color='green', linestyle='--',\n",
    "    marker='s', markersize=5,\n",
    "    label='Validation error')\n",
    "plt.fill_between(train_sizes,\n",
    "    test_mean+test_std,\n",
    "    test_mean-test_std,\n",
    "    alpha=0.15, color='green')\n",
    "    \n",
    "plt.title('Ridge Regression(alpha=1000)')\n",
    "plt.grid()\n",
    "plt.xlabel('Number of training samples')\n",
    "plt.ylabel('Error')\n",
    "plt.legend(loc='upper right')\n",
    "plt.ylim([0.37, 0.4])\n",
    "plt.tight_layout()\n",
    "plt.show()"
   ]
  },
  {
   "cell_type": "code",
   "execution_count": 114,
   "metadata": {},
   "outputs": [
    {
     "data": {
      "text/plain": [
       "\"\\n首先，先看到FGM發現值只有0和1，判斷為分類問題，所以先使用之前教過的Random Forest和SelectFromModel挑出3個feature，\\n然後再使用一次Random Forest得到validation accuracy，值約為0.51，和隨機猜差不多。\\n\\n為了改進performance，試試看使用regression做binary classification。\\n\\n首先，先使用LASSO挑出3個feature，分別是'SHOT_CLOCK' 'SHOT_DIST' 'CLOSE_DEF_DIST'，\\n接著嘗試各種不同model並比較其performance，\\n衡量performance的方式是將model predict得到的值當中>0.5的視為1，<=0.5視為0，並與ground truth做比較。\\n過程中嘗試了linear以及polynomial regression，也試過加上penalty term(LASSO和Ridge Regression)的作法，\\n最後得到最好的model是使用3次方的polynomial feature以及Ridge Regression(alpha=1)，\\n其validation error為0.2304。\\n\\n\""
      ]
     },
     "execution_count": 114,
     "metadata": {},
     "output_type": "execute_result"
    }
   ],
   "source": [
    "#report\n",
    "'''\n",
    "首先，先看到FGM發現值只有0和1，判斷為分類問題，所以先使用之前教過的Random Forest和SelectFromModel挑出3個feature，\n",
    "然後再使用一次Random Forest得到validation accuracy，值約為0.51，和隨機猜差不多。\n",
    "\n",
    "為了改進performance，試試看使用regression做binary classification。\n",
    "\n",
    "首先，先使用LASSO挑出3個feature，分別是'SHOT_CLOCK' 'SHOT_DIST' 'CLOSE_DEF_DIST'，\n",
    "接著嘗試各種不同model並比較其performance，\n",
    "衡量performance的方式是將model predict得到的值當中>0.5的視為1，<=0.5視為0，並與ground truth做比較。\n",
    "過程中嘗試了linear以及polynomial regression，也試過加上penalty term(LASSO和Ridge Regression)的作法，\n",
    "最後得到最好的model是使用3次方的polynomial feature以及Ridge Regression(alpha=1)，\n",
    "其validation error為0.2304。\n",
    "\n",
    "'''"
   ]
  },
  {
   "cell_type": "code",
   "execution_count": null,
   "metadata": {},
   "outputs": [],
   "source": []
  }
 ],
 "metadata": {
  "kernelspec": {
   "display_name": "Python 3",
   "language": "python",
   "name": "python3"
  },
  "language_info": {
   "codemirror_mode": {
    "name": "ipython",
    "version": 3
   },
   "file_extension": ".py",
   "mimetype": "text/x-python",
   "name": "python",
   "nbconvert_exporter": "python",
   "pygments_lexer": "ipython3",
   "version": "3.7.0"
  }
 },
 "nbformat": 4,
 "nbformat_minor": 2
}
