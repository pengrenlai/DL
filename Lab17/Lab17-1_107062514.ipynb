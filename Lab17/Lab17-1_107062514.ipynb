{
 "cells": [
  {
   "cell_type": "markdown",
   "metadata": {},
   "source": [
    "# Deep Q-Network"
   ]
  },
  {
   "cell_type": "code",
   "execution_count": 1,
   "metadata": {},
   "outputs": [
    {
     "name": "stdout",
     "output_type": "stream",
     "text": [
      "pygame 1.9.4\n",
      "Hello from the pygame community. https://www.pygame.org/contribute.html\n",
      "couldn't import doomish\n",
      "Couldn't import doom\n"
     ]
    }
   ],
   "source": [
    "# import package needed\n",
    "%matplotlib inline\n",
    "import matplotlib.pyplot as plt\n",
    "import os\n",
    "os.environ[\"SDL_VIDEODRIVER\"] = \"dummy\"  # this line make pop-out window not appear\n",
    "os.environ[\"CUDA_VISIBLE_DEVICES\"] = \"0\"\n",
    "import tensorflow as tf\n",
    "import numpy as np\n",
    "import skimage.color\n",
    "import skimage.transform\n",
    "from ple.games.flappybird import FlappyBird\n",
    "from ple import PLE\n",
    "game = FlappyBird()\n",
    "env = PLE(game, fps=30, display_screen=False)  # environment interface to game"
   ]
  },
  {
   "cell_type": "code",
   "execution_count": 2,
   "metadata": {},
   "outputs": [],
   "source": [
    "# define input size\n",
    "screen_width = 80\n",
    "screen_height = 80\n",
    "num_stack = 4"
   ]
  },
  {
   "cell_type": "code",
   "execution_count": 3,
   "metadata": {},
   "outputs": [],
   "source": [
    "'''\n",
    "def preprocess(screen):\n",
    "  #screen = skimage.color.rgb2gray(screen)\n",
    "  screen = skimage.transform.resize(screen, [screen_width, screen_height])\n",
    "  return screen\n",
    "'''\n",
    "\n",
    "bucket_range_per_feature = {\n",
    "  'next_next_pipe_bottom_y': 40,\n",
    "  'next_next_pipe_dist_to_player': 512,\n",
    "  'next_next_pipe_top_y': 40,\n",
    "  'next_pipe_bottom_y': 20,\n",
    "  'next_pipe_dist_to_player': 20,\n",
    "  'next_pipe_top_y': 20,\n",
    "  'player_vel': 4,\n",
    "  'player_y': 16\n",
    "}\n",
    "\n",
    "def preprocess(state):\n",
    "    # instead of using absolute position of pipe, use relative position\n",
    "    state = copy.deepcopy(state)\n",
    "    state['next_next_pipe_bottom_y'] -= state['player_y']\n",
    "    state['next_next_pipe_top_y'] -= state['player_y']\n",
    "    state['next_pipe_bottom_y'] -= state['player_y']\n",
    "    state['next_pipe_top_y'] -= state['player_y']\n",
    "\n",
    "    # sort to make list converted from dict ordered in alphabet order\n",
    "    state_key = [k for k, v in sorted(state.items())]\n",
    "\n",
    "    # do bucketing to decrease state space to speed up training\n",
    "    state_idx = []\n",
    "    for key in state_key:\n",
    "      state_idx.append(int(state[key] / bucket_range_per_feature[key]))\n",
    "    result = np.asarray([tuple(state_idx)])\n",
    "    return result"
   ]
  },
  {
   "cell_type": "code",
   "execution_count": 4,
   "metadata": {},
   "outputs": [],
   "source": [
    "import math\n",
    "import copy\n",
    "from collections import defaultdict\n",
    "MIN_EXPLORING_RATE = 10e-4\n",
    "\n",
    "\n",
    "class Agent:\n",
    "\n",
    "  def __init__(self, name, num_action, t=0, discount_factor=0.99):\n",
    "    self.exploring_rate = 0.1\n",
    "    self.discount_factor = discount_factor\n",
    "    self.num_action = num_action\n",
    "    self.name = name\n",
    "    \n",
    "    with tf.variable_scope(name):\n",
    "      self.build_model()\n",
    "\n",
    "  def build_model(self):\n",
    "\n",
    "    # input: current screen, selected action and reward\n",
    "    #self.input_screen = tf.placeholder(tf.float32, shape=[None, screen_width, screen_height, num_stack])\n",
    "    self.input_state = tf.placeholder(tf.float32, [None,8])\n",
    "    self.action = tf.placeholder(tf.int32, [None])\n",
    "    self.reward = tf.placeholder(tf.float32, [None])\n",
    "    self.is_training = tf.placeholder(tf.bool, shape=[])\n",
    "\n",
    "    def net(state, reuse=False):\n",
    "      with tf.variable_scope(\n",
    "          \"layers\",\n",
    "          reuse=reuse,\n",
    "          initializer=tf.truncated_normal_initializer(stddev=1e-2)):\n",
    "        '''\n",
    "        conv1 = tf.layers.conv2d(\n",
    "            inputs=screen,\n",
    "            filters=32,\n",
    "            kernel_size=[8, 8],\n",
    "            strides=[4, 4],\n",
    "            padding='SAME',\n",
    "            activation=tf.nn.relu)\n",
    "        pool1 = tf.layers.max_pooling2d(\n",
    "            conv1, pool_size=[2, 2], strides=[2, 2], padding='SAME')\n",
    "\n",
    "        conv2 = tf.layers.conv2d(\n",
    "            inputs=pool1,\n",
    "            filters=64,\n",
    "            kernel_size=[4, 4],\n",
    "            strides=[2, 2],\n",
    "            padding='SAME',\n",
    "            activation=tf.nn.relu)\n",
    "        conv3 = tf.layers.conv2d(\n",
    "            inputs=conv2,\n",
    "            filters=64,\n",
    "            kernel_size=[3, 3],\n",
    "            strides=[1, 1],\n",
    "            padding='SAME',\n",
    "            activation=tf.nn.relu)\n",
    "        flat = tf.contrib.layers.flatten(conv3)'''\n",
    "        dense = tf.layers.dense(inputs=state, units=128, activation=tf.nn.relu)\n",
    "        dense = tf.layers.dense(inputs=dense, units=128, activation=tf.nn.relu)\n",
    "        dense = tf.layers.dense(inputs=dense, units=128, activation=tf.nn.relu)\n",
    "        dense = tf.layers.dense(inputs=dense, units=128, activation=tf.nn.relu)\n",
    "        Q = tf.layers.dense(\n",
    "            inputs=dense, units=self.num_action, activation=None)\n",
    "\n",
    "        return Q\n",
    "\n",
    "    # optimize\n",
    "    self.output = net(self.input_state\n",
    "                     )  # Q(s,a,theta) for all a, shape (batch_size, num_action)\n",
    "    index = tf.stack([tf.range(tf.shape(self.action)[0]), self.action], axis=1)\n",
    "    self.esti_Q = tf.gather_nd(\n",
    "        self.output,\n",
    "        index)  # Q(s,a,theta) for selected action, shape (batch_size, 1)\n",
    "\n",
    "    self.max_Q = tf.reduce_max(\n",
    "        self.output, axis=1)  # max(Q(s',a',theta')), shape (batch_size, 1)\n",
    "    self.tar_Q = tf.placeholder(tf.float32, [None])\n",
    "\n",
    "    # loss = E[r+max(Q(s',a',theta'))-Q(s,a,theta)]\n",
    "    self.loss = tf.reduce_mean(\n",
    "        tf.square(self.reward + self.discount_factor * self.tar_Q -\n",
    "                  self.esti_Q))\n",
    "\n",
    "    optimizer = tf.train.AdamOptimizer(learning_rate=1e-5)\n",
    "    self.g_gvs = optimizer.compute_gradients(\n",
    "        self.loss,\n",
    "        var_list=[v for v in tf.global_variables() if self.name in v.name])\n",
    "    self.train_op = optimizer.apply_gradients(self.g_gvs)\n",
    "    self.pred = tf.argmax(\n",
    "        self.output, axis=1\n",
    "    )  # select action with highest action-value, only used in inference\n",
    "\n",
    "  def select_action(self, input_state, sess):\n",
    "    # epsilon-greedy\n",
    "    if np.random.rand() < self.exploring_rate:\n",
    "      action = np.random.choice(num_action)  # Select a random action\n",
    "    else:\n",
    "      #input_screen = np.array(input_screen).transpose([1, 2, 0])\n",
    "      feed_dict = {\n",
    "          self.input_state: input_state,\n",
    "          self.is_training: False,\n",
    "      }\n",
    "      action = sess.run(\n",
    "          self.pred,\n",
    "          feed_dict=feed_dict)[0]  # Select the action with the highest q\n",
    "    return action\n",
    "\n",
    "  def update_policy(self, input_state, actions, rewards, input_state_plum,\n",
    "                    terminal, target_netwrok):\n",
    "    # use max_Q estimate from target one to update online one\n",
    "    feed_dict = {\n",
    "        target_netwrok.input_state:\n",
    "            input_state_plum,\n",
    "        target_netwrok.is_training:\n",
    "            True,\n",
    "    }\n",
    "    max_Q = sess.run(target_netwrok.max_Q, feed_dict=feed_dict)\n",
    "    max_Q *= ~np.array(terminal)\n",
    "    feed_dict = {\n",
    "        self.input_state: input_state,\n",
    "        self.tar_Q: max_Q,\n",
    "        self.action: actions,\n",
    "        self.reward: rewards,\n",
    "        self.is_training: True,\n",
    "    }\n",
    "    loss, _ = sess.run([self.loss, self.train_op], feed_dict=feed_dict)\n",
    "    return loss\n",
    "\n",
    "  def update_parameters(self, episode):\n",
    "    if self.exploring_rate > MIN_EXPLORING_RATE:\n",
    "      self.exploring_rate -= (0.1 - MIN_EXPLORING_RATE) / 3000000\n",
    "\n",
    "  def shutdown_explore(self):\n",
    "    # make action selection greedy\n",
    "    self.exploring_rate = 0"
   ]
  },
  {
   "cell_type": "code",
   "execution_count": 5,
   "metadata": {},
   "outputs": [],
   "source": [
    "def get_update_ops():\n",
    "  # return operations assign weight to target network\n",
    "  src_vars = [v for v in tf.global_variables() if 'online' in v.name]\n",
    "  tar_vars = [v for v in tf.global_variables() if 'target' in v.name]\n",
    "  update_ops = []\n",
    "  for src_var, tar_var in zip(src_vars, tar_vars):\n",
    "    update_ops.append(tar_var.assign(src_var))\n",
    "  return update_ops\n",
    "\n",
    "\n",
    "def update_target(update_ops, sess):\n",
    "  sess.run(update_ops)\n",
    "\n"
   ]
  },
  {
   "cell_type": "code",
   "execution_count": 6,
   "metadata": {},
   "outputs": [],
   "source": [
    "# init agent\n",
    "tf.reset_default_graph()\n",
    "num_action = len(env.getActionSet())\n",
    "\n",
    "# agent for frequently updating\n",
    "online_agent = Agent('online', num_action)\n",
    "\n",
    "# agent for slow updating\n",
    "target_agent = Agent('target', num_action)\n",
    "update_ops = get_update_ops()"
   ]
  },
  {
   "cell_type": "code",
   "execution_count": 7,
   "metadata": {},
   "outputs": [],
   "source": [
    "class Replay_buffer():\n",
    "\n",
    "  def __init__(self, buffer_size=50000):\n",
    "    self.experiences = []\n",
    "    self.buffer_size = buffer_size\n",
    "\n",
    "  def add(self, experience):\n",
    "    if len(self.experiences) >= self.buffer_size:\n",
    "      self.experiences.pop(0)\n",
    "    self.experiences.append(experience)\n",
    "\n",
    "  def sample(self, size):\n",
    "    \"\"\"\n",
    "        sameple experience from buffer\n",
    "        \"\"\"\n",
    "    if size > len(self.experiences):\n",
    "      experiences_idx = np.random.choice(len(self.experiences), size=size)\n",
    "    else:\n",
    "      experiences_idx = np.random.choice(\n",
    "          len(self.experiences), size=size, replace=False)\n",
    "    # from all sampled experiences, extract a tuple of (s,a,r,s')\n",
    "    states = []\n",
    "    actions = []\n",
    "    rewards = []\n",
    "    states_plum = []\n",
    "    terminal = []\n",
    "    for i in range(size):\n",
    "      states.append(self.experiences[experiences_idx[i]][0])\n",
    "      actions.append(self.experiences[experiences_idx[i]][1])\n",
    "      rewards.append(self.experiences[experiences_idx[i]][2])\n",
    "      states_plum.append(self.experiences[experiences_idx[i]][3])\n",
    "      terminal.append(self.experiences[experiences_idx[i]][4])\n",
    "    return states, actions, rewards, states_plum, terminal"
   ]
  },
  {
   "cell_type": "code",
   "execution_count": 8,
   "metadata": {},
   "outputs": [],
   "source": [
    "# init buffer\n",
    "buffer = Replay_buffer()"
   ]
  },
  {
   "cell_type": "code",
   "execution_count": 9,
   "metadata": {},
   "outputs": [],
   "source": [
    "def make_anim(images, fps=60, true_image=False):\n",
    "  duration = len(images) / fps\n",
    "  import moviepy.editor as mpy\n",
    "\n",
    "  def make_frame(t):\n",
    "    try:\n",
    "      x = images[int(len(images) / duration * t)]\n",
    "    except:\n",
    "      x = images[-1]\n",
    "\n",
    "    if true_image:\n",
    "      return x.astype(np.uint8)\n",
    "    else:\n",
    "      return ((x + 1) / 2 * 255).astype(np.uint8)\n",
    "\n",
    "  clip = mpy.VideoClip(make_frame, duration=duration)\n",
    "  clip.fps = fps\n",
    "  return clip"
   ]
  },
  {
   "cell_type": "code",
   "execution_count": 10,
   "metadata": {},
   "outputs": [],
   "source": [
    "# init all\n",
    "config = tf.ConfigProto()\n",
    "config.gpu_options.allow_growth = True\n",
    "sess = tf.InteractiveSession(config=config)\n",
    "sess.run(tf.global_variables_initializer())"
   ]
  },
  {
   "cell_type": "code",
   "execution_count": null,
   "metadata": {},
   "outputs": [
    {
     "name": "stdout",
     "output_type": "stream",
     "text": [
      "[MoviePy] >>>> Building video movie/DQN-0.webm\n",
      "[MoviePy] Writing video movie/DQN-0.webm\n"
     ]
    },
    {
     "name": "stderr",
     "output_type": "stream",
     "text": [
      "100%|██████████████████████████████████████████████████████████████████████████████████| 63/63 [00:00<00:00, 77.55it/s]\n"
     ]
    },
    {
     "name": "stdout",
     "output_type": "stream",
     "text": [
      "[MoviePy] Done.\n",
      "[MoviePy] >>>> Video ready: movie/DQN-0.webm \n",
      "\n",
      "[200] time live:61, cumulated reward: 5.099999999999994, exploring rate: 0.09999336700000071, loss: 0.03457795828580856\n",
      "[MoviePy] >>>> Building video movie/DQN-200.webm\n",
      "[MoviePy] Writing video movie/DQN-200.webm\n"
     ]
    },
    {
     "name": "stderr",
     "output_type": "stream",
     "text": [
      "100%|██████████████████████████████████████████████████████████████████████████████████| 63/63 [00:01<00:00, 51.17it/s]\n"
     ]
    },
    {
     "name": "stdout",
     "output_type": "stream",
     "text": [
      "[MoviePy] Done.\n",
      "[MoviePy] >>>> Video ready: movie/DQN-200.webm \n",
      "\n",
      "[400] time live:61, cumulated reward: 5.099999999999994, exploring rate: 0.0999867670000014, loss: 0.0056176502257585526\n",
      "[MoviePy] >>>> Building video movie/DQN-400.webm\n",
      "[MoviePy] Writing video movie/DQN-400.webm\n"
     ]
    },
    {
     "name": "stderr",
     "output_type": "stream",
     "text": [
      "100%|██████████████████████████████████████████████████████████████████████████████████| 63/63 [00:01<00:00, 47.95it/s]\n"
     ]
    },
    {
     "name": "stdout",
     "output_type": "stream",
     "text": [
      "[MoviePy] Done.\n",
      "[MoviePy] >>>> Video ready: movie/DQN-400.webm \n",
      "\n",
      "[600] time live:61, cumulated reward: 5.099999999999994, exploring rate: 0.0999801670000021, loss: 0.0004317938582971692\n",
      "[MoviePy] >>>> Building video movie/DQN-600.webm\n",
      "[MoviePy] Writing video movie/DQN-600.webm\n"
     ]
    },
    {
     "name": "stderr",
     "output_type": "stream",
     "text": [
      "100%|██████████████████████████████████████████████████████████████████████████████████| 63/63 [00:01<00:00, 49.66it/s]\n"
     ]
    },
    {
     "name": "stdout",
     "output_type": "stream",
     "text": [
      "[MoviePy] Done.\n",
      "[MoviePy] >>>> Video ready: movie/DQN-600.webm \n",
      "\n",
      "[800] time live:61, cumulated reward: 5.099999999999994, exploring rate: 0.0999735670000028, loss: 0.000228092132601887\n",
      "[MoviePy] >>>> Building video movie/DQN-800.webm\n",
      "[MoviePy] Writing video movie/DQN-800.webm\n"
     ]
    },
    {
     "name": "stderr",
     "output_type": "stream",
     "text": [
      "100%|██████████████████████████████████████████████████████████████████████████████████| 63/63 [00:01<00:00, 47.83it/s]\n"
     ]
    },
    {
     "name": "stdout",
     "output_type": "stream",
     "text": [
      "[MoviePy] Done.\n",
      "[MoviePy] >>>> Video ready: movie/DQN-800.webm \n",
      "\n",
      "[1000] time live:61, cumulated reward: 5.099999999999994, exploring rate: 0.0999669670000035, loss: 0.030442040413618088\n",
      "[MoviePy] >>>> Building video movie/DQN-1000.webm\n",
      "[MoviePy] Writing video movie/DQN-1000.webm\n"
     ]
    },
    {
     "name": "stderr",
     "output_type": "stream",
     "text": [
      "100%|██████████████████████████████████████████████████████████████████████████████████| 63/63 [00:01<00:00, 46.39it/s]\n"
     ]
    },
    {
     "name": "stdout",
     "output_type": "stream",
     "text": [
      "[MoviePy] Done.\n",
      "[MoviePy] >>>> Video ready: movie/DQN-1000.webm \n",
      "\n",
      "[1200] time live:61, cumulated reward: 5.099999999999994, exploring rate: 0.0999603670000042, loss: 0.030554236844182014\n",
      "[MoviePy] >>>> Building video movie/DQN-1200.webm\n",
      "[MoviePy] Writing video movie/DQN-1200.webm\n"
     ]
    },
    {
     "name": "stderr",
     "output_type": "stream",
     "text": [
      "100%|██████████████████████████████████████████████████████████████████████████████████| 63/63 [00:01<00:00, 46.73it/s]\n"
     ]
    },
    {
     "name": "stdout",
     "output_type": "stream",
     "text": [
      "[MoviePy] Done.\n",
      "[MoviePy] >>>> Video ready: movie/DQN-1200.webm \n",
      "\n",
      "[1400] time live:61, cumulated reward: 5.099999999999994, exploring rate: 0.0999537670000049, loss: 0.030377186834812164\n",
      "[MoviePy] >>>> Building video movie/DQN-1400.webm\n",
      "[MoviePy] Writing video movie/DQN-1400.webm\n"
     ]
    },
    {
     "name": "stderr",
     "output_type": "stream",
     "text": [
      "100%|██████████████████████████████████████████████████████████████████████████████████| 63/63 [00:01<00:00, 48.13it/s]\n"
     ]
    },
    {
     "name": "stdout",
     "output_type": "stream",
     "text": [
      "[MoviePy] Done.\n",
      "[MoviePy] >>>> Video ready: movie/DQN-1400.webm \n",
      "\n",
      "[1600] time live:61, cumulated reward: 5.099999999999994, exploring rate: 0.0999471670000056, loss: 0.0002821034286171198\n",
      "[MoviePy] >>>> Building video movie/DQN-1600.webm\n",
      "[MoviePy] Writing video movie/DQN-1600.webm\n"
     ]
    },
    {
     "name": "stderr",
     "output_type": "stream",
     "text": [
      "100%|██████████████████████████████████████████████████████████████████████████████████| 63/63 [00:01<00:00, 49.44it/s]\n"
     ]
    },
    {
     "name": "stdout",
     "output_type": "stream",
     "text": [
      "[MoviePy] Done.\n",
      "[MoviePy] >>>> Video ready: movie/DQN-1600.webm \n",
      "\n",
      "[1800] time live:61, cumulated reward: 5.099999999999994, exploring rate: 0.0999405670000063, loss: 0.0002171500527765602\n",
      "[MoviePy] >>>> Building video movie/DQN-1800.webm\n",
      "[MoviePy] Writing video movie/DQN-1800.webm\n"
     ]
    },
    {
     "name": "stderr",
     "output_type": "stream",
     "text": [
      "100%|██████████████████████████████████████████████████████████████████████████████████| 63/63 [00:01<00:00, 49.86it/s]\n"
     ]
    },
    {
     "name": "stdout",
     "output_type": "stream",
     "text": [
      "[MoviePy] Done.\n",
      "[MoviePy] >>>> Video ready: movie/DQN-1800.webm \n",
      "\n",
      "[2000] time live:61, cumulated reward: 5.099999999999994, exploring rate: 0.09993396700000699, loss: 0.030475247651338577\n",
      "[MoviePy] >>>> Building video movie/DQN-2000.webm\n",
      "[MoviePy] Writing video movie/DQN-2000.webm\n"
     ]
    },
    {
     "name": "stderr",
     "output_type": "stream",
     "text": [
      "100%|██████████████████████████████████████████████████████████████████████████████████| 63/63 [00:01<00:00, 48.74it/s]\n"
     ]
    },
    {
     "name": "stdout",
     "output_type": "stream",
     "text": [
      "[MoviePy] Done.\n",
      "[MoviePy] >>>> Video ready: movie/DQN-2000.webm \n",
      "\n",
      "[2200] time live:61, cumulated reward: 5.099999999999994, exploring rate: 0.09992736700000769, loss: 0.030444839969277382\n",
      "[MoviePy] >>>> Building video movie/DQN-2200.webm\n",
      "[MoviePy] Writing video movie/DQN-2200.webm\n"
     ]
    },
    {
     "name": "stderr",
     "output_type": "stream",
     "text": [
      "100%|██████████████████████████████████████████████████████████████████████████████████| 63/63 [00:01<00:00, 53.99it/s]\n"
     ]
    },
    {
     "name": "stdout",
     "output_type": "stream",
     "text": [
      "[MoviePy] Done.\n",
      "[MoviePy] >>>> Video ready: movie/DQN-2200.webm \n",
      "\n",
      "[2400] time live:61, cumulated reward: 5.099999999999994, exploring rate: 0.09992076700000839, loss: 0.06068011000752449\n",
      "[MoviePy] >>>> Building video movie/DQN-2400.webm\n",
      "[MoviePy] Writing video movie/DQN-2400.webm\n"
     ]
    },
    {
     "name": "stderr",
     "output_type": "stream",
     "text": [
      "100%|██████████████████████████████████████████████████████████████████████████████████| 63/63 [00:01<00:00, 54.71it/s]\n"
     ]
    },
    {
     "name": "stdout",
     "output_type": "stream",
     "text": [
      "[MoviePy] Done.\n",
      "[MoviePy] >>>> Video ready: movie/DQN-2400.webm \n",
      "\n",
      "[2600] time live:61, cumulated reward: 5.099999999999994, exploring rate: 0.09991416700000909, loss: 0.030498284846544266\n",
      "[MoviePy] >>>> Building video movie/DQN-2600.webm\n",
      "[MoviePy] Writing video movie/DQN-2600.webm\n"
     ]
    },
    {
     "name": "stderr",
     "output_type": "stream",
     "text": [
      "100%|██████████████████████████████████████████████████████████████████████████████████| 63/63 [00:01<00:00, 49.92it/s]\n"
     ]
    },
    {
     "name": "stdout",
     "output_type": "stream",
     "text": [
      "[MoviePy] Done.\n",
      "[MoviePy] >>>> Video ready: movie/DQN-2600.webm \n",
      "\n",
      "[2800] time live:61, cumulated reward: 5.099999999999994, exploring rate: 0.09990756700000979, loss: 0.00023315238649956882\n",
      "[MoviePy] >>>> Building video movie/DQN-2800.webm\n",
      "[MoviePy] Writing video movie/DQN-2800.webm\n"
     ]
    },
    {
     "name": "stderr",
     "output_type": "stream",
     "text": [
      "100%|██████████████████████████████████████████████████████████████████████████████████| 63/63 [00:01<00:00, 49.04it/s]\n"
     ]
    },
    {
     "name": "stdout",
     "output_type": "stream",
     "text": [
      "[MoviePy] Done.\n",
      "[MoviePy] >>>> Video ready: movie/DQN-2800.webm \n",
      "\n",
      "[3000] time live:61, cumulated reward: 5.099999999999994, exploring rate: 0.09990096700001048, loss: 0.030494121834635735\n",
      "[MoviePy] >>>> Building video movie/DQN-3000.webm\n",
      "[MoviePy] Writing video movie/DQN-3000.webm\n"
     ]
    },
    {
     "name": "stderr",
     "output_type": "stream",
     "text": [
      "100%|██████████████████████████████████████████████████████████████████████████████████| 63/63 [00:01<00:00, 50.39it/s]\n"
     ]
    },
    {
     "name": "stdout",
     "output_type": "stream",
     "text": [
      "[MoviePy] Done.\n",
      "[MoviePy] >>>> Video ready: movie/DQN-3000.webm \n",
      "\n",
      "[3200] time live:61, cumulated reward: 5.099999999999994, exploring rate: 0.09989436700001118, loss: 0.00035538000520318747\n",
      "[MoviePy] >>>> Building video movie/DQN-3200.webm\n",
      "[MoviePy] Writing video movie/DQN-3200.webm\n"
     ]
    },
    {
     "name": "stderr",
     "output_type": "stream",
     "text": [
      "100%|██████████████████████████████████████████████████████████████████████████████████| 63/63 [00:01<00:00, 50.11it/s]\n"
     ]
    },
    {
     "name": "stdout",
     "output_type": "stream",
     "text": [
      "[MoviePy] Done.\n",
      "[MoviePy] >>>> Video ready: movie/DQN-3200.webm \n",
      "\n",
      "[3400] time live:61, cumulated reward: 5.099999999999994, exploring rate: 0.09988776700001188, loss: 0.030465753749012947\n",
      "[MoviePy] >>>> Building video movie/DQN-3400.webm\n",
      "[MoviePy] Writing video movie/DQN-3400.webm\n"
     ]
    },
    {
     "name": "stderr",
     "output_type": "stream",
     "text": [
      "100%|██████████████████████████████████████████████████████████████████████████████████| 63/63 [00:01<00:00, 54.06it/s]\n"
     ]
    },
    {
     "name": "stdout",
     "output_type": "stream",
     "text": [
      "[MoviePy] Done.\n",
      "[MoviePy] >>>> Video ready: movie/DQN-3400.webm \n",
      "\n",
      "[3600] time live:61, cumulated reward: 5.099999999999994, exploring rate: 0.09988116700001258, loss: 0.061158858239650726\n",
      "[MoviePy] >>>> Building video movie/DQN-3600.webm\n",
      "[MoviePy] Writing video movie/DQN-3600.webm\n"
     ]
    },
    {
     "name": "stderr",
     "output_type": "stream",
     "text": [
      "100%|██████████████████████████████████████████████████████████████████████████████████| 63/63 [00:01<00:00, 47.41it/s]\n"
     ]
    },
    {
     "name": "stdout",
     "output_type": "stream",
     "text": [
      "[MoviePy] Done.\n",
      "[MoviePy] >>>> Video ready: movie/DQN-3600.webm \n",
      "\n",
      "[3800] time live:61, cumulated reward: 5.099999999999994, exploring rate: 0.09987456700001328, loss: 0.0003860170254483819\n",
      "[MoviePy] >>>> Building video movie/DQN-3800.webm\n",
      "[MoviePy] Writing video movie/DQN-3800.webm\n"
     ]
    },
    {
     "name": "stderr",
     "output_type": "stream",
     "text": [
      "100%|██████████████████████████████████████████████████████████████████████████████████| 63/63 [00:01<00:00, 50.13it/s]\n"
     ]
    },
    {
     "name": "stdout",
     "output_type": "stream",
     "text": [
      "[MoviePy] Done.\n",
      "[MoviePy] >>>> Video ready: movie/DQN-3800.webm \n",
      "\n",
      "[4000] time live:61, cumulated reward: 5.099999999999994, exploring rate: 0.09986796700001398, loss: 0.0003036668640561402\n",
      "[MoviePy] >>>> Building video movie/DQN-4000.webm\n",
      "[MoviePy] Writing video movie/DQN-4000.webm\n"
     ]
    },
    {
     "name": "stderr",
     "output_type": "stream",
     "text": [
      "100%|██████████████████████████████████████████████████████████████████████████████████| 63/63 [00:01<00:00, 55.10it/s]\n"
     ]
    },
    {
     "name": "stdout",
     "output_type": "stream",
     "text": [
      "[MoviePy] Done.\n",
      "[MoviePy] >>>> Video ready: movie/DQN-4000.webm \n",
      "\n",
      "[4200] time live:61, cumulated reward: 5.099999999999994, exploring rate: 0.09986136700001468, loss: 0.030449239537119865\n",
      "[MoviePy] >>>> Building video movie/DQN-4200.webm\n",
      "[MoviePy] Writing video movie/DQN-4200.webm\n"
     ]
    },
    {
     "name": "stderr",
     "output_type": "stream",
     "text": [
      "100%|██████████████████████████████████████████████████████████████████████████████████| 63/63 [00:01<00:00, 53.87it/s]\n"
     ]
    },
    {
     "name": "stdout",
     "output_type": "stream",
     "text": [
      "[MoviePy] Done.\n",
      "[MoviePy] >>>> Video ready: movie/DQN-4200.webm \n",
      "\n",
      "[4400] time live:61, cumulated reward: 5.099999999999994, exploring rate: 0.09985476700001537, loss: 0.0003007449849974364\n",
      "[MoviePy] >>>> Building video movie/DQN-4400.webm\n",
      "[MoviePy] Writing video movie/DQN-4400.webm\n"
     ]
    },
    {
     "name": "stderr",
     "output_type": "stream",
     "text": [
      "100%|██████████████████████████████████████████████████████████████████████████████████| 63/63 [00:01<00:00, 53.10it/s]\n"
     ]
    },
    {
     "name": "stdout",
     "output_type": "stream",
     "text": [
      "[MoviePy] Done.\n",
      "[MoviePy] >>>> Video ready: movie/DQN-4400.webm \n",
      "\n",
      "[4600] time live:61, cumulated reward: 5.099999999999994, exploring rate: 0.09984816700001607, loss: 0.030521037057042122\n",
      "[MoviePy] >>>> Building video movie/DQN-4600.webm\n",
      "[MoviePy] Writing video movie/DQN-4600.webm\n"
     ]
    },
    {
     "name": "stderr",
     "output_type": "stream",
     "text": [
      "100%|██████████████████████████████████████████████████████████████████████████████████| 63/63 [00:01<00:00, 53.78it/s]\n"
     ]
    },
    {
     "name": "stdout",
     "output_type": "stream",
     "text": [
      "[MoviePy] Done.\n",
      "[MoviePy] >>>> Video ready: movie/DQN-4600.webm \n",
      "\n",
      "[4800] time live:61, cumulated reward: 5.099999999999994, exploring rate: 0.09984156700001677, loss: 0.00024748884607106447\n",
      "[MoviePy] >>>> Building video movie/DQN-4800.webm\n",
      "[MoviePy] Writing video movie/DQN-4800.webm\n"
     ]
    },
    {
     "name": "stderr",
     "output_type": "stream",
     "text": [
      "100%|██████████████████████████████████████████████████████████████████████████████████| 63/63 [00:01<00:00, 54.08it/s]\n"
     ]
    },
    {
     "name": "stdout",
     "output_type": "stream",
     "text": [
      "[MoviePy] Done.\n",
      "[MoviePy] >>>> Video ready: movie/DQN-4800.webm \n",
      "\n",
      "[5000] time live:61, cumulated reward: 5.099999999999994, exploring rate: 0.09983496700001747, loss: 0.00025932438438758254\n",
      "[MoviePy] >>>> Building video movie/DQN-5000.webm\n",
      "[MoviePy] Writing video movie/DQN-5000.webm\n"
     ]
    },
    {
     "name": "stderr",
     "output_type": "stream",
     "text": [
      "100%|██████████████████████████████████████████████████████████████████████████████████| 63/63 [00:01<00:00, 51.84it/s]\n"
     ]
    },
    {
     "name": "stdout",
     "output_type": "stream",
     "text": [
      "[MoviePy] Done.\n",
      "[MoviePy] >>>> Video ready: movie/DQN-5000.webm \n",
      "\n",
      "[5200] time live:61, cumulated reward: 5.099999999999994, exploring rate: 0.09982836700001817, loss: 0.00020141879213042557\n",
      "[MoviePy] >>>> Building video movie/DQN-5200.webm\n",
      "[MoviePy] Writing video movie/DQN-5200.webm\n"
     ]
    },
    {
     "name": "stderr",
     "output_type": "stream",
     "text": [
      "100%|██████████████████████████████████████████████████████████████████████████████████| 63/63 [00:01<00:00, 48.94it/s]\n"
     ]
    },
    {
     "name": "stdout",
     "output_type": "stream",
     "text": [
      "[MoviePy] Done.\n",
      "[MoviePy] >>>> Video ready: movie/DQN-5200.webm \n",
      "\n",
      "[5400] time live:61, cumulated reward: 5.099999999999994, exploring rate: 0.09982176700001887, loss: 0.00026122538838535547\n",
      "[MoviePy] >>>> Building video movie/DQN-5400.webm\n",
      "[MoviePy] Writing video movie/DQN-5400.webm\n"
     ]
    },
    {
     "name": "stderr",
     "output_type": "stream",
     "text": [
      "100%|██████████████████████████████████████████████████████████████████████████████████| 63/63 [00:01<00:00, 49.15it/s]\n"
     ]
    },
    {
     "name": "stdout",
     "output_type": "stream",
     "text": [
      "[MoviePy] Done.\n",
      "[MoviePy] >>>> Video ready: movie/DQN-5400.webm \n",
      "\n",
      "[5600] time live:61, cumulated reward: 5.099999999999994, exploring rate: 0.09981516700001956, loss: 0.0003006410552188754\n",
      "[MoviePy] >>>> Building video movie/DQN-5600.webm\n",
      "[MoviePy] Writing video movie/DQN-5600.webm\n"
     ]
    },
    {
     "name": "stderr",
     "output_type": "stream",
     "text": [
      "100%|██████████████████████████████████████████████████████████████████████████████████| 63/63 [00:01<00:00, 45.29it/s]\n"
     ]
    },
    {
     "name": "stdout",
     "output_type": "stream",
     "text": [
      "[MoviePy] Done.\n",
      "[MoviePy] >>>> Video ready: movie/DQN-5600.webm \n",
      "\n",
      "[5800] time live:61, cumulated reward: 5.099999999999994, exploring rate: 0.09980856700002026, loss: 0.06080994755029678\n",
      "[MoviePy] >>>> Building video movie/DQN-5800.webm\n",
      "[MoviePy] Writing video movie/DQN-5800.webm\n"
     ]
    },
    {
     "name": "stderr",
     "output_type": "stream",
     "text": [
      "100%|██████████████████████████████████████████████████████████████████████████████████| 63/63 [00:01<00:00, 48.26it/s]\n"
     ]
    },
    {
     "name": "stdout",
     "output_type": "stream",
     "text": [
      "[MoviePy] Done.\n",
      "[MoviePy] >>>> Video ready: movie/DQN-5800.webm \n",
      "\n",
      "[6000] time live:61, cumulated reward: 5.099999999999994, exploring rate: 0.09980196700002096, loss: 0.00030517642153427005\n",
      "[MoviePy] >>>> Building video movie/DQN-6000.webm\n",
      "[MoviePy] Writing video movie/DQN-6000.webm\n"
     ]
    },
    {
     "name": "stderr",
     "output_type": "stream",
     "text": [
      "100%|██████████████████████████████████████████████████████████████████████████████████| 63/63 [00:01<00:00, 45.84it/s]\n"
     ]
    },
    {
     "name": "stdout",
     "output_type": "stream",
     "text": [
      "[MoviePy] Done.\n",
      "[MoviePy] >>>> Video ready: movie/DQN-6000.webm \n",
      "\n",
      "[6200] time live:61, cumulated reward: 5.099999999999994, exploring rate: 0.09979536700002166, loss: 0.030479973182082176\n",
      "[MoviePy] >>>> Building video movie/DQN-6200.webm\n",
      "[MoviePy] Writing video movie/DQN-6200.webm\n"
     ]
    },
    {
     "name": "stderr",
     "output_type": "stream",
     "text": [
      "100%|██████████████████████████████████████████████████████████████████████████████████| 63/63 [00:01<00:00, 50.65it/s]\n"
     ]
    },
    {
     "name": "stdout",
     "output_type": "stream",
     "text": [
      "[MoviePy] Done.\n",
      "[MoviePy] >>>> Video ready: movie/DQN-6200.webm \n",
      "\n",
      "[6400] time live:61, cumulated reward: 5.099999999999994, exploring rate: 0.09978876700002236, loss: 0.0002818656212184578\n",
      "[MoviePy] >>>> Building video movie/DQN-6400.webm\n",
      "[MoviePy] Writing video movie/DQN-6400.webm\n"
     ]
    },
    {
     "name": "stderr",
     "output_type": "stream",
     "text": [
      "100%|██████████████████████████████████████████████████████████████████████████████████| 63/63 [00:01<00:00, 50.34it/s]\n"
     ]
    },
    {
     "name": "stdout",
     "output_type": "stream",
     "text": [
      "[MoviePy] Done.\n",
      "[MoviePy] >>>> Video ready: movie/DQN-6400.webm \n",
      "\n",
      "[6600] time live:61, cumulated reward: 5.099999999999994, exploring rate: 0.09978216700002306, loss: 0.00027000438421964645\n",
      "[MoviePy] >>>> Building video movie/DQN-6600.webm\n",
      "[MoviePy] Writing video movie/DQN-6600.webm\n"
     ]
    },
    {
     "name": "stderr",
     "output_type": "stream",
     "text": [
      "100%|██████████████████████████████████████████████████████████████████████████████████| 63/63 [00:01<00:00, 53.57it/s]\n"
     ]
    },
    {
     "name": "stdout",
     "output_type": "stream",
     "text": [
      "[MoviePy] Done.\n",
      "[MoviePy] >>>> Video ready: movie/DQN-6600.webm \n",
      "\n",
      "[6800] time live:61, cumulated reward: 5.099999999999994, exploring rate: 0.09977556700002375, loss: 0.0002987095504067838\n",
      "[MoviePy] >>>> Building video movie/DQN-6800.webm\n",
      "[MoviePy] Writing video movie/DQN-6800.webm\n"
     ]
    },
    {
     "name": "stderr",
     "output_type": "stream",
     "text": [
      "100%|██████████████████████████████████████████████████████████████████████████████████| 63/63 [00:01<00:00, 49.46it/s]\n"
     ]
    },
    {
     "name": "stdout",
     "output_type": "stream",
     "text": [
      "[MoviePy] Done.\n",
      "[MoviePy] >>>> Video ready: movie/DQN-6800.webm \n",
      "\n",
      "[7000] time live:61, cumulated reward: 5.099999999999994, exploring rate: 0.09976896700002445, loss: 0.00027598970336839557\n",
      "[MoviePy] >>>> Building video movie/DQN-7000.webm\n",
      "[MoviePy] Writing video movie/DQN-7000.webm\n"
     ]
    },
    {
     "name": "stderr",
     "output_type": "stream",
     "text": [
      "100%|██████████████████████████████████████████████████████████████████████████████████| 63/63 [00:01<00:00, 49.35it/s]\n"
     ]
    },
    {
     "name": "stdout",
     "output_type": "stream",
     "text": [
      "[MoviePy] Done.\n",
      "[MoviePy] >>>> Video ready: movie/DQN-7000.webm \n",
      "\n",
      "[7200] time live:61, cumulated reward: 5.099999999999994, exploring rate: 0.09976236700002515, loss: 0.00030219441396184266\n",
      "[MoviePy] >>>> Building video movie/DQN-7200.webm\n",
      "[MoviePy] Writing video movie/DQN-7200.webm\n"
     ]
    },
    {
     "name": "stderr",
     "output_type": "stream",
     "text": [
      "100%|██████████████████████████████████████████████████████████████████████████████████| 63/63 [00:01<00:00, 50.63it/s]\n"
     ]
    },
    {
     "name": "stdout",
     "output_type": "stream",
     "text": [
      "[MoviePy] Done.\n",
      "[MoviePy] >>>> Video ready: movie/DQN-7200.webm \n",
      "\n",
      "[7400] time live:61, cumulated reward: 5.099999999999994, exploring rate: 0.09975576700002585, loss: 0.00027556990971788764\n",
      "[MoviePy] >>>> Building video movie/DQN-7400.webm\n",
      "[MoviePy] Writing video movie/DQN-7400.webm\n"
     ]
    },
    {
     "name": "stderr",
     "output_type": "stream",
     "text": [
      "100%|██████████████████████████████████████████████████████████████████████████████████| 63/63 [00:01<00:00, 49.82it/s]\n"
     ]
    },
    {
     "name": "stdout",
     "output_type": "stream",
     "text": [
      "[MoviePy] Done.\n",
      "[MoviePy] >>>> Video ready: movie/DQN-7400.webm \n",
      "\n",
      "[7600] time live:61, cumulated reward: 5.099999999999994, exploring rate: 0.09974916700002655, loss: 0.0608372688293457\n",
      "[MoviePy] >>>> Building video movie/DQN-7600.webm\n",
      "[MoviePy] Writing video movie/DQN-7600.webm\n"
     ]
    },
    {
     "name": "stderr",
     "output_type": "stream",
     "text": [
      "100%|██████████████████████████████████████████████████████████████████████████████████| 63/63 [00:01<00:00, 44.67it/s]\n"
     ]
    },
    {
     "name": "stdout",
     "output_type": "stream",
     "text": [
      "[MoviePy] Done.\n",
      "[MoviePy] >>>> Video ready: movie/DQN-7600.webm \n",
      "\n",
      "[7800] time live:61, cumulated reward: 5.099999999999994, exploring rate: 0.09974256700002725, loss: 0.00027756288181990385\n",
      "[MoviePy] >>>> Building video movie/DQN-7800.webm\n",
      "[MoviePy] Writing video movie/DQN-7800.webm\n"
     ]
    },
    {
     "name": "stderr",
     "output_type": "stream",
     "text": [
      "100%|██████████████████████████████████████████████████████████████████████████████████| 63/63 [00:01<00:00, 54.10it/s]\n"
     ]
    },
    {
     "name": "stdout",
     "output_type": "stream",
     "text": [
      "[MoviePy] Done.\n",
      "[MoviePy] >>>> Video ready: movie/DQN-7800.webm \n",
      "\n",
      "[8000] time live:61, cumulated reward: 5.099999999999994, exploring rate: 0.09973596700002794, loss: 0.0001822013728087768\n",
      "[MoviePy] >>>> Building video movie/DQN-8000.webm\n",
      "[MoviePy] Writing video movie/DQN-8000.webm\n"
     ]
    },
    {
     "name": "stderr",
     "output_type": "stream",
     "text": [
      "100%|██████████████████████████████████████████████████████████████████████████████████| 63/63 [00:01<00:00, 49.76it/s]\n"
     ]
    },
    {
     "name": "stdout",
     "output_type": "stream",
     "text": [
      "[MoviePy] Done.\n",
      "[MoviePy] >>>> Video ready: movie/DQN-8000.webm \n",
      "\n",
      "[8200] time live:61, cumulated reward: 5.099999999999994, exploring rate: 0.09972936700002864, loss: 0.030563460662961006\n",
      "[MoviePy] >>>> Building video movie/DQN-8200.webm\n",
      "[MoviePy] Writing video movie/DQN-8200.webm\n"
     ]
    },
    {
     "name": "stderr",
     "output_type": "stream",
     "text": [
      "100%|██████████████████████████████████████████████████████████████████████████████████| 63/63 [00:01<00:00, 48.07it/s]\n"
     ]
    },
    {
     "name": "stdout",
     "output_type": "stream",
     "text": [
      "[MoviePy] Done.\n",
      "[MoviePy] >>>> Video ready: movie/DQN-8200.webm \n",
      "\n",
      "[8400] time live:61, cumulated reward: 5.099999999999994, exploring rate: 0.09972276700002934, loss: 0.0002555629180278629\n",
      "[MoviePy] >>>> Building video movie/DQN-8400.webm\n",
      "[MoviePy] Writing video movie/DQN-8400.webm\n"
     ]
    },
    {
     "name": "stderr",
     "output_type": "stream",
     "text": [
      "100%|██████████████████████████████████████████████████████████████████████████████████| 63/63 [00:01<00:00, 49.73it/s]\n"
     ]
    },
    {
     "name": "stdout",
     "output_type": "stream",
     "text": [
      "[MoviePy] Done.\n",
      "[MoviePy] >>>> Video ready: movie/DQN-8400.webm \n",
      "\n",
      "[8600] time live:61, cumulated reward: 5.099999999999994, exploring rate: 0.09971616700003004, loss: 0.060824085026979446\n",
      "[MoviePy] >>>> Building video movie/DQN-8600.webm\n",
      "[MoviePy] Writing video movie/DQN-8600.webm\n"
     ]
    },
    {
     "name": "stderr",
     "output_type": "stream",
     "text": [
      "100%|██████████████████████████████████████████████████████████████████████████████████| 63/63 [00:01<00:00, 53.86it/s]\n"
     ]
    },
    {
     "name": "stdout",
     "output_type": "stream",
     "text": [
      "[MoviePy] Done.\n",
      "[MoviePy] >>>> Video ready: movie/DQN-8600.webm \n",
      "\n",
      "[8800] time live:61, cumulated reward: 5.099999999999994, exploring rate: 0.09970956700003074, loss: 0.030489016324281693\n",
      "[MoviePy] >>>> Building video movie/DQN-8800.webm\n",
      "[MoviePy] Writing video movie/DQN-8800.webm\n"
     ]
    },
    {
     "name": "stderr",
     "output_type": "stream",
     "text": [
      "100%|██████████████████████████████████████████████████████████████████████████████████| 63/63 [00:01<00:00, 50.69it/s]\n"
     ]
    },
    {
     "name": "stdout",
     "output_type": "stream",
     "text": [
      "[MoviePy] Done.\n",
      "[MoviePy] >>>> Video ready: movie/DQN-8800.webm \n",
      "\n",
      "[9000] time live:61, cumulated reward: 5.099999999999994, exploring rate: 0.09970296700003144, loss: 0.00022469925170298666\n",
      "[MoviePy] >>>> Building video movie/DQN-9000.webm\n",
      "[MoviePy] Writing video movie/DQN-9000.webm\n"
     ]
    },
    {
     "name": "stderr",
     "output_type": "stream",
     "text": [
      "100%|██████████████████████████████████████████████████████████████████████████████████| 63/63 [00:01<00:00, 49.40it/s]\n"
     ]
    },
    {
     "name": "stdout",
     "output_type": "stream",
     "text": [
      "[MoviePy] Done.\n",
      "[MoviePy] >>>> Video ready: movie/DQN-9000.webm \n",
      "\n",
      "[9200] time live:61, cumulated reward: 5.099999999999994, exploring rate: 0.09969636700003214, loss: 0.00023739745665807277\n",
      "[MoviePy] >>>> Building video movie/DQN-9200.webm\n",
      "[MoviePy] Writing video movie/DQN-9200.webm\n"
     ]
    },
    {
     "name": "stderr",
     "output_type": "stream",
     "text": [
      "100%|██████████████████████████████████████████████████████████████████████████████████| 63/63 [00:01<00:00, 47.89it/s]\n"
     ]
    },
    {
     "name": "stdout",
     "output_type": "stream",
     "text": [
      "[MoviePy] Done.\n",
      "[MoviePy] >>>> Video ready: movie/DQN-9200.webm \n",
      "\n",
      "[9400] time live:61, cumulated reward: 5.099999999999994, exploring rate: 0.09968976700003283, loss: 0.03044702485203743\n",
      "[MoviePy] >>>> Building video movie/DQN-9400.webm\n",
      "[MoviePy] Writing video movie/DQN-9400.webm\n"
     ]
    },
    {
     "name": "stderr",
     "output_type": "stream",
     "text": [
      "100%|██████████████████████████████████████████████████████████████████████████████████| 63/63 [00:01<00:00, 51.93it/s]\n"
     ]
    },
    {
     "name": "stdout",
     "output_type": "stream",
     "text": [
      "[MoviePy] Done.\n",
      "[MoviePy] >>>> Video ready: movie/DQN-9400.webm \n",
      "\n",
      "[9600] time live:61, cumulated reward: 5.099999999999994, exploring rate: 0.09968316700003353, loss: 0.00031525338999927044\n",
      "[MoviePy] >>>> Building video movie/DQN-9600.webm\n",
      "[MoviePy] Writing video movie/DQN-9600.webm\n"
     ]
    },
    {
     "name": "stderr",
     "output_type": "stream",
     "text": [
      "100%|██████████████████████████████████████████████████████████████████████████████████| 63/63 [00:01<00:00, 49.51it/s]\n"
     ]
    },
    {
     "name": "stdout",
     "output_type": "stream",
     "text": [
      "[MoviePy] Done.\n",
      "[MoviePy] >>>> Video ready: movie/DQN-9600.webm \n",
      "\n",
      "[9800] time live:61, cumulated reward: 5.099999999999994, exploring rate: 0.09967656700003423, loss: 0.06065772846341133\n",
      "[MoviePy] >>>> Building video movie/DQN-9800.webm\n",
      "[MoviePy] Writing video movie/DQN-9800.webm\n"
     ]
    },
    {
     "name": "stderr",
     "output_type": "stream",
     "text": [
      "100%|██████████████████████████████████████████████████████████████████████████████████| 63/63 [00:01<00:00, 47.10it/s]\n"
     ]
    },
    {
     "name": "stdout",
     "output_type": "stream",
     "text": [
      "[MoviePy] Done.\n",
      "[MoviePy] >>>> Video ready: movie/DQN-9800.webm \n",
      "\n",
      "[10000] time live:61, cumulated reward: 5.099999999999994, exploring rate: 0.09966996700003493, loss: 0.030546972528100014\n",
      "[MoviePy] >>>> Building video movie/DQN-10000.webm\n",
      "[MoviePy] Writing video movie/DQN-10000.webm\n"
     ]
    },
    {
     "name": "stderr",
     "output_type": "stream",
     "text": [
      "100%|██████████████████████████████████████████████████████████████████████████████████| 63/63 [00:01<00:00, 46.62it/s]\n"
     ]
    },
    {
     "name": "stdout",
     "output_type": "stream",
     "text": [
      "[MoviePy] Done.\n",
      "[MoviePy] >>>> Video ready: movie/DQN-10000.webm \n",
      "\n",
      "[10200] time live:61, cumulated reward: 5.099999999999994, exploring rate: 0.09966336700003563, loss: 0.030470939353108406\n",
      "[MoviePy] >>>> Building video movie/DQN-10200.webm\n",
      "[MoviePy] Writing video movie/DQN-10200.webm\n"
     ]
    },
    {
     "name": "stderr",
     "output_type": "stream",
     "text": [
      "100%|██████████████████████████████████████████████████████████████████████████████████| 63/63 [00:01<00:00, 53.99it/s]\n"
     ]
    },
    {
     "name": "stdout",
     "output_type": "stream",
     "text": [
      "[MoviePy] Done.\n",
      "[MoviePy] >>>> Video ready: movie/DQN-10200.webm \n",
      "\n",
      "[10400] time live:61, cumulated reward: 5.099999999999994, exploring rate: 0.09965676700003633, loss: 0.03051428496837616\n",
      "[MoviePy] >>>> Building video movie/DQN-10400.webm\n",
      "[MoviePy] Writing video movie/DQN-10400.webm\n"
     ]
    },
    {
     "name": "stderr",
     "output_type": "stream",
     "text": [
      "100%|██████████████████████████████████████████████████████████████████████████████████| 63/63 [00:01<00:00, 46.02it/s]\n"
     ]
    },
    {
     "name": "stdout",
     "output_type": "stream",
     "text": [
      "[MoviePy] Done.\n",
      "[MoviePy] >>>> Video ready: movie/DQN-10400.webm \n",
      "\n",
      "[10600] time live:61, cumulated reward: 5.099999999999994, exploring rate: 0.09965016700003702, loss: 0.00025589141296222806\n",
      "[MoviePy] >>>> Building video movie/DQN-10600.webm\n",
      "[MoviePy] Writing video movie/DQN-10600.webm\n"
     ]
    },
    {
     "name": "stderr",
     "output_type": "stream",
     "text": [
      "100%|██████████████████████████████████████████████████████████████████████████████████| 63/63 [00:01<00:00, 50.70it/s]\n"
     ]
    },
    {
     "name": "stdout",
     "output_type": "stream",
     "text": [
      "[MoviePy] Done.\n",
      "[MoviePy] >>>> Video ready: movie/DQN-10600.webm \n",
      "\n",
      "[10800] time live:61, cumulated reward: 5.099999999999994, exploring rate: 0.09964356700003772, loss: 0.00018863091827370226\n",
      "[MoviePy] >>>> Building video movie/DQN-10800.webm\n",
      "[MoviePy] Writing video movie/DQN-10800.webm\n"
     ]
    },
    {
     "name": "stderr",
     "output_type": "stream",
     "text": [
      "100%|██████████████████████████████████████████████████████████████████████████████████| 63/63 [00:01<00:00, 48.78it/s]\n"
     ]
    },
    {
     "name": "stdout",
     "output_type": "stream",
     "text": [
      "[MoviePy] Done.\n",
      "[MoviePy] >>>> Video ready: movie/DQN-10800.webm \n",
      "\n",
      "[11000] time live:61, cumulated reward: 5.099999999999994, exploring rate: 0.09963696700003842, loss: 0.060748498886823654\n",
      "[MoviePy] >>>> Building video movie/DQN-11000.webm\n",
      "[MoviePy] Writing video movie/DQN-11000.webm\n"
     ]
    },
    {
     "name": "stderr",
     "output_type": "stream",
     "text": [
      "100%|██████████████████████████████████████████████████████████████████████████████████| 63/63 [00:01<00:00, 53.93it/s]\n"
     ]
    },
    {
     "name": "stdout",
     "output_type": "stream",
     "text": [
      "[MoviePy] Done.\n",
      "[MoviePy] >>>> Video ready: movie/DQN-11000.webm \n",
      "\n",
      "[11200] time live:61, cumulated reward: 5.099999999999994, exploring rate: 0.09963036700003912, loss: 0.030449241399765015\n",
      "[MoviePy] >>>> Building video movie/DQN-11200.webm\n",
      "[MoviePy] Writing video movie/DQN-11200.webm\n"
     ]
    },
    {
     "name": "stderr",
     "output_type": "stream",
     "text": [
      "100%|██████████████████████████████████████████████████████████████████████████████████| 63/63 [00:01<00:00, 43.94it/s]\n"
     ]
    },
    {
     "name": "stdout",
     "output_type": "stream",
     "text": [
      "[MoviePy] Done.\n",
      "[MoviePy] >>>> Video ready: movie/DQN-11200.webm \n",
      "\n",
      "[11400] time live:61, cumulated reward: 5.099999999999994, exploring rate: 0.09962376700003982, loss: 0.00031883371411822736\n",
      "[MoviePy] >>>> Building video movie/DQN-11400.webm\n",
      "[MoviePy] Writing video movie/DQN-11400.webm\n"
     ]
    },
    {
     "name": "stderr",
     "output_type": "stream",
     "text": [
      "100%|██████████████████████████████████████████████████████████████████████████████████| 63/63 [00:01<00:00, 48.28it/s]\n"
     ]
    },
    {
     "name": "stdout",
     "output_type": "stream",
     "text": [
      "[MoviePy] Done.\n",
      "[MoviePy] >>>> Video ready: movie/DQN-11400.webm \n",
      "\n",
      "[11600] time live:61, cumulated reward: 5.099999999999994, exploring rate: 0.09961716700004052, loss: 0.00033403339330106974\n",
      "[MoviePy] >>>> Building video movie/DQN-11600.webm\n",
      "[MoviePy] Writing video movie/DQN-11600.webm\n"
     ]
    },
    {
     "name": "stderr",
     "output_type": "stream",
     "text": [
      "100%|██████████████████████████████████████████████████████████████████████████████████| 63/63 [00:01<00:00, 48.70it/s]\n"
     ]
    },
    {
     "name": "stdout",
     "output_type": "stream",
     "text": [
      "[MoviePy] Done.\n",
      "[MoviePy] >>>> Video ready: movie/DQN-11600.webm \n",
      "\n",
      "[11800] time live:61, cumulated reward: 5.099999999999994, exploring rate: 0.09961056700004121, loss: 0.00027219249750487506\n",
      "[MoviePy] >>>> Building video movie/DQN-11800.webm\n",
      "[MoviePy] Writing video movie/DQN-11800.webm\n"
     ]
    },
    {
     "name": "stderr",
     "output_type": "stream",
     "text": [
      "100%|██████████████████████████████████████████████████████████████████████████████████| 63/63 [00:01<00:00, 53.15it/s]\n"
     ]
    },
    {
     "name": "stdout",
     "output_type": "stream",
     "text": [
      "[MoviePy] Done.\n",
      "[MoviePy] >>>> Video ready: movie/DQN-11800.webm \n",
      "\n",
      "[12000] time live:61, cumulated reward: 5.099999999999994, exploring rate: 0.09960396700004191, loss: 0.00031301548006013036\n",
      "[MoviePy] >>>> Building video movie/DQN-12000.webm\n",
      "[MoviePy] Writing video movie/DQN-12000.webm\n"
     ]
    },
    {
     "name": "stderr",
     "output_type": "stream",
     "text": [
      "100%|██████████████████████████████████████████████████████████████████████████████████| 63/63 [00:01<00:00, 47.83it/s]\n"
     ]
    },
    {
     "name": "stdout",
     "output_type": "stream",
     "text": [
      "[MoviePy] Done.\n",
      "[MoviePy] >>>> Video ready: movie/DQN-12000.webm \n",
      "\n",
      "[12200] time live:61, cumulated reward: 5.099999999999994, exploring rate: 0.09959736700004261, loss: 0.0003650028957054019\n",
      "[MoviePy] >>>> Building video movie/DQN-12200.webm\n",
      "[MoviePy] Writing video movie/DQN-12200.webm\n"
     ]
    },
    {
     "name": "stderr",
     "output_type": "stream",
     "text": [
      "100%|██████████████████████████████████████████████████████████████████████████████████| 63/63 [00:01<00:00, 47.21it/s]\n"
     ]
    },
    {
     "name": "stdout",
     "output_type": "stream",
     "text": [
      "[MoviePy] Done.\n",
      "[MoviePy] >>>> Video ready: movie/DQN-12200.webm \n",
      "\n",
      "[12400] time live:61, cumulated reward: 5.099999999999994, exploring rate: 0.09959076700004331, loss: 0.00022749684285372496\n",
      "[MoviePy] >>>> Building video movie/DQN-12400.webm\n",
      "[MoviePy] Writing video movie/DQN-12400.webm\n"
     ]
    },
    {
     "name": "stderr",
     "output_type": "stream",
     "text": [
      "100%|██████████████████████████████████████████████████████████████████████████████████| 63/63 [00:01<00:00, 47.82it/s]\n"
     ]
    },
    {
     "name": "stdout",
     "output_type": "stream",
     "text": [
      "[MoviePy] Done.\n",
      "[MoviePy] >>>> Video ready: movie/DQN-12400.webm \n",
      "\n",
      "[12600] time live:61, cumulated reward: 5.099999999999994, exploring rate: 0.09958416700004401, loss: 0.00026558974059298635\n",
      "[MoviePy] >>>> Building video movie/DQN-12600.webm\n",
      "[MoviePy] Writing video movie/DQN-12600.webm\n"
     ]
    },
    {
     "name": "stderr",
     "output_type": "stream",
     "text": [
      "100%|██████████████████████████████████████████████████████████████████████████████████| 63/63 [00:01<00:00, 49.14it/s]\n"
     ]
    },
    {
     "name": "stdout",
     "output_type": "stream",
     "text": [
      "[MoviePy] Done.\n",
      "[MoviePy] >>>> Video ready: movie/DQN-12600.webm \n",
      "\n",
      "[12800] time live:61, cumulated reward: 5.099999999999994, exploring rate: 0.0995775670000447, loss: 0.00029398989863693714\n",
      "[MoviePy] >>>> Building video movie/DQN-12800.webm\n",
      "[MoviePy] Writing video movie/DQN-12800.webm\n"
     ]
    },
    {
     "name": "stderr",
     "output_type": "stream",
     "text": [
      "100%|██████████████████████████████████████████████████████████████████████████████████| 63/63 [00:01<00:00, 47.54it/s]\n"
     ]
    },
    {
     "name": "stdout",
     "output_type": "stream",
     "text": [
      "[MoviePy] Done.\n",
      "[MoviePy] >>>> Video ready: movie/DQN-12800.webm \n",
      "\n",
      "[13000] time live:61, cumulated reward: 5.099999999999994, exploring rate: 0.0995709670000454, loss: 0.03047366440296173\n",
      "[MoviePy] >>>> Building video movie/DQN-13000.webm\n",
      "[MoviePy] Writing video movie/DQN-13000.webm\n"
     ]
    },
    {
     "name": "stderr",
     "output_type": "stream",
     "text": [
      "100%|██████████████████████████████████████████████████████████████████████████████████| 63/63 [00:01<00:00, 49.48it/s]\n"
     ]
    },
    {
     "name": "stdout",
     "output_type": "stream",
     "text": [
      "[MoviePy] Done.\n",
      "[MoviePy] >>>> Video ready: movie/DQN-13000.webm \n",
      "\n",
      "[13200] time live:61, cumulated reward: 5.099999999999994, exploring rate: 0.0995643670000461, loss: 0.030370257794857025\n",
      "[MoviePy] >>>> Building video movie/DQN-13200.webm\n",
      "[MoviePy] Writing video movie/DQN-13200.webm\n"
     ]
    },
    {
     "name": "stderr",
     "output_type": "stream",
     "text": [
      "100%|██████████████████████████████████████████████████████████████████████████████████| 63/63 [00:01<00:00, 48.39it/s]\n"
     ]
    },
    {
     "name": "stdout",
     "output_type": "stream",
     "text": [
      "[MoviePy] Done.\n",
      "[MoviePy] >>>> Video ready: movie/DQN-13200.webm \n",
      "\n",
      "[13400] time live:61, cumulated reward: 5.099999999999994, exploring rate: 0.0995577670000468, loss: 0.030429089441895485\n",
      "[MoviePy] >>>> Building video movie/DQN-13400.webm\n",
      "[MoviePy] Writing video movie/DQN-13400.webm\n"
     ]
    },
    {
     "name": "stderr",
     "output_type": "stream",
     "text": [
      "100%|██████████████████████████████████████████████████████████████████████████████████| 63/63 [00:01<00:00, 54.65it/s]\n"
     ]
    },
    {
     "name": "stdout",
     "output_type": "stream",
     "text": [
      "[MoviePy] Done.\n",
      "[MoviePy] >>>> Video ready: movie/DQN-13400.webm \n",
      "\n",
      "[13600] time live:61, cumulated reward: 5.099999999999994, exploring rate: 0.0995511670000475, loss: 0.00036557228304445744\n",
      "[MoviePy] >>>> Building video movie/DQN-13600.webm\n",
      "[MoviePy] Writing video movie/DQN-13600.webm\n"
     ]
    },
    {
     "name": "stderr",
     "output_type": "stream",
     "text": [
      "100%|██████████████████████████████████████████████████████████████████████████████████| 63/63 [00:01<00:00, 50.33it/s]\n"
     ]
    },
    {
     "name": "stdout",
     "output_type": "stream",
     "text": [
      "[MoviePy] Done.\n",
      "[MoviePy] >>>> Video ready: movie/DQN-13600.webm \n",
      "\n",
      "[13800] time live:61, cumulated reward: 5.099999999999994, exploring rate: 0.0995445670000482, loss: 0.0002911413903348148\n",
      "[MoviePy] >>>> Building video movie/DQN-13800.webm\n",
      "[MoviePy] Writing video movie/DQN-13800.webm\n"
     ]
    },
    {
     "name": "stderr",
     "output_type": "stream",
     "text": [
      "100%|██████████████████████████████████████████████████████████████████████████████████| 63/63 [00:01<00:00, 48.29it/s]\n"
     ]
    },
    {
     "name": "stdout",
     "output_type": "stream",
     "text": [
      "[MoviePy] Done.\n",
      "[MoviePy] >>>> Video ready: movie/DQN-13800.webm \n",
      "\n",
      "[14000] time live:61, cumulated reward: 5.099999999999994, exploring rate: 0.0995379670000489, loss: 0.000192973660887219\n",
      "[MoviePy] >>>> Building video movie/DQN-14000.webm\n",
      "[MoviePy] Writing video movie/DQN-14000.webm\n"
     ]
    },
    {
     "name": "stderr",
     "output_type": "stream",
     "text": [
      "100%|██████████████████████████████████████████████████████████████████████████████████| 63/63 [00:01<00:00, 50.75it/s]\n"
     ]
    },
    {
     "name": "stdout",
     "output_type": "stream",
     "text": [
      "[MoviePy] Done.\n",
      "[MoviePy] >>>> Video ready: movie/DQN-14000.webm \n",
      "\n",
      "[14200] time live:61, cumulated reward: 5.099999999999994, exploring rate: 0.0995313670000496, loss: 0.030584031715989113\n",
      "[MoviePy] >>>> Building video movie/DQN-14200.webm\n",
      "[MoviePy] Writing video movie/DQN-14200.webm\n"
     ]
    },
    {
     "name": "stderr",
     "output_type": "stream",
     "text": [
      "100%|██████████████████████████████████████████████████████████████████████████████████| 63/63 [00:01<00:00, 50.80it/s]\n"
     ]
    },
    {
     "name": "stdout",
     "output_type": "stream",
     "text": [
      "[MoviePy] Done.\n",
      "[MoviePy] >>>> Video ready: movie/DQN-14200.webm \n",
      "\n",
      "[14400] time live:61, cumulated reward: 5.099999999999994, exploring rate: 0.0995247670000503, loss: 0.00026266981149092317\n",
      "[MoviePy] >>>> Building video movie/DQN-14400.webm\n",
      "[MoviePy] Writing video movie/DQN-14400.webm\n"
     ]
    },
    {
     "name": "stderr",
     "output_type": "stream",
     "text": [
      "100%|██████████████████████████████████████████████████████████████████████████████████| 63/63 [00:01<00:00, 48.86it/s]\n"
     ]
    },
    {
     "name": "stdout",
     "output_type": "stream",
     "text": [
      "[MoviePy] Done.\n",
      "[MoviePy] >>>> Video ready: movie/DQN-14400.webm \n",
      "\n",
      "[14600] time live:61, cumulated reward: 5.099999999999994, exploring rate: 0.09951816700005099, loss: 0.0003111872938461602\n",
      "[MoviePy] >>>> Building video movie/DQN-14600.webm\n",
      "[MoviePy] Writing video movie/DQN-14600.webm\n"
     ]
    },
    {
     "name": "stderr",
     "output_type": "stream",
     "text": [
      "100%|██████████████████████████████████████████████████████████████████████████████████| 63/63 [00:01<00:00, 48.20it/s]\n"
     ]
    },
    {
     "name": "stdout",
     "output_type": "stream",
     "text": [
      "[MoviePy] Done.\n",
      "[MoviePy] >>>> Video ready: movie/DQN-14600.webm \n",
      "\n",
      "[14800] time live:61, cumulated reward: 5.099999999999994, exploring rate: 0.09951156700005169, loss: 0.0002852014731615782\n",
      "[MoviePy] >>>> Building video movie/DQN-14800.webm\n",
      "[MoviePy] Writing video movie/DQN-14800.webm\n"
     ]
    },
    {
     "name": "stderr",
     "output_type": "stream",
     "text": [
      "100%|██████████████████████████████████████████████████████████████████████████████████| 63/63 [00:01<00:00, 46.30it/s]\n"
     ]
    },
    {
     "name": "stdout",
     "output_type": "stream",
     "text": [
      "[MoviePy] Done.\n",
      "[MoviePy] >>>> Video ready: movie/DQN-14800.webm \n",
      "\n",
      "[15000] time live:61, cumulated reward: 5.099999999999994, exploring rate: 0.09950496700005239, loss: 0.060972895473241806\n",
      "[MoviePy] >>>> Building video movie/DQN-15000.webm\n",
      "[MoviePy] Writing video movie/DQN-15000.webm\n"
     ]
    },
    {
     "name": "stderr",
     "output_type": "stream",
     "text": [
      "100%|██████████████████████████████████████████████████████████████████████████████████| 63/63 [00:01<00:00, 48.59it/s]\n"
     ]
    },
    {
     "name": "stdout",
     "output_type": "stream",
     "text": [
      "[MoviePy] Done.\n",
      "[MoviePy] >>>> Video ready: movie/DQN-15000.webm \n",
      "\n",
      "[15200] time live:61, cumulated reward: 5.099999999999994, exploring rate: 0.09949836700005309, loss: 0.00027131973183713853\n",
      "[MoviePy] >>>> Building video movie/DQN-15200.webm\n",
      "[MoviePy] Writing video movie/DQN-15200.webm\n"
     ]
    },
    {
     "name": "stderr",
     "output_type": "stream",
     "text": [
      "100%|██████████████████████████████████████████████████████████████████████████████████| 63/63 [00:01<00:00, 51.39it/s]\n"
     ]
    },
    {
     "name": "stdout",
     "output_type": "stream",
     "text": [
      "[MoviePy] Done.\n",
      "[MoviePy] >>>> Video ready: movie/DQN-15200.webm \n",
      "\n",
      "[15400] time live:61, cumulated reward: 5.099999999999994, exploring rate: 0.09949176700005379, loss: 0.030565578490495682\n",
      "[MoviePy] >>>> Building video movie/DQN-15400.webm\n",
      "[MoviePy] Writing video movie/DQN-15400.webm\n"
     ]
    },
    {
     "name": "stderr",
     "output_type": "stream",
     "text": [
      "100%|██████████████████████████████████████████████████████████████████████████████████| 63/63 [00:01<00:00, 50.11it/s]\n"
     ]
    },
    {
     "name": "stdout",
     "output_type": "stream",
     "text": [
      "[MoviePy] Done.\n",
      "[MoviePy] >>>> Video ready: movie/DQN-15400.webm \n",
      "\n",
      "[15600] time live:61, cumulated reward: 5.099999999999994, exploring rate: 0.09948516700005448, loss: 0.00026916558272205293\n",
      "[MoviePy] >>>> Building video movie/DQN-15600.webm\n",
      "[MoviePy] Writing video movie/DQN-15600.webm\n"
     ]
    },
    {
     "name": "stderr",
     "output_type": "stream",
     "text": [
      "100%|██████████████████████████████████████████████████████████████████████████████████| 63/63 [00:01<00:00, 49.52it/s]\n"
     ]
    },
    {
     "name": "stdout",
     "output_type": "stream",
     "text": [
      "[MoviePy] Done.\n",
      "[MoviePy] >>>> Video ready: movie/DQN-15600.webm \n",
      "\n",
      "[15800] time live:61, cumulated reward: 5.099999999999994, exploring rate: 0.09947856700005518, loss: 0.060259975492954254\n",
      "[MoviePy] >>>> Building video movie/DQN-15800.webm\n",
      "[MoviePy] Writing video movie/DQN-15800.webm\n"
     ]
    },
    {
     "name": "stderr",
     "output_type": "stream",
     "text": [
      "100%|██████████████████████████████████████████████████████████████████████████████████| 63/63 [00:01<00:00, 48.14it/s]\n"
     ]
    },
    {
     "name": "stdout",
     "output_type": "stream",
     "text": [
      "[MoviePy] Done.\n",
      "[MoviePy] >>>> Video ready: movie/DQN-15800.webm \n",
      "\n",
      "[16000] time live:61, cumulated reward: 5.099999999999994, exploring rate: 0.09947196700005588, loss: 0.030452024191617966\n",
      "[MoviePy] >>>> Building video movie/DQN-16000.webm\n",
      "[MoviePy] Writing video movie/DQN-16000.webm\n"
     ]
    },
    {
     "name": "stderr",
     "output_type": "stream",
     "text": [
      "100%|██████████████████████████████████████████████████████████████████████████████████| 63/63 [00:01<00:00, 46.93it/s]\n"
     ]
    },
    {
     "name": "stdout",
     "output_type": "stream",
     "text": [
      "[MoviePy] Done.\n",
      "[MoviePy] >>>> Video ready: movie/DQN-16000.webm \n",
      "\n",
      "[16200] time live:61, cumulated reward: 5.099999999999994, exploring rate: 0.09946536700005658, loss: 0.060992531478405\n",
      "[MoviePy] >>>> Building video movie/DQN-16200.webm\n",
      "[MoviePy] Writing video movie/DQN-16200.webm\n"
     ]
    },
    {
     "name": "stderr",
     "output_type": "stream",
     "text": [
      "100%|██████████████████████████████████████████████████████████████████████████████████| 63/63 [00:01<00:00, 48.03it/s]\n"
     ]
    },
    {
     "name": "stdout",
     "output_type": "stream",
     "text": [
      "[MoviePy] Done.\n",
      "[MoviePy] >>>> Video ready: movie/DQN-16200.webm \n",
      "\n"
     ]
    }
   ],
   "source": [
    "from IPython.display import Image, display\n",
    "\n",
    "update_every_t_step = 3\n",
    "print_every_episode = 200\n",
    "save_video_every_episode = 200\n",
    "NUM_EPISODE = 20000\n",
    "NUM_EXPLORE = 20\n",
    "\n",
    "# we can redefine origin reward function\n",
    "reward_values = {\n",
    "    \"positive\": 1,  # reward pass a pipe\n",
    "    \"tick\": 0.1,  # reward per timestamp\n",
    "    \"loss\": -1,  # reward of gameover\n",
    "}\n",
    "for episode in range(0, NUM_EPISODE + 1):\n",
    "\n",
    "  # Reset the environment\n",
    "  game = FlappyBird()\n",
    "  # for demo purpose, the following code is trained in the same scene,\n",
    "  env = PLE(\n",
    "      game,\n",
    "      fps=30,\n",
    "      display_screen=False,\n",
    "      reward_values=reward_values,\n",
    "      rng=np.random.RandomState(1))\n",
    "  env.reset_game()\n",
    "  env.act(0)  # dummy input to make sure input screen is correct\n",
    "\n",
    "  # record frame\n",
    "  if episode % save_video_every_episode == 0:\n",
    "    frames = [env.getScreenRGB()]\n",
    "\n",
    "  # for every 500 episodes, shutdown exploration to see performance of greedy action\n",
    "  if episode % print_every_episode == 0:\n",
    "    online_agent.shutdown_explore()\n",
    "\n",
    "  # grayscale input screen for this episode\n",
    "  #input_screens = [preprocess(env.getScreenGrayscale())] * 4\n",
    "\n",
    "  input_states = preprocess(game.getGameState())\n",
    "\n",
    "  # experience for this episode, store all (s,a,r,s') tuple\n",
    "  experience = []\n",
    "\n",
    "  # cumulate reward for this episode\n",
    "  cum_reward = 0 \n",
    "    \n",
    "  t = 0\n",
    "  while not env.game_over():\n",
    "\n",
    "    # feed four previous screen, select an action\n",
    "    action = online_agent.select_action(input_states, sess)\n",
    "\n",
    "    # execute the action and get reward\n",
    "    reward = env.act(env.getActionSet()[action])\n",
    "\n",
    "    # record frame\n",
    "    if episode % save_video_every_episode == 0:\n",
    "      frames.append(env.getScreenRGB())\n",
    "\n",
    "    # cumulate reward\n",
    "    cum_reward += reward\n",
    "\n",
    "    # append grayscale screen for this episode\n",
    "    #input_screens.append(preprocess(env.getScreenGrayscale()))\n",
    "\n",
    "    input_states_plum = preprocess(game.getGameState())\n",
    "    \n",
    "    # append experience for this episode\n",
    "    buffer.add((input_states, action, reward, input_states_plum,\n",
    "                env.game_over()))\n",
    "    t += 1\n",
    "\n",
    "    # update agent\n",
    "  if episode > NUM_EXPLORE:\n",
    "    train_states, train_actions, train_rewards, train_states_plum, terminal = buffer.sample(32)\n",
    "    loss = online_agent.update_policy(np.squeeze(train_states), train_actions,\n",
    "                                      train_rewards, np.squeeze(train_states_plum),\n",
    "                                      terminal, target_agent)\n",
    "  if t % update_every_t_step == 0 and episode > NUM_EXPLORE:\n",
    "    update_target(update_ops, sess)\n",
    "\n",
    "  # update explore rating and learning rate\n",
    "  online_agent.update_parameters(episode)\n",
    "  target_agent.update_parameters(episode)\n",
    "\n",
    "  if episode % print_every_episode == 0 and episode > NUM_EXPLORE:\n",
    "    print(\n",
    "        \"[{}] time live:{}, cumulated reward: {}, exploring rate: {}, loss: {}\".\n",
    "        format(episode, t, cum_reward, target_agent.exploring_rate, loss))\n",
    "\n",
    "  if episode % save_video_every_episode == 0:  # for every 100 episode, record an animation\n",
    "    clip = make_anim(frames, fps=60, true_image=True).rotate(-90)\n",
    "    clip.write_videofile(\"movie/DQN-{}.webm\".format(episode), fps=60)"
   ]
  },
  {
   "cell_type": "code",
   "execution_count": 12,
   "metadata": {},
   "outputs": [
    {
     "name": "stderr",
     "output_type": "stream",
     "text": [
      " 98%|███████████████████████████████████████████████████████████████████████████████▋ | 63/64 [00:00<00:00, 467.73it/s]\n"
     ]
    },
    {
     "data": {
      "text/html": [
       "<div align=middle><video autoplay='1' loop='1'src='data:video/mp4;base64,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' controls>Sorry, seems like your browser doesn't support HTML5 audio/video</video></div>"
      ],
      "text/plain": [
       "<moviepy.video.io.html_tools.HTML2 object>"
      ]
     },
     "metadata": {},
     "output_type": "display_data"
    }
   ],
   "source": [
    "from moviepy.editor import *\n",
    "clip = VideoFileClip(\"movie/DQN-200.webm\")\n",
    "display(clip.ipython_display(fps=60, autoplay=1, loop=1))"
   ]
  },
  {
   "cell_type": "markdown",
   "metadata": {},
   "source": [
    "# Policy Gradient"
   ]
  },
  {
   "cell_type": "code",
   "execution_count": 39,
   "metadata": {},
   "outputs": [],
   "source": [
    "import math\n",
    "import copy\n",
    "from collections import defaultdict\n",
    "MIN_EXPLORING_RATE = 0.01\n",
    "MIN_LEARNING_RATE = 0.1\n",
    "\n",
    "\n",
    "class Policy_Gradiebt_Agent:\n",
    "\n",
    "  def __init__(self, name, num_action, t=0, discount_factor=0.99):\n",
    "    self.discount_factor = discount_factor\n",
    "    self.num_action = num_action\n",
    "    self.name = name\n",
    "    with tf.variable_scope(name):\n",
    "      self.build_model()\n",
    "\n",
    "  def build_model(self):\n",
    "\n",
    "    # input: current screen, selected action and reward\n",
    "    #self.input_screen = tf.placeholder(tf.float32, shape=[None, screen_width, screen_height, num_stack])\n",
    "    self.input_state = tf.placeholder(tf.float32, [None,8])\n",
    "    self.action = tf.placeholder(tf.int32, [None])\n",
    "    self.reward = tf.placeholder(tf.float32, [None])\n",
    "    self.is_training = tf.placeholder(tf.bool, shape=[])\n",
    "\n",
    "    def net(state, reuse=False):\n",
    "      with tf.variable_scope(\"layers\", reuse=reuse):\n",
    "        '''\n",
    "        conv1 = tf.layers.conv2d(\n",
    "            inputs=screen,\n",
    "            filters=32,\n",
    "            kernel_size=[8, 8],\n",
    "            strides=[4, 4],\n",
    "            padding='SAME',\n",
    "            activation=tf.nn.relu)\n",
    "        pool1 = tf.layers.max_pooling2d(\n",
    "            conv1, pool_size=[2, 2], strides=[2, 2], padding='SAME')\n",
    "\n",
    "        conv2 = tf.layers.conv2d(\n",
    "            inputs=pool1,\n",
    "            filters=64,\n",
    "            kernel_size=[4, 4],\n",
    "            strides=[2, 2],\n",
    "            padding='SAME',\n",
    "            activation=tf.nn.relu)\n",
    "        conv3 = tf.layers.conv2d(\n",
    "            inputs=conv2,\n",
    "            filters=64,\n",
    "            kernel_size=[3, 3],\n",
    "            strides=[1, 1],\n",
    "            padding='SAME',\n",
    "            activation=tf.nn.relu)\n",
    "        self.flat = tf.contrib.layers.flatten(conv3)\n",
    "        '''\n",
    "        dense = tf.layers.dense(inputs=state, units=128, activation=tf.nn.relu)\n",
    "        dense = tf.layers.dense(inputs=dense, units=128, activation=tf.nn.relu)\n",
    "        dense = tf.layers.dense(inputs=dense, units=128, activation=tf.nn.relu)\n",
    "        self.dense1 = tf.layers.dense(\n",
    "            inputs=dense, units=512, activation=tf.nn.relu)\n",
    "        self.dense2 = tf.layers.dense(\n",
    "            inputs=self.dense1, units=self.num_action, activation=None)\n",
    "        return self.dense2\n",
    "\n",
    "    # optimize\n",
    "    self.output_logit = net(\n",
    "        self.input_state\n",
    "    )  # logit of probility(P(s,a,theta)) for all a, shape (batch_size, num_action)\n",
    "    index = tf.stack([tf.range(tf.shape(self.action)[0]), self.action], axis=1)\n",
    "    self.prob = tf.gather_nd(\n",
    "        tf.nn.softmax(self.output_logit),\n",
    "        index)  # P(s,a,theta) for selected action, shape (batch_size, 1)\n",
    "\n",
    "    # loss = E[log(p(s,a))*r]\n",
    "    # because we want to maximize objective, add negative sign before loss\n",
    "    self.loss = -tf.reduce_mean(tf.log(self.prob + 0.00000001) * self.reward)\n",
    "    optimizer = tf.train.AdamOptimizer(learning_rate=1e-6)\n",
    "    g_gvs = optimizer.compute_gradients(\n",
    "        self.loss,\n",
    "        var_list=[v for v in tf.global_variables() if self.name in v.name])\n",
    "    self.train_op = optimizer.apply_gradients(g_gvs)\n",
    "\n",
    "    self.pred = tf.multinomial(self.output_logit,\n",
    "                               1)  # sample action from distribution\n",
    "\n",
    "  def select_action(self, input_state, sess):\n",
    "    #input_screen = np.array(input_screen).transpose([1, 2, 0])\n",
    "    feed_dict = {\n",
    "        self.input_state: input_state,\n",
    "        self.is_training: False,\n",
    "    }\n",
    "    action = sess.run(\n",
    "        self.pred,\n",
    "        feed_dict=feed_dict)[0][0]  # sameple action from distribution\n",
    "    return action\n",
    "\n",
    "  def update_policy(self, input_state, actions, rewards, input_state_plum):\n",
    "    feed_dict = {\n",
    "        self.input_state: input_state,\n",
    "        self.action: actions,\n",
    "        self.reward: rewards,\n",
    "        self.is_training: True,\n",
    "    }\n",
    "    loss, _ = sess.run([self.loss, self.train_op], feed_dict=feed_dict)\n",
    "    return loss\n"
   ]
  },
  {
   "cell_type": "code",
   "execution_count": 40,
   "metadata": {},
   "outputs": [],
   "source": [
    "# init agent\n",
    "tf.reset_default_graph()\n",
    "# agent for frequently updating\n",
    "pg_agent = Policy_Gradiebt_Agent('PG_Agent', num_action)\n",
    "# init all\n",
    "config = tf.ConfigProto()\n",
    "config.gpu_options.allow_growth = True\n",
    "sess = tf.InteractiveSession(config=config)\n",
    "sess.run(tf.global_variables_initializer())"
   ]
  },
  {
   "cell_type": "code",
   "execution_count": 41,
   "metadata": {},
   "outputs": [
    {
     "name": "stdout",
     "output_type": "stream",
     "text": [
      "[100] time live:44, cumulated reward: 3.4000000000000004, loss: 0.052745211869478226\n",
      "[MoviePy] >>>> Building video movie/pg_100.webm\n",
      "[MoviePy] Writing video movie/pg_100.webm\n"
     ]
    },
    {
     "name": "stderr",
     "output_type": "stream",
     "text": [
      " 98%|████████████████████████████████████████████████████████████████████████████████▏ | 45/46 [00:01<00:00, 38.38it/s]\n"
     ]
    },
    {
     "name": "stdout",
     "output_type": "stream",
     "text": [
      "[MoviePy] Done.\n",
      "[MoviePy] >>>> Video ready: movie/pg_100.webm \n",
      "\n",
      "[200] time live:47, cumulated reward: 3.6999999999999993, loss: 0.011050487868487835\n",
      "[MoviePy] >>>> Building video movie/pg_200.webm\n",
      "[MoviePy] Writing video movie/pg_200.webm\n"
     ]
    },
    {
     "name": "stderr",
     "output_type": "stream",
     "text": [
      " 98%|████████████████████████████████████████████████████████████████████████████████▎ | 48/49 [00:01<00:00, 48.54it/s]\n"
     ]
    },
    {
     "name": "stdout",
     "output_type": "stream",
     "text": [
      "[MoviePy] Done.\n",
      "[MoviePy] >>>> Video ready: movie/pg_200.webm \n",
      "\n",
      "[300] time live:48, cumulated reward: 3.799999999999999, loss: 0.029944023117423058\n",
      "[MoviePy] >>>> Building video movie/pg_300.webm\n",
      "[MoviePy] Writing video movie/pg_300.webm\n"
     ]
    },
    {
     "name": "stderr",
     "output_type": "stream",
     "text": [
      " 98%|████████████████████████████████████████████████████████████████████████████████▎ | 49/50 [00:01<00:00, 42.48it/s]\n"
     ]
    },
    {
     "name": "stdout",
     "output_type": "stream",
     "text": [
      "[MoviePy] Done.\n",
      "[MoviePy] >>>> Video ready: movie/pg_300.webm \n",
      "\n",
      "[400] time live:54, cumulated reward: 4.399999999999997, loss: -0.016886623576283455\n",
      "[MoviePy] >>>> Building video movie/pg_400.webm\n",
      "[MoviePy] Writing video movie/pg_400.webm\n"
     ]
    },
    {
     "name": "stderr",
     "output_type": "stream",
     "text": [
      " 98%|████████████████████████████████████████████████████████████████████████████████▌ | 55/56 [00:01<00:00, 44.67it/s]\n"
     ]
    },
    {
     "name": "stdout",
     "output_type": "stream",
     "text": [
      "[MoviePy] Done.\n",
      "[MoviePy] >>>> Video ready: movie/pg_400.webm \n",
      "\n",
      "[500] time live:48, cumulated reward: 3.799999999999999, loss: 0.012325246818363667\n",
      "[MoviePy] >>>> Building video movie/pg_500.webm\n",
      "[MoviePy] Writing video movie/pg_500.webm\n"
     ]
    },
    {
     "name": "stderr",
     "output_type": "stream",
     "text": [
      " 98%|████████████████████████████████████████████████████████████████████████████████▎ | 49/50 [00:01<00:00, 37.43it/s]\n"
     ]
    },
    {
     "name": "stdout",
     "output_type": "stream",
     "text": [
      "[MoviePy] Done.\n",
      "[MoviePy] >>>> Video ready: movie/pg_500.webm \n",
      "\n",
      "[600] time live:61, cumulated reward: 5.099999999999994, loss: 0.014545378275215626\n",
      "[MoviePy] >>>> Building video movie/pg_600.webm\n",
      "[MoviePy] Writing video movie/pg_600.webm\n"
     ]
    },
    {
     "name": "stderr",
     "output_type": "stream",
     "text": [
      "100%|██████████████████████████████████████████████████████████████████████████████████| 63/63 [00:01<00:00, 45.39it/s]\n"
     ]
    },
    {
     "name": "stdout",
     "output_type": "stream",
     "text": [
      "[MoviePy] Done.\n",
      "[MoviePy] >>>> Video ready: movie/pg_600.webm \n",
      "\n",
      "[700] time live:53, cumulated reward: 4.299999999999997, loss: -0.015559142455458641\n",
      "[MoviePy] >>>> Building video movie/pg_700.webm\n",
      "[MoviePy] Writing video movie/pg_700.webm\n"
     ]
    },
    {
     "name": "stderr",
     "output_type": "stream",
     "text": [
      " 98%|████████████████████████████████████████████████████████████████████████████████▌ | 54/55 [00:01<00:00, 47.70it/s]\n"
     ]
    },
    {
     "name": "stdout",
     "output_type": "stream",
     "text": [
      "[MoviePy] Done.\n",
      "[MoviePy] >>>> Video ready: movie/pg_700.webm \n",
      "\n",
      "[800] time live:49, cumulated reward: 3.8999999999999986, loss: 0.029776904731988907\n",
      "[MoviePy] >>>> Building video movie/pg_800.webm\n",
      "[MoviePy] Writing video movie/pg_800.webm\n"
     ]
    },
    {
     "name": "stderr",
     "output_type": "stream",
     "text": [
      " 98%|████████████████████████████████████████████████████████████████████████████████▍ | 50/51 [00:01<00:00, 45.45it/s]\n"
     ]
    },
    {
     "name": "stdout",
     "output_type": "stream",
     "text": [
      "[MoviePy] Done.\n",
      "[MoviePy] >>>> Video ready: movie/pg_800.webm \n",
      "\n",
      "[900] time live:53, cumulated reward: 4.299999999999997, loss: 0.028577426448464394\n",
      "[MoviePy] >>>> Building video movie/pg_900.webm\n",
      "[MoviePy] Writing video movie/pg_900.webm\n"
     ]
    },
    {
     "name": "stderr",
     "output_type": "stream",
     "text": [
      " 98%|████████████████████████████████████████████████████████████████████████████████▌ | 54/55 [00:01<00:00, 46.45it/s]\n"
     ]
    },
    {
     "name": "stdout",
     "output_type": "stream",
     "text": [
      "[MoviePy] Done.\n",
      "[MoviePy] >>>> Video ready: movie/pg_900.webm \n",
      "\n",
      "[1000] time live:51, cumulated reward: 4.099999999999998, loss: 0.003425317583605647\n",
      "[MoviePy] >>>> Building video movie/pg_1000.webm\n",
      "[MoviePy] Writing video movie/pg_1000.webm\n"
     ]
    },
    {
     "name": "stderr",
     "output_type": "stream",
     "text": [
      " 98%|████████████████████████████████████████████████████████████████████████████████▍ | 52/53 [00:01<00:00, 40.95it/s]\n"
     ]
    },
    {
     "name": "stdout",
     "output_type": "stream",
     "text": [
      "[MoviePy] Done.\n",
      "[MoviePy] >>>> Video ready: movie/pg_1000.webm \n",
      "\n",
      "[1100] time live:50, cumulated reward: 3.9999999999999982, loss: 0.02545434981584549\n",
      "[MoviePy] >>>> Building video movie/pg_1100.webm\n",
      "[MoviePy] Writing video movie/pg_1100.webm\n"
     ]
    },
    {
     "name": "stderr",
     "output_type": "stream",
     "text": [
      " 98%|████████████████████████████████████████████████████████████████████████████████▍ | 51/52 [00:00<00:00, 51.18it/s]\n"
     ]
    },
    {
     "name": "stdout",
     "output_type": "stream",
     "text": [
      "[MoviePy] Done.\n",
      "[MoviePy] >>>> Video ready: movie/pg_1100.webm \n",
      "\n",
      "[1200] time live:53, cumulated reward: 4.299999999999997, loss: -0.00319671630859375\n",
      "[MoviePy] >>>> Building video movie/pg_1200.webm\n",
      "[MoviePy] Writing video movie/pg_1200.webm\n"
     ]
    },
    {
     "name": "stderr",
     "output_type": "stream",
     "text": [
      " 98%|████████████████████████████████████████████████████████████████████████████████▌ | 54/55 [00:01<00:00, 42.50it/s]\n"
     ]
    },
    {
     "name": "stdout",
     "output_type": "stream",
     "text": [
      "[MoviePy] Done.\n",
      "[MoviePy] >>>> Video ready: movie/pg_1200.webm \n",
      "\n",
      "[1300] time live:60, cumulated reward: 4.999999999999995, loss: -0.030508454889059067\n",
      "[MoviePy] >>>> Building video movie/pg_1300.webm\n",
      "[MoviePy] Writing video movie/pg_1300.webm\n"
     ]
    },
    {
     "name": "stderr",
     "output_type": "stream",
     "text": [
      " 98%|████████████████████████████████████████████████████████████████████████████████▋ | 61/62 [00:01<00:00, 47.83it/s]\n"
     ]
    },
    {
     "name": "stdout",
     "output_type": "stream",
     "text": [
      "[MoviePy] Done.\n",
      "[MoviePy] >>>> Video ready: movie/pg_1300.webm \n",
      "\n",
      "[1400] time live:49, cumulated reward: 3.8999999999999986, loss: -0.02029559016227722\n",
      "[MoviePy] >>>> Building video movie/pg_1400.webm\n",
      "[MoviePy] Writing video movie/pg_1400.webm\n"
     ]
    },
    {
     "name": "stderr",
     "output_type": "stream",
     "text": [
      " 98%|████████████████████████████████████████████████████████████████████████████████▍ | 50/51 [00:01<00:00, 43.39it/s]\n"
     ]
    },
    {
     "name": "stdout",
     "output_type": "stream",
     "text": [
      "[MoviePy] Done.\n",
      "[MoviePy] >>>> Video ready: movie/pg_1400.webm \n",
      "\n",
      "[1500] time live:61, cumulated reward: 5.099999999999994, loss: -0.04183003306388855\n",
      "[MoviePy] >>>> Building video movie/pg_1500.webm\n",
      "[MoviePy] Writing video movie/pg_1500.webm\n"
     ]
    },
    {
     "name": "stderr",
     "output_type": "stream",
     "text": [
      "100%|██████████████████████████████████████████████████████████████████████████████████| 63/63 [00:01<00:00, 43.72it/s]\n"
     ]
    },
    {
     "name": "stdout",
     "output_type": "stream",
     "text": [
      "[MoviePy] Done.\n",
      "[MoviePy] >>>> Video ready: movie/pg_1500.webm \n",
      "\n",
      "[1600] time live:52, cumulated reward: 4.1999999999999975, loss: -0.03382433205842972\n",
      "[MoviePy] >>>> Building video movie/pg_1600.webm\n",
      "[MoviePy] Writing video movie/pg_1600.webm\n"
     ]
    },
    {
     "name": "stderr",
     "output_type": "stream",
     "text": [
      " 98%|████████████████████████████████████████████████████████████████████████████████▍ | 53/54 [00:01<00:00, 39.56it/s]\n"
     ]
    },
    {
     "name": "stdout",
     "output_type": "stream",
     "text": [
      "[MoviePy] Done.\n",
      "[MoviePy] >>>> Video ready: movie/pg_1600.webm \n",
      "\n",
      "[1700] time live:57, cumulated reward: 4.699999999999996, loss: -0.03775755688548088\n",
      "[MoviePy] >>>> Building video movie/pg_1700.webm\n",
      "[MoviePy] Writing video movie/pg_1700.webm\n"
     ]
    },
    {
     "name": "stderr",
     "output_type": "stream",
     "text": [
      " 98%|████████████████████████████████████████████████████████████████████████████████▌ | 58/59 [00:01<00:00, 41.77it/s]\n"
     ]
    },
    {
     "name": "stdout",
     "output_type": "stream",
     "text": [
      "[MoviePy] Done.\n",
      "[MoviePy] >>>> Video ready: movie/pg_1700.webm \n",
      "\n",
      "[1800] time live:56, cumulated reward: 4.599999999999996, loss: -0.05260828509926796\n",
      "[MoviePy] >>>> Building video movie/pg_1800.webm\n",
      "[MoviePy] Writing video movie/pg_1800.webm\n"
     ]
    },
    {
     "name": "stderr",
     "output_type": "stream",
     "text": [
      " 98%|████████████████████████████████████████████████████████████████████████████████▌ | 57/58 [00:01<00:00, 46.57it/s]\n"
     ]
    },
    {
     "name": "stdout",
     "output_type": "stream",
     "text": [
      "[MoviePy] Done.\n",
      "[MoviePy] >>>> Video ready: movie/pg_1800.webm \n",
      "\n",
      "[1900] time live:47, cumulated reward: 3.6999999999999993, loss: 0.03157731145620346\n",
      "[MoviePy] >>>> Building video movie/pg_1900.webm\n",
      "[MoviePy] Writing video movie/pg_1900.webm\n"
     ]
    },
    {
     "name": "stderr",
     "output_type": "stream",
     "text": [
      " 98%|████████████████████████████████████████████████████████████████████████████████▎ | 48/49 [00:01<00:00, 37.85it/s]\n"
     ]
    },
    {
     "name": "stdout",
     "output_type": "stream",
     "text": [
      "[MoviePy] Done.\n",
      "[MoviePy] >>>> Video ready: movie/pg_1900.webm \n",
      "\n",
      "[2000] time live:59, cumulated reward: 4.899999999999995, loss: 0.017174171283841133\n",
      "[MoviePy] >>>> Building video movie/pg_2000.webm\n",
      "[MoviePy] Writing video movie/pg_2000.webm\n"
     ]
    },
    {
     "name": "stderr",
     "output_type": "stream",
     "text": [
      " 98%|████████████████████████████████████████████████████████████████████████████████▋ | 60/61 [00:01<00:00, 37.08it/s]\n"
     ]
    },
    {
     "name": "stdout",
     "output_type": "stream",
     "text": [
      "[MoviePy] Done.\n",
      "[MoviePy] >>>> Video ready: movie/pg_2000.webm \n",
      "\n",
      "[2100] time live:59, cumulated reward: 4.899999999999995, loss: -0.07170457392930984\n",
      "[MoviePy] >>>> Building video movie/pg_2100.webm\n",
      "[MoviePy] Writing video movie/pg_2100.webm\n"
     ]
    },
    {
     "name": "stderr",
     "output_type": "stream",
     "text": [
      " 98%|████████████████████████████████████████████████████████████████████████████████▋ | 60/61 [00:01<00:00, 40.36it/s]\n"
     ]
    },
    {
     "name": "stdout",
     "output_type": "stream",
     "text": [
      "[MoviePy] Done.\n",
      "[MoviePy] >>>> Video ready: movie/pg_2100.webm \n",
      "\n",
      "[2200] time live:47, cumulated reward: 3.6999999999999993, loss: 0.019302591681480408\n",
      "[MoviePy] >>>> Building video movie/pg_2200.webm\n",
      "[MoviePy] Writing video movie/pg_2200.webm\n"
     ]
    },
    {
     "name": "stderr",
     "output_type": "stream",
     "text": [
      " 98%|████████████████████████████████████████████████████████████████████████████████▎ | 48/49 [00:01<00:00, 38.34it/s]\n"
     ]
    },
    {
     "name": "stdout",
     "output_type": "stream",
     "text": [
      "[MoviePy] Done.\n",
      "[MoviePy] >>>> Video ready: movie/pg_2200.webm \n",
      "\n",
      "[2300] time live:57, cumulated reward: 4.699999999999996, loss: -0.050547800958156586\n",
      "[MoviePy] >>>> Building video movie/pg_2300.webm\n",
      "[MoviePy] Writing video movie/pg_2300.webm\n"
     ]
    },
    {
     "name": "stderr",
     "output_type": "stream",
     "text": [
      " 98%|████████████████████████████████████████████████████████████████████████████████▌ | 58/59 [00:01<00:00, 42.68it/s]\n"
     ]
    },
    {
     "name": "stdout",
     "output_type": "stream",
     "text": [
      "[MoviePy] Done.\n",
      "[MoviePy] >>>> Video ready: movie/pg_2300.webm \n",
      "\n",
      "[2400] time live:61, cumulated reward: 5.099999999999994, loss: 0.061673883348703384\n",
      "[MoviePy] >>>> Building video movie/pg_2400.webm\n",
      "[MoviePy] Writing video movie/pg_2400.webm\n"
     ]
    },
    {
     "name": "stderr",
     "output_type": "stream",
     "text": [
      "100%|██████████████████████████████████████████████████████████████████████████████████| 63/63 [00:01<00:00, 37.59it/s]\n"
     ]
    },
    {
     "name": "stdout",
     "output_type": "stream",
     "text": [
      "[MoviePy] Done.\n",
      "[MoviePy] >>>> Video ready: movie/pg_2400.webm \n",
      "\n",
      "[2500] time live:59, cumulated reward: 4.899999999999995, loss: 0.012951446697115898\n",
      "[MoviePy] >>>> Building video movie/pg_2500.webm\n",
      "[MoviePy] Writing video movie/pg_2500.webm\n"
     ]
    },
    {
     "name": "stderr",
     "output_type": "stream",
     "text": [
      " 98%|████████████████████████████████████████████████████████████████████████████████▋ | 60/61 [00:01<00:00, 41.33it/s]\n"
     ]
    },
    {
     "name": "stdout",
     "output_type": "stream",
     "text": [
      "[MoviePy] Done.\n",
      "[MoviePy] >>>> Video ready: movie/pg_2500.webm \n",
      "\n",
      "[2600] time live:52, cumulated reward: 4.1999999999999975, loss: -0.025958610698580742\n",
      "[MoviePy] >>>> Building video movie/pg_2600.webm\n",
      "[MoviePy] Writing video movie/pg_2600.webm\n"
     ]
    },
    {
     "name": "stderr",
     "output_type": "stream",
     "text": [
      " 98%|████████████████████████████████████████████████████████████████████████████████▍ | 53/54 [00:01<00:00, 41.58it/s]\n"
     ]
    },
    {
     "name": "stdout",
     "output_type": "stream",
     "text": [
      "[MoviePy] Done.\n",
      "[MoviePy] >>>> Video ready: movie/pg_2600.webm \n",
      "\n",
      "[2700] time live:61, cumulated reward: 5.099999999999994, loss: 0.022882962599396706\n",
      "[MoviePy] >>>> Building video movie/pg_2700.webm\n",
      "[MoviePy] Writing video movie/pg_2700.webm\n"
     ]
    },
    {
     "name": "stderr",
     "output_type": "stream",
     "text": [
      "100%|██████████████████████████████████████████████████████████████████████████████████| 63/63 [00:01<00:00, 37.74it/s]\n"
     ]
    },
    {
     "name": "stdout",
     "output_type": "stream",
     "text": [
      "[MoviePy] Done.\n",
      "[MoviePy] >>>> Video ready: movie/pg_2700.webm \n",
      "\n",
      "[2800] time live:61, cumulated reward: 5.099999999999994, loss: -0.0003796874370891601\n",
      "[MoviePy] >>>> Building video movie/pg_2800.webm\n",
      "[MoviePy] Writing video movie/pg_2800.webm\n"
     ]
    },
    {
     "name": "stderr",
     "output_type": "stream",
     "text": [
      "100%|██████████████████████████████████████████████████████████████████████████████████| 63/63 [00:01<00:00, 37.58it/s]\n"
     ]
    },
    {
     "name": "stdout",
     "output_type": "stream",
     "text": [
      "[MoviePy] Done.\n",
      "[MoviePy] >>>> Video ready: movie/pg_2800.webm \n",
      "\n",
      "[2900] time live:53, cumulated reward: 4.299999999999997, loss: -0.011232124641537666\n",
      "[MoviePy] >>>> Building video movie/pg_2900.webm\n",
      "[MoviePy] Writing video movie/pg_2900.webm\n"
     ]
    },
    {
     "name": "stderr",
     "output_type": "stream",
     "text": [
      " 98%|████████████████████████████████████████████████████████████████████████████████▌ | 54/55 [00:01<00:00, 41.31it/s]\n"
     ]
    },
    {
     "name": "stdout",
     "output_type": "stream",
     "text": [
      "[MoviePy] Done.\n",
      "[MoviePy] >>>> Video ready: movie/pg_2900.webm \n",
      "\n",
      "[3000] time live:55, cumulated reward: 4.4999999999999964, loss: -0.07766690850257874\n",
      "[MoviePy] >>>> Building video movie/pg_3000.webm\n",
      "[MoviePy] Writing video movie/pg_3000.webm\n"
     ]
    },
    {
     "name": "stderr",
     "output_type": "stream",
     "text": [
      " 98%|████████████████████████████████████████████████████████████████████████████████▌ | 56/57 [00:01<00:00, 35.80it/s]\n"
     ]
    },
    {
     "name": "stdout",
     "output_type": "stream",
     "text": [
      "[MoviePy] Done.\n",
      "[MoviePy] >>>> Video ready: movie/pg_3000.webm \n",
      "\n",
      "[3100] time live:61, cumulated reward: 5.099999999999994, loss: -0.030250253155827522\n",
      "[MoviePy] >>>> Building video movie/pg_3100.webm\n",
      "[MoviePy] Writing video movie/pg_3100.webm\n"
     ]
    },
    {
     "name": "stderr",
     "output_type": "stream",
     "text": [
      "100%|██████████████████████████████████████████████████████████████████████████████████| 63/63 [00:01<00:00, 34.57it/s]\n"
     ]
    },
    {
     "name": "stdout",
     "output_type": "stream",
     "text": [
      "[MoviePy] Done.\n",
      "[MoviePy] >>>> Video ready: movie/pg_3100.webm \n",
      "\n",
      "[3200] time live:51, cumulated reward: 4.099999999999998, loss: -0.050385549664497375\n",
      "[MoviePy] >>>> Building video movie/pg_3200.webm\n",
      "[MoviePy] Writing video movie/pg_3200.webm\n"
     ]
    },
    {
     "name": "stderr",
     "output_type": "stream",
     "text": [
      " 98%|████████████████████████████████████████████████████████████████████████████████▍ | 52/53 [00:02<00:00, 20.95it/s]\n"
     ]
    },
    {
     "name": "stdout",
     "output_type": "stream",
     "text": [
      "[MoviePy] Done.\n",
      "[MoviePy] >>>> Video ready: movie/pg_3200.webm \n",
      "\n",
      "[3300] time live:51, cumulated reward: 4.099999999999998, loss: 0.003101236652582884\n",
      "[MoviePy] >>>> Building video movie/pg_3300.webm\n",
      "[MoviePy] Writing video movie/pg_3300.webm\n"
     ]
    },
    {
     "name": "stderr",
     "output_type": "stream",
     "text": [
      " 98%|████████████████████████████████████████████████████████████████████████████████▍ | 52/53 [00:01<00:00, 40.59it/s]\n"
     ]
    },
    {
     "name": "stdout",
     "output_type": "stream",
     "text": [
      "[MoviePy] Done.\n",
      "[MoviePy] >>>> Video ready: movie/pg_3300.webm \n",
      "\n",
      "[3400] time live:60, cumulated reward: 4.999999999999995, loss: -0.0006911277887411416\n",
      "[MoviePy] >>>> Building video movie/pg_3400.webm\n",
      "[MoviePy] Writing video movie/pg_3400.webm\n"
     ]
    },
    {
     "name": "stderr",
     "output_type": "stream",
     "text": [
      " 98%|████████████████████████████████████████████████████████████████████████████████▋ | 61/62 [00:01<00:00, 41.86it/s]\n"
     ]
    },
    {
     "name": "stdout",
     "output_type": "stream",
     "text": [
      "[MoviePy] Done.\n",
      "[MoviePy] >>>> Video ready: movie/pg_3400.webm \n",
      "\n",
      "[3500] time live:55, cumulated reward: 4.4999999999999964, loss: -0.053135596215724945\n",
      "[MoviePy] >>>> Building video movie/pg_3500.webm\n",
      "[MoviePy] Writing video movie/pg_3500.webm\n"
     ]
    },
    {
     "name": "stderr",
     "output_type": "stream",
     "text": [
      " 98%|████████████████████████████████████████████████████████████████████████████████▌ | 56/57 [00:01<00:00, 38.12it/s]\n"
     ]
    },
    {
     "name": "stdout",
     "output_type": "stream",
     "text": [
      "[MoviePy] Done.\n",
      "[MoviePy] >>>> Video ready: movie/pg_3500.webm \n",
      "\n",
      "[3600] time live:61, cumulated reward: 5.099999999999994, loss: -0.026998644694685936\n",
      "[MoviePy] >>>> Building video movie/pg_3600.webm\n",
      "[MoviePy] Writing video movie/pg_3600.webm\n"
     ]
    },
    {
     "name": "stderr",
     "output_type": "stream",
     "text": [
      "100%|██████████████████████████████████████████████████████████████████████████████████| 63/63 [00:01<00:00, 32.11it/s]\n"
     ]
    },
    {
     "name": "stdout",
     "output_type": "stream",
     "text": [
      "[MoviePy] Done.\n",
      "[MoviePy] >>>> Video ready: movie/pg_3600.webm \n",
      "\n",
      "[3700] time live:61, cumulated reward: 5.099999999999994, loss: 0.031718768179416656\n",
      "[MoviePy] >>>> Building video movie/pg_3700.webm\n",
      "[MoviePy] Writing video movie/pg_3700.webm\n"
     ]
    },
    {
     "name": "stderr",
     "output_type": "stream",
     "text": [
      "100%|██████████████████████████████████████████████████████████████████████████████████| 63/63 [00:01<00:00, 34.24it/s]\n"
     ]
    },
    {
     "name": "stdout",
     "output_type": "stream",
     "text": [
      "[MoviePy] Done.\n",
      "[MoviePy] >>>> Video ready: movie/pg_3700.webm \n",
      "\n",
      "[3800] time live:47, cumulated reward: 3.6999999999999993, loss: -0.013847919180989265\n",
      "[MoviePy] >>>> Building video movie/pg_3800.webm\n",
      "[MoviePy] Writing video movie/pg_3800.webm\n"
     ]
    },
    {
     "name": "stderr",
     "output_type": "stream",
     "text": [
      " 98%|████████████████████████████████████████████████████████████████████████████████▎ | 48/49 [00:01<00:00, 41.83it/s]\n"
     ]
    },
    {
     "name": "stdout",
     "output_type": "stream",
     "text": [
      "[MoviePy] Done.\n",
      "[MoviePy] >>>> Video ready: movie/pg_3800.webm \n",
      "\n",
      "[3900] time live:54, cumulated reward: 4.399999999999997, loss: -0.09137040376663208\n",
      "[MoviePy] >>>> Building video movie/pg_3900.webm\n",
      "[MoviePy] Writing video movie/pg_3900.webm\n"
     ]
    },
    {
     "name": "stderr",
     "output_type": "stream",
     "text": [
      " 98%|████████████████████████████████████████████████████████████████████████████████▌ | 55/56 [00:01<00:00, 43.08it/s]\n"
     ]
    },
    {
     "name": "stdout",
     "output_type": "stream",
     "text": [
      "[MoviePy] Done.\n",
      "[MoviePy] >>>> Video ready: movie/pg_3900.webm \n",
      "\n",
      "[4000] time live:56, cumulated reward: 4.599999999999996, loss: 0.026154842227697372\n",
      "[MoviePy] >>>> Building video movie/pg_4000.webm\n",
      "[MoviePy] Writing video movie/pg_4000.webm\n"
     ]
    },
    {
     "name": "stderr",
     "output_type": "stream",
     "text": [
      " 98%|████████████████████████████████████████████████████████████████████████████████▌ | 57/58 [00:01<00:00, 41.66it/s]\n"
     ]
    },
    {
     "name": "stdout",
     "output_type": "stream",
     "text": [
      "[MoviePy] Done.\n",
      "[MoviePy] >>>> Video ready: movie/pg_4000.webm \n",
      "\n",
      "[4100] time live:54, cumulated reward: 4.399999999999997, loss: 0.009112958796322346\n",
      "[MoviePy] >>>> Building video movie/pg_4100.webm\n",
      "[MoviePy] Writing video movie/pg_4100.webm\n"
     ]
    },
    {
     "name": "stderr",
     "output_type": "stream",
     "text": [
      " 98%|████████████████████████████████████████████████████████████████████████████████▌ | 55/56 [00:01<00:00, 36.03it/s]\n"
     ]
    },
    {
     "name": "stdout",
     "output_type": "stream",
     "text": [
      "[MoviePy] Done.\n",
      "[MoviePy] >>>> Video ready: movie/pg_4100.webm \n",
      "\n",
      "[4200] time live:59, cumulated reward: 4.899999999999995, loss: 0.010548979975283146\n",
      "[MoviePy] >>>> Building video movie/pg_4200.webm\n",
      "[MoviePy] Writing video movie/pg_4200.webm\n"
     ]
    },
    {
     "name": "stderr",
     "output_type": "stream",
     "text": [
      " 98%|████████████████████████████████████████████████████████████████████████████████▋ | 60/61 [00:01<00:00, 44.63it/s]\n"
     ]
    },
    {
     "name": "stdout",
     "output_type": "stream",
     "text": [
      "[MoviePy] Done.\n",
      "[MoviePy] >>>> Video ready: movie/pg_4200.webm \n",
      "\n",
      "[4300] time live:45, cumulated reward: 3.5, loss: 0.011054865084588528\n",
      "[MoviePy] >>>> Building video movie/pg_4300.webm\n",
      "[MoviePy] Writing video movie/pg_4300.webm\n"
     ]
    },
    {
     "name": "stderr",
     "output_type": "stream",
     "text": [
      "100%|██████████████████████████████████████████████████████████████████████████████████| 47/47 [00:01<00:00, 36.58it/s]\n"
     ]
    },
    {
     "name": "stdout",
     "output_type": "stream",
     "text": [
      "[MoviePy] Done.\n",
      "[MoviePy] >>>> Video ready: movie/pg_4300.webm \n",
      "\n",
      "[4400] time live:57, cumulated reward: 4.699999999999996, loss: -0.12576349079608917\n",
      "[MoviePy] >>>> Building video movie/pg_4400.webm\n",
      "[MoviePy] Writing video movie/pg_4400.webm\n"
     ]
    },
    {
     "name": "stderr",
     "output_type": "stream",
     "text": [
      " 98%|████████████████████████████████████████████████████████████████████████████████▌ | 58/59 [00:01<00:00, 40.26it/s]\n"
     ]
    },
    {
     "name": "stdout",
     "output_type": "stream",
     "text": [
      "[MoviePy] Done.\n",
      "[MoviePy] >>>> Video ready: movie/pg_4400.webm \n",
      "\n",
      "[4500] time live:54, cumulated reward: 4.399999999999997, loss: -0.05070142447948456\n",
      "[MoviePy] >>>> Building video movie/pg_4500.webm\n",
      "[MoviePy] Writing video movie/pg_4500.webm\n"
     ]
    },
    {
     "name": "stderr",
     "output_type": "stream",
     "text": [
      " 98%|████████████████████████████████████████████████████████████████████████████████▌ | 55/56 [00:01<00:00, 30.47it/s]\n"
     ]
    },
    {
     "name": "stdout",
     "output_type": "stream",
     "text": [
      "[MoviePy] Done.\n",
      "[MoviePy] >>>> Video ready: movie/pg_4500.webm \n",
      "\n",
      "[4600] time live:59, cumulated reward: 4.899999999999995, loss: -0.03121030144393444\n",
      "[MoviePy] >>>> Building video movie/pg_4600.webm\n",
      "[MoviePy] Writing video movie/pg_4600.webm\n"
     ]
    },
    {
     "name": "stderr",
     "output_type": "stream",
     "text": [
      " 98%|████████████████████████████████████████████████████████████████████████████████▋ | 60/61 [00:01<00:00, 38.23it/s]\n"
     ]
    },
    {
     "name": "stdout",
     "output_type": "stream",
     "text": [
      "[MoviePy] Done.\n",
      "[MoviePy] >>>> Video ready: movie/pg_4600.webm \n",
      "\n",
      "[4700] time live:55, cumulated reward: 4.4999999999999964, loss: 0.020847182720899582\n",
      "[MoviePy] >>>> Building video movie/pg_4700.webm\n",
      "[MoviePy] Writing video movie/pg_4700.webm\n"
     ]
    },
    {
     "name": "stderr",
     "output_type": "stream",
     "text": [
      " 98%|████████████████████████████████████████████████████████████████████████████████▌ | 56/57 [00:01<00:00, 33.70it/s]\n"
     ]
    },
    {
     "name": "stdout",
     "output_type": "stream",
     "text": [
      "[MoviePy] Done.\n",
      "[MoviePy] >>>> Video ready: movie/pg_4700.webm \n",
      "\n",
      "[4800] time live:52, cumulated reward: 4.1999999999999975, loss: 0.03994132950901985\n",
      "[MoviePy] >>>> Building video movie/pg_4800.webm\n",
      "[MoviePy] Writing video movie/pg_4800.webm\n"
     ]
    },
    {
     "name": "stderr",
     "output_type": "stream",
     "text": [
      " 98%|████████████████████████████████████████████████████████████████████████████████▍ | 53/54 [00:01<00:00, 40.50it/s]\n"
     ]
    },
    {
     "name": "stdout",
     "output_type": "stream",
     "text": [
      "[MoviePy] Done.\n",
      "[MoviePy] >>>> Video ready: movie/pg_4800.webm \n",
      "\n",
      "[4900] time live:61, cumulated reward: 5.099999999999994, loss: -0.0006888655479997396\n",
      "[MoviePy] >>>> Building video movie/pg_4900.webm\n",
      "[MoviePy] Writing video movie/pg_4900.webm\n"
     ]
    },
    {
     "name": "stderr",
     "output_type": "stream",
     "text": [
      "100%|██████████████████████████████████████████████████████████████████████████████████| 63/63 [00:01<00:00, 34.92it/s]\n"
     ]
    },
    {
     "name": "stdout",
     "output_type": "stream",
     "text": [
      "[MoviePy] Done.\n",
      "[MoviePy] >>>> Video ready: movie/pg_4900.webm \n",
      "\n",
      "[5000] time live:61, cumulated reward: 5.099999999999994, loss: -0.02096685767173767\n",
      "[MoviePy] >>>> Building video movie/pg_5000.webm\n",
      "[MoviePy] Writing video movie/pg_5000.webm\n"
     ]
    },
    {
     "name": "stderr",
     "output_type": "stream",
     "text": [
      "100%|██████████████████████████████████████████████████████████████████████████████████| 63/63 [00:01<00:00, 39.52it/s]\n"
     ]
    },
    {
     "name": "stdout",
     "output_type": "stream",
     "text": [
      "[MoviePy] Done.\n",
      "[MoviePy] >>>> Video ready: movie/pg_5000.webm \n",
      "\n",
      "[5100] time live:61, cumulated reward: 5.099999999999994, loss: 0.027252698317170143\n",
      "[MoviePy] >>>> Building video movie/pg_5100.webm\n",
      "[MoviePy] Writing video movie/pg_5100.webm\n"
     ]
    },
    {
     "name": "stderr",
     "output_type": "stream",
     "text": [
      "100%|██████████████████████████████████████████████████████████████████████████████████| 63/63 [00:01<00:00, 36.10it/s]\n"
     ]
    },
    {
     "name": "stdout",
     "output_type": "stream",
     "text": [
      "[MoviePy] Done.\n",
      "[MoviePy] >>>> Video ready: movie/pg_5100.webm \n",
      "\n",
      "[5200] time live:57, cumulated reward: 4.699999999999996, loss: -0.07837419211864471\n",
      "[MoviePy] >>>> Building video movie/pg_5200.webm\n",
      "[MoviePy] Writing video movie/pg_5200.webm\n"
     ]
    },
    {
     "name": "stderr",
     "output_type": "stream",
     "text": [
      " 98%|████████████████████████████████████████████████████████████████████████████████▌ | 58/59 [00:01<00:00, 46.13it/s]\n"
     ]
    },
    {
     "name": "stdout",
     "output_type": "stream",
     "text": [
      "[MoviePy] Done.\n",
      "[MoviePy] >>>> Video ready: movie/pg_5200.webm \n",
      "\n",
      "[5300] time live:56, cumulated reward: 4.599999999999996, loss: 0.03219657391309738\n",
      "[MoviePy] >>>> Building video movie/pg_5300.webm\n",
      "[MoviePy] Writing video movie/pg_5300.webm\n"
     ]
    },
    {
     "name": "stderr",
     "output_type": "stream",
     "text": [
      " 98%|████████████████████████████████████████████████████████████████████████████████▌ | 57/58 [00:01<00:00, 35.11it/s]\n"
     ]
    },
    {
     "name": "stdout",
     "output_type": "stream",
     "text": [
      "[MoviePy] Done.\n",
      "[MoviePy] >>>> Video ready: movie/pg_5300.webm \n",
      "\n",
      "[5400] time live:51, cumulated reward: 4.099999999999998, loss: -0.038497719913721085\n",
      "[MoviePy] >>>> Building video movie/pg_5400.webm\n",
      "[MoviePy] Writing video movie/pg_5400.webm\n"
     ]
    },
    {
     "name": "stderr",
     "output_type": "stream",
     "text": [
      " 98%|████████████████████████████████████████████████████████████████████████████████▍ | 52/53 [00:01<00:00, 38.34it/s]\n"
     ]
    },
    {
     "name": "stdout",
     "output_type": "stream",
     "text": [
      "[MoviePy] Done.\n",
      "[MoviePy] >>>> Video ready: movie/pg_5400.webm \n",
      "\n",
      "[5500] time live:61, cumulated reward: 5.099999999999994, loss: 0.027692247182130814\n",
      "[MoviePy] >>>> Building video movie/pg_5500.webm\n",
      "[MoviePy] Writing video movie/pg_5500.webm\n"
     ]
    },
    {
     "name": "stderr",
     "output_type": "stream",
     "text": [
      "100%|██████████████████████████████████████████████████████████████████████████████████| 63/63 [00:01<00:00, 33.46it/s]\n"
     ]
    },
    {
     "name": "stdout",
     "output_type": "stream",
     "text": [
      "[MoviePy] Done.\n",
      "[MoviePy] >>>> Video ready: movie/pg_5500.webm \n",
      "\n",
      "[5600] time live:57, cumulated reward: 4.699999999999996, loss: -0.091570183634758\n",
      "[MoviePy] >>>> Building video movie/pg_5600.webm\n",
      "[MoviePy] Writing video movie/pg_5600.webm\n"
     ]
    },
    {
     "name": "stderr",
     "output_type": "stream",
     "text": [
      " 98%|████████████████████████████████████████████████████████████████████████████████▌ | 58/59 [00:01<00:00, 38.03it/s]\n"
     ]
    },
    {
     "name": "stdout",
     "output_type": "stream",
     "text": [
      "[MoviePy] Done.\n",
      "[MoviePy] >>>> Video ready: movie/pg_5600.webm \n",
      "\n",
      "[5700] time live:53, cumulated reward: 4.299999999999997, loss: -0.09315476566553116\n",
      "[MoviePy] >>>> Building video movie/pg_5700.webm\n",
      "[MoviePy] Writing video movie/pg_5700.webm\n"
     ]
    },
    {
     "name": "stderr",
     "output_type": "stream",
     "text": [
      " 98%|████████████████████████████████████████████████████████████████████████████████▌ | 54/55 [00:01<00:00, 36.05it/s]\n"
     ]
    },
    {
     "name": "stdout",
     "output_type": "stream",
     "text": [
      "[MoviePy] Done.\n",
      "[MoviePy] >>>> Video ready: movie/pg_5700.webm \n",
      "\n",
      "[5800] time live:57, cumulated reward: 4.699999999999996, loss: -0.11108257621526718\n",
      "[MoviePy] >>>> Building video movie/pg_5800.webm\n",
      "[MoviePy] Writing video movie/pg_5800.webm\n"
     ]
    },
    {
     "name": "stderr",
     "output_type": "stream",
     "text": [
      " 98%|████████████████████████████████████████████████████████████████████████████████▌ | 58/59 [00:01<00:00, 42.44it/s]\n"
     ]
    },
    {
     "name": "stdout",
     "output_type": "stream",
     "text": [
      "[MoviePy] Done.\n",
      "[MoviePy] >>>> Video ready: movie/pg_5800.webm \n",
      "\n",
      "[5900] time live:57, cumulated reward: 4.699999999999996, loss: -0.025478463619947433\n",
      "[MoviePy] >>>> Building video movie/pg_5900.webm\n",
      "[MoviePy] Writing video movie/pg_5900.webm\n"
     ]
    },
    {
     "name": "stderr",
     "output_type": "stream",
     "text": [
      " 98%|████████████████████████████████████████████████████████████████████████████████▌ | 58/59 [00:01<00:00, 42.71it/s]\n"
     ]
    },
    {
     "name": "stdout",
     "output_type": "stream",
     "text": [
      "[MoviePy] Done.\n",
      "[MoviePy] >>>> Video ready: movie/pg_5900.webm \n",
      "\n",
      "[6000] time live:60, cumulated reward: 4.999999999999995, loss: -0.03439108654856682\n",
      "[MoviePy] >>>> Building video movie/pg_6000.webm\n",
      "[MoviePy] Writing video movie/pg_6000.webm\n"
     ]
    },
    {
     "name": "stderr",
     "output_type": "stream",
     "text": [
      " 98%|████████████████████████████████████████████████████████████████████████████████▋ | 61/62 [00:01<00:00, 41.23it/s]\n"
     ]
    },
    {
     "name": "stdout",
     "output_type": "stream",
     "text": [
      "[MoviePy] Done.\n",
      "[MoviePy] >>>> Video ready: movie/pg_6000.webm \n",
      "\n",
      "[6100] time live:61, cumulated reward: 5.099999999999994, loss: 0.004295489750802517\n",
      "[MoviePy] >>>> Building video movie/pg_6100.webm\n",
      "[MoviePy] Writing video movie/pg_6100.webm\n"
     ]
    },
    {
     "name": "stderr",
     "output_type": "stream",
     "text": [
      "100%|██████████████████████████████████████████████████████████████████████████████████| 63/63 [00:01<00:00, 33.98it/s]\n"
     ]
    },
    {
     "name": "stdout",
     "output_type": "stream",
     "text": [
      "[MoviePy] Done.\n",
      "[MoviePy] >>>> Video ready: movie/pg_6100.webm \n",
      "\n",
      "[6200] time live:54, cumulated reward: 4.399999999999997, loss: -0.03251584246754646\n",
      "[MoviePy] >>>> Building video movie/pg_6200.webm\n",
      "[MoviePy] Writing video movie/pg_6200.webm\n"
     ]
    },
    {
     "name": "stderr",
     "output_type": "stream",
     "text": [
      " 98%|████████████████████████████████████████████████████████████████████████████████▌ | 55/56 [00:01<00:00, 41.27it/s]\n"
     ]
    },
    {
     "name": "stdout",
     "output_type": "stream",
     "text": [
      "[MoviePy] Done.\n",
      "[MoviePy] >>>> Video ready: movie/pg_6200.webm \n",
      "\n",
      "[6300] time live:61, cumulated reward: 5.099999999999994, loss: -0.038311224430799484\n",
      "[MoviePy] >>>> Building video movie/pg_6300.webm\n",
      "[MoviePy] Writing video movie/pg_6300.webm\n"
     ]
    },
    {
     "name": "stderr",
     "output_type": "stream",
     "text": [
      "100%|██████████████████████████████████████████████████████████████████████████████████| 63/63 [00:01<00:00, 35.41it/s]\n"
     ]
    },
    {
     "name": "stdout",
     "output_type": "stream",
     "text": [
      "[MoviePy] Done.\n",
      "[MoviePy] >>>> Video ready: movie/pg_6300.webm \n",
      "\n",
      "[6400] time live:54, cumulated reward: 4.399999999999997, loss: 0.005631729494780302\n",
      "[MoviePy] >>>> Building video movie/pg_6400.webm\n",
      "[MoviePy] Writing video movie/pg_6400.webm\n"
     ]
    },
    {
     "name": "stderr",
     "output_type": "stream",
     "text": [
      " 98%|████████████████████████████████████████████████████████████████████████████████▌ | 55/56 [00:01<00:00, 45.83it/s]\n"
     ]
    },
    {
     "name": "stdout",
     "output_type": "stream",
     "text": [
      "[MoviePy] Done.\n",
      "[MoviePy] >>>> Video ready: movie/pg_6400.webm \n",
      "\n",
      "[6500] time live:61, cumulated reward: 5.099999999999994, loss: 0.015112095512449741\n",
      "[MoviePy] >>>> Building video movie/pg_6500.webm\n",
      "[MoviePy] Writing video movie/pg_6500.webm\n"
     ]
    },
    {
     "name": "stderr",
     "output_type": "stream",
     "text": [
      "100%|██████████████████████████████████████████████████████████████████████████████████| 63/63 [00:01<00:00, 31.68it/s]\n"
     ]
    },
    {
     "name": "stdout",
     "output_type": "stream",
     "text": [
      "[MoviePy] Done.\n",
      "[MoviePy] >>>> Video ready: movie/pg_6500.webm \n",
      "\n",
      "[6600] time live:53, cumulated reward: 4.299999999999997, loss: -0.008131656795740128\n",
      "[MoviePy] >>>> Building video movie/pg_6600.webm\n",
      "[MoviePy] Writing video movie/pg_6600.webm\n"
     ]
    },
    {
     "name": "stderr",
     "output_type": "stream",
     "text": [
      " 98%|████████████████████████████████████████████████████████████████████████████████▌ | 54/55 [00:01<00:00, 34.67it/s]\n"
     ]
    },
    {
     "name": "stdout",
     "output_type": "stream",
     "text": [
      "[MoviePy] Done.\n",
      "[MoviePy] >>>> Video ready: movie/pg_6600.webm \n",
      "\n",
      "[6700] time live:57, cumulated reward: 4.699999999999996, loss: 0.05248964950442314\n",
      "[MoviePy] >>>> Building video movie/pg_6700.webm\n",
      "[MoviePy] Writing video movie/pg_6700.webm\n"
     ]
    },
    {
     "name": "stderr",
     "output_type": "stream",
     "text": [
      " 98%|████████████████████████████████████████████████████████████████████████████████▌ | 58/59 [00:01<00:00, 42.50it/s]\n"
     ]
    },
    {
     "name": "stdout",
     "output_type": "stream",
     "text": [
      "[MoviePy] Done.\n",
      "[MoviePy] >>>> Video ready: movie/pg_6700.webm \n",
      "\n",
      "[6800] time live:61, cumulated reward: 5.099999999999994, loss: -0.04030599817633629\n",
      "[MoviePy] >>>> Building video movie/pg_6800.webm\n",
      "[MoviePy] Writing video movie/pg_6800.webm\n"
     ]
    },
    {
     "name": "stderr",
     "output_type": "stream",
     "text": [
      "100%|██████████████████████████████████████████████████████████████████████████████████| 63/63 [00:01<00:00, 34.44it/s]\n"
     ]
    },
    {
     "name": "stdout",
     "output_type": "stream",
     "text": [
      "[MoviePy] Done.\n",
      "[MoviePy] >>>> Video ready: movie/pg_6800.webm \n",
      "\n",
      "[6900] time live:53, cumulated reward: 4.299999999999997, loss: -0.07600204646587372\n",
      "[MoviePy] >>>> Building video movie/pg_6900.webm\n",
      "[MoviePy] Writing video movie/pg_6900.webm\n"
     ]
    },
    {
     "name": "stderr",
     "output_type": "stream",
     "text": [
      " 98%|████████████████████████████████████████████████████████████████████████████████▌ | 54/55 [00:01<00:00, 34.64it/s]\n"
     ]
    },
    {
     "name": "stdout",
     "output_type": "stream",
     "text": [
      "[MoviePy] Done.\n",
      "[MoviePy] >>>> Video ready: movie/pg_6900.webm \n",
      "\n",
      "[7000] time live:61, cumulated reward: 5.099999999999994, loss: 0.029980143532156944\n",
      "[MoviePy] >>>> Building video movie/pg_7000.webm\n",
      "[MoviePy] Writing video movie/pg_7000.webm\n"
     ]
    },
    {
     "name": "stderr",
     "output_type": "stream",
     "text": [
      "100%|██████████████████████████████████████████████████████████████████████████████████| 63/63 [00:01<00:00, 34.07it/s]\n"
     ]
    },
    {
     "name": "stdout",
     "output_type": "stream",
     "text": [
      "[MoviePy] Done.\n",
      "[MoviePy] >>>> Video ready: movie/pg_7000.webm \n",
      "\n",
      "[7100] time live:58, cumulated reward: 4.799999999999995, loss: 0.02233077771961689\n",
      "[MoviePy] >>>> Building video movie/pg_7100.webm\n",
      "[MoviePy] Writing video movie/pg_7100.webm\n"
     ]
    },
    {
     "name": "stderr",
     "output_type": "stream",
     "text": [
      " 98%|████████████████████████████████████████████████████████████████████████████████▋ | 59/60 [00:01<00:00, 37.62it/s]\n"
     ]
    },
    {
     "name": "stdout",
     "output_type": "stream",
     "text": [
      "[MoviePy] Done.\n",
      "[MoviePy] >>>> Video ready: movie/pg_7100.webm \n",
      "\n",
      "[7200] time live:61, cumulated reward: 5.099999999999994, loss: -0.11690396070480347\n",
      "[MoviePy] >>>> Building video movie/pg_7200.webm\n",
      "[MoviePy] Writing video movie/pg_7200.webm\n"
     ]
    },
    {
     "name": "stderr",
     "output_type": "stream",
     "text": [
      "100%|██████████████████████████████████████████████████████████████████████████████████| 63/63 [00:01<00:00, 36.42it/s]\n"
     ]
    },
    {
     "name": "stdout",
     "output_type": "stream",
     "text": [
      "[MoviePy] Done.\n",
      "[MoviePy] >>>> Video ready: movie/pg_7200.webm \n",
      "\n",
      "[7300] time live:57, cumulated reward: 4.699999999999996, loss: 0.12686598300933838\n",
      "[MoviePy] >>>> Building video movie/pg_7300.webm\n",
      "[MoviePy] Writing video movie/pg_7300.webm\n"
     ]
    },
    {
     "name": "stderr",
     "output_type": "stream",
     "text": [
      " 98%|████████████████████████████████████████████████████████████████████████████████▌ | 58/59 [00:01<00:00, 38.45it/s]\n"
     ]
    },
    {
     "name": "stdout",
     "output_type": "stream",
     "text": [
      "[MoviePy] Done.\n",
      "[MoviePy] >>>> Video ready: movie/pg_7300.webm \n",
      "\n",
      "[7400] time live:55, cumulated reward: 4.4999999999999964, loss: 0.033414267003536224\n",
      "[MoviePy] >>>> Building video movie/pg_7400.webm\n",
      "[MoviePy] Writing video movie/pg_7400.webm\n"
     ]
    },
    {
     "name": "stderr",
     "output_type": "stream",
     "text": [
      " 98%|████████████████████████████████████████████████████████████████████████████████▌ | 56/57 [00:01<00:00, 41.87it/s]\n"
     ]
    },
    {
     "name": "stdout",
     "output_type": "stream",
     "text": [
      "[MoviePy] Done.\n",
      "[MoviePy] >>>> Video ready: movie/pg_7400.webm \n",
      "\n",
      "[7500] time live:56, cumulated reward: 4.599999999999996, loss: -0.049816932529211044\n",
      "[MoviePy] >>>> Building video movie/pg_7500.webm\n",
      "[MoviePy] Writing video movie/pg_7500.webm\n"
     ]
    },
    {
     "name": "stderr",
     "output_type": "stream",
     "text": [
      " 98%|████████████████████████████████████████████████████████████████████████████████▌ | 57/58 [00:01<00:00, 41.92it/s]\n"
     ]
    },
    {
     "name": "stdout",
     "output_type": "stream",
     "text": [
      "[MoviePy] Done.\n",
      "[MoviePy] >>>> Video ready: movie/pg_7500.webm \n",
      "\n",
      "[7600] time live:54, cumulated reward: 4.399999999999997, loss: 0.04694018512964249\n",
      "[MoviePy] >>>> Building video movie/pg_7600.webm\n",
      "[MoviePy] Writing video movie/pg_7600.webm\n"
     ]
    },
    {
     "name": "stderr",
     "output_type": "stream",
     "text": [
      " 98%|████████████████████████████████████████████████████████████████████████████████▌ | 55/56 [00:01<00:00, 34.32it/s]\n"
     ]
    },
    {
     "name": "stdout",
     "output_type": "stream",
     "text": [
      "[MoviePy] Done.\n",
      "[MoviePy] >>>> Video ready: movie/pg_7600.webm \n",
      "\n",
      "[7700] time live:55, cumulated reward: 4.4999999999999964, loss: -0.0009215961908921599\n",
      "[MoviePy] >>>> Building video movie/pg_7700.webm\n",
      "[MoviePy] Writing video movie/pg_7700.webm\n"
     ]
    },
    {
     "name": "stderr",
     "output_type": "stream",
     "text": [
      " 98%|████████████████████████████████████████████████████████████████████████████████▌ | 56/57 [00:01<00:00, 40.67it/s]\n"
     ]
    },
    {
     "name": "stdout",
     "output_type": "stream",
     "text": [
      "[MoviePy] Done.\n",
      "[MoviePy] >>>> Video ready: movie/pg_7700.webm \n",
      "\n",
      "[7800] time live:61, cumulated reward: 5.099999999999994, loss: -0.10740136355161667\n",
      "[MoviePy] >>>> Building video movie/pg_7800.webm\n",
      "[MoviePy] Writing video movie/pg_7800.webm\n"
     ]
    },
    {
     "name": "stderr",
     "output_type": "stream",
     "text": [
      "100%|██████████████████████████████████████████████████████████████████████████████████| 63/63 [00:01<00:00, 34.66it/s]\n"
     ]
    },
    {
     "name": "stdout",
     "output_type": "stream",
     "text": [
      "[MoviePy] Done.\n",
      "[MoviePy] >>>> Video ready: movie/pg_7800.webm \n",
      "\n",
      "[7900] time live:52, cumulated reward: 4.1999999999999975, loss: 0.07479233294725418\n",
      "[MoviePy] >>>> Building video movie/pg_7900.webm\n",
      "[MoviePy] Writing video movie/pg_7900.webm\n"
     ]
    },
    {
     "name": "stderr",
     "output_type": "stream",
     "text": [
      " 98%|████████████████████████████████████████████████████████████████████████████████▍ | 53/54 [00:01<00:00, 36.56it/s]\n"
     ]
    },
    {
     "name": "stdout",
     "output_type": "stream",
     "text": [
      "[MoviePy] Done.\n",
      "[MoviePy] >>>> Video ready: movie/pg_7900.webm \n",
      "\n",
      "[8000] time live:58, cumulated reward: 4.799999999999995, loss: -0.010325135663151741\n",
      "[MoviePy] >>>> Building video movie/pg_8000.webm\n",
      "[MoviePy] Writing video movie/pg_8000.webm\n"
     ]
    },
    {
     "name": "stderr",
     "output_type": "stream",
     "text": [
      " 98%|████████████████████████████████████████████████████████████████████████████████▋ | 59/60 [00:01<00:00, 43.13it/s]\n"
     ]
    },
    {
     "name": "stdout",
     "output_type": "stream",
     "text": [
      "[MoviePy] Done.\n",
      "[MoviePy] >>>> Video ready: movie/pg_8000.webm \n",
      "\n",
      "[8100] time live:56, cumulated reward: 4.599999999999996, loss: 0.009682689793407917\n",
      "[MoviePy] >>>> Building video movie/pg_8100.webm\n",
      "[MoviePy] Writing video movie/pg_8100.webm\n"
     ]
    },
    {
     "name": "stderr",
     "output_type": "stream",
     "text": [
      " 98%|████████████████████████████████████████████████████████████████████████████████▌ | 57/58 [00:01<00:00, 42.45it/s]\n"
     ]
    },
    {
     "name": "stdout",
     "output_type": "stream",
     "text": [
      "[MoviePy] Done.\n",
      "[MoviePy] >>>> Video ready: movie/pg_8100.webm \n",
      "\n",
      "[8200] time live:56, cumulated reward: 4.599999999999996, loss: 0.12319759279489517\n",
      "[MoviePy] >>>> Building video movie/pg_8200.webm\n",
      "[MoviePy] Writing video movie/pg_8200.webm\n"
     ]
    },
    {
     "name": "stderr",
     "output_type": "stream",
     "text": [
      " 98%|████████████████████████████████████████████████████████████████████████████████▌ | 57/58 [00:01<00:00, 37.08it/s]\n"
     ]
    },
    {
     "name": "stdout",
     "output_type": "stream",
     "text": [
      "[MoviePy] Done.\n",
      "[MoviePy] >>>> Video ready: movie/pg_8200.webm \n",
      "\n",
      "[8300] time live:53, cumulated reward: 4.299999999999997, loss: -0.14125706255435944\n",
      "[MoviePy] >>>> Building video movie/pg_8300.webm\n",
      "[MoviePy] Writing video movie/pg_8300.webm\n"
     ]
    },
    {
     "name": "stderr",
     "output_type": "stream",
     "text": [
      " 98%|████████████████████████████████████████████████████████████████████████████████▌ | 54/55 [00:01<00:00, 38.73it/s]\n"
     ]
    },
    {
     "name": "stdout",
     "output_type": "stream",
     "text": [
      "[MoviePy] Done.\n",
      "[MoviePy] >>>> Video ready: movie/pg_8300.webm \n",
      "\n",
      "[8400] time live:61, cumulated reward: 5.099999999999994, loss: 0.0072333537973463535\n",
      "[MoviePy] >>>> Building video movie/pg_8400.webm\n",
      "[MoviePy] Writing video movie/pg_8400.webm\n"
     ]
    },
    {
     "name": "stderr",
     "output_type": "stream",
     "text": [
      "100%|██████████████████████████████████████████████████████████████████████████████████| 63/63 [00:01<00:00, 39.33it/s]\n"
     ]
    },
    {
     "name": "stdout",
     "output_type": "stream",
     "text": [
      "[MoviePy] Done.\n",
      "[MoviePy] >>>> Video ready: movie/pg_8400.webm \n",
      "\n",
      "[8500] time live:54, cumulated reward: 4.399999999999997, loss: 0.06858299672603607\n",
      "[MoviePy] >>>> Building video movie/pg_8500.webm\n",
      "[MoviePy] Writing video movie/pg_8500.webm\n"
     ]
    },
    {
     "name": "stderr",
     "output_type": "stream",
     "text": [
      " 98%|████████████████████████████████████████████████████████████████████████████████▌ | 55/56 [00:01<00:00, 35.55it/s]\n"
     ]
    },
    {
     "name": "stdout",
     "output_type": "stream",
     "text": [
      "[MoviePy] Done.\n",
      "[MoviePy] >>>> Video ready: movie/pg_8500.webm \n",
      "\n",
      "[8600] time live:53, cumulated reward: 4.299999999999997, loss: 0.07972976565361023\n",
      "[MoviePy] >>>> Building video movie/pg_8600.webm\n",
      "[MoviePy] Writing video movie/pg_8600.webm\n"
     ]
    },
    {
     "name": "stderr",
     "output_type": "stream",
     "text": [
      " 98%|████████████████████████████████████████████████████████████████████████████████▌ | 54/55 [00:01<00:00, 37.80it/s]\n"
     ]
    },
    {
     "name": "stdout",
     "output_type": "stream",
     "text": [
      "[MoviePy] Done.\n",
      "[MoviePy] >>>> Video ready: movie/pg_8600.webm \n",
      "\n",
      "[8700] time live:56, cumulated reward: 4.599999999999996, loss: 0.11240022629499435\n",
      "[MoviePy] >>>> Building video movie/pg_8700.webm\n",
      "[MoviePy] Writing video movie/pg_8700.webm\n"
     ]
    },
    {
     "name": "stderr",
     "output_type": "stream",
     "text": [
      " 98%|████████████████████████████████████████████████████████████████████████████████▌ | 57/58 [00:01<00:00, 41.88it/s]\n"
     ]
    },
    {
     "name": "stdout",
     "output_type": "stream",
     "text": [
      "[MoviePy] Done.\n",
      "[MoviePy] >>>> Video ready: movie/pg_8700.webm \n",
      "\n",
      "[8800] time live:58, cumulated reward: 4.799999999999995, loss: 0.06152830272912979\n",
      "[MoviePy] >>>> Building video movie/pg_8800.webm\n",
      "[MoviePy] Writing video movie/pg_8800.webm\n"
     ]
    },
    {
     "name": "stderr",
     "output_type": "stream",
     "text": [
      " 98%|████████████████████████████████████████████████████████████████████████████████▋ | 59/60 [00:01<00:00, 33.38it/s]\n"
     ]
    },
    {
     "name": "stdout",
     "output_type": "stream",
     "text": [
      "[MoviePy] Done.\n",
      "[MoviePy] >>>> Video ready: movie/pg_8800.webm \n",
      "\n",
      "[8900] time live:59, cumulated reward: 4.899999999999995, loss: 0.027671555057168007\n",
      "[MoviePy] >>>> Building video movie/pg_8900.webm\n",
      "[MoviePy] Writing video movie/pg_8900.webm\n"
     ]
    },
    {
     "name": "stderr",
     "output_type": "stream",
     "text": [
      " 98%|████████████████████████████████████████████████████████████████████████████████▋ | 60/61 [00:01<00:00, 36.52it/s]\n"
     ]
    },
    {
     "name": "stdout",
     "output_type": "stream",
     "text": [
      "[MoviePy] Done.\n",
      "[MoviePy] >>>> Video ready: movie/pg_8900.webm \n",
      "\n",
      "[9000] time live:58, cumulated reward: 4.799999999999995, loss: 0.03331838920712471\n",
      "[MoviePy] >>>> Building video movie/pg_9000.webm\n",
      "[MoviePy] Writing video movie/pg_9000.webm\n"
     ]
    },
    {
     "name": "stderr",
     "output_type": "stream",
     "text": [
      " 98%|████████████████████████████████████████████████████████████████████████████████▋ | 59/60 [00:01<00:00, 35.10it/s]\n"
     ]
    },
    {
     "name": "stdout",
     "output_type": "stream",
     "text": [
      "[MoviePy] Done.\n",
      "[MoviePy] >>>> Video ready: movie/pg_9000.webm \n",
      "\n",
      "[9100] time live:59, cumulated reward: 4.899999999999995, loss: 0.0035450176801532507\n",
      "[MoviePy] >>>> Building video movie/pg_9100.webm\n",
      "[MoviePy] Writing video movie/pg_9100.webm\n"
     ]
    },
    {
     "name": "stderr",
     "output_type": "stream",
     "text": [
      " 98%|████████████████████████████████████████████████████████████████████████████████▋ | 60/61 [00:01<00:00, 34.57it/s]\n"
     ]
    },
    {
     "name": "stdout",
     "output_type": "stream",
     "text": [
      "[MoviePy] Done.\n",
      "[MoviePy] >>>> Video ready: movie/pg_9100.webm \n",
      "\n",
      "[9200] time live:61, cumulated reward: 5.099999999999994, loss: 0.13460522890090942\n",
      "[MoviePy] >>>> Building video movie/pg_9200.webm\n",
      "[MoviePy] Writing video movie/pg_9200.webm\n"
     ]
    },
    {
     "name": "stderr",
     "output_type": "stream",
     "text": [
      "100%|██████████████████████████████████████████████████████████████████████████████████| 63/63 [00:01<00:00, 33.85it/s]\n"
     ]
    },
    {
     "name": "stdout",
     "output_type": "stream",
     "text": [
      "[MoviePy] Done.\n",
      "[MoviePy] >>>> Video ready: movie/pg_9200.webm \n",
      "\n",
      "[9300] time live:61, cumulated reward: 5.099999999999994, loss: -0.0302289891988039\n",
      "[MoviePy] >>>> Building video movie/pg_9300.webm\n",
      "[MoviePy] Writing video movie/pg_9300.webm\n"
     ]
    },
    {
     "name": "stderr",
     "output_type": "stream",
     "text": [
      "100%|██████████████████████████████████████████████████████████████████████████████████| 63/63 [00:01<00:00, 32.15it/s]\n"
     ]
    },
    {
     "name": "stdout",
     "output_type": "stream",
     "text": [
      "[MoviePy] Done.\n",
      "[MoviePy] >>>> Video ready: movie/pg_9300.webm \n",
      "\n",
      "[9400] time live:61, cumulated reward: 5.099999999999994, loss: 0.06470123678445816\n",
      "[MoviePy] >>>> Building video movie/pg_9400.webm\n",
      "[MoviePy] Writing video movie/pg_9400.webm\n"
     ]
    },
    {
     "name": "stderr",
     "output_type": "stream",
     "text": [
      "100%|██████████████████████████████████████████████████████████████████████████████████| 63/63 [00:01<00:00, 45.39it/s]\n"
     ]
    },
    {
     "name": "stdout",
     "output_type": "stream",
     "text": [
      "[MoviePy] Done.\n",
      "[MoviePy] >>>> Video ready: movie/pg_9400.webm \n",
      "\n",
      "[9500] time live:61, cumulated reward: 5.099999999999994, loss: -0.048279933631420135\n",
      "[MoviePy] >>>> Building video movie/pg_9500.webm\n",
      "[MoviePy] Writing video movie/pg_9500.webm\n"
     ]
    },
    {
     "name": "stderr",
     "output_type": "stream",
     "text": [
      "100%|██████████████████████████████████████████████████████████████████████████████████| 63/63 [00:01<00:00, 33.06it/s]\n"
     ]
    },
    {
     "name": "stdout",
     "output_type": "stream",
     "text": [
      "[MoviePy] Done.\n",
      "[MoviePy] >>>> Video ready: movie/pg_9500.webm \n",
      "\n",
      "[9600] time live:61, cumulated reward: 5.099999999999994, loss: 0.021065305918455124\n",
      "[MoviePy] >>>> Building video movie/pg_9600.webm\n",
      "[MoviePy] Writing video movie/pg_9600.webm\n"
     ]
    },
    {
     "name": "stderr",
     "output_type": "stream",
     "text": [
      "100%|██████████████████████████████████████████████████████████████████████████████████| 63/63 [00:02<00:00, 28.65it/s]\n"
     ]
    },
    {
     "name": "stdout",
     "output_type": "stream",
     "text": [
      "[MoviePy] Done.\n",
      "[MoviePy] >>>> Video ready: movie/pg_9600.webm \n",
      "\n",
      "[9700] time live:55, cumulated reward: 4.4999999999999964, loss: -0.10208221524953842\n",
      "[MoviePy] >>>> Building video movie/pg_9700.webm\n",
      "[MoviePy] Writing video movie/pg_9700.webm\n"
     ]
    },
    {
     "name": "stderr",
     "output_type": "stream",
     "text": [
      " 98%|████████████████████████████████████████████████████████████████████████████████▌ | 56/57 [00:01<00:00, 35.72it/s]\n"
     ]
    },
    {
     "name": "stdout",
     "output_type": "stream",
     "text": [
      "[MoviePy] Done.\n",
      "[MoviePy] >>>> Video ready: movie/pg_9700.webm \n",
      "\n",
      "[9800] time live:53, cumulated reward: 4.299999999999997, loss: -0.006243939511477947\n",
      "[MoviePy] >>>> Building video movie/pg_9800.webm\n",
      "[MoviePy] Writing video movie/pg_9800.webm\n"
     ]
    },
    {
     "name": "stderr",
     "output_type": "stream",
     "text": [
      " 98%|████████████████████████████████████████████████████████████████████████████████▌ | 54/55 [00:01<00:00, 34.05it/s]\n"
     ]
    },
    {
     "name": "stdout",
     "output_type": "stream",
     "text": [
      "[MoviePy] Done.\n",
      "[MoviePy] >>>> Video ready: movie/pg_9800.webm \n",
      "\n",
      "[9900] time live:56, cumulated reward: 4.599999999999996, loss: 0.03826720267534256\n",
      "[MoviePy] >>>> Building video movie/pg_9900.webm\n",
      "[MoviePy] Writing video movie/pg_9900.webm\n"
     ]
    },
    {
     "name": "stderr",
     "output_type": "stream",
     "text": [
      " 98%|████████████████████████████████████████████████████████████████████████████████▌ | 57/58 [00:02<00:00, 29.92it/s]\n"
     ]
    },
    {
     "name": "stdout",
     "output_type": "stream",
     "text": [
      "[MoviePy] Done.\n",
      "[MoviePy] >>>> Video ready: movie/pg_9900.webm \n",
      "\n",
      "[10000] time live:61, cumulated reward: 5.099999999999994, loss: -0.032292820513248444\n",
      "[MoviePy] >>>> Building video movie/pg_10000.webm\n",
      "[MoviePy] Writing video movie/pg_10000.webm\n"
     ]
    },
    {
     "name": "stderr",
     "output_type": "stream",
     "text": [
      "100%|██████████████████████████████████████████████████████████████████████████████████| 63/63 [00:02<00:00, 30.93it/s]\n"
     ]
    },
    {
     "name": "stdout",
     "output_type": "stream",
     "text": [
      "[MoviePy] Done.\n",
      "[MoviePy] >>>> Video ready: movie/pg_10000.webm \n",
      "\n"
     ]
    }
   ],
   "source": [
    "from IPython.display import Image, display\n",
    "\n",
    "update_every_episode = 1\n",
    "print_every_episode = 100\n",
    "save_video_every_episode = 100\n",
    "NUM_EPISODE = 10000\n",
    "NUM_EXPLORE = 10\n",
    "NUM_PASS = 20\n",
    "reward_values = {\n",
    "    \"positive\": 1,\n",
    "    \"tick\": 0.1,  # reward per timestamp\n",
    "    \"loss\": -1,\n",
    "}\n",
    "for episode in range(0, NUM_EPISODE + 1):\n",
    "\n",
    "  # Reset the environment\n",
    "  game = FlappyBird()\n",
    "  env = PLE(\n",
    "      game,\n",
    "      fps=30,\n",
    "      display_screen=False,\n",
    "      reward_values=reward_values,\n",
    "      rng=np.random.RandomState(1))\n",
    "  env.reset_game()\n",
    "  env.act(0)  # dummy input to make sure input screen is correct\n",
    "\n",
    "  # record frame\n",
    "  if episode % save_video_every_episode == 0:\n",
    "    frames = [env.getScreenRGB()]\n",
    "\n",
    "  # grayscale input screen for this episode\n",
    "  #input_screens = [preprocess(env.getScreenGrayscale())] * 4\n",
    "    \n",
    "  input_states = preprocess(game.getGameState())\n",
    "\n",
    "  # cumulate reward for this episode\n",
    "  cum_reward = 0\n",
    "\n",
    "  experiences = []\n",
    "  t = 0\n",
    "  while not env.game_over():\n",
    "    # feed four previous screen, select an action\n",
    "    action = pg_agent.select_action(input_states, sess)\n",
    "\n",
    "    # execute the action and get reward\n",
    "    reward = env.act(env.getActionSet()[action])\n",
    "\n",
    "    # record frame\n",
    "    if episode % save_video_every_episode == 0:\n",
    "      frames.append(env.getScreenRGB())\n",
    "\n",
    "    # cumulate reward\n",
    "    cum_reward += reward\n",
    "\n",
    "    # append grayscale screen for this episode\n",
    "    #input_screens.append(preprocess(env.getScreenGrayscale()))\n",
    "\n",
    "    input_states_plum = preprocess(game.getGameState())\n",
    "    \n",
    "    # append experience for this episode\n",
    "    experiences.append(\n",
    "        [input_states, action, reward, input_states_plum])\n",
    "\n",
    "    t += 1\n",
    "\n",
    "  def discount_reward(x, discount_rate):\n",
    "    discounted_r = np.zeros(len(x))\n",
    "    num_r = len(x)\n",
    "    for i in range(num_r):\n",
    "      discounted_r[i] = x[i] * math.pow(discount_rate, i)\n",
    "    discounted_r = np.cumsum(discounted_r[::-1])\n",
    "    return discounted_r[::-1]\n",
    "\n",
    "  rewards = [e[2] for e in experiences]\n",
    "  discounted_reward = discount_reward(rewards, pg_agent.discount_factor)\n",
    "\n",
    "  # normalize\n",
    "  discounted_reward -= np.mean(discounted_reward)\n",
    "  discounted_reward /= np.std(discounted_reward)\n",
    "  train_states = []\n",
    "  train_actions = []\n",
    "  train_rewards = []\n",
    "  train_input_states_plum = []\n",
    "  for i in range(len(experiences)):\n",
    "    experiences[i][2] = discounted_reward[i]\n",
    "    train_states.append(experiences[i][0])\n",
    "    train_actions.append(experiences[i][1])\n",
    "    train_rewards.append(experiences[i][2])\n",
    "    train_input_states_plum.append(experiences[i][3])\n",
    "  loss = pg_agent.update_policy(np.squeeze(train_states), train_actions, train_rewards,\n",
    "                                np.squeeze(train_input_states_plum))\n",
    "\n",
    "  if episode % print_every_episode == 0 and episode > NUM_EXPLORE:\n",
    "    print(\"[{}] time live:{}, cumulated reward: {}, loss: {}\".format(\n",
    "        episode, t, cum_reward, loss))\n",
    "\n",
    "  if episode % save_video_every_episode == 0 and episode > NUM_EXPLORE:  # for every 5000 episode, record an animation\n",
    "    clip = make_anim(frames, fps=60, true_image=True).rotate(-90)\n",
    "    clip.write_videofile(\"movie/pg_{}.webm\".format(episode), fps=60)\n",
    "    #display(clip.ipython_display(fps=60, autoplay=1, loop=1))"
   ]
  },
  {
   "cell_type": "code",
   "execution_count": 24,
   "metadata": {},
   "outputs": [
    {
     "name": "stderr",
     "output_type": "stream",
     "text": [
      " 98%|███████████████████████████████████████████████████████████████████████████████▋ | 63/64 [00:00<00:00, 423.33it/s]\n"
     ]
    },
    {
     "data": {
      "text/html": [
       "<div align=middle><video autoplay='1' loop='1'src='data:video/mp4;base64,AAAAIGZ0eXBpc29tAAACAGlzb21pc28yYXZjMW1wNDEAAAAIZnJlZQAA2MFtZGF0AAACVAYF//9Q3EXpvebZSLeWLNgg2SPu73gyNjQgLSBjb3JlIDE0OCByMjc2MiA5MGE2MWVjIC0gSC4yNjQvTVBFRy00IEFWQyBjb2RlYyAtIENvcHlsZWZ0IDIwMDMtMjAxNyAtIGh0dHA6Ly93d3cudmlkZW9sYW4ub3JnL3gyNjQuaHRtbCAtIG9wdGlvbnM6IGNhYmFjPTAgcmVmPTEgZGVibG9jaz0wOjA6MCBhbmFseXNlPTA6MCBtZT1kaWEgc3VibWU9MCBwc3k9MSBwc3lfcmQ9MS4wMDowLjAwIG1peGVkX3JlZj0wIG1lX3JhbmdlPTE2IGNocm9tYV9tZT0xIHRyZWxsaXM9MCA4eDhkY3Q9MCBjcW09MCBkZWFkem9uZT0yMSwxMSBmYXN0X3Bza2lwPTEgY2hyb21hX3FwX29mZnNldD0wIHRocmVhZHM9NiBsb29rYWhlYWRfdGhyZWFkcz0xIHNsaWNlZF90aHJlYWRzPTAgbnI9MCBkZWNpbWF0ZT0xIGludGVybGFjZWQ9MCBibHVyYXlfY29tcGF0PTAgY29uc3RyYWluZWRfaW50cmE9MCBiZnJhbWVzPTAgd2VpZ2h0cD0wIGtleWludD0yNTAga2V5aW50X21pbj0yNSBzY2VuZWN1dD0wIGludHJhX3JlZnJlc2g9MCByYz1jcmYgbWJ0cmVlPTAgY3JmPTIzLjAgcWNvbXA9MC42MCBxcG1pbj0wIHFwbWF4PTY5IHFwc3RlcD00IGlwX3JhdGlvPTEuNDAgYXE9MACAAAAiGWWIhDoRigACDvHAAEByOAAINsR3k5OTk5OTk5OTk5OTk5OTk5u9ddddddddddddddddddddddddddddddddddddddddddddddddddddddddddddddddddddddddddddddddddddddddddddddddddddddddddddcLYACGzM7szuzO7t//AEIRCFA41w21fXgIvcf4zgBF3r7/85PXXXXXXXXXXC2AAhM7O7szu7Ozf/AFAEpXAwxw21f1wEj9H+Xv4AMbVL/++9ddcLYACG7MzM7O7u7N/wBCEQhQONcNtX/64CL3H+M/ACLvX3/53rpa666666666676665ukrrrrrrhbAAREYld2Z3dnZv/gCEIhCgca4bav64SsXefACjpdf+euuFsABDZ3Z2dnZ2Z2+AIQiOQDjHTbV//WCP3t4Ay+dZn0/rrrrhbAAQmZ2d3d3Z2ZuAIQiFIBxjptq///UBI/yP7P+ADC19ezf9dcLYACAwEY0bx3rnHeOO9c/+AIhlIQDDXTbVh8MpHAw1w21eB8wM6wJHrVpISNJsAYXlbMDC3Djt+ZPXC2AAhMzs7u7uzszcARDKQgGGum2r//9QJHrVv+AMLytmf9ddrXXXXXXXXXXXC6gAITszuzuzuzO38PhlKUDDHDbV//86fAZ33+H/hA1Skg+nrrrrrrrhbAAQ2cE4w0w0w0NVKFSngCIZSEAwt021eOAJXIBhjptqD4ZSlAwpo21f/4VphCRlAB/9xSRy/AB9XMdVUl9PXXC2AAhu7uzM7uzMzQBQBKVwMMcNtX//+oJvrzz8AKfvr/P+uuuuuuuuuuuuuuuuuuuuuuuuuuuuuuuuuuuuuuuuuuuuuuuuuuuuuuuuuuuuuuuuuuuuuFsABAEFJMIMNNNNMEKMssf/wAfhCJoblZz6fq8AD8IRNDcrOfV9XqIAEKjwDfrOrP+rwQkJwgACQcsrguFtjgJwJKCmrf4FlAAQAYOYBazZtomJImap2ydf4LhioOOceNCv3q8DuTCIpRBvfV5nm0s80AAFAAGqAVngcw0YStJE29XhSvSBfrz10aPnpNjHReHFVXggQNx4QQF8dgGyRxpgR9hQFbCBCztw7LwXayNixAo/4NRiWGA4RbcFnAASTTIjTZGRn//GIXthLVeGvaR89/AFCBdm0LJ4eFF1A2Cql7111111111111111wu4ADgAwELLcHkoeXYNnhlt/+4AOkRYC64r0+rxAABkABgLuCwAEYHHj4XSWAASAAEAEyWAASAAEAEzIjJc4BXCUZyXlA9P1eLAAKAACACZFNSQPdeLgMyGgIHhoQyAGYzPIjBJoDBryrMbDOBskGP7vgBxPICxz4zSZANsivQ0fPGGhBQi1foLqAIAAgAAEQGrEAH6DK8RaUPfPbwXMDZzBCxLBL1eowzPQGwoRjXq8C4Z2UNyRKXPV6egAF91YAAQBPqvUYQiaCbrOb/6vUQhUce08au/6vUQZ2BR1UmQpX6vU8JQFc88oAFP+rweQw6kjC7h+HLTMig5mOKAO16vFWxOw4cogIGMiAAFQABAAMjgABHTYADVrw4IGMlfkEw4coQMUOGABOAAZSmY/htZPIQnnkAMLGgpA6vIhfw6Qd1Y6fq/hhaoPY9757DjIIEUtI+oVQc+u6hko34AIpgs+hAACARyEEAGB4uNMDQXNwCkAAHAABACAZcBxhoUZh5Ywh6vAvGZ+BlCmNMer3/Glhe808RE1x5W29A8RES5+IC5CAAJBt2eVR3zA7OMX/88NtkB+30/zQBDWyy+9dddddddddddddddrFr6///D3+uuuuuuuuuuuuuuuuuuuuuFsAQptJo2pv/AgTG3av4E0hv2rSrb4Jd+xnuBdwAIjmRVmZEf/9beBCjRu1FoEZMgN3l09coilkZvieFsABJNNAAP7/AYbNz/weBmfiKQHAwuDXYlrwRopYPAJkLqACzbAy7UYfRtm1/4PAZmBNE79q+BMb9q8ohA1ppjuMAf1juwJjIaV5guSAAkk0gAHv/wOMm5g8DM//xtAEAj7GuNMEaqwOkZPWWsM4AFn3yHMbhakQrE0wcgzMaaaaaaaaYECbF2rj4wIEfbtSJgbx7gFevZ+BAxGY9BbAAYsjMA0i0QgP6W/8uBmYPAzIEExv2r4GdBILHyrsV8Ty0UsAMDciiBdQAEm2hO+3dmZ//+AX4lbtUBGrdq/zCAfymfoQCd2TQ5QWcABGZGUB1USCNln/8CZIbdq/B4GZB4GZMhCazcLMvNemhKIpYWcABNpptNJppf+DwGZ+gC9fISvZhbAASbSE7/5md2//wJolftUCY37UgI8/4Ca8khkF1AATSbGzbd3Zn//jTwJkjLtUBGrdqMijtpfgEnWbNyT1wtgAQ9f9X3//AmkN+1L2+AkfpsF1AATaSB42/NwBVhn/B4DMloEZHQIzg6BGQdAjIGBrBIFhc/T5wGSwOT0L4ADRQpUF2ESSwUg3/weAzPwIExt2pMuG5BYCrL2BvF6As4CFRZ5QADqvQABAiLgbAPAzI8DYwII3ftRaBMeDoEwPA2I8DYwdAmIOgTA4AYJAAEAG3yW5Kxo1PMXKB4wuoAhe7u7/+/8CZIbdq//1/yLvzhdQQeffmMcpyn7rQUaN2otAjPg8DMgmCQ2Eh0CM//wHQqSHjC/vAp3MrRt9Ifz49YnFqfF2tra2vhdQAIQcIpFRREtY3weBmcCZE7dq/+QQhIyg1jHwD+F/xwuoACbY+6O7uLgR0hAgjd+1NjGJzbUIgIz/g6AjIOgIz/8D9BQPCrVP7xGyIx7CT37UhIL4ADEQUorcxDJD2hUCZIbdq/wJkjF2r//B4GZAgmN+1fIATTN8qkCZyMx6/wCHyKBC6gCKA/zmGNqbAmkY+1FwGZweBmQIEzF2rjj4+PHxE02O/8EqyZnIAl4BhbmQuoADUYcpSIpAsDn0P4E0Tv2ryTGN+1eBMkNu1FkBmf/wUsIgzLUG0xH5flblziiWuEbF1eu1hbAHnGCJ0Qndh4Xd9+DiARngQpkXagcQEZJ3IEnai0IzuMrDxwwE4TEcJ5wERWww6AI/IdqsvhZ3UF1AAqH+f+kQWSdAO/6ALehOXtQAqFmcFPMNtQZZAMyDkAzIEMbF7VHiZ+1DoWRwU8421DoWRQU0w21DgLq4IcYbanQLq4IYYbanYWRQU8w21CEA2HQmNwQw421FkA2AoACHGgcAAyGcABJo0jCVTKYpergAALSpQBTobe4DwmGhr4VAvgE2RoPYucl4xmZSNyYAAJrAGNlSWOAnFZy5GUsGMABwNzCoubS7kBGCv/3/AhWl2otCMg4gEZBxAIyOABABWMndAk7V46FkcFPONtXhEAXChCAAcAbaAmWAdtFMciiEv7oyaRhdTchfCQfgG7gFIYK39NR+d4FNoOIeHIF8ABF6LYilxjuHO0weGZweGZB4ZnwJ6I+1f/SrDcybmGCqTEF3ABXsCmKKYg3ev/AhEbN2osQCMgQpou1FoRkndAk7Vh4S0FH2xrOPEtH1GvHVNAySAA6IpBlICt4gJ+7+BxARkHEBGWwHQsygolY21AC34SP2rrBsAow0ftVY6FkcFErG2qscBd3BCjDbUOhZlDnmG2p2FmcFPONtToF3cEKMNtToF3cEKMNtQQAINQLDACCgUgANWCTZysvMj7EJFgAJ1ApSFIOocAALRgDiIbO3AAJkH/WZcLf34naHh78cAEiAj0wmllAACtUBjULyQZwAEBYVFeJxHde2/go2KuPFn7UesVYqxVgQpy7UQWAdBxAjJBwDoHAA0AFoOIEZJ3Qk7UWsdCzKCiVDbUDABOgoakdOBjHN6JxJcOMYB1gtdilReZDI3d7aTxxfIGCFW8vfsOIP/kZcLv34L4AGToNLZwvnf/v+DwZkHgzJ4LFBfywWQBzYS4HaDDu04cGzl4bYWcACDzBJLVOJjf/g8GxwcQCMg4gEZKgM64nuBN+zxCQ5YZJAA/INkfjUI3Kj/PmwIUaN2pstAJgsQEZBxARkBwF0QEPNNtXWDoRkTikC7UfMvlh0C6MCHmm2ocEyIAIHNNtQ6FFYFMNNtTsLOwKYebaggARhTYQEce4aAAE6BpJ3IycyqIlwAAvCwASTlU7AES1Z+/AWML35nXi0//E/26MAAEqwDwWlBzBZwAECVSmG7i6ZTjhZ/EkyDiARnxwF2QENPNtXuws7Apx5tq8CFGzdqLEAjJYgEwOAAgAjAGAALKBwOAAfMAMBcLAAadgYhULvWAngCstHLITDmNLIcsYgAJnDvWhB1AiwOQRhaLLf6BnAA634B2sRC4Cb/CrbbB0RkVYqx0RkT1H2ocQRk5oA4C6MCCVTbUwnQtZ6y1irA3MRCRUafWgaTUrM3IoYSPw1vT5DC97K7i1/eDCzgAW0UxGp2cN5P1/8CGZH2r/B4Njg4gIyVAcYs6g1eA+ZJgjM+eBckAC46yMYqEcYP/7vAhRs3aixAIyWgEwA4C7MCGmm2qDoRlMeGZE4ogLtToF0QEPNNtQ84DSsKhZgXDTQkEiCNCjAqoAE0Z8QkU/IZNgQQrCVCkHUmDGEk2YzHH/9I43sSHDNRWSkT+/BZwAL0GgRDTUDeamE2BxAIz8STODiAjMcEyIAIHPNtQ4C7ICGmm2p2FlYFONNtTsLOwKYebavAhRs3avLEAmAgACAMaPCABAUUICfjpgOgAF7HAMdCkb4I/cRcPWBszWx0AAUiAObKTtwVB0tQEL4ACM1iFJj65I5dTn4OgjIOgjPQmEOAAgAjADgLowIaebahQAG0h4DMvCxhATFFCBPhNMAXqY2BtPyRWb3S8GzlgTNoVcPRWyNwhiAWwAYglZgKgxot69gT0R9q//Ahsj7V/4PBsRFID5o+j4tSaRN+zwZUACMAyiRHS94jzf/gFFjZu1FiARkCERs3aixAIzHETN2rwEQiNWxrVRXtzI8cYTvH6rBjA4ABcHPPBz08vwcACADsA4AEAFY+A4C6ICHmm2ocBdmBDTzbU7CyoCmGm2p2FnYFOPNtX/gQAAIAoAcCwABAAAIAWGgePHXg5hu18IAAzIUA0GKR1N8gwAKoB+kTdu0G4AAUsQBzYTb48LuAIELSbcB0LJJ3S6kBAsABABGCwAEAEYywAEAEYHIA2IowcABABGAcABABmABULI4KeYbah0LM4KeYbagcABABGDhYHQsjgppxtqeFgDABFDQOAJgAgeECwgnxMzbVSg0x1cKtPq8CwR3wlhMd3vu1pC6sy84XfklwWCCT5EcdSbdTwl5EEIQj1eBAZE58A0QjO13GaiGqYgNWU4LOADojMwACCkaBqVXazJgOAujgh5htq8dCyuCmGG2rywAIAKxg4ACACMfAFAXRwQ8w21eAKhZmBTzTbUOhZnBTzjbUOAu7AxhptqdAuqghhxtqDgBeDgAFdYABOwvq5B1YHANN/LzugUpfaGqJs3R+vz/6QAAtaQOdJ0mfJgAkUjFdB1WLAB5IMbsnm63CJm9zKknAAAVkUIebBdtgtgAIDcvFf/0dMtg68HAAQARjB0ExB0EwOhZFBTzjbV7oF1UEMONtXwdBMYEgAIUCgAkAzhT+CJeRDDWGXuBphEkqE3urwOh7U7CPlZmiBVcgBOKh0LgRSm+awLOHgAFgY2QGq1YNmi4bGPDYBwAIAKx2qGKOAEAHYLx4bADgLowIeabageGwOhZWBTDzbUOAuyAh4k21H7sLOgKYJNtR+HgABANg8AAQDIAWxzeiKeTDDGwlgHaKY7ocv2EAmFYWoQg6oAAGHYCFShd68BcV+hyjOlZLYbgFIYOvZb3swQzHDJLQdTAATODtXyDqCzgA4DC7mkgZWja9EEWwSywAEAEYywAEAEYLAAQARjg4ACACMQBULI4KacbagcABABGAcABABGB0LM4KeYbah0LI4KecbagkEEDQoYo6hMB3CJ7m56vOBAsIJ8Tc21cCV/u0wK6ttFgIr4SYHz3XevqNAKc5CuZfV5wEEnyOOw21cGib5fwj5qk0BkTnwCQjEbtBZwAchSukqe4V2PYwO4DgLo4IecbagdCYHQsrgphhtq8sAIAdj1HQmOy0JgBwF0cEPMNtUAVCyMHPLNtXjgLqwIYWbagaBIHRpwcELvIbe6qGgFuKjfZ/q9xlTG2Woy0rAATqnMqDqgMGaFLRL2qJgdxnZj71e4n6I2mNdiMACRFQuQdQWwB4ABcHPPMInlg4ACACMA4ACACMeOhZHBTzDbUOhZlBTzjbU6Bd3BDDDbU6Bd1BDjjbV/4WAAEAUAUCgABACAQHjAAKuA6IGZbtegAAUYAUxpOREevmB5wAcQDfImzdr0AACagMWgnLDOAAgJ2grP6B70OwTIA8DYcHgbF3bg4ACAGYB4Gxbu4DoWRwU0o21OOAu7ghhRtqBwACgUDgDDB3gC9QBWcUtyWK/vRW7p7AATqBSlKQdRBXcAH3gO4wRvL//XhB/zzAAkQEelKDqDDgCwznOACnGmGKSFhx+7sOWIHAAQARjLAAgArBYAEAFYx0LI4KacbavdAuqghhhtq8HAAgArAOABABWABQF0YEPNNtQ4C7MCHmm2oIQiAA4RHwBtfBfwRJJEMLecBAkoI4XQ21MBMIstR6DqoBmTiUFQ3XW7Vqw9DkIO0r/XoAgseTHnWm3MCGcxigyDqsCKuPwHiUYnXBZwBEBDJTARzJRLMYhCcsACACsVwBULIwc8021A5ANgcBdWBDjzbUOABADsRwF2YENNNtXg5ANjwcgGwDgAQAVgKgB8DoASUNgKYRSPb/q8wAE6iNV6Dq4GrbZrgYi9teE4A7qIQSha/f1CQHecVPK71eoDpEriWmUHOCRf+s4KTGUrDsBTncJ8qd7Bd7AzHMcA63PH+Dh+/qFTJ0yqABoALWDQANABaw6ZFJ1g0ADQAWsug1gDgLowIeabahwF2YEPNNtQ6FHQFONNtTsLOwKYebahwF0YEPPNtTwsOws6Apx5tqeFgOIAsHAEAnAgLEfMQJzBpyATLAO3ilEIhi38oAAVdgOYOTqhAAMOgMUhqPdVjACtScE6Tz74DfgFIYK/5Wr2gAAJVooJJomn5wAJnDkrhlLBdQATDS2gAc8BNweDYweDY+DwbH5mDg2Mwmj8aM0olpi6mpt2H3hdwAEAxtygTV+rbUv18HMHAAQARgHAAQAZgk8WABABWOAKhZHBTzjbUOhRHBTTjbUOAu7ghhhtqdAuqghhhtq8HAAgArHgCgLowIeabagyAGAB4GEAEAGACxgAFXAfoGbbtUaCXHxQi+9XhAABatABTFoP1xkpjbKwXttwPOADiAb5E2btUse5uw6P9XhYABNQGNUTlxH8RtDE2qeFnAHTaAAEAAAbqd73eAIMFgAQAdgsACACsVrByAbAOABABWBwAIAKwOAujAh55tqHAXRgQ8021QcgGx4OQDYCiBRYSMIKcBAloI4TY21bMUBsTmgDR6VbtHG1ZnAgse/zrNtSirtrtAlfFoHnuTu0QFfcC7gPAALAxxIJkBIDzsA6FkUFNONtQY4C7uCHGG2osACACsYOABABWAcACACsFgAIAIwA4C6MCGmm2rHSQ2BTjzbUOAuzAh5ptqHAXZgQ0021OwsqAph5tqdhZUBTDzbUDgACA0OASAAIDIJqxOZOIwp6mQ/6hYADjgNHwMxunFGMSoa+jHsf0oAAvK4BoOlTbbnGIq456OxK5ocACqAeekTndOtCOtMJJLls2AAApYgDybC7bBZwAFdXWCB5uigsUc4WPvCxeFjg6CYgVMCRF535CuI2693sDxvYCF888FiQ8AAsDHtAWrlw2aLhsYPDYBwAIAKxwccACACsQeGwA4C6MCHmm2oHhsDoWVgUw821DgLswIeabavdhZWBzDTbV40AAQCYMEAaAFsc3oinkwwxtJYB28UpyIYl/UGajyomFScVIAAw7QGIVK/3gPhX6HKYZZO/7DcApjBW/K1ezgTiLYuC6WcACZw71wylgw8mLW0gAh3+C5led5OcmQ67suxbFv/CABDQAAICIgCL6tppkHnRvyrRNNmyAAEAZxBmAyDqwzQ4bqYXUCLgRXDX1qYVw7/DgLuoIYYbanQLq4IYYbahwF+4Iow21ALdAv1BHGG2o+2RuLX4txCZLTGuLvCAIOoaEEbkcA1UfJu6E3umrXDYyuSld6AefvwfgSLMNqFXZXU5z/7lRESETMJWI6gbC6hw47JIH23fEAJkb4u3gEz/W8XeLYtg6qiEyo4QLJxSmh6HQj36WohUyEJ9r/XrJnzLE7iGLGF1Dd/gK75vFWN8WmKsVYtjPKuLXxVlrwgACYCFjhB1UTIeOQT92gIyjbLyTAAEAZ/D9xrDCgBLZ5lM2SFifx5YHSRiCkCTbUs4+aQ+9R8ycmV3LeLnjva3jkyXYQAQA7geBg7aLIefjq1TLEGxK0pCBjcP8CNmnGTQaEKMDwcLqAA72eAju/UwTVfBMW9pHBNjCMEG2rz03QL9QZhRtqdCZjGIMNtWDvKDcUG6stZawYP0qPwUkIJBc2WMPW1xKNVvv7A1Fb9/cpze/9v/iZAls5Wd8b0IEEiqdyCq3aBvwyoAmIlatZ6GoXxj1H27jynJlHlFgAIAIwXZ8yXf/CBI5ghQ2zza0cLjAsCxVIE4lRSF7/bTc/9QJ1gKSwUh/uS//dYYYUCFYCBnRNlGGEDBYACACMFgAIAIwcJmOLfFuITI9xyZLvCgAeA4QAEI5klAAZBvC/3It3zy1ATUzAVH2v4oBABPQN0isJa6/SC6gAIGM9fbVoT2o7+irxVkAA8AEoLYqzFEzMW88JkQmcIAECNEBAkdqiZDh2MXdrgvwsfFcWYZat8GvBlAAITw4RvuT9+9QXUCQRDGNDGIYEDIsf3FgAIAIxaZBgwxR0idgU4021OwsrAph5tqW4LS+0LWWvLWWuN8FAAEA2ABRACMtLBoTc6gp6VNXCGIUiE1jk4X2Bh48VtMQR0qK1QwYWctuoKvdr/DC8kLRs2TZEBZ2SMQUgSbalg7yMXefMnxDFTy8tNRwhMl+O8FkwoAPALxYg06VvEdgrlN2cAF0ucBkaB8XGzBrHxSuw42RgA0HBNOCNqkMKAKkihMTJGZBB0LKwK4821HDvIwd78yp6cmcb4uZaZd+DAJUFqsghomIVEe3b/6tr2TQyj74NARzD82d1RExeUYGGsLqALidkdo9n/7iQmRITOJmRITPxMzhAgTxWOVaQDT9ecj06EUvUC4rdoPy/o3Y48MKAqRKEyIjIjX4cBfuCOONtQFvJk5MiZl4TON8u7LmKmM8v5R2EgACAHwBQA1bGpHd4AX/1vFLYJdSsB/v39YFkkhNkJMwvf39dBh8LqB/mz7wq7fufJnywsWxIEyeBMxqYgq3a3i5ipqOF8QAIgkGShutbsZnRAhgsvTW9fvr7JITHLjUoAwoAYJyQ5nd7wgTPlpiZn/Av56iq+/req+CAEAZIcRV4DWzsARe7TAJKhSgEG1P/LDM+62wwoAncpQYf7pCBYHOL8uxnuXMb4tNRxyZHu1vBBA/Cx2C2Q6aoZh1K7d0VglS58A+8QJKUU9ekGFAUzo2QcKnPLHjvHyXxvjhMq+LTLmPco74QAgCNChVgAoUyuFxp1za16OQwHvDqBq4jPt4QGoIPGO//+P473//x6/He//rj1/GO//tY9Yx3//x6x3v//j1/GO/+EF/1Hf/aoMsPXGO//9cesd7//8ev8d7/+PX9R3/2qDLD11vf/+FsABMPEJgA90mxwRFt8XMHAANAACAyZBwADQAAgMmcHAANAACAyZBwADQAAgMmcAW/CIXtX/gC1tBEL2rxAACjIMcAAQMoHAJ3lhwCd5fgcPALLDh4BZceF1AAQOGtC2QTBH0Ayw3/gQIZSdq/wIEMpO1QBb8Ihe1f6/9MLqAA0o7iA/vLdXPbW5/nrFWALW0EQvavAgQzk7V1+BAhlJ2pf0mx6gAJh4hMb4vAZYPfEP+AXYRC9q//gC1tBMXtXj1AAQOGtCyQTBHwAyw3/gQIZSdq/wIEMpO1QC7CIXtX+PUABpR3EAnvLdXEK9rP/UyUyALW0Exe1eAU4Zydq6/AgQyk7UPUABMPEJjfF4DLBr57/gTxEL2rr6+BIIAQvQVYva6x6gAIHDWhZIJgj4AZYb/wIEMpO1f4BThlJ2qAXYRC9q/x6gANKO4gE95bq4hXtZ/9bYAhegqQva8Apwzk7V1+AU4ZSdqHqAAmHiExvi8Blg18Q/4E8Ri9q6+v4AhbQVYva6x6gAIHDWhbIJgj6AVYd/wCnDKTtX+BAhlJ2qBPEYvav8eoADSjuID+8t1c91bX/1tgCFtBUhe14ECGcnauvwIEMpO1D1AATDxCY3xeAywJfPf8AuwiF7V//AELaCrF7Xj1AAQOGtCyQTBHwAyw//gQIZSdq/wIEMpO1QC7CIXtX+PUABpR3EB/eW6ue+tr/1MlMgCFtBVi9rwBpw4cna13wIEMpO1D1AATDxCYnxeAyQe+If8BPFSF7XX18CQQAhegqxe11j1AAQOGtCyQTBHwAyw3/gQIZSdq/wCnDKTtUAbsKkL2v8eoADSjuIBPeW6uIV7Wf/AkEAIXoKkL2vAKcMpO1f4BThlJ2oMYALGhUKQozgIA74fv+YCAQyk7V5YAIAIZBwQYz4AtbQRC9qBwQYyWCDGRyAMyOQBmeOQBmRyAMziAAIGQYAAgC4AGhYZZWcsnZZOywbOWVnLKSllJSx6gFQMEH8va6z81o/4OCGMg4IYyBAhlJ2ryxAEZ/8eoAm7u9BJ//PKDly3gCFtBUhe1//BxAEZBxAEZ/wmoALGhUKKlzmg8+fv+YCBDKTtX8YOQDM+AIW0FSF7QOQBmSyAMz/9HqAVAwwBVf3nBMVo7GtjQ4gBGRxACMgQgDCk4tjRYgBGf/HqAJu7vQk//nkBi5bwBC2gqQva//g4gBGQcQAjP+PUAFjxcUVLnPB58/f8wECGUnav8HIAzPgCFtBUhe0DkAMyWQAzP+PUCqBhgHV/ecPW//v+DiAEZBxACMgQIZSdq8sQAjP/HqAJu7vQk//nuDFyngC1tBEL2r/+DiAEZBxACM/49QAWPFxRUuc8HnT9/zAQIZSdq/wcgDM+ALW0EQvagcgBmSyAGZ/x6gNQMMA6v7zhq0f/7oXQhxACMjiAEZBCAJSMJUIsQAjP/j1AE3d3oSf/z3Bi5TwBa2giF7V//BxACMg4gBGf8eoALHi4oqXOeDz5+/5gIEMpO1f4OQBmfAFraCIXtQOQAzJZADM/49QKoGGAdX95w9b/+/4OIARkHEAIyBAhlJ2ryxACM/8eoAm7u9CT/+e4MXKeALW0EQvav/4OIARkHEAIz/j1ABY8XFFS5zwedP3/MBAhlJ2r/ByAMz4AtbQRC9qByAGZLIAZn/HqA1AwwDq/vOGrR//uhdCHEAIyOIARkEIAlIwlQixACM/+PUATd3ehJ//PcGLlPAFraCIXtX/8HEAIyDiAEZ/zd6WlpaWlpaWlpaWlpaWlpaWlrrrrrrrrrrrrrrrrrrrrrrrrrrrrrrrrrrrrrrrrrrrrrrrrrrrrrrrrrrrrrrrrrrrrrrrrwAAAABkGaISAEgwAAAF9BmkCr1eAqeWt4HHqYoHriK13qC6CGCjgIEbsStXjjZ61wQxHVdVwQ+CHwQxHVdVwQ+CGauuCGI6rquCHwQ+CHwQ+CHwQ+CHwQ+CGI6rquCH9yEAgjL4rk3qbk3qBcgAAAAKxBmmDoBbc3EYQMuDjwcHsTIk0M6EO7mkGFWpVBp4OIQ56/GYuvz2PoBso//l/6p4FLlvr6xQvxNa63BVAgx3VdVFAAEAaAgRlIStQHQCBGRCAQIywIN9VwIN93wIMR1XVcCDE9VXXAg33fAgxHVdVwIN9VwIN93wIN9VwIMskMlMCD4EHwIPgQfAgxHVdVwIMT1VclMCDfd/cB1aCIV61eRAGHZfvu4RF+8C1AAAABF0GagFoBc9Ukf1IKBT567BhRgX+H/GAzjDLaeMEKCHgJpp5MMMXtWlv/LqjgosIc9iRw1Wev/4bkg1quirTL/BbzXsr5bu19SiiOr/Uq31y+S6K/r0I8EN2CJ9nz+8PTV9cuqv4JJ5UsVcElWXhXC1Up1D82KaodhQX/1b5aVuuCyxTqN3tggdZfBHHS4WqqD9fWL4I77pw8EkYFg9uVPr316ueu5X+uvfBJlJzEWXy1jiD8lWW+rj1KEk6ufJMpvfeOZfwrGs4uSSLXyNVgZO+u48EPtFGGV8l31wW9JJA3Xl9Yvr31a+SL9ckX4rki/feL47ljghPJTzUTyUJ3YEpSDrr3ydJS971XEXfR3k73quIu+jvAuQAAAz9BmqBqAQPPAReCdp+NeM54ArhyfL8nPAFcJtDv8JdT0/PKnCB31/vnrCDl9H+bnqMV/9dT0nVIR3U99UBYnktOpNEdT0JdT0JdT0ZgQPAgBPtNMAqcxoD4EAvHPQBE6noznuoNAY0ZWgYcXDRJItd4bnENjIRX1oJKwQ3Q58N3Q9fUnDXlVk6nozzdT0JdT0Jc/LlRh1xf6mFXF3dq764i7tXf8E/dzy6B99Uw+WklvqgI+bk5Q0Tqx9WHqV/1Tj6pF4Je77ucTqIX6kT6kT6kS+Gru9fhIw/cf5KrruLJ/z18OYGKyu/fz1/MICPjgq9U69U68/s6M2sr/gg6ZQKgbEwY6yKV3Bg9SiIyPg+OAiGKqFC8J7vKAAGQjXBHxoVOYTLwx5cYmtNgcq5MgX+G7e0p8ooTpoPh92DsqwcD4Ie7u+HO7rjukC/w5mHCj+VPlgc2Yr++7+eqcar5oGv83dLxFX0trw5kDzxqwItpU/8X1KRKQtfz1Z0xtI/y3jAsH8u0RVrgktyKh51RfDcpVVzq1830fnufQDDK6958Xpyk6afw1ivU25KPaIFD+uev4dRCt+IxjJfu/hub2qxgbbDUhSZGYKiRRDvhjREHIkVCdV47IOJgSwNFeCF/8/v9St8EG92UkmDq8qIHsD4SM/8fNWvw5baIqcVYTUMHWN/wQ8V++HKFJKxQhurf+CTq+Hz2fQDTVLwzd7BnFk1nD9c9SAgQxC96H656wx2v9cL7FHRV6DV19odDWUkwl4L5QwKUo1da+uEDWg1f58UgcXi8RrRs/+rPm3quevtxoEH+GtZRpOHpjoNWkuTjLd+pb66l7i/9xfrkxfJ3F+uTF9wQwR0DQMAQs0BDNbWr0ywQwr3fd1bbv+CGLoHUgejjYt4IYYxVlGK6+gkEfYsEMZ3fd2jBi1VtWsEMXamwpFowY1PzBDF+fM+FI4IYju+74IfBDLQNAyUgPBD4IZswY3wQxdHJSQZJSQPYIZZaI6msEMXozY0ijMGA1VYIYujLS1tBhLc4IYju+74IfwSyACBQlk0AANVVTkXkariOQiQiQPcTruMiwP11q+tX1q+tQr1JQl1JQl1JQl1JQlAAAAFDQZrAagnw3AEO0IhS1q8ggGHQSFTYQAnMbAHLHs4ffgAXs28xiGJvxR4SHuO3J+W5lbuYLWEuGYA0oZSlrV4dCpINW/6/gAXJKiFmNmY8OBs4W4Ah2hMUtavICHLQYcIctBgQsIBKEIAtX9ZCM9zAAvTTyHmPnY8gAAgAgZcwkG3ABM33Xdf/AF0mGUnav88SjRwDHbvrg4AFzJpGKuTs54ELAQHgIDwEBCHhLwn4L+tRXVyurQl1lL1cLqyfrKbrlEdWS9XHrVdYIvq6GYEGO7vu4kAAQGyCAtZoEI1tag4EBR7IgCAo9lgQb7vgQZaBoG64EGpRcCDfd8CD4EHwIN93wIPgQfAgzXOHvAg+BB8CD4EHwIPgQb7vgQZbNmcl+CGAukwYrGVq8gEDDGX1ddX1r6yrrX1lXWvrKutfWVdagW4AAAPBQZrgegb89fDF7/+BK6orYzqi5k6pyEupDT9SiLm+qLWbqA6KG+e5w0lmo07PvnqEfLePw6lafhjnr8NN9cnPQAhmaXwjYev+CLmw3BoFg3BgPhiwIDgj1R1Zve9fw7DW6QR56/Uq/4es+QxpOBTCKyMtBCakLGSBZmGu520cWteCGmRfKoPQl1SEHXDnhjDEv4Rd/9CNrX5/z1/6gm5b3XUoq56+HYcTH/DlA0rXRz3nHf89fw/CF0F65fPX8OQyGpcEnGXUsACBW31cvm8MYY9WPnphz6VbMRDySjwzlIrvGTV6P9B2Jb/+ev5sxen/hqOO38vokW4vCvN1i+sVd4w6GWuCS0Qrnb74ylQH64XwSS5S7Dyz+i+GuOZxYaZQa0IA/56Aj5y+PAo+euGtJYbcyd/4IU53hecfWgSbac7h8CZ7M5/1/3ajQFX6w31ML4X0iFdtgTdQ53ja9P/DkNz9XHUdeXCCXD21hRkXS11eGatXdNhb//z1yKRoyw6vqWDT5+v6NcKWPz9fGxSqx6UJDL++G+qLNlNDoOAth/4axXr5lUN2y/PXG4Ei3Z/nkKNWP/4K6e+QgjmE9JbfPIX0MZCoHmbNWPPUaS7xobP/jr1w1NBVPITmIfPqiKQkQpUoT/gk27cd8EchCxM2iTD5s20vPw+Mx1/z90hO1Jx//q489OLUbIhj/4I5wAAoEmOJWHw1i/HY0NkZEFqYG148KH8FMbdX9W5SMgeYep98OW5ityqCA9l8xr/Px/DSfjQt7/CsypY2mIdY2UGpFl9IODcsaMlJD/w3DEtw/X94PgNIaFj4YrrFepBhToX7/+C+yyhgMeFgfB+HZJTBnrmTQ4wNPh/HECsDATB2A2sJnLcmD1OCAK58lM0HAIORaphpaLLwXzKZ4t4v1YPCxl9/gw6bRiIwLf8vh+HA6nZQfnyk0fBF6jQIH/JxwQrA14VpNecYLwC19gQ6LVglg8fDNJpg7JQQCcuUY7xrnvz4qCHUz/89fDEIE/aCWg7eCzYN142BcQMBeGvF8EXUgaO3z1DqLf7w3GRh6eWqgXgmrYNrUo5Sv3F/4IYio5G+sUI8sMp+3pk5o6A5VsXqUVc0dAcoNhBovBHYMeFkgcBlF8sOwOPgNi80dAc8ZFp6lF8sZFb7F4ujmuEjAfr9i9Si+bD0sr+aOgOcsXiI+ABvzXa9W+CHGwAbc1dW+rfBDDKWg56+rfVvghhmWjv6+rfBDhuAGO3wQxkWl/X1b6t8EMMy0d/X1b4IcNwAx2gW4AAAA6NBmwB68LQOIAIOgw4gAg6DDiACDoMOIAIOgxAABADAPEAAECwAAQEINAEAe5lQBAHuYHAAWAAEBC5hwAFgABAQuYSDbgA4ZzHM6scxkTOtHY/gC1uCMXtRV0EQXtRZABsEBgFuf4RIbhAAnEZSgBa3sY1Mo/b6OABehu2QwMNhPv37wkG3f//xV/pIzC2EZYwcJQQzwOtod+a+D7fAtdWQlCELcDggQ9kAtbQRjnrUDxwAAQSJCAIKageAAEHDhwIKagCAAMAQLIhAACAyAA4A4OADVowq28QAgDwgAXJmYNjZTgg3R5AAQDgCrmEg24AOAAgEGj3u3G5ARkbjdw9fz/gcAAuAAIAUyYD6JhnJ2oRSMMpu1fwhMkEATHLwAXTrFV4tL/v4ADpmInzC70SYkMJBtx4ABQDCnEwgGga5wYcGga5B+HBoGuQYcGga5B+NAfI53LD93LJha5lQtcwkE3axvf738JHcykZgQD1mQNNP/wIHgQJDuVgZ1c+CSbPlKdysDfKdysBIe5WF3+Eg24HlJkHuiljXxWorXxK8HHfHFvooi+Eg24ADzZJNtC1+/3+sX8AvQRz9qGIi04sbfErzVCXC0DgAgAQCUGHABAAgFoMOACABALQYcAEACAWgxAABANABYMAAIIgAAgTQcAEAHhWOACADww4ABEgAAgTXMOAATIAAIE1zCXC0OACABANQYcAEACAagw4AIAEAlA/QQgYOBCtZ2DgACAWACgEAACCEAAIERQAEAHuRigACACm8ow4ABMgAAgTXKBAPQBtvgABAgC6gkG3BABBiiCyyQeqmIcH7+rZjwcAAsAAIBrAvL7GAuDOYwBgsmbagdnB6CMcwBwwmbaj+ecCAADIFEAAJA0CYwOMtBGDXYKFGBDkABgY+WDYJGv37gwMwFVSB/OERTJsAjYAhSkikSqDqPRjurggbcAaoyZjVKBm/EwwhBYqNyR5sMA2QQJndq98mRJMpBrPPjfwgADIBAFABMHBD+czJkMgB1N5gK5JZCVlUqkAAMtAAA7rQAETBtIH2CI5nWWgB9pEvJ1YDg24B6Sya24t/WL/EXFz+M3PRieWISghh+BwAEACUg/gCKTAY7iK1eEfBa/ygAIQWZggACgIUUAcAG/ncRSl17rDgHi9GgABAEAMHde4EDbeCHwQ+CHwQzWpA9wQ+CHwQ+CGWYMaBmdgh8EN93wQ+CHwQ+CHwQ+CHwQ/uQAgECmXQcDZAAAACwUGbIHrBBC0XA4gAg6AXDiACDoBcOIAIOgFw4gAg6AQAAQOQABAdiAACEIAAINEDgjE3MOCMTcwPDJcw8Mlz//////////////w24AHowBB1lExqkU1rtHY/BwQYyA9bgjF7VlkAGwNnQRC/6vIDAe5hKWEAEoquACvGyINVEUOGAmPTFM4AU3qQ1IA/mbxlGOXqRwSDbgARmbXTTS/+B49IWv5RiHcuKYDELZAJQIM9RVfwNkEMF9VWDYlx4vYAc9Ly+Dz0sy3hKCGFo8vHheOFMSLbGcjWLwY0uBiuXYSghgmg0IEQY8AC8eABeVCDIMrkJBd1CZmt7zMaO97ISCblUf61+EjuVQEjuVQEjuVQEjuVQEg24GpJMg90ij+KOKP6NYNncw6R3MXinCQbcAAvk9tCiv3+g9sSPbCzvwZZg9sFnwBa0gRz9qKIPylAx0uVjVyjsAIbVvkP4JQQhAOxyAC+VAgyDAGlAznPWoP5UCDIMqBBkGeJL/Fxg1Vf/Av4SghBANlQIMgw6EDINwOCBhbIBNEqpWoggMAKyBLwgasH5FeEGQfkgBcMs4SsAcpGmAUrxwSGCREY0CJlv0WhRQXpeoGjQEwShi3uZ1RA7iuQZ4CeCu4QuW9WqQAA3ITb7okNuPATIFTOk554Oeecs74Oe+DnlnLPo+aG73Qe/5qEg24AmhpXerChsU3A/DuNYD87ggTMu1eyaQ8mUCtC/QaWrBc2OeYQABsBAACAOgoBgr48wEEshKy8qkAAMtH5pAhgMHiSTGtoD4kujCQbcS7NBpsXxDsqF38OxXDrGJw8hAbzCu5vvklHGEoIYWg8AC/wBFJgMK51avIBAYIZbPzyZ/BD4IaucEPgh8EPgh8EPgh8EPgh8EPgh8EPgh8EPghl40AA/BD+tq6y+uq6yvgiw3BEPK+sr6yvrKBbgAAAAhlBm0B6wLEbB4vI8XkDiACBUGHEAECoMeLyPF5DiACBUGHEAECoMQAAQIQABBPiAACB8AAIYGDQBAHuSoAgD3IHAAWAAEBC5DgALAACAhc//////////////4HmFo9fHr7cHbLOs8VC/CUEME0eL48Xjy8OA4i6chKCGrEDZBDBHAdQKRKS0P7gJQQwTSwbGDofoznFLK7MMhKCGFoHRARBjwALxwgTpjhBuzogW+LxeEgm6hM/vfve4zAgeBA8CBIE3Bh6GY3ML7mJcxPjPMdx24zqmZjvCR3hI7wkG3A80mPB7ooo18VqK4glGODi3wcW+M3JS7gSDbgAJNkk2Zimvn/6qLgC1cIpZ1Cn+DbGh4Cq5B4JQQggC0GhBEDlA4QTuUFQgiBygcgBdyhn4v4uiCUEIEAbKhBkGDsEDILEOC5DiTFQ1QD4hCBkGVCDINeXlAEH5MBWpvNmpuBIe4cokwjHMxMxvCQbcAFzTTWmGx+/qsrIHjYjw2BQuysh4bGPDYhAAIwECIxwA6B3Hse48m3SAADKgACARchDk0prgSDbhHya9lZQevZaIUDUUDUBBnRwZdzx64EoIYWg4QE59TwOCAQKZfoAfioX4IfBDLu1wQ+CGerba/wQ+CHwQz1bbX+CHwQ+CGerba/wQ+CHwQz1bbX+CHwQ+CGerba/wQ/uAHiZlgIZ763eQBAcJZfnqkk234R8C1AAAAHJQZtgesEMLQOiCIMOiCIMqQCQY8AvXxeL///////////////h+PALypAJB8DAc0nLmvi/CXBNLgvHhdx4L4egTHFzFEJeBsghgjgsjky0D7lTghwjwTSwACM/B0D7+OC+QHzoUPBBC0DgQU1BhwgpqDDkAMHQYDmhnOetXgWC4RIABAIBwTi3MB22bYwvvA4ABQAwMuYAUZD0cgxyvQEBhGCGJgdEGQWOQAL44QTtjhBPRBINuOkzmYdzH2OZjOxX1rGYEDwIHgQJAm5FHrywthWsZ5g25aLrQ6HZTQodDr+8b5Qm8F/8V/CQTcbQf4v/CR3YwkG3AcUxJnxvp40xfFcVmiXg27kOodyRiFdwJBtwCxfaXTxX8V31i4tT4p+HlPAkG3DamGY/3v8dmzQmhu4SHuM0Wh0Pwkd0IJBtwHEXiZ4Me4SA3Cj3CQG5rKPcJAbhR7hIDcERfBsdyVh3FBiVyUSuBINuAMzXzE++fvrDgRvcWOWGiFDARBfmFTcls2JRWBKCGFoPAX/gDdgII8mtXr8u/wQzTEExB8EPgh8EPgh8EPgh8EPgh8EPgh8EPgh8EPgh8EPgh/cgAgOEsmgSA/13Qj4FqAAAA0VBm4BqwIIEEOwaQABAUQFSAEgKkAAQFkBUgBIJzKkAAQFkBUgBICpAAEBZAVIAJBxCF8Xi///////////////wIAJo8AAQGOVIAJAVIAAgMICpAAkHgOQDg0geZMshUlwICvCIbxAABHqCFwRG5mtaqoOQGZDhHiSLjkBmRQAHUDQoHCnbbWLwn4GuBJgjgOguDyB8DyLQABAF46A+AIuBBwjwpHQABAH54ABPjoAAgB8cQH7bw4QpbIPDKy6n/xrA7n4ckUQHAAOcAAQFQA6JAHoIxzgCggsbDbUAiBLcAfPKDjbgDOGgPcTfBHgpgwQDQO5QQBoK0JUxxAUEANAWsoIA0Ba3+GoB8GK1YYWLGg21B/QFwJxb9gd+EClRJIPi8CB4ED4b4AXRE2YCceqwxNrtfXzwhMiwRCvZ4AQ1lQMg6F95A3lUkxd/vf6/XwIOL9YECQfia6/1wIOL8wTcqnywlh8sJYcCDhE753hEe5mF+tZ3hEe9fodDneETvwIOETvwIIRDGfPAGnDKQlavX+Ev/QInfgQYdvf2AN7CKQ9avb3t+JGvL4RO+G3AARDQ6iqWi6Szgwz+ALpoMxe1Di9AiHNtXh6EQhQFHvG2oQIFYHAEpSgIOeNtRYQKwEAARCGFhAAFAUe0hgJH1oaiGDwCEMgs+CIDeIAlaNBobNEAI5ZSnghB1G6/rq8nXq6vZ3w24ACACBaXY1zfBZvFVH/15YABUAAQAmODiAmOhg4ABUAAQAmBxATAC0IhDgOPeNtRYgJgIFgQ0ImAGDQXEBsgX2nkv9XoCoJa5DPxxeczbgvYJ+JxBzGer0BcPRjlJjANnUYI69J176v9X+r/V878CCCAL/ByeAO8uHTwoKEIgPBbI17HX3/e1+ftjK79fW+r316ur/Xq69XXr69ncrGBBCCpWEYIAiCmDARUA6C/EgAFuIAAOKMBPBCNfWryIADAVkR9rZsiIvDMDgEAoBiAOACAGpB4VUEAASBDCgA82JBCeL69/wA8MV2cChTfXv/gh8EPgh8EPgh8EPgh8EPgh8EPgh8EPgh8EPgh8EP4Z33/pJNt/6/+v/r++v/r3176/+vfXvr/699e+v/r3178C1AAAAFiQZugavCFJOnTprb+JzKZlMymZSEeH4t9JJM8kkpy+su/BXffRLYErHxQjxt4zKViDlaJYgHkNPhPbdoJ/dbL+rZv4fu7vnsk2Nar67UI886fGJaiX4GzhTpJaSSELVCptkUR/mj6DXoMI8behJ6pjbbvItFJ7yIqs37IflvNeCCvQb/YNJq/0IdQLwxiu0fhHhTWbt1u/RW7diYjKNMvXozvqvl86gnBVTp2JWJNiViVoSDfWv1rLCWFXvZWS+J5VC1qEQ29Doc0JoUOh+q/1CQ9y9fodDCR3N/du3CIbf5oOaH5oOaGv3v7t24RO6F7tn7cIIndC8LT9T8tdNumFFIwNGjwiE3Qv/ywlg/ghtoT2IRCbofmhJoT9cJBN/mgpofmgpoT7n8/QhnWvq0h3+CahzLxxM6xMsi6I6tEnf4Jrl6zLrc71Ce6EeG4agVvygOL8c7hTrU3Wr61fWr61AtwAAACwEGbwFrBDBNBpAEgypAEgjKkASCMcgC+ib69//////////////BNHIF2IqQCQfA8eZUkkJcE0eC+PAvHgXc4A+0UIJ+BrghgjgxAaBehDoH9jghwjwTR0H5KACgxrj7+gt+HKB4HAAMgACAQANZQFPgLmPbOAFfWPsn2gjwUwdAPx0A/WsoIBoMoIBoMR7whF4k9f4cTicSeuB/NQY3qdngjw7c4XGMNp+G+AD9PM0SGRf/uGX3cvtyAL/Etio1HkH5KplfdDdDnczAvnjZO47LG3SGAAE7/c9xoErV85AdZfgggA5ceQldtXgQTA5AlvDQqaaJT1eA0xim9IN4XLJubef1RgACAUuygACB7QAAgAvl608EIDCqsEbKE+N2PV6xhjLWcogcYWJHq9/hABOxwgAC4I1i4EFCMnUBEFQ/oQCvl8Gc7r/BR/NhQwkF7aFJKLLxBpi88yKUTAfPewgCkLZBsAIhJQ0tPPlJHx7AyBloHotGokX2HmsQECs4F+JG13vHq9XQABADQAoOoBYnc6vWYYybCPEnOPePV4EQhUYWssSm2uerx4EM7CASivCAAKAg54G8RDtHpJIvdqnJh/fukwxegK3xxv3yvIHEKjv+3yHcaTE7hlTBnPRFr/zXwZngZ98p3TneETunC79X9a/dCJ3TwQ4RO6eCHCJ3TwQ4RO6cNuBH7S6v7/WsWMVLK8D13OB3rgRO6eCEIwid08EIMQQeAnhEKetW2syYZTlDbVIIAMCIGNAcAQ19Z/6eAi9dn+ACNkNuCJ3ThtwAE02tNAIeapi0VF8HQEwiosHQEw46AmBFQTXeE85ubw9Kk7gRO6eCEIHsw3JT/hE7p4IcI8TB0Af8DwAMCsl4t/UEPgh8EPgh8EPgh8EPgh8EPgh8EPgh8EPgh8EPgh/cARSYM5hK1eQCDCmWTr0DRAAABrkGb4GrBDDsGwJXYPBfm2hDwLoQ8F8TZF//ljaD//////////////4KZwAHiagmAAIIJp0+CoCaW0APrMQjwVy4FzKB4F8eAuoegCyjWLk6JqHvV+ijFzCIQU5JWEwvwNcEMMQYgNAT0IdB+g+23kAR/L3wQ1TPBDhDjY6B+yiAaB/t1IQDVo6vu7TBoDj9xVNerQjwTQYIAGgKOgKIAGgapKCADQZQQAaDRBcZhHwj8LY2AEfAC2cjjFuMV1CpvBKXbPACSd4lRxeQNuHZpm7/e/3/ZWXr0X174XoZQWcMYTDAX9JLlIsTMDVQUhAqNAyiEHYID8Ihb0450MUGNgk6/x/9H4OQ7ofr0X/gi5bxSndDCR3Qwkd0P16ETuh+vQidxigSO4+g8EWt+hE7oaggwgd0OG3OoLBSwlPlhP+7ysbG4jhOtariTuhw24OzNFRc7FFRd6+y1Gde+ryHdDwQ4jq8Sd0PBDJTJPCPBXBxAHyqfgCKTBisdWr+VdGtQQ+CHwQ+CHwQ+CHwQ+CHwQ+CHwQ+CHwQ+CHwQ+CH9yAQIOZfJ1q+tX1q+tX1qBcgAAAKoQZoAWsEMFMSAPkcQfltNueAD8PwaDOD//////////////8PyiGgx0fMxwHnFJ41VQIify6kEuCu8AfOAPU4D8mAsTnMXIpJJCngaoIYI4MQaBchDoP8Y4IfBDhDgrjofkoAoMPM2Xz41/IS4UgwQA0GUQAaCunTKIAaDKCAGg5lNM0GBWMwIHgQPAgBnAD4M5ygECiRQNtX0kJnLvOszwA59rle9/0OQNudXvex2P7HY1vcVne73jP89U5b4PRH57EYzfl/yBtx2j3/r9f1jD8wXdN4r+K4r+8JC3YmhIW7E8JBd2L/xf7QkF3MpeK/v/eEhblUtCQXcykVxX9/71hAK4CGGQoD1qkEAw7JuInKStTeiZiVq/ziEZQdKnwBJ1uDSenbOpn8IC3KpauCC8BCmRDrU3yIzrVwOAARAAQBqBuSMjrU/DMDcCjcw6BZigcW00G2qEAlcgEFN9DbUEAnIQIhFXABWCq4VZhhJ/u8BuLKLixFE1op/v0ZQwAUxzcRBJbjPd7R5BLCA+sLqigIC3MpeuNwFQJFKBRTTobaocASoUCCWnQ21B+QAARAAYBSDkAAEwAGAaggKgSOUCjGnQ21AKhIzgcW04G2r4QCV3AwppwNtXhOAAICmEAAEAvxARyHiOvoOq2wKvxGmlEC/d4BUeaCK7BxlbQLwBGsxp8sF1zwgEwqi2CEHVSgbQ5gR7zvV4BcqZkTAQFy9HSgGCw9hTxDf1QQC7lUvf+/2rCA3eASMDlSsAuy/GDOREPLCs2Q6UCgkyHnxACZMkmQeFQ5f2pakFxOcr7X9RaHFg/GmTqhAW5lL1yRvXIh7whwtBxAHyqOAIpMGKpVavIEAICMvIvfir7gh8EPgh8EPgh8EPgh8EPgh8EPgh8EPgh8EPgh/gbIAAALLQZogWsEIRD8HEAfdyqA1dyiANYQ4gB85DArmNb73ZcEH1f/////////////CkdAH8cQB905WPBUHRKlox663hHwipBOghwTS4XZzgD2ceC8i2iV0TV1qEOI6kWkeUiUjxCwj4FqCGCnlIJSDlIJSCKoaFT4P0VmCGCrlIJSDlIJSCMpP0ywQ4Q4WngPc8AH1lBNkrbfRr94/Lr81ppr4IaHQ1IHCHDsSAD5KAAoOm8lAAUGSgCg0QX+2N/qZ77mjMpi+HPGrqm0cKMpyv/Ddh2Bgh9Npf4zeyD3PVD/sdj8TblUyqZVMXz2jr/9sbfSuv/C+tAv+XKhFw6pdnwg7wZcQ+ew+wvs/IE3HQA7u/3Tf8NuDsyt/rf/07E7GyssEOEDuZeLcPqZrHvVFRfCATcq/3/vThdxFf/F/Wss7wgE3FRX7/94XcHdf9G/o9PWd4QO4ZpkLuD0x97/flneEDuZeF3/3xf31wQ4QCblX+te9usLv/qK4r9ZcEMum3CATdOtfrF78W/XBCCANQE5ExT1q4vpg9wJ9Rz4+EAm79/v34Xf9z0v+8uCGF7wEKZEOtQ3YhK9am5IyOtTRjAaobmHQLMcDi3HA21QgF3IBhTew21JjaYwALyJg0OBsLOuS36FFDZABbZCUgPrjaoh+CATd7/e/8W/XBDC/i8DgAEQACAKQSAqEjOBxbTgbaugEOAJXcDCnHA21eDgAFgcBgACIYgfwFXURp5BAv+9CwiSY8+3Ca55q1YNMcwI953+vQWePB4YU+DjvggE3e97/f4Xf9ar61lwQhAEFgRsu95YBYWQ6UCgpkPPhCJUYVSQVEQxX2v/wgE3L+vf6d4XeL///XBCICUb11XMvwhBDC0HQPoXA4IMKZf5yXW+KtvcEPgh8EPgh8EPgh8EPgh8EPgh8EPgh8EPgh8EP7gCFmgRji1q8ggAwOywNkAAAAYxBmkBqwQwUwcEP6yggAfK0FaUoIAaDFBADQYoy+sm+S9/////////////8E0sQB+CKCANB8RIJOi9+L8ZFR8bbfVzHvV/4/gpjv5LWtairiQkVJ3zcqhiCPriMpG5SO4GqCGCiDENlZY5lDexwQ+CGaPJnooQ4UijcUZVDvcHfID7SBri+rHwRz/YMywKwIHgQJeXu/gon6Fb1Ky0X/rB4EALYAcAR3tDCxYwG2r10zhAujqAOvG9e9/1wAcv18mc/5A24NcET6HQ97off9jsfgkrX3xPTd7xXVOJvCXE3ve8JD3r9jsa61CB3Nwkdy8JHeEjvCR3N1gwhAJuX+v/WsIh7OQUouDQCFZQ8DCoJYABCLojFReAH3panefwUcbgbmYovaCATcy/v/frnxeIYsxbv2E49IX1r6tIE3Kv73/vWEASYHcso99wfq0Sd65MD+zZYQ5dQA9ZoCojV1r/BFOyOJHgqCHwQ+CHwQ+CHwQ+CHwQ+CHwQ+CHwQ+CHwQ+CH9yACBR7LgNAwNkAAAICQZpgasEIEkLQOAQA4C0EEHAIAcBaCCDgEAOAtBBBwCAHAagghAJIgABEPA4TCXMOEwlzA6Me5IdMB3J9a//////////////AkB2HACAFAJQHKgOAEAKASgLba4QRlKetXkifoYVEIIFSnDhIJcwGlFSbdYdGe5njXwJB6rbb/gSPAkPWo/hae+jPeznj8ogGqvCh/NBpYvrnIR8DZBDBRBgCrIlWZeXyK1orMEPghq4wQ4/gvt24PyCD8ggOvCId61eA0a8CEvTbf/qw8mqKEONkBDmoMOEOegtsyk6miDhDnoLDhDnoLeponqXKRAmiCHICYa5hwmEuYNBLckqCW5Pq8Ihty1/odD/lYVkLIaOxv6shENuRn73++v73XWoQDbnZ/v97r9jsfrqETuHKYEjuG1M9dQidyMrrUIBtwHySZr9a+ohKIuMXMk3N54fXUIhtwD50TuQ6HmYmYe/yEXKbLyQrrXBBjwu7f3v97Gz66x7l752J2PCB3Y0dzcIHc7PrrghxfXvq8gbcByJMmLX61+iLkhZCP3Nfc11qfq8SG3AQjXx7A9ff3f3RcuDrhuSH11CPDsDkAYdB+dRgCFmgIRq61eQBAo9lgARfAfSIkLPf8EW2zb+4IfBD4IfBD4IfBD4IfBD4IfBD4IfBD4IfBD4If5evX16+vX16+vQLcAAAA/tBmoBqwQiQ/FAAEAaPpgUAAQBr1AgAAQCOmFMLAAEAitQXbSBAABQGBwABAbAAEAEBxAJjHBCMQcAIADsWHADAABABuX4u3Rlub2Ly5VBlH5q1////////////xAdhYAAQDFywABAEtm7daEAhEbIAStXoAAE3AAIUAC6w5wDoAEDBAuAAcBIDrfQAJ3X1ehWpXBj+3hgABCUAAQAcmDhMhSko6QPX96/iPEeIjw26oLYIj/PCeHFC54CQ7YkFEBeIRQjkUIsXueL78FFNiOVoPd9ffIvCHDMBwszd5F0B34BU7XK5XK6feHA2QQwtGFwcFyN2QCEHoH8OCEPQYQABEKQQEAAQBBLOBgYAZZGADQ5HZyOR1+8gAQOBtzwQzXb8EMtg51HBDj+FocEIagw4IQ1BhxAIFQYDexOwCVqOb5bJhYABAYQAAQDQAewEA1zAPTkRJAAIXdQcAQOBtzAHobI78LH4Bo7r986hxeJ8SelX4NLM2JShtzQB5kwFLDWFHDWH3UcNYUcNYvcsQAFYAcUOQU7mHKdz8tNvF89caKoppc6ID/MnmvC9iD0+9gJ6QNIZ9uN0Ntlow4Y4+Uc6lNFNi6rLaZ3xIZ4AOsBjvCihopCDu86Q78hT3+nNn8UZAm/1r9axnPWkeJrxHfwrKFddpVN3DedEex/MZBn2uStn/nr+wncfId4SO8JHeEjvCR3hINuDpMCFicsfaxax8QLUUEooCUTfHAWfCQbccTDf/wOCrd+7/e+G9YHEAQIyAaBu8Hd/DSZY8NuAnAAEAABJmwogBFgAEcSAAR7flgAEcUAAj+iAAj/BwuxDhpbmEg24ACRNGRMvIyN/+DoAjP05/gTDOnnvCIMN7gJpDdq1f4EoTIAEirSMB35a9oAbVWwf8BA2ltw8NuAPAY5LyXkmCPvcP39WoOAAUAAEAViaeAuGUhAGHvm2rlxCIUgCjnzbVz4EAAGwOIAAeASAB6WAB28FGPaS//ewXKgAcCogIIeT/71guAa2AFJggtXcUfb3uAAEhkj2fwSpb2G3AATSbckAgtzTm/dgAbk8AAhDtxIAGFRuBIkye8hR3JojagrrX1aQNuZEQMmAF297il+9xAABAPAB4gAJ5gAEsAA6zyAAJwAFuZgUnWZAUtzcEMO4OlkBQaShZWm41aUWuPz4QgCUMgCJoGKpSe8A2CUPsyvmE5hv/5urRI9wcT4AoDeBxVc+8JcbEAAHM6rVQHDQKPlmgAB7u3dwgXdwgAEK94IRDte0p+ALKIgAGBxfauBfXWKoIfBDV+CHwQ+CHwQ+CHwQ+CHwQ+CHwQ+CHwQ/uAIpMGOx1avIBAwxll61fWr61fWr61AtwAAAAp9BmqBqwQxtSdZjdM6g2F/A+kxtUtAdFhHG4S1mBC1dffRNguiD3Pn97ctfBLN9VKootiZ8mtf///////////8LRW/mIpUUP/BgbL6+jGdPyW0v3Vf1dH8KZVVN7vVVUnru9l89fkYfH8MwODIy9kFSR0DhNvioXA2QQwzohVNARXBoTy/ikL4IfBD4Icf1oj1wS24+g232RWBAVKHAgHsBmaaW/8CAXADwANGc4e6XM36vk4WuNoHVoHVoHVoEZ+WFsK6siusX1c+GZQ+AFgCUKlPpQhAj1/wBxSUmQfIPcHdSzY7H8Z5jvCR3hI7wkd4SHvu5YIu4S43MzCtMiVeVZMbolMdbRlkxlWTGK2biu47cLG2EIJcNz4fA4ObUoGxrH9RiJ/VPCOJDNQ1AeG3F6zHU5EIogL/TOL+EuFru+A4CzXgbNkiBrPSA1IRZ/CrL3ghD8np06cBPITvWr/AgBGjIZP8onghZNA/jfgcAAoAAIAoBiDbtqAoAlIQBAl8gG2r4EIhSAKMdJBtq9tcGAAEAEDwcAAgCQAHLUCzOwWKY5Jb4nfKAALwfoGNIJt70XmABbcAFECCU8x/r2I7uQAAEqNCRq/+X3UX2EG3Aj9pNQ6HTRaHQ0ToqkfI/+CGHqyfZACJSVAAjUlQAjUSxFQJ8UcVw4OlyfeK699Xk42NEEC5HCyeqZFXTcOnJjUO2rlsOnJjPV8RG7OtMmIqM4GHP8c9d8bQ0RGPBPLV0lWCMVp3v4QAIjWMAD0FVC7KUOJRh+f2Z81m6vE8ENU1ogKXwzVqbr6zVj+CaKBigeMtVLUBdTBisdWrwHEBx8Ed9Uh9cqgh8EPgh8EPgh8EPgh8EPgh8EPgh8EPgh8EP7kAgQYy+Tr03Xr69fXoFyAAAAnxBmsBqwQwrVeD5eLEBCyR6WA63XO7/jctHorg/FZezb5ffwpKZBlMgd+VQUyDKZBPKo3fVv///////////+Nu6q7dxcXE8P4T1yoa9BEn2gdGZhClyGjEvJl8ZQe/Yo+ev8NzRO8dwTZlVVVV3wpP7eXy9u+X0m+Jp2fHThDhnuK068VaBYGyCGNisVoGgejFUSjKeGQk/ItaStxPQheM/BD4IfBDj+Cy8Ubmoah5IJ5ILeiGWkqzQgC+/Mo8ldsZy4gEjk4n3d3d11Yi+rH3hUwnk6vCXV669CHV4S6vXXUIdXhLrlXXoQDbgwbHzPmf6uernjig94OPCDAfcg4k+BwSW4EsIggwYWIDLeAwEqakO+G57houafr/oIUjXXvgkxr2dR/Ct7wPsAOD0e3gDmdn5/iOGQnZ/bCB1PiB9d6/11CPBBubOA4KIvFwNCrFpA0oSi4yQGFOeZ8jpbDGM6YSHhUXrr3gSY+CCF5AII5AHCFLQBwQzkAcIU1AHBBGIA4QpqAOCGcgDkAYVABIAAgEgBAcAAQKAABALwwQAHBGpCUAQPMsj7wOAEIBtyHACIB9zwtz7ifxPyOrnYmr7n0f9cL4NAAiUlQAI1I4ARu8YCwJJwq3LXwdJ8HdgV1r6tJBDG4TEy3dJbJQUyELphkDMihkwwY751FDJhIfsBCCcw3ABFFMyZBwjv2CFuS6FGhjvvB5UseNNe/hv5uib/ibGgdc8BcIAPRRmRCRRV/+7/m6tE886tFa3P+CPzeyEeG4AikwYrGVq8gQAQDMtfQQYve8kEPgh8ENWcEPgh8EPgh8EPgh8EPgh8EPgh8EP8nWputX1q+tQLkAAAAN7QZrgasEIYG8uFzLjr/L/ev9/iRpo7TaurqTYuDE9Qhe6vPDGn67/t8eMsgN3z/jKsasbq6qxqxvr6/////////////42klpC1dpraGWjvH5ko8jjWvllXi9HwwTbb8MeGPDEcPcLUwIDYwHge+5D33I5crLnh/V2MtKMVt6qI9LHLH/8Vl5FFGhOsIcK93jjNKtftrWX89fE7+vfn/CPgWoIY27gfzQH80RLofzQCU+KkEq1OSMySrVytZ4iP9MNLZS3ghqnOCHwQ1YYIcRgQPAgS8PSYzPL948+xKW/FbY2DA+G+HWhae7+Ti+P6uPVsNuAAhMI1jW+3/7+Up8ARAxWMDC5c21f38AcrDKTtX+chEvADPrfId7Vc0D4AJ696KYz3gYyOQyK5lIc8R6wIAWwOswTMJymADxEEQhCE+m3ef/qBmJqegoA+6ZB75OeNbCzckzcuhNDw5z+JUYiPTEemPxfrhnADgAirWGFiRgNtSL0AIVUP4A5c6Wt/8g3msW4+mWhE/ndV1lHn/niVQcpiDlMf9ZQgf+eJWQcpiDlMfCJ/54lZBymIOUx/1l8Tz+f8ef+eSg5JiB+rn66yjz/wtxbi3FupfF/+soQDeAIEjMiMjam/8BIWGchtq/gF6CKXtRkVYb4kriwAxe7sfghtW+h7wzQcUuovLS/1zwVe0UTY4rH4YGwZgcgDBWWwICHSlPWgZ/1XVRmM/9ZZPYuNLun8NuJVN7u7ve7u7snfO/CooRggDI2qqsA4LgxQIrBDhAIIxBAha0NhyNZy3qFjT7qkAhmIIvc/OIBDMQAwAB0ASHAAECAAAQBw0ADUArAC95Yo9AUAKsgCWGXdQABAEAxQyiAloAAgAeqLcstq4IpPJ8o/hf4cQCMghwQikChwQikEOIAiIBAABABAaIAAIEgAAgD3mIagKgK1MyAAgFJ8YcBUAAQArkOAKgACAJcj3HWp9he6HoNuPpgsJYfLCWH2zQmhLCWArr31eSCGNqEwRlu4uMKZAZh+KhksTMXwJFxOSjsn7t2ggRNZoAE2ZMjJkGxHwCmEpPSlEkIP8H4wQ1mdN0fDfEdoi/9zEtHUEObq8SGeMd//9/ghi/4ifiYQ4I4HEAEAjKA4uaSCHwQ+CHwQ+CHwQ+CHwQ+CHwQ+CHwQ+CHwQ/uAIWaAhGtrV5AQFGsqgNkAAADYUGbAFpQIP/xVU1TWv///////////8EMRd93/LusIi+eMYSPwNh/gQa5cCD4EHwIOIxPiT0q/B0jQ0eSn/hjWAHABOQgBgkiWDbUL30AANcVNhYDUt+m+GtYAegjHOAUIIFQ21JQgED6v+2/ABp9TfE9zD4DEc+Djh6HAAWNSjIZccH/UeeHbQgkQRd3zhG9s/f7Dxm5cj+BHSG+sdL9mH9oQOj6J5cSFsaflSWG/ZwKsY9n2fgzxOtH9P9ty8h+M55bgOwb0/xb0fzzpKvPMb/lwL1/D+1sVf4oCSnR/xAZgCFB77Y7H3/ziAH8wlQvl8JeEvCXhLwl4S8JYQBBxH8AU2N2JWodbE7FrUTP9fwEL20PTe8EAf1gwZAnHgF4iO6CR4AAgFWiMpT1q9Fpx3DPAGfxZgv6DurHhCEuFoHEAIHZALXIIpTVqAVAkZwOLa+G2oMOhIIk8EtTDbUFomZwKLaeDbUHAXdwY4Z4NtUIBd3Awpx4NtQQABAMPIhAAjhBAADCEeym7jawkN0AAcjAB5GJnbm8AE2JbCoLTxV/eHgAGaoBMEyUtL3hgOQBybLhvnIAE1aAtPrC8HVkAPItP4DbrZDur/D8gAAiAAwDEBAABMABgGIPA4ABMABgGIA4ABEAAgDEACoEjFA4tpwNtQdCRnA4tp4NtX2xMIAkAAcDQgVABgYFgQHhQJhsj1Nu8FgR3QJYDY9unu14eCBpSFWa0bavBYGZlHoCocohu1/q6g24ALAxnuY1gcV6uofv6v1YFFPJBwACQAB2C/wBQBKxAMLfNtR5h6ERyAUU6baj8CgACgKBIABkGgAeiwAf4UwxEEE+0HgAE4OoQxHUEf1AF7gAphCyfl/e0QAAQE88t6EHUO668IjYcAXdwIKacDbVCASu4GFNPBtqDgC7uBDDhAbaiZCZK0kPKgnytMo4rHKeFCAAJhyywgAiMUAoOlBag1sC59ijA8U2NY1gCRIQN6mXZ3cUU/+3hyquOBBDAXmozahlsj/Qsmf6OftQvBiTIrJkFaOKAwWsUmvrqrd4+FrclH++I8vGZd/HQIMsAQs4IRba1cQAAAgLwBCzQIxxa1FgQfAg+BB8CD4EHwIPgQfAg+BB8CD4EHwIPgQf3A4QcWyICDi2UBwGBsgAAAGmQZsgWlz3aw/fY/wT2xujdc/tt9d0IcP31mrso8yzgmeh3k4qTYbDcPHMXvoCXBB1U3rVcfY1Etr0TXwqSId08Fta8bzvD4nN392/LvPAfwzh8S3tsFAGLd0f8//wNnC2yQMaIax08aAjb6+qf2U4QhDS/AZ/5bq8XzzJ/MaGy6Nw/p07wg4FhHINZwAbszvAm9bsxxqKHFHUCQ8la/N1X1RbEc9j+EfGfqo/PX/19yvueCG2VSVTBeiufl/BC0M4+uGYdEJgqAoDS1Cay/o+E2DVPl56/X3K+54I9CN694R56/X3K+5Hu6/R6P6yhDhfTp06a/e+d87uER7mXWx2P4TcvodD+h0PphE74TcP0z7/9/NJ+EB717L53Fj9ZQhwRQ/W9zE1ncoYH1JQhw1WdaRMrzJKUQsSPhNwfKfrXvbqEeF9OnTpqhlYQ2sfCbmYrX6xNi+Eee4OGAtYSax8Juh9/v3/BFtsm5fViP4V009OmmFA1dzB/CblYv97/wu/73++0Id8wwpQm63vf7+us4H8FUO++ZTSt27sJv/v9O4S5a1gfIAAAALWQZtAWlBDPX5rr//4njur3zY6MPj/CXPX4fQ3g8DZBDV+CHwQ+CHEH8f1/HZebhjagBwATkIAYLKlg21JtKAAFQABAIAHQjMRGVQYpFApaQY1NgFVTeobx8jTC8InvsMOM9R/wieodX/ma5H/4Rl4agKACcpQDBRIoG2r/ipgLyFvtH4D6Skg311cifUSEAzADhUGwt+i6oEJgAaQwFZhfGnn4MVttmerwYDoVJAB+pLiL/+/8AE47SvrT3G/5fXXUIeEh71mfM/wkd66yhA7wkd4Sghnr/GrgS4Y4BiMrEqqsAgWaIYbavYfwBibuzdZW5eEAvWb4HQEGQfRTh+reR8CXdnh/hLh3AELkEUpq1AB0CQjgcW08G2qEAu7AYU26G2oPpMM5DVq94UGQ4lavDoSMUCi3Hg21AyDgCV3Awpp4NtWQQEIAiLSEAnZAAXIYuJOokyC333BCAIjmifPoOrwAV0CVg8sJkh980nln5+hAJxVFNEIOoEN8OYCbCWhqwAlZuf4OPIfwtIAAJgAMAxB8DgAEQACAMQYCoEjFA4tp4NtXhSAAYHCWACBgXEGyDvLNeJ9XvAVC9UzPw4TW8y4YL2EvEQUQ471e1eAuPRCu2CCpUkQBDYbcByMjpj3w6rpxYe+ILEQWERsz5n+P42HAF3cDCmHA21eHASq4GcKYDbUHhIjAckWnWoHBbJ7+yUylBJkeynAbYhABFQRKsGAdcnH8erndfsC/QiNikcXdrh9BYARCKGrYFStx4/27P3BCEBWNLGM+QIuoNxKH8EMO+0j2hKCCGoHQEMgDkAw6DwvYQAEK55TIAgw8cfSee/ACdJERAAwHP9Xv4IIJY98UAAnxQADMUAAz06wQREUAA3EgAE/gqCyQTgAFkH+FZYABiBwIDgMQcOACAJCD4QOfBACEaUALtGsWeCwbe6sQnXv8Aa9GLhvBa2jQACAwzr3+B6gAAACT0GbYFpDfRqsEM3TS////////////6gh11eEPCXgbIIfBD4IfBD4Ic+BA8CArPAgSwQQvA5AMMgDiAQKgDkAwRAHEAg6APAMEQBxAIFQAxMjBTIeMAQRICEgABAFAMFYAAgRAACAHA5AMHuKAdlDc8QevqgdAAEBY1yAFpwH4YwAy50p/3qyK6sVw3aAA9mAKIMc5MEtLebyvkNwLunhDKHFAAQRSEcpClIUpCFJ4DgAnKUAwUSNtX+/+K0AuLdv7eOaUlm/6ph9ZRPrhnADgCUpQDBBAsG2r6KADsxs/AzpyWt/8p1hI/XXoQP111CB+uvQgfrrqED9dehA/CQcUACI40aSuqMv/+AkWNiG2osQCMlQB+G+PoIBCyP6F11UEGODigAYvXdu/zbf4EyIpO1f//n8y7r9vrr33x/GP4XwOIBAAGQQFrbCIwAErUmeAAIAmKAAIAkQAAQAQGgSAAIFQAAgFoGAwA2AFZSoBALcgBx6Ay0AAQCje5IBHAKuQ27VH/3++v/4P699WI/hfEgACAJ4HQgRAxB0IEQMQOwQZAQAA6AkCQABAgAAEAODoFQCrkDEFbAFohgVBPqAAIA2ekAJQABAAuYIf16EOHvHQKDDVAQSsKp5EIEIgqBFMCCGlKgAREAgABoDxAABAaAAPqAAFRDq8hwAC4xlyB8GegAEtSHBKAAS5/176vHhRQxlh3vp//rr0fBDBHA4QUSyYt++r31Y4IfBD4IfBD4IfBD4IfBD4IfBD4IfBD4If3AEUmDOYStXkAgQQyiA2QAAAlxBm4BacEP6u///////////+jvCR/6tCJ+BsP8EPgh8EPghx3C+ByAYRBDkAwiAqkOQGGQAgfWdA/OBmclahAWhcAEDwOkDuQHdrQbfQOABAoRcgCnCq8gXs067w3j4AAB15+l33K6uBXWKXrL8Z1OYm5Nu3CZKGVi1j5WJWPhENuDGTHrX61qZ8z/zuJWAjBDhL/NttYTcqn19nRa53jx7pr0Xs7x53TZ3j4IasHBDj/fDOrQHQEGZP8A/5Xy+PwjCWCELarAEV4ZCHrV5ABAOGIMICQpQgBOYmAD0gA/RzjFEN9XvQ4AH6ABSUYWzuaPrvcEELQDkDDhnazDgAgCcgrDgAgGxBIcAEA3IMQAA2AsQAAQIAABAEg0AQHuZUAQHuYAhg22wAAgBZeQCwAAgAXMeG3AByZ3dkdwU3/8SuAuGVigYWwbavD0IjlAopg21f+/gCgCVigYWwbav8KgiAWAqIAAIi89rOQdXgSG7MjE+Ur+P/vEAARPY5qUHV0gFJF96zsTbKG+FocAEA2IMOACAbEGHABANiDDgAgCcgqEAAOgLBwABAeAAEAIKgCA9zKgCB7mNAWAAEAAIcxokAAIDhvMdzYt+CGFvyxjHqv/aLl8O1iH11bghh6WwA4sZRhDjAbapaUKwFy0kIUORK1Ihk5CzqTgOBj3FSTJKPUgg9FAxSAG48pGKav3f4FQNA9xnMYsj3e/YhACZiE+Ytqv/GaNhAIIDTYgf775vGwQy8ARUwZzCVq//r0kEPgh8EPgh8EPgh8EPgh8EPgh8EPgh/cgEGFMuVA2QAAACiUGboEpwQ/////////////fhLwl4GyCHwQ+CHwQ58CB4EAOQAw2yJmWrxAQKIZAhgQRuBqBch17Z6vJQAAgBAACBiAASW5BALM4QBOc3AD0e0Q3g64AJIL63uC1o4MAtwAUQaQHpxeok9XutjwAMHiTsaR12zNx4dzaRx6u7aJ7c+ETiASQBL2TI8+sro2eb3gBBU5AeFZ+PlxLaxAmE8vVz56/jaJiv8NfALAAJeA4Fv3CT0QNdXxawrRyivufn4UEj2JHNHv8IhauURTtJeUmyRyYDxK8JaDbqOfkB3SSQXv8AOhZmAce+TDbUDSALASxA1w4J9yJj8LnQ9RLYs/3hnFmz9z95ueoqv8Jc2tQl4S9D3B8yvvfHvVFRfH+zvH+gu/7/3uzO8f7O8f7ghx+Eb6uR+EQzKYvAYI1eUeKF4ZQh74SwQhuAIrwyEetRAgEHZEAEAoQgDwDBWQQEhShAAiqYsAFxAHaFMKVRC/H4AH+gBbBDzVpJ7zQTfDUAQ9CKU1ag+ljdmrUHAXKgMIZZDbU8MMjkrUEkaCJkbGAB8ZPEfMdHIPA4AGuh7FN1Izv/3fB4bcAHRGN2RXBSd3TTQHAXYoMJWNtXRh6JnKDiGDbV0f9sYAoC7FBhKxtq/wNCMBYLiAACJ0HSpCDq0YAUasmRui+v8WLggAJnMQ/QdW8AFJlX9d0SbUHCUEIQD8vYIEiDbJI0MQxfp7ij1hVFiiEVIo0QtcXCocndrRD45qH3wvAdyMskKAzFkgc192lAeR+K0ySg3UgiaOLAgAsABQLccpSXV73YhoOHsQP8IQQywBpwzmNWryBACAjL+WCHwQ+CHwQ+CHwQ+CHwQ+CHwQ+CHwQ/wNkAAAIgQZvASnBD////////////9+EvCXgZMCB4EDwIE0EPgh8EPghz/4IuDfJAeTE/Dfk8T/Q4KYO6xXwgvthdLhBb/aazeEvCQ96zPmf666hA71xl3fP5+997hA7wkd4SO8JQQ4S6lSEsIh6UxwIATMaEQA3wnclavSOAAIARrh0l0LrQMP8OGkOwgTGpH6+l5K1hDmxV/jeAIyxlIStXpKAhTRDrV4sTwCCVzsOAQChCAOAARAAgHoG5TEtavDoWIUHEsNBtq8JFOGD0i8AHiL4A7Ap6ECakBNk1DJXIrHAh7cCEfs8AF3BROAhIe7Grj9lD3rFYqKY/z4atACMsZSErVaSMzkrVguAnb8z09KANdaR87Xox4bcAHYAg/4VueD6VTrQRAcBdigwlY21eHomcoOIYNtXlgAEAAKxX2oAoC7FBhKxtq5AFQszAUSubavHAXdgYQubavA1ACA7gGIAAInQKlSEHVLQl41FOQ9cwCjVkyN0da/RgCIRDJxBoQAEzmMfoOqlD2Fv3tX6vASTKv7zo02f/7gJx72FrpeCUEMb8HAbjQcxLyVQOnmBxTzOfpcGDMoBBSlGkiOB4VDF7tL9o/7D6v+hDjGQ7G+F7YDGiIU3elFW6FXKkETJsAFkrR5LzFJ/7r8h2RgfyVuc6IIQQywOgBAzKi/ywQ+CHwQ+CHwQ+CHwQ+CHwQ+CHwQ+CH9wBC2gjHPWryCAGDssDZAAAAjtBm+BKYn4If///////////3BDhLwl4GTBx4OA5aUcBTaNKOmbEuXQl29UjmkiaUqvnBwG4zCU7HNA/ScMpueFFtizQQ+CHwQ+CHwQ5uemMGsWXge+X/PR5S7pOYckYlykPr89f3E/z1y89f4InT8iG3ABj1/XP//u/9vwBqyE5TbUaY5BAQCFlf7XwAJpnxCyv0wSCKyJFUerSBLGcM4L6E+oEjcgtf/zH4SPwkfse9aKi8efsJv/f18efrir3vfO51x5+4IcefhI7wkHFAAseLlqiMbKWr74CFGzdqLQEZ8HgMyAvEjsJDoCM//wO5hSRA1jD94A5442hteSH98VWtax3DkZFldE25Oiyw/xtdWgOIBAAMgSBBMCGBFYk7aaIOICAyCHEAgMgBgADYCQMgACBAAAIAbYOBAeCeX6EYGQBTDoA8AH6UAAQBAR8FtUBUAAgQ59Bd93da+61+R/D1PTcOICMghwAC4AAgEAFIICoWYUSyaLBtqIsHAXcUQwaLBtqAWDAACAAAcSJ2wQ6AFFHEub8j/r0QPAA06gOER5Df6wC+AeGQbzQQ8vGCYPAAYZjAWWwCP16pBQbf+/r93sfjuHuSFKmmqs/n+OXsFIQGw6eOEiTJtG5cFGM5s3LVRjth7kHJZYOqBRTIkm0MA0ngA5LQ8Khi92pakLicxX2v//9dVBDjwov1vf/whBDLSgCFmgiHPWr8EOWCHwQ+CHwQ+CHwQ+CHwQ+CHwQ+CHwQ/uQEFEsvgbIAAAB/UGaAEokEP///////////7PwkfhI/ApYMD1/hqWXwYfLWAMTa7/r/hDnrLpavNf9YPBgG8fAYRkF55vz7UfuZj/BD4IfBD4Ic3rq8vUrZ3hPwl656+Z8z4Q+d3CJ3UJHdQkd1CR3UJQQ4SwheEQ5AQo2IWtX9gPQDHLIQJb+APrvMbD/CXPX3jQ7dda+N8ARpjdiVq/AQrSOtUWJgCBIrIOBoDjkNuSMjrUHAAIgAYD0AdCzODniGA21BAAEEFsIABUyOaIAFPDmvCMNPpwjA+ATMignP7zSPAJH6tZYfgMxfIDCnGWSJbBIAA1X0BEM7Hnh/PX30kZsNuAAiAGGzStzAVOqdbG4DgLs4EEsG2qOhZ3BxDBtq8sACAB2PX8AUBdnAglg21QBULMwOJXNtXjgLuwMIXNtQG4CBQADYBEf7FPQdVDIAso6Epdvq8AuUmNkVWZe7AAEX+9loOoQQYmJWxB1UJgO4RKOXnq8Ase0JV265GYABMjsfIOob1Y+CTRr14QC0HrKBQ4MSouoINY//rqoIQgHZIqlohXGiWgLAAfAAYFGs7nG1CEJSBAkKSptohxurbATBelWG4yHIt/npO+CNAFvByi0kL8/vx/vvTvcZBDLAEO4Ihz1q8gCHEsoWCH+WCHwQ+CHwQ+CHwQ+CHwQ+CHwQ+CH+BsgAAAC10GaIEokCD///////////+Twl4S8CjgSD9/EpmOkVhs3gSA5ypo+QAB32oZz2if1tziTWp+QI8O3OVGMFXVf7dT914EgLYAKxhEHwok55Ju0cggoiDKPRZJpJJu0RJ+AB6IAOqFNaiCGMeaAO7Uk/npZgiwF/+qnz4OHBr9eEOeBmY2Q0z0MAAI/zvjBK1fOPNKzxq6jzx0iHQgGr7YN88isVLRL4vZMLzeFTdZ9MPfT56KX/qjWZ30eeBB8CD4EHwIOb/V4jwl66vCHhLwl4S8JeusoQ9dahD1whp06ad7whggBB4NpBgFEbsyCXgcQCCsv2Er37GEv4B3+r4YbcAIZr21H///tbysdXF6gCuTG5DbUvGbnASL6vUHj3zIJGutV9zeC+4+DgQcfAghEP8DoIVllABFQRlgHAckwBd9FMvkENtPrwCGOsWRqJZ8o1UusvBCNtp94CFMidak7eN3QEwHrVDoWMUHBrFA21BKIwgu5LOAC5jCY1fXed/yOokATIDWwxlil+/DuqXDbgAsGK1rWtYxrHH7+pYOAAgAIx8AVCzKDiWjbV44C7qDCGjbV/iAAEQWIAAUBIAXwovgySSocewKICI5JrBaDq5AFIe1FxhMvO0GIBOPzlikHV7DbgAsEKxrGsGO9abP39XywAIAHYrrgCoWZgKJXNtSjgLuwEELm2oQFohHgtkALKKz0u31eiAACAvo1loOpwWmA7hPzl16vRAACZlx4g6hXBDKova+fLOHoQNJ/ukbPAggwDtXkoSEglGyKOSR6hHrI9/wgQ3kcJJkHjmGTu0Hg39wQ4R/q//7gQQgGsmAAIygAMDHq+BTBALFaD5wMI8hNLfz34I7AU4pRPuX/r3hj/HwIMsDwBg7IPAGDsggQzkNWr8CD/9WBIEHwIPgQfAg+BB8CD4EHwIPgQfAg+BB/cAAAQEIA04ZyGrUBxACBmRAgBAzIDZAAAACNQZpAWi823bCnJTpwOXVIK4ZtjgGl4/F8a30DhHhrBd531+PgsQ+nF/wzjQBOVf1Qox38TzbBqo7hvxh0voh0qTfj5V4S56/wxPD4V5aZunhI7jKAJhN2O9/vfwLHXCCfnuyeQYPjesUf1eTnr48NmKmcb9avkvqHuXhmfp3yU7x/EeAwzLQ+A0DaaA2QAAADAUGaYFogn4EH8Jy/0O7//////////kPwkfrrKED8H+Cg3V+Cg9KsaM3pcGnM1RpCPPXGiqFNc4bXHA/RPNefANtrSK1XhiasxxoIXVZRpox4KAtKEAm2AAjMIXozVqR3otPxIIbpu0Kr0p34ajPccDt/7q4MIc9c9NcG0MP+f0j/nHWNYfTRXVcH/+ev7lX+c/wIPgQfAg+BBhzeAHwZzmAIFEyobatKuAY16794AVzd9fgzgku3sUfhI/CR+Ej8JH6O47QIH4SPwkfhI/8Tp05mJmAjBDDfA5AMMyDoBBmWQBHHXq0xwFpxHUJvhEuP5nzeCAP2KDjfADjtCQrhtq/4A0oblLWr8c+hwgcNfIlvxwzH2XhKCEIh/gdAhWX59ALxKqIZf4DZkAFKgEyado7BUdDBIyXhQ24ACS7S77v/8B+2GQnav9nJXgMTP+bz3vCIf8DiBCsoPwY6EsADwIASGyCX8xwBF/L76XhA6MiCyX8VtR3C+HAEAgMQQ4AgMDEEOAIDAxBDiAQDIAYAAQAQGg4AAgTAACATg4QDwg4QDwjgAEwABAEYaAsAA+UAAQAs9gQYWsk0GVJoMqTQZUmg0Tflu/u+w24ALAhHOa16Uv5h+/q4OAARAAIx8AVAkZwOLaNtUcASu4GFNG2r/wIAAKgogABgEgS1ABXccSluCHn94gAAgOkatxBB1THr5gBaeAHcMUSiXk+wKIAAROOLaWg6uRPVpYIQgHYH6UsDqKGKel8hA8HBiXmiEAARAQkYdABJMT45gyd2gJyZ4MJacKeOg3//4RC0qTQKF6UEHfUWxBLegSkeO+kSJu/v+Ds6Z98LQOEHAlB4aAsASqyIOAgExBQYcBAJyDCAShiggFwAEAoEeAilQJGZyHf4MgAAuOdcwNoOSDk6XDwzXkAmAAEAC5jhHJAghB+O54uBBliAABAUIIAikwYqmVqDggwpkQCDCmWBB8CDmgQfAg+BB8CD4EHwIPgQfAg+BB8CD+4C1mgRjnrV5BABgVlgbIAAAAF+QZqAai8OSKE9fmYKi/dZFEb1+Sckvr962wjxtZPvdM13WOtGvnYnY+9u2BQ5ZsNmEuC6wSSc4y2gjh2X1eEerETw3s7r4bQ4jo65uhnY9SlGcNzZ3P2Q0T4N89fw7T/98iiI6vNyUqab4qqEtSqVd/F0K1S6TeJ5/fD6cT4jnqZ8z/oe4MyZ6x2VFRQlxVa1rCHJrUKcVWtawhya1CXFa1rUJ8utYbcbQSwlhvoqLeqHQ/j+pJX56+ZaPBCNBt07376H7rzP/wxTSny09wd/N/Gde+CGnlIpBIG3FRc9Fz/2WPY9lZDeGfHyIvkkkRzoeF9abp6u8Mwj5gw6hwHAfXUnDO1dfMhjA+HF9bfH9Nu3WrAK+FqIv8ka6IPIvwvGUTQcSsGurfVkR1r6tXV74K9gjrVttY0IToO/xVA0mz94BNfBFNBWDkT69fW5XVovu766sjuLmxH0ZbIGA/gokVaSQwLA+pOTKpX8k375Oqvk6q+TqpOI5cjIAH+BrgAAApdBmqBaLAg///////////y+Ev9ehHwfYEg9KHzKzQdvAkBmWhaYbaEOQG9qxxLXu9mo1jGkAw8d9JRRrieJl2dwJB6/K4YvyCuaMIc8YkxB3JgYAAS+PXwB/u7kWDDVYfqa88RxKAHCiSUZzjvcggD3i98cDv6hojiZz7EEWtA9iUv4byEFQD4MpSgGCiRQNtRC4obbO+P/vf22d4xiRXT++/hDr1deiIEHwIPgQfAg4/hnwA+DKQgBgsmUDbVpGBC9Bv+AQsr/b/hLwl4S8JeEvCXhLwl4SwiGPA4gEDsgE0JymrVvxpgzlAatXaIocaiB3dgLZvoBVcKaKiznhAL1hmkeAhhsUlavrWPGngIPddeD/CWDEMcCMBIQqKiBACB2QCFNEdavG7oBMAtavEtAcYsDvfGbVYBOeI+OJXZic54RNgIbIaVq+PwCMDbJSAtlSkAcAAgAAUDkB7BrqHAAIAAFA5BRFTIAFAF2YDC22A21HlSFoiOwFFNrBtqDgJWYDC22A21dFAhEdgKKbYDbV4cAAQGAABA+jQABAIQAWwcT0Io0+ChDWJYAO8fjFOCv9eCwEaC2HsgdVZwAAiP0MOYFU9A7BfDrYU8T6vUbAFMMaStqvV4LCLDmkS8bVesAQkQmRKcOw4JhtwHbkz0N0N/Q3Q3ZkfMw7J4/jYLkNAOhZyA5gSgG2pdlaeNCOJFEwPlRJfPYYd8iHtgSZQQUAPA4RKIBxrCgrSGoskOw8gRIN3epI37wfRgRs1xiVDoY4IYdwIIIA1nlBibJYbSfeAa9a6/H8lB746BBlgCFuCMcWtXgAACArAELNAjHPWrAg+BB/lgQfAg+BB8CD4EHwIPgQfAg+BB8CD+4HAg41kQBBxrLwNkAAAEcQZrAajcl711qL62IGbnr8yJN6Hz18ujAMD1+G7Dphx03OCFsea/hDn/jALEh7X3vjHwXYToJZ4vnr+QvAbN8LTEHbQmZRg6/ENKwW+Cnq18EPjhe5RPVoT61EhtyMLX61ofX0TGiYwkd4TCbsd7ywor3oqII80v4JQ24PmVWtFRVrRSw1ZWXwRcXVJbVa4q973+HM3uvy+PEsI9ZfE73vcZ1Yer1w3xskbfwIm/81Jyog+ev8PTmBfX9darhbG6ZFCdBCNWBhUOa8PqE09vrPMTqGCi6nfBDt2+m699Xrq03CtNikoY6cpBsqAhDB3GbCVLdVQEn61XJorrq8b1euS94zgjjCV+r56lMlM18nPUdCBVAQL/i++7gbIAAAAOEQZrgSiifgQf/////////8p+Ej8JH4LMCB4ECEfWBAhD1AkQtA5AMKyAZB22b69/wA4AlKUBAggSDbUBawiQmAjFnuzzA/Uf5vwA2JeEIVwPeENqX//3vDR/gQfAg+BB8CDjg3gAITM7O7u7s5GJeAIhlMYBgkibav//+gEH+of8AYHledv/69CJ1hI/CR+u97hA/CR+Ej8JH6O4qwgfrmveEIIQiHICaJ3JWo8AAQBI0wylAatTIABAIgC/BAsz8DHzU4CaQpK83BQFuAHQ+rimw6LrjSREk/P+n/AP3pyfuzfDGBOERCPV8b8hs9ahpzGwHrV/mELu/CZmobhYaQ4QrhKCGGOAhEbELWobsIhS1qAQpojrU30JXrU/lMjrUkAJfWIjL8Be05UygslcEAWgcEMWywmpsAAQB61e+ODUetX9wHQqIgoPs1cupwJ1sKS+UVLpfj5vQt73bdBtwBACYhymId+f/4OIAjIOIAjItQVtcK5fA6QcsdBBBB7Bi4CESUOgEZAtWUOgERAyDiAiIBAAC4EiAACAoAA+BoBgCrSGFQDAP6YYAL0ABGoww4CoACXIbfVf11/F8X+f0tLwsLCbkXKxKx//XC0DgAIAEPQYcABAAh6DDgAIAENQYcAQDegxAADoCwIAAECAAAQBAcEB4OaAiAbKAvR0MDgAEYAAIAVzAuACkgAAgBZ7x3D0n8pENUCCVkqABGQKbABGNQdQEEQEAANAeIAAICwAD0AghAALmkBNtIAAKiHXIUBUABIbIcFwAEuYEEIhaFjKkz58ZYMzwhMx5A56oNxWx7S8OJP9f/xYbdiKxKx/61Wysvhd2/1+vrgQY3RCeMWDoPAOAAgAYOQA8sKtmxA2bKdzHrAYkyHTwIBBknBAJCkCRMh4VDl7tASSqCxdsQJWKfk//v6uAgAP7AKeCmP8pf37rY4KL8Y7//8IOP49XycMe4qCGWByADB2X8EPgh8EOoIIVgcQEMgDwDCoPHL4oABOsB0IAEV7wAroNCi29de/4AVKSJADA5q691/wQQrFAALxQAC/FAALwqAARQdF/xV/CEKThUigeKAYoAeA0kAMHBcjwGlADBwXIgOJgCBiyPbhCGYHAEA0IPhSIggAiMYAHj7GrEbr3/AD16aABAQV17/4IfBD4IfBD4IfBD4IfBD4If3AQIZyGrV5AgBAzLA2QAAAAbEGbAFoR16By57gdOHkBAPg86vfXUJ9U0JdWgkFummhI7phI7phI7pgj6mvnqBv2p/7568FGE5lswggg4clyWVuNiDYc/1a+soS6i9Ijq83CWlH0oiow1b9x6X989fJQoQBYWHOvTdXC6wQO0AAAAkxBmyBaNBD/9a////////5v9dQj66xQh4FDqyHIIfBD4IfBDj/CXJdN011aEPhtzO97/9/2OxhE7wkd64m973hA7wkd6O4+ISPeux/Hnex71Q6H8fBDuCHH4QC/HF9OnVwlZm/vCIcgJxEQhq1f0nX81R/h492LvQ7KyCUEMLQOIAgdlZYAAgHwA6BIRwKNYcDbUB4GA7IOhIQoHGsOBtqILAa1QgEruBhTTgbaggsCmhLAAgYACUxMmqSlG2yA4AACAqRq0eR1S8AExHf8iFguffukDwASRgY2E1fN74c4HEAIHZaKlw0j4CO013g3rquFpGVpIgAAiAAwDEHwOAARAAYBiBMBUCRigcW04G2oKgAGBQnABAwLRgB/DCVMf16vdGAoTlVFbIAFCJXmkDGC2gCnFOL9i/V7wFGzZc/4BhsaSRDYbcAFgQ7nue4a19lw/f1UVF4OAARAAIx8AQhEYoHFtG2qOAJXcDCmjbUBQABYDgwABkCCgB2oAFZwp5i4IU/lYAAID+NW9xB1QNngDuGKJRL/9ogABMwMatKDqH4RDsE4SS2nCBdygQU48G2qLaFwofHFRB8VmyLXgQC53CyrDFNr+LyXmztYP9dHxMQ33WtV/4rRuAN7ghCAXgxDZC0A2AAIBVYPFirfGzBgkyHTwIAAmGLICATHaBolcCxsqQLYLf///gLpgCk+HOJ+SFxmg/3ycMe4qCGW7gCKmDOYStX4IfBD4If/gh075SQQ+CHwQ+CHwQ+CHwQ+CHwQ/uQgAgMyVFDOBsgAAAKKQZtAWjQQ//////////5vCXhLwV4nxJ6VZtOhwZ2aPthHnrGDQPGpTS/8+B/7kuEanZT4YPEnnpKx4rcBrOk7i9zhDnrnprg3f/nqE7hgNWh/ZCK4pg7P/DfgBwBOcoBAooSDsetX7MMeD2QvnbOw3BD4IfBDLS08EOO65fhLwl4S8JeEvCXhLwl4SwgGoDiAoHk8cQJX8E6q9g2TPvCIcg//X+DGEcePdterXyvhKCGHYHEAQOyywABAPgB0CQjgcW04G2oAQ6hFKStXwgEpWAgpt8NtXgeBgOyDoSMUCi2nA21EFgNaoQLqUCCGnA21AYAgd4YCAhUAC7GJlUlaL1kPsIyeI6ILSWAPAAICpGrcjqllxo/tQATEVerIWD59+A3Ic3JVJUKAWB00YGNhOadi+LCEuFpGVpIgAAiAAQBSD4HAAJgAEAcgTAVCRigcW04G2oKgAMCgdABAwGksBbxwlTEf69gwFE7rlJkAHHSrVIMFtAFOKYX7F+r3gKNky5/wCC40giGu6evhfwOAARAAIApBAVCRnA4tpwNtUOAJXcDCmnA21AUAAWBQJAAJhoALagAtxxaWfc/16IAAID+PU0gg6oAPTADuGMJQ9fq9EAAJmAhrVoOoR1afjYFwvCyYcExlGEPNBtqQjxaUJcSgXScgp4w20jXRFVoWlB7HiyFqAxSwxh7RaoJyLw//gaM5WL6gioiv37o9iHhGEImatavShWkPBAIwacSeEAvKoRAAIoAAQCqyQU0s5+DBNkEInIEAkKaBJKo9QpBYpBFdV9+AusAUng5T02QuGP8bBDLAEUmDOYStXkAgwpl4IfBD4If5YIfBD4IfBD4IfBD4IfBD4If4GyAAAAKBQZtgWjCfgh//////////hbgDIUSQMXteQQDCoMOQDCoMCBMIEoQgAS/XPPIRluYAONINCC0lRzyAAIGCLmWCHGhtwA+002m06/5/3gDCtmzBfa/+FWG97iUvtW74AOpsJSiWhZzy++uYD/BXgQPAgKw4ECEPCXoN4ACCIUhSlIRylIUhP/gCgAnOcAwUSNtX8hAanAJP9P+H34AF2+6k/3/3hbhaAMlEiBi9ryCAYVBhyAYVBhyAYVBiAvEAAMASAUToYfeQjLcwARx9sCBruxh5AAEDBFzLBD4IfBD4IfBDiQ24CwXRHKzR6/4AwrZswL7XiCATHwl0EATFLRwLHF7PgAgGkgMHqqGnl8JeEvCXhLwl4S8JeEvfV4/CAagcQCDsgccAgWEvMwPd8Di1LQL89Q6pz/7ggxwlYS4XhycgOIBAAGQQgHOwyMBK1Q6BIw4ts4aDbVC43ccQ0eNBtqCAEQsgIAAgOAgVgMADYAUhoBQAsLCR5D0O760AM+YGVOAAIAy/50KgAEaJihPYnG9b6HuZhaKi8fBDD8EytJBwACIABAFIPgcAAmAAQByBMBUJGKBxbTgbatPlQqABgcDoAQMAD0wA/hhKmP69XgYwFCd13bIAOOhWaQMwAe0AU4pxfsT6vFyEgKNmy5/wCC40kiCsLuVj/9dXRHV5uvcEEL4AcBdxShBo8G2owxIQIRAkagBGNTcAIIaEAAPAPA8AAQGAAFDABXNYgOZF6dtVAAC4hxvATAAdMIb5i00TvKAhsgEoABrn1BDXUeIWNghlgcQAQGZfwQ+CHwQ+CHLBD4IfBD4IfBD4IfBD4IfBD+4Aes0CpjnrXkEAGB2WBsgAAAWjQZuASvC0HACXu44AS93HACXu44AS93EAAKgsQAAQFgAEg4AIFhjgAgWEDgDAAEuYcAYAAlzNBDNfXzZfT////////8IQtHACX4PJgHLASFUBizR5kEAxUAphyAY6AILAChoQAnAAEA4AQBjw+Oz7yEQLcwD3QSuygDe95AAQcFXMp+uInxtvemLDbgAJJi/+Z3mn+7+DgAibh0w5YDCttmBfa/hAJWYIAAkGJNuAkQHAVmOkquUYBVWH0M4CGnNnlhGKzf5v5qHScIiOGeHPAAzABlOemMY58X+N9ggAgQjgQPhfAYAIrPpwAHwy4EwknmdNv/11AEBB5brOlwn2ZKYATDENH9o4URcbzp+3kQ2KQARqN8oANDVoSeQZGD9bi4W5q0T4PBWgT+pW3pER61AKwgBMKwIAAgOKZgWgDfSMIW4YgAUpqAPjoUOU3qAUitYIOFwPbBxD8BrTBd/j1AADdwAFAPALVsAEgZ3DzJItYt+uyiD2kGpRuIxpbTjgABAo9F0PiKMUGKVsS96ZEHATjehwYQYQIdqD7gWAAhQigABAMABCwC7bRmefeNAEDsuNkscAiNW8If4ah6mLk5DlGX6v77IXj0yDN1hml2KmdN8CBDPdOmxrOcoGHQA/xQZCiJn/BRCELQBYADdwBh8pvMgCWjoAAQQlHABC8mAAEEhRwAELzgABBK44ACF4RIAAQBQChCMAAQHAAQBwCI3ssAAzgHABOcUOXLAAMgAJCUJ//+98EPgh8EPghxMIBkLTgABBK44ACF4OABEDlJYLoMdIxyMYZttmVqIAIGU4FgACAKAUIACMAODwkAAz6MAA6nmOAAZAA0I4CAAzEotxxMdGht2sOYdzF+5i3MX5K8CtLAEvzf4S27Z//Cc7HqixQt3KHTdXRgt7JvGC3um8YLeybxgt7pv8t7xY9yLkzt/N4wNuBwkZA2tfmhXxJRAF7fEAF84Avm8YG3Bg1P/+DABP0/RfPhsI/JlZlZXDHgQgLcHQyyCAwjLQG4kLHAGrqQZ2uZR3CeFoHAEDD0DuHAEDD0DuHAEDD0FYcAQMPQViAAHQHiAACBUAAIB0GgAgW5BlQAQPcgwMBgAAgDNZkAMAAEAa5m9dXiuH4cAQMPQVhwBAw9BWHAEDD0FYOAIorKDu5O3s4gAB8BYgAAgVAACAZHABAsMcABAsI4CAAIAzEOAwAAQBLlGbBiFuGmb8BgcDnV+17ICMg1x7vBQkJp3BBC0DgCAYNQAPWlUhsDgCAYLQEEeQAkM4BjaxpLWKtQwAVANCaYnVggABsBYRIAAQJgABAIA0BoAqRhoDaAqbA0AcAAICDWYFgHbAACAJx3iQ24GghGMa1o1GPSSD93nwsSeFgcAAgABWC/L54RAQHAXZgYWubaioWGgOhZ2AohM21H8/gWAAhQakAKYaehEPLhxmuDcAYISotgi91cGAEaFfoKsQhHpEaYcCcZYrcCtLbMGHvZOlNcymuetXwtBwGAE5BReQsOQGABUB+AoC60GO4sNtR+HQslBRNkw21H4viAACAEAJAC1h7UeOLl8PcGIBFfil4g6vBXgvxCfcwK/17xATGBUoHIOrxIbcBEG2zQAXfsNAc9YnPvUQA16MLkFWlZ9iZkaA56zssBVgt+EAARBgQAyDofZ00ZAAGInEHHKtEybNkAAIBTmAAG0oDLQZhPBLTNHl4JZmghBhXfd8EIEALwA6FnYHEMrBtqDoWdgcQyoG2pXo0l6LvhvwQgACAJwDBAkdh4E4gtUAEoYxyI+sIXwnlMPwAWwYect86w69d8SG3HB/u/3/niVPjg/f5rNyZvvCMTBDC0HAEDKTx+AIW0EQ561eFSIIACM5wqBEoaZ+BQAAsBhGl/wQ+CHwQ+CH+WCHwQ+CHwQ+CHwQ+CHwQ/uQEOJZfA2QAAAE+EGboErBBG4OAEfwcAI/d8dvg4AR+44BH7vHbxAABAfAAPEAAEFAAAQNIHBYe4yAcFgtxkAcVBjxxUFFz////gQfy27bf////////gQY2Ky2CwbLAjROnXZK7fZ/Xb/uBYAnCKIoqMm44AO18H7lP/LzeMghhuD2RB7IkotSUWp4DH/EATMp+E/DEEAOAv4AY6jfC1f4NmZbEqdT/9/vyxG/AGrK9taGOaN6wQA4DmycqKOUE2GXHeld4qg24hix4IAcQhzxakCF6f5ywASGvBYF7GBMZ7/ORPl+GOiun4ajgIJq3AnAAk29U/Wsbonu4Z0q3zlSuSuaMnr8EM5sinZ6hDwVQQw1SXCWZooBX8vNrXBDLWvBD4IfBDiYIYWtF+A4ACItMtvgAHiDy+JAO+bxgbdjGZiZh95mJmL31LBWwnzeuEvLz+3FD3rRomNF5vhty197v99/2Ox+SumKO8x3+Tbt+7duKO8x3wm6H/z/vizvMd8Jv73/vwm7/Xv1rO8Sd5jvhNy/7/953Cbl3iPeux/EneY753N53A7SYj3qh0P4kNuA0QeTWNn3Wv1rBQY4MDeawpVxmdwpK4B5iuB0zuB5iuB0zuGgh4TdD+//Wd28EOJDbgBG3pV//v//Q9GBNE79qQnFvlp5agiuXlBoIQivhCbl//8/1w5wD4B8SsyiE1/wBspfK/iYIQgNigAFrigAFMAaYbqetQevigAFsUAApp044o9j1xNdciVbXEg6zuGgh53VcvJ4mCEEA2KAAYg4fxQADEcP8YHEAQdkDk2uIgwFZAcmAAmQOTFZCwACEsCJQWCSDRcHMikLLjBwewwDJgqLi3UPyyBZXDQBtzAbbgcKWUB/muDvVGghBiHeAuSMcyxjPuBSMpyvUQIAgVkRAGCIAH8BOoAUp0ggkO4QCUbIgWAAOYcno3Fm0wYxL3A3xHLAAuxXIPJwit3zgHCbru///itOXy+/jceNwDiJinpWA4C7MDCSoFG5h0LO4OIWZDbVHThwFzMDBpWQbagw6FlYHKEpBtq8IBYRoQXFdABVowSFBccUf/+8g8AAiWpAMZLiev0ADkyBqQa1lzJj9CwALcCk0uCKQkNuCICSgaMigI4oCOa4kES5rAeT5Yf5QSmDbgAuIhCE5ES3gKPYwOAuygQSwbahQAx0LOoOIYNtX/igB8GJAAsAOAuzgQS0bav4VCYJY4Hg0R+sU+91PrwJxTdyIpELSv+ITrgLUDEinyuXHNIALH6Eq6i7VIBYTdvvPT+9l4ry+X/jaZsZ8gAAgAAoFIMt5k7IDgAEAAOBSDAUBdmBhK6wbavCFABAoXADBFBbYBTCClM/z6vQFG7ImZcAIOjefXBaQDvOCk8xnq8ZEApI/XvKA4mFJIE619ekDbgBQbHfHEBhMyBoo6ysODVoKqlVl7lfIJmRoOWsxwVYm5cIAAmCAHAuCwGGKjzAAhWiZMx9AAnkJDuBgY8tM1B9JeaCEIBaP4+acpGn/6/HzqEfsoTc3+WF/ovzXT/G5euHQs7A4hlYNtXq9GkMFo0aGG6HOG/BWmEo0xaEVjA1pOITK7l9/psMW6pKU5isffEj3OoLZigAf+aCEIfJm9fc//hEtOsTBDC0SAAIAGeAIWaCMc9augyAhxLKnFFAB8HBhn8EPgh8EPgh/lgh8EPgh8EPgh8EPgh8EP8DZAAAA7NBm8BKwQwUVry+iASf//////////////gj7uEKNBEkp3m7t7+TTpiuG4OAJKbeQl0N4yUAKLmhLuI7kUcIeGIIAYBvJhOBCkd4bbooRjiIALWukG+wIATUb1Z+CAGBrBIxQCGw8EAMIQ6v8EWRTI+ce4OBKI4AoOoIZ4EUGCWIUBaWF2XB80EPgh8EPghxMEMMRIDI8iwACnxQC4ZyH00MUBc3BHWTbxgbcHDFHmYczF+ZizMWJOJtlZeb/Jtzfwnbv+9/E09NOnEht//qvr2XMsbq75tZdht23Y3Y5oPvf2OaFX9kdgj6LBDiQ24DvJMUL7AueWGsKcsSJsHlgvPLByxJyxI6jueEHeCrLildcN1d82b/ln9tuE3Iytfqq/Ej3Ou/11m6u+Tbt+Jtz/n+dzsiQm/v61+bq75tubxbp9hN//qviTvN1dnc7EW4QcP4NcEOJCbjCZe/3v8x3zuRSLDbgPbkxeN9lv4riuIqXA71yHXXJHwfPNBDzuZad3wQ4kNuAAiMySbNlLOZWX/F4uA5CU9I0vyQvAmfXTzQQhEFfLR57wHAYQn/kxs7kG/HW5/l/n/y06cSG3AcABCPKTDQfeWAAWxQAC2/FAALYoABajHB4bEHhsSwFmIOAswaCHhNw1EJ77/fj3qy/4IatEhtwAEybJk0AAIAAB7zAoj8QAAW3NDS+JcQARMRhEGEHg2IPBsGghBCH+AuRKsywNUIpyIJIiBIekHAXUQ4QdmG2pQCAoQSA4ABQLkDGwHQrjwpNgwCRYAHDwVH5jFhuJGn34AHkoycn0kBl5mTzIDDLyZvN4txFfuCGC/Ac2URAVCiuDjGFw21J04STQVzgAborMfY2cp6cADk/kFFL0IbO+xIbcDN7nRfXlrFcpeGVv+WBoIAQBeQICGQByAYVAHEBBEAcgGOgDiAQyAOQDCoA4gIZAHIBjoBAABABAaIAAIDgAB/g4ABUJCDAACo1zw4AEgALchwACBgA9yG3Wpn+9/3He2fO1j/FugDXBDiR7gPekwIBIAIGlwNAYHgw4KWAARAAzFDkeaCEIB2PtqrEn4R6PLaZz2n4ECQpOCBqZ4PAZiFKZiGLvwncqEcC6wiWlbb8M06dYAsLuaGOf9P/4kNuPG7/81IpxAvmBynchwOLcvCFyyRsI/FZv25vHuSoiF/vghxMEMOxQACHigF8DgQctl9IZYA/+CHwQ+CHwQ/ywQ+CHwQ+CHwQ+CHwQ+CH9wBpwzkNWryBABAzLA2QAAABIJBm+BKwQwpByAFy8cgBcs0xREmKIhyAFy8cgBcvTFEROWIhwB0wn4IZM3/////////BDDsHUQIclh1Bw6mKIgOGbwwkZrLAMvFADF1FsW/8EM8BriTCDidaKWCHXdNrFcPxQA4oAHByBYBzErcbg4qluFwVpxVAfsdWDuaAd7peeSinOMPy+M83mggAgcEAEAOYOKjAOJGWW9l0CAM6RqxvwwDgN8AQVrD6/xf99YBdSgC4FGXz3fgGoqrX3whwztNg0SKa+Ber9/8LwOTsZkwBxIsoxwQJ1JDhSHhQeTiZbZdg9BQHWigVAgckhQgHVMjMv/PiBAWqWS4MPSIgxlEmUSkJEjKo+Q8Rom91p8BxAvEKRt92LMyfp06DLCHwgviZfBHvZQNz4zug6ghjYpMUmKUKHBm8KeKNsSD6yfGXngRhCa1g4lAHTNAcTOXnL8EIkLQZk/TYOb0nlkUsir4ISSSb0fLBD4IfBD4IfBDDWAHoRCmAUIIkg21fWAhb4LfgDL5y+PiONkoAq3Q+bIHKLljuVg5QrLA5k5YHEjClrpnTMAEgZyAt7AJM7M35/0eVO3MwdTA6TlgdtNZg9KXSKzZTQUXZocfZo6aWCCFoHIBjoMggGOgx6Zv4f7OBawgCYRgdG9z9EQABAg650KeD8g1175adOMDbkhQT/9dZZPCotrDJrBvJBBiDuxG/1dFj3YtfJCyE3vib3veJCb//3vN65bbm+KCb/1615vfd7xJ3YjeMDbsW9a3vXLReHFc83jB7gOKNJg3GPRzsVjVw3rl6uKDbgP1pn2cX+LxcYx+FaRPwpFdrbhsIh7lp5uAKPDZnm446nPN0zSDULOUNQCL1/AKutmhtwYK/gw+eAjvF+FlEEht2P/vfXL1+b4t7RYbf1/97aHQ/NxvBJ9JcDiAgAGQQhAXwIDq1Y2XDw47ZDdGghwytQIabuYOhZhTxJosG2oISAAYECC4ABAEsgcCAeEAC7DGqYxKyPQLf/g/RAXAAfuAAIAgfLQggC8EPMXqJX2JAqd9BtzKXv//WiovEht2v11rxCxv4SOmoqGbheWyEAiIBWHAAKgACAQAQgFYCoWYU8SaKBtqEPDgLuKcINEg21CAkiAACAAAfBbQBbjhLmff9XiTEAAEBUhpDnUHV0JgO4xgflgr1eTEAAmYgOsOQdUNv/3/8/X/B//j3HAXloqL4961kY8SG3DtM9e/+z+aEXLzZpXwUhAbGTsLmiyMlsh7k+HgANAAwKTOI7gOpp4sDrx+E7TuECRzBAodgANtyaaGjd9okAPN0YC9WFQv8I/MbBegFOKQT7P9Xv8QCEN8/qMVgnfWKv/C7r1/qtdcEMRt25u+JDbiVhUORhRfE2FYwrGImwp9gT9jVyfhFcVmCiwW1L///kvfC7oVl/739wQggDda45xqW28dlt0TBDDsGEASjlfjn/isUYBxMDEUawAgbKA6RHa/+CGeL0L0MT2KBcCcfee/+CHwQ+CHwQ5YIfBD4IfBD4IfBD4IfBD+5CAEBGSgWDOBsgAABvFBmgCrAgxsHgACAFx4Fx4AAgBceBfTplYAAgAIB4Fx4AAgBceBenTRAk+qqvhbFuLcW3FtfK/a//////////////+NggSiQIoEmMUJRw9iShlG4k4kAdGWBKEU4Kh4AAt3gA+/l9n5DUpDRDW0Dals2fw7g/5yJNfOoLP7v0Egql2sEtoQijXlif875/P5/PxnGzgACnOAPOAAKc4A+NY1BAu0DUCyZQVHQdBg/qXaQaDoPk/UmxeCm7u6dOizthGg6DHVnfP5/PzhvAAQCHeU4osssso4o887/+AD8RnwH8wR1H1eAB+Iz4D+YI6j6vUQAjsoAAgAtMEpN+rwQkRhAAEApJHBclscBOEVDkrf5DagAIAYOUDVmTLBE4QPmBdc2/wXGDYMUw0SO9erwTpiZSkAq/V5nnyzzQAASAA1QGZ4HMeY2Uc/PV4Yx0sFyPXRp89TrGL14c71eCEAEgFCCAvjMBlLjWCPsNbwhC62YLrI2KUg4jLSBg4quyG3AAZc0nemm//4xL2wvVesAovgChCZFmpZPZ4Q1qgbDqX3k8ZxuqgB4SOH1hH+iex4ABUADA1RMUABEBBoyBgukQAAQAAUYyIAAIAAKMZR8xKmcFcSiM9rgSjw9XiAACAADjGQxaQeL14iDFZBoAAgBAAsJEAAIAYAwDgs3CzAwSMSX4dDZBDadYAWtAs7hnbtoD+CvRo888fAYCW62AUCNgpho5BiTThwCh6vWzItA1EGchB6vWmDYwTEnhekj1erqtkjLV6zERYBbIEX/w9XsIgyJA6zTSxIDTz+tDKwGsgmUJ49GGYJSiLLKg4WAo80EY6OFEW3A/DlW2JaEphHIk9Xh1ohqKcOUQhDsgwT1qiw0H/A6CFZKkglFWKghjAAEEcMANAAEJJMxdAjNFpOA/UGXmELhfw7fQEO1/qbkshii/3maUEQBkHVFmEgVhfcq6o2AGBjB+wOELSsAAQdGJkAAMAAaZBiQadiw4xTCFlinAEnu9gxKsBMKMlDsrM7wrbw7/APFOzZunvCBcd4QAEIFElaPMyE326kP1iBXzbIRKYIB4QELhBfX/9r03iPwid8/B1AgwpE7SBJWAHQMwOWSMQULKU5OQADavgAPPAAM88AHv8V6AIOBBh2I2Z6aN5IV6WYl9BJ9m2evg3vJQJ8VzoZJuFP8CDDdOmAHomZwUSwwG2pMP4Dqtv/Ag+BB8CDDWAHQs7A4hloNtXboq/AIBXrLuviOCaeAAV54DxomOWJ329FrUohoD/c+HIfT/MYCgLs4MJYBINtQeFncHFMM1qLAlrwNMeLwA11ByiUFO8YG9OVPrr/t3srLgQYahwF3cCCGGg21B/WJ38N+YMqvb5vfDUAOAuzAwlloNtXhwF3YGEMgkG2oOAu7gwhhoNtQVphCRlADP5STl+AD6uY6v0viDvneb1xNOnTpxJ3Yp3mO8Wd87zHeLCb/6/Ws7zHeLO+PerHY/mO8Wd8Nv/+K/XLD5jvFnfgQc0CDizuh4EEIh+9yd2d6WAgTMirV7/zdGbCIb4A5cbG8VkACzEAX8CrFUuE3DimfWv9fdOn4RiDuxYEGGvgThZDQS+vx3uaBB53rBCTwEyRkOtQg7sUNuAA80bGzplZAYT/yHQ3wIZiXtUeQn7UhuhuOkiMAYco21CEBsDgmYwxRRtqLgNgIBIQ4QARSyJfADyCgi2wo+uegI7jSGR2A8QzidKRFLxoEEIhbgdCKyDonZFgAFZQBKgFDLDScQhgYWZeYgc/BvBiHIEIOKIJECBDsiEBCIA4AIAwKQBCRGFM1wAXoArThXfCFergA1ByGEf06/0EHfDbgAICPF4cj0BRWGJooeWAIAZjIwJAseDgCAGYPAsACpImAMOYbanwLAQwAhwrAxoOQ9iqcdf+r0BYnmJl5Q+/LYO4lrQw3Z6vQFzpGZRAC2hjcLSYdwDgAgBAUgwFSRGAMOUYG2rw4JmYAgxRgbavCwDHAsAJgAbC9MUd0MJdvEEIRL0HoOrwChyOgi5a5TeIBc5BElIOr2G3AARiGp7XZaE3tBD/4DpIhBSyzbUDwNgcEzIAQYs21eDkBseDkBsA4AQB2BAWiE6iACVSCo1B1KBM4B3UwhPSlL0Fh1tSm71jkEcBSnKE2VM8wg7sWBBBAP1r5ctLWbhaLAGQAQONRlB8vJk2IQWRAOeQQu77/XA/4Ny9IQRUsZ5v+4EEGAew098cEM+Bj0h340oSujBjNrRome8X8QE37/f6fAgxGb7I83rrKJ42KAxPMvfFAAEASBCAqzIJA4AENhYAENncFN62Z2/AY3OveoEHwIPgQfAg/ywIPgQfAg+BB8CD4EHwIP7gN2EzvWryIBh2WBsgAAABo0GaIOgnwlLPsGciv65Qj1Z89SMSm2XjOGJCCwEypjMVEtWNx1/oCKNHZfAYStdHl6ljBGNLP4IcK7w4gfGh1NSgCenf+3D2XcTCJbU4zEvBBAQ3rOHex16QqE71co7rV8OirgdSRbsok1zRx1ccEE3Yd/pb6f5oMeAgdgnqkIz40NPS3hbgYw9QFZWZ+2JdXAfX82ewNxvPCooHNiBc33LwDH+YRx6pDa8C9wXXSSKQlz5fBPMGDbt26abnrhu3/hoSxd89YJnoPATN2gr/iOWkv4c2rquPggXk61XE06dOmoU5adOER7mcv2OxhIe5WH+x/xW3bt2wid2MCSE3Ix/fX3FcLZ5xWr0SKP5emXmjJeNzAM+2seCcuX4b4I7EmxJySbgj6i7B9WAnhaxE7EzsUsRVMXyMSMTd0z5jOCDLhO/KzcdoIPRaYwTu4hF8MYN8nWXwX6aI5BJvWAV1I1N8fNBjcS/w/ykXkyUjjiDjVy7zDliTxdvqY3xGHffMRtie8uYR4ehVQ3fn0yjzSkT4Oxk4l/DUkeomIFn+Ee5dR8DZAAAEyUGaQErBDBTB4BfHIBfN6lSAJBI5AXokcL4JrPrF2eT53/////wlp06dP///////+MioESWj6DYMckee4XD5xiWHHNicfgg5wulJafDL9fYQevtTowjxsUAMnFDZ4040wOxep+auwTTbb/wzTp3Pogd2KI3E5f8vLBBN4vgghuwEMm68YOH8cI4sEE9MP4dT7MnjODDukspBai+c8XbXh6QAAKaBzuULiGZuOboAWAeEeHcTpBGLFOA7RhY/HAdffz8C9BDCkLD6ssG3MQUWKDbFBn5d1/uCGC+QuhjyFtpa+zDzB3NBDG6wOxZaSQKzLtgB0CQhQHCSDgbavC4ZSkAw58iG2rxfoaog33wyzfqf7dQ1OuS2qEdV2t4p0l75wQ+CHwQw1gB6EQpAFCHyQbagXxb2wlvaAuAPZociZP4AxXJ3XbfEcbFAAb+DXZUHttOcEjCPAB9ynKb/FW22342997xkMp9AUAQSMEBQgmBetQByOiTBCEzHlcAWG1XROaN1aLDenKZxX/X+tlZUOh4IQYAi8++6b/J5f4inZ9O/hrADoEhSgKOeJhtqk1AMAAQBADQLsgJTQVo4A/Wx88ATMbUCeviAm94gGnywHFAf53m+G3Q/vf/X7HY49w7VPsdlRUWCHEHfO8x34IcUdxRw2//vf1e/zHe+7duIDbgdcgEWLGPsYnWPd2x73RYIZdu2Y74t22zudeE3vd//xA9x2YX7Hx73XZfmO+Ldt8Ju9a/v+Petjnf4ge52Vsdj/BCGDR6V8x3xbttnfCbkZe/3/iDvj3Io1+R8jzQQ8e9/sfhNxpD/9V/BDiB7l76HQ/wQhE1u8vDlmzvX+CB+ezBCEAtzbiBL9LAEEbuetXm499NtjfXCIDbrf+9/b2P8EIRV03vCJNA4Bh2K0CDuIWcEIFEbWuXIDkjfR9Aq9BhyAYVBGEBMZXrVoMx/AJEj+vPzYIQtwOgjsg6CFZFAARUFlgB0UNOCIXSywsy8CuRfpvQbdutfq6+qGxobH+CGH6dOnL8ByIq9DgCAwYgCASEKEBKU3ACxIAJRzTvch5e4AggBiCk8f2aeEBNxgHAr61+tYbcABNM1poIW6rvyvoxB0TCquDiEwhjiCYE8QSyMFeQWuVj+h0gdwvWL42OIXwGqwAqMOABAA4ag9UwFAVdgY4TkNtXh0iIwKWJ2G2rrEAAKgkHAAKA8SaR+EFIPSjqILeK8/q/hsYBFew5YpB1GN/9/bBOX4mvcwX6vcGFhEckuVSLpIJuhrv9/8EIRG06eA6FkBz84CjKHBNsAhGFBtqTp5AACABgEIOBIABYHCEgDCQ8A05wFOY691QlAHTA5CJa70QsABQzAIJjvt69BfAKUUh6WL9XidakDbsf961vrQ6H+CEIBe8KFUkSVJRvv1Ad3aveH5WCcXy+6Kq42kZgDx1kVDGRwADaAAobU4984juQYpkOLyeEjA84ICpHAWJQAgVKzjsVGPwsgyimViPP8NLigoOaQVLS3lr/vhPhfzShGGlLgUpjUSGmdOn/4gNuxf973uvY/wQw1Hl27V3v/NhCL4Qg4gH56SQAevQVMc9a8pFKqgh8EPgh8EP8sEPgh8EPgh8EPgh8EP7kEAMHZQUBwNkAAAAMAQZpgSsEMKRQNMUOmxGU4oBm4oHMbl/Sf//////////////jYMBEaFxx+3wOC43s4APB90918W/6sAjwUzgDy7LAAKb3cGAWZRdA1IZBAJ4IBIMObNWEjnOOHpBOjCX7CQGFcEAmL8vPa0FGFlWLIupQyu158RUmEL0aJd25ErMWOO8mQ/zPz1941TzpYR4VzZmzp18+lr43oDoEyCGFoOCSxTLAAKwdPigAFY6+KAAVjifQN35ta+CG+23ghywQhEbrA7FlhVVNMB78EQsTctgB0CQhQHCSDwbal6/1QZ0G0hpEIKrgV23FPEphHobgB/W20JnUYBx6rvV000P+CHwQ+CGGowoB6EQpgFHESgbahfFvUjxb0AEsBicyy/AB2m1OX/N/BCEAz6oMSEhEkzoDoDZu7N/wVvFl+SOr/n4UigAMd+A4hvZYdyTt8fNBywPjDijAIH5yD1evlP67t24kN443u3f3d38diCe9/P75bUzPBBnDbm/rX61ntFRefq8Wd5+rxZ3n6v9Wigm/+v1z9XizvP1f6tFBNy/61+tfXebq8Wdwfc/izun69NhAFFsyIBcF1ty8xIDBG+X45FndNQQZRC4s7p4Ic0EIRD/A6COyDoIVkUABFQZYB3AQTZjrV84CUGCizqcG3LwjMRfurtPhYbcHdgXQxFiD7nWIM6xB3vp9jsbshWywQggmggh60fDKcBW46gcQEBkGHEBAZAYYhxAQGQBsEq4gQCAyAQAA6BoFAACA4AAIAMBgcA0B8kBAuBtA6PeDgArAADLhwwQQAVkAAZNHvGn+F/Q91r9jsYg70UNvRfWiov9kYkYZbGXqx8Lw6KsgaxAQaqqqgEQ0DtAeMAhkhMOgjIBAADQHg4AAgLAAPQgz1ADNcCf7eoAAFRJKPGAgYAltAAQRocEoACXMEIQqCHEBN2P6/vfghzBRcG/v//vk8eURwTQYIGgguAIWaCIc9avICCiWWi/6u4Ia7uCHwQ+CHwQ5YIfBD4IfBD4IfBD4If4GyAAAELUGagOsEME0VxXFcV2fVv/////////////4Jor4NEmVMsAMQegMQlxMQB53nAezlnOMggCJvAIB+oP2/eCAI4bf/4AxNrubf6/gQtzZ4vz4RhDwJ0EMKRCQQDc+wWAz1w9xQGKsUBird06DvwQ+CHKG8ABCRU7qmd1Tsbmq3bS+4AqBYjgca4bav56GqJTAkVufDU66GBGyrvd/wQ+CHwQwXyYAHQs5AOIfcDbUE2LejUfb25YE8y3dqfwAre7reqfwQwzDgLsUCC3HQ21f6bmWq9vg+Tsn/X9+QR/z8LRQZ+KDsDiJ/WWA6In/FLnELFhfAdZyYKDUUGpWDMNYPsCg1FBq1g+w1g+wO6I8UfcR4o+4jxR9xB3TFD8UGv2Vl6vOd0xR8nEHdMUfiDumKP/E8fpr6a+meCHFH8W9vwQ5eGOApsa2RxR7ftnv8sDkSZ/eEJz+d3wQhAK4EQISg71SfgODobG6RjStTekRFWoP8BGK8At5mt+riSn8w96rX7wQThvKpIwhnWIO8rB1iDYxBysSscv3d3ndCwQwQcBCmROtUck2hlRQOACACAtBHCyaCSRBqVTDoWZwU0wwNtQcEzEGONaG2oIF2QKE64AXLgNxCml1XgWox4oSmkNX/eQ0pMAPFMEwrWK68BraF2C6p8Uw+NBCCEvBACdct8b4DooWTwJizSCUEwD70oCwoqhziG1qGqu9cZDCXRUB3rmAP5WN0NnOPeN4wB+mbQmUVWb3t4HCb/X61+g24AVAAKA5gWWirSPb2jsZYAEAOxxyDgAgAjA31GW2MAVCyMCmlm2odCzKCnmG2ocBd2BDCzbU6Bd1BjCjbUGgSgMACQ2eC3AALvRSsFJbrwOpgPAALUgcyzjLTx4YPIAOJDAunlrrwUDcDwACsUY02C7TGDbgGH11x//97/vFP54vT3ixvoe7EqHQ/4IYXswHReBwAQBg9A2AqFlUFOIeG2qHAXZQx5Dw21CAAEQkQAAgF+ADYrccoQhZvu9EEDMKQkSg6vACVrBEHeoz1eiBCFQSo5B1HO7aghCA3Bo2UkqwJsv24d9Z3Ctsj8B1YTKiBZHgBQtGQMgiftRwDTIYna3h/+aCHeEAtcsPVRCJIAaVGRFv+pd01kNGUd//zncrK5JMZHN7whPBBCsUAArFAAI8SAAT4OgP6cPFX8EEKwcS4oABLiQACSgBw0DgQhxWgFsIAcZplnvogBVWmnr3/DMcBARTwqSCAJjGHBZsTIae/4WtzgAgQ7r3/NBBCsGgATIA8BjoPH/FAAeL4QAiraAIw85+Lz3/ADykiQBg5fXv/gggligAFYoABPigAE4Ogf06wQQrBgpAWAAS8UAAlA4QKBCDoFNAiFaz30QBL5k+vf8Mw4CA0IPhUkEATGMHB2bEyJXv+FF6cAECHLr3/A5wAAAQoQZqgSsEMKQcQA+WsdAD5ayfjUcQAfLWOIAfKDqTwUen+Feb02JiLib73X3vf////////////+Ng5NgGNh2P4+Igx2rWAcT4KgHepTwAed4dU0hdqjkbUpptNeEuNnAB5ZnAHytweuHIkZB6mfqXxMtR9FB9RHWaurIrhzwm6S/xnTBAGT2P5U0pY9Z3jPJBAGTy3DCc4OACTy6+wMmtXnitGIIu75wa3c/MHjPuXT6PkQOS4kieHemDncIHXOfTwyGYRuVJe0v5Gtnz73YqXCHPXKgNl/C2X/PUq88xv+S7S/E9pin5qDiOp/z1+x2/gTIIYKYDhdFlnc8AZ7xzP4oAz3igDPe7gh8EOXrlwQwSbK/IGCHwQw1GFAPQiFMAowiQDbUbYt6FjlvQCWAKPGW6X/wAVp7rp/538EMMw4C5CgIEkCIbauvgFcX1vzNz74OSYsv934sIsX8/BNFABnjwusl7MHLF5YT765OQACarBOR4jxXGS3YrveK4rvf6vP4o7jdPV5/Xe9xB3YvV5/QbcOqZ61outa/0OPeqKi+c7gaONM8EexuxvP7O849zqF+x2MR7O853iPY967H853iPY96odD+c7/BDj9O8/uCHOd1P1KL4bgORI3TwGis+593hCcNuB8qORgVsYQ8HFZ1gVsYg8H41+6uvjpVMaQMYvdqljBVLGOCANQDkginNX4PwE+uOXXze8IThN6HKGvoaof+BIN5VHBCF+AKfMiOtUcJGNDJuSMjrUqsDWqkHQsxQcSwsG2qEC7sDCGehtqgOgzyoDIgBWTDxQSCTJf+/KHU5IEeIx/88CZtCrA8sJqnPxsEJeBSddLXVnwvdRtQmkZqtRLbfIqUA3EmABBmRwELdodPCRtwyIbGmjhN/X61+G3J69lZfZarX+CGCCe+IDgAEQAEAhBqHHkx/w6FmcHEtLBtq1IhwF3cGENLBtq1iHACB4OAARDYK4J+YoK6CBfmE4BYRDJafahNP2r6UHsVgzXiPV6Fgw4qCmwIvWNwtDwYiAcIvDwYiAcg+HgxEA4T/cZ/wPE9zIHbWMehb9cEMLzuDiLwOAAgBgegbAVCzqBRCSIbamAQ4C7KCCUkw21CAAEwSIAAUBcDdC90CrMMefv+h4YO5pjRt7qgCEAzejMJLUc//QsQIeWGwoVT8c7oawgCDRBHdLgI5IOni4UcnQKKZN4SKtEAPuty6Ke0hcyGJu1wf/y821T4kOw4yzyJ+LohkaXBSRjlMZpDIDLNAHLHDlWKiwuF/94IAQRHDzLFhDeqjMd/wP0gCiRzkf83kpliVmcDhf/OdyL+rJgosd7///k4wuK4JoOh/wOBDnsv5O11Y4IfBD4IfBD+uH175Lb/u6/npCIYf8EPgh8EPgh8EPgh/cAacM5DVq6iAQQ5lgbIAAAAMZQZrASsEMPwYIBoMcQB9xxA/BDiAf3Yq6In97sfidu/N/V/////////////8bA7kbA6KXxuMb+bLune+N95ZfBTDHWwvbtGjmwCPBTd93T1Lwc2xwL5E+Jk+aaWLggAgKW4IAIB8SkZi18Hc3kLYIAIEnjOeY8N56jxApQbn+PZrDWd+vfPVuPmv4Q+IXPwJkEMLRQpIUBijFAYl4oN/T/FL+CHwQ5oIZ6iIg/8EPghhrAD0IhTAKMJkA21Am8tkky5b0SBSoAcfjL6r6fwAdp7rn/rZ/wQwrC4ZSHAQeQJhtq1zUgvUFAACYjZvy3oJOqctTM8HpfNDrP00QT47z/PxkUb+Bo9LJ8tF/qSaS6BCif6t8EltWyjSB8zeKDeA4XVkz1VV91dRxiP+91yZJ5vFBNxBU/i//XVk3isBAAn4txb6NHwEh9WTeK4Jta1qiI8Nun6ur/e6/M+Z+CEBQTeKDbjSY/F/+v3vCbp//rXFvZN/qyJCbp//i9c7pwu6F1+tfdN4oJuT+sX+L+E3BbpnnhPD54Xw25FH/+IUnS+x+b/VkTBDCmbzcimxShQdvNzqmCYpguIvDbhopkrEQsflYlYot3ywlhwQ5vFYCAw27/X+tV9jsfBCIBFNWnYm4YgORI3fAe0ffSv8/OH3hAlCiWM/zvwQggm8V8W6G/BCERsilMilnm8B3BFhJCjpygAnQTwAqNAXY4CLR6OluAKm/FLzjYIQxwFJmrl4HQCCstMv4CzO2Pk8BkzqR/i3twQwpWuT614Or8JsIDYeDEQB0EKgDwYiAOghUBYAOWAA4eBiIAmSMjrV+eAA4kAByEAJxlAwMj1yDBABoYbDIbe+YHhPc5MFnwv9WUG3Io+K4o/ijisRpsVxXO+JXnHuZSv3usIK4NhEbB7yaMQADhskwFrPuoT8xrKi4Qsw0BABMPFOOndpOBxtNv+v7ghCAV7pxecYITOYAOzYXz5HLf853+S2h0PhCbxXBNuvAGnDKQ1avPOl11wQ+CHwQ+CH/6w5IIfBD4IfBD4IfBD+5CAEBGSgWDOBsgAAAAzdBmuBKwQxsDgEA4EoMOBAOBKDtn1/DgEA4FoMOAQDgSggo33EAkiACeByEa5hyEJcwOjPcw6M9z8tv0v//////4kvdD//////4WgIoKC5CgOC12uCe02bb88pBXHT8LSA7sCMokhe+8G4nFmee/4rEeI8RNxM8fHT8H7Mf8ZBBC0DwGFQYeAwqDDwGFQYeAwqDEEcQAAsBIHEZbmHRluYHAAgw649SHACDDrmO8nDMHExr3GmhaXwCRJEJERPbf8DBBDBTFbgcQ766m9fd0qwQ+CHwQ5YIfBD4IYawA9CIUwCjiJINtQJvLZJMuW9B0LXAFHjL6X/wAdp7nX/qfwQwzC4ZSHAQeQJhtq/6cDr1Lp/klfn5nQurghzcLXc94ISIDOax5gMdDA7QidOA4UgiyNtsHE4b4bjJd5tr41/DCiy+KDbjxh5M7d3dE5nu7u7nu58n8Ki0rKI8UE3GkFaqxhWMVqrGFYwI8Ud4jxR3iPFHeI8Ud4jxQXcZp73+94DQIfgIifxQ9wemSeKSikviPFHci66u4IMvDEByJG74A34nZzioO6wfwOG2r/MIMxpjA0NwBu/E0MlydDfhEJeJwt28EGY7g47AjxR3f1bHuVQ7K+V/mwYhjgIJszrV3gcQBArIOIAgdkKYGHXE9wmzlgdIOWuCTTp9ht1e//9NkYgf1y9znd0G3AGrX0ee/W98b6csFLQ5YXzQQQvsOIBGQOHAALgACAQAUgcBULMOJZNFg21JBwF3FEMGCwbahFQcAAQAAD4AP0AKccS5nyPq8YQQsADDuBwiPN3r2ARMA7hML5oM9XogAEjGB0ghB1R70S//pDwqDbr/RetUMtzXsZzuJK87491Z+aCHJg6oACAxnrV7rUvkqUlAmZ0wKLVyLAAIgAIwP+8yITNcTMkrLPmeEAARAQk4IBIVAAkmIsOYIndrgvQ8bncacIqhHQ0MGi6BOgFIsFMf8ELZIEH6p6ghvzc53zvwQhA9sr5J+YQt9WB4IYWgeAwqD4CBDOQ1avIEAICMsAIDoA1yJFr2xoOCNN6aBfXJbT8ENdcEPgh8EPgh/XOX1bgh8EPgh8EPgh8EP8DZAAAFP0GbAErBCJC0UAAQAMUAAQAMUAAQAMUAAQAsQACEiAACAmAB4OgJjHQExBwAgA7GOABAB2Pr3wQyKb+/////+CHbtv83m//////+IC0HQABAEyAqW2YCMYdeoABUCDvA7UyBAIAAQN0GEsAIEBgABANABQCVnQC//jxAgaEAqF4TOsKAHOvMBB4A1a+IVhxHiJsR4jxHiOCACRLwtDiAQAAgdoMOICAAEDtBgcAAqoCAvwbqZkJQpK88IiCFBAJQDhZUICXMMgjCG0ZAIOBtyEAowaimli7z3+Sf8XBABAC0DoCDIA8BhUAdAQZAHgMKgByQm4bMkABlAq4fwLZw5BSQp4LAACAaAFCEwABAmAAEAgDwEC3MA46aTYABnbwaAAIB5rmAKsOdSwB93QqeoIAJEnjOGYHgMKybSD5yx70w6CCzMN2P2HNjfwOmiIPOgjuH/AwQQwtAYAAVMaUbIABIHYjkVlAACQVBjgAEgvcJwBBgYAA+AWA4ErhPbAEBLmAKBOFRyA0K6EQAIcPueCHwQ+CHKLf3BD4IYawA9CIUwCjiJINtQJvLZJMuW9EgKYAo+ZfVvT+AFc9zp/rf+CGGYXDKQ4CDyBMNtX8VAdnNL1v5oU8/M/4Ic3GxwACQX2GgRyn0FqwcbAdsI4ACaAf7liwAC0saNllbWLBgACgIBATABwWMA0BFrXgmojBwBDyGrMeRMAFU/N1MoOfV92225w24D9ASZe973ve4gPrwFjOAsSAMLcw4GFuYnxItyMuriZ2J2J2J2J/XLe853+rM7oU7zeJO/1Zht97rXe61r6KizvN6O5lM7zHeg25En3v/rfY/HvVl/N65b3zvMd6O7zvN6O5QwM7zHew2//xCk+ud/zezvMdzMzvUEOb0G3H6fv2Xev68EOYNuh/RUWBwXbuiolyiX1xN73v8N5PAdAoCSL+Gse5ervCKuHw5wEyQ2etQ8oDBSyEA/8BueGkYNuDgAGgMMYTCwAcUAH8UAGooANfRAAEeciUsRxQBxQBxPiQ24AHojIyIyIyN//993+7g4gIzf8JavwiG5vCIcgKWZVXgLWgBTIgSKjooR4/6YeJkTlvX64vhuCwBHlsOQ+y0Bj+F5lvBCGPBADq5P8DiAQdkgH/gMaOxzBtwBYMVq2tbBDmiFn79WVgHAAIAAOwcsVqA4C7MBBLptqLBrDsLOwOIdNtRYkxWogABUPEAAKEgAuWAHeOKQx7/+vEPXIQABEfhyUOJnl4h64Bu4ApMIJTv1b+9uw4ABM9AV6zqes9zxM6+jnXvX+Jve98NuABkdqQBH8IL/+93QcSw/in82Vi7h1HccmG4b0E3H0y87HzsX1rghBwNxwQng4ITgdAQqA4AHhEW0348ADy8oCRR76r2vOAHu04AHgYAA3AYJxpRACE0AXCFibzjCsMgHZ2hAWK47fhmHlgwbcgoKgIeh7KyQ6HsrIQAAQCQB4i5gfAAq55AHgB7mRXcw5TucW/5i3twQw7ieQ1qWL0VcuW0xTsDgAEOEQDiNBv4APRMB/vjD5Td/83PUA4C7Vm/f+gm6/32VfghEh6vOQXOAH1HpBUqzRwg9liEz44hpv9dSKQKi+9Qpu+X9fmDbgJNZzdB+xAc0aq+8cjYg5Gxe4ELEVTH2+WJWxoYcNW5wuTFjg/Y/B0PRX1nfghzeh7mYX6LwQ5oIYWigACABrwOgBARlHDhAqqhAAiraBzEBitYS/gPKRABg4ntX/JBD4IfBD4If5YIfBD4IfBD4If3AELNBGOetXDIIAYFZYGyAAAFHEGbIOsEP//////////////9SUZw5RYBN2ly8w/gDKLlbl2CDnfP5/P/jIII3BoARkEqAEZAHgY6BT4OEg4KlVM+JVgBES4ColEihXgQQAWb083HvDgcQGChgEIEQcQAFAJxbfgJeBDUuwOAhg24H5AhKojzwCyZBOiDtoxqrcP98M80I08y5xACGW7nwynLSFR/g/gYIIYdiEiAr21vEeJBZd0B7TWAxq+WXtxYDDj6AUGHdoBKhUxiRRDA2LxloNs++K3c0fghj6gP7lvH5BBjNfKoQvBD4IcnDu8S4XMdPTFyNDqiXQKjw6nXU6VQQwz4/iKHFv//ghhrADoEjkA4ptwNtXCLRYBW05A78AZRvr67+CGGYcBdigQW46G2r/0Xn8p1+a8/+CHNxsUGHdoBKQRr0I7aOHqaGyo6vPq6p2h+/XFvp7Y2QcHwD7vFX1B4TcBabS6zH7mf/9q9Znjds9Gk27CQ23OsozV9rmQfTcX8eX5+3/Ly/4MKb7wSOwLuzXgKtRr883ieF973uILjsLNwt2CZuDuwG58z4bckafVa61Wub8zEzHgu42g27dp/XNS2zj3nzvf4Tf/3v8N7GVih65WJWPk3eyss7zeJO+d8e4+mVY7H6zvN4k753wm7H66768Jv/3v8x3iTvncapCbj1Nda/WsJv1+v8x3iTvhNyqUNDQ0P0NDQ0P53x71Y7H8x3o7nDU7zBtzf//D6r9eErG3DSkTunHuxLof8EOY72d5h7humLpWVbcrbk7xEEO4IcwbcAF99rsvveGkecscCBMbdq8QsRCxLEaiPAsXwqrAJG/HrE7prnosf8Em7InNZgpi3vWEQx4CxIxpIS//i5fhxbzvCIc4CdISErVxr/DiIGNBCEQ/YN4FHH5kW+sVtittu3HP5nxZRx3zzSHkhCbp/eVj/EeJwgFoowd+K7FYCFMkHWoHnhueGtQICjDFkC+4uSsgHk92FCb/5WPvrBCHIDZGdLgMBVMiql/ghZOGwQBbAQo2Z61UBDCbWA4ljeKwVrUDSJkyRIDkOtB77G3NGBCKz116KrIzYbcABNJtpJM2if//BxAIzwTRGI1cXfe4EZnzw3Gy3vwOAEAFBSDOol8BQTEwIJVWDbV1wyQ2BTDTA21eHPoVj9TgwABMLBwIYA2sA7xTHIhifb6QDh0BiIVKd62WA3wFJDBX7LVb3LgASKHeuEUtozO6awQBerIEyCVAJEEqBIgawiw2EvPAI9chibDQXr2o4p8O2/Nwt0B6HACACg1BAUEzECGGmhtqTDpIiADBTTQ21CAAEA0QABHgC5wDsghj0LT7+8QACZgYtbUHV4A/gKU4VnyhHm6QeAaVQV3IvdXScEIGgbvEPiQB8UAcQ+D3xPDwHCwMthAACAIAcHljBIDXho5NoK7hlOjD3ad5Yc5YJ1auNiVgNokY7YP1MfqYPs+D9TB+pkYOA87orTJoeTjDwyPD8749zKF9dDwQwvaiCMSxP/CAUKyH9wLiw4qGKkXV/8nGaJpIGMz7Fvm6Ifzi/C8BffMpjGm3gxTLYwI32f6If/hAKwA6FmUFLMMDbVDJCYFLPPDbVjZMDCG03wqIkFgSIYRanvpO6+viI/+BJ878qm4iG2x4P7wiFcHb+KAOD/AgJSH2EFsQlcOQIR1IcTs8vzcNQd/D73liv+d04t7uCHN4ngj4AhbQRClrV/SQQ+CHwQ+CH+WCHwQ+CHwQ+CH9zAwObLfwNkAAABL1Bm0DrBDWL5NOT//////88tiueEHBaEHEof//////5e7jIIAIA2A8DgaQII3cErUPv5II3BtQS8sEBFICFpud2B0BCsg6AhWR/MOAkIk9QwJETMJAyChICClABTO0hwiL4BmxAmUt8B4Ezl2AWVQiB11HDBi5agCUsIZqsEAEDggAgZ/P5/4Jrv6qRHjOH4jwCNi2qeBh8jP1rD8H7GgBgJIyAEZkDwcCSJQYlJ4b+DgI/CAAIAGNDwgACYAAgAiAgZUGo6Q5LRgEhWJMixMBEBwaOJuZSI5wHKFzD/YcUAyt93n/7/f4BRjEvav/6ATEjWG/gXTtGjF1Q+BgghrCOCGJ5693wQ+CHNBDWuCGGsAOgSOQDim3A21f+PgEzdfc/ghhmHAErFAwtp0NtX93IS0639s16/e//ghzd3ffPX+Hr9JvE9eribdu2238tOnN/ivN6zfxPP/P5zvQbcqmVih/KxKx62Oxuiop3m+Pev2Oxx7jSYfY/ooXfr9Fv/THegm/61+tZ3GEwY74Tetf/8e9bKy6HghzHejvht//e/rv8x3zvndCneY70d0PBDmO+d0Kd8Jv0X1r8x3oJuRnv97/FurJjvndChN//e/zvN6O7Hghm5ITHfO5VGCHneb0E3Y+v1r+CHNBD+K27dub+Xn74Ic2EQX5r8BAmYmrV/j+GFFoe7rQ/8EObCIIPG14CxIxpJ38iAxmW44ap5oCATKy2p3f3z/wjNwrDA5Ax2XBwFit3836Z9l/EwQ87n8JuPpndff/ghzcEHbbcBCtEOtWOTI0Ej3VBeIVt/CLlqyWPd02R8j65oIQQDcBwSM/Qchm8gOJAILCYONJJBwTEQINI4DbUW6kHEsBdQLLOAaSZMkkEITIQIaL4G2ot1IdCyoDlHlBtqPRBA4IsIDBVDfABWgaSUrZOQpsw1QwAAlQGIQ9B1B4BGAJGC9pFdTif3gs2S8YAJFDlpIQdU78Jur3+9/4IQgJrWtZoIIXh0BCIA8BioA4gRkAeAx0AOwCMgRAYqAOhEQB4GKgEAAOgaDgACAkAB8HAAIiQgoAATInngcAkAC3IcAJgBbn4bd3d/vf6/Q6HghhHBwCTwcCTpp8HAt80EMbzSjUOAEAFBqAWAG0AHBRqPwdSmAoJmIEMNNDbVDpIiADBTzQ21DwAwAODEHBgQ4JiYENLODbUP9AVIaAAIBXAYAAQA4AD5gHPBCnoX/u9ICJXcUQt6114QACZgYtbUHVoG7M23AYiP8l/gB/ALWnCs9Xef0hD7uFbTGLrwgAlcO7kIOrAkd+VAOfPcR7p3Wd8NuAcAvGOdd3/431aN4vERAYris0EIkOxGw9LL1TK1qv7kpLbTiLEzAA5teyaH/yVq9In5cH59g9Dj3Opm4LmoufzuVfBDDPk4SmmKAP8nPWGNH9QQw7kABABQagDLE2FEoLRMqA5hpgbamSkB8iuQK2XxAsIQD34G+Jm7hRn8rV3/UwQR1lQn/vfr/BzA5RCWcvvP3GzB+TFdURCeHO8wm/r9a/ghCAVrXveWJhX83c2euJt27dueCHndYTf3+/+CHNiCwE8RClrV5AQ5rLJBD4IfBD4If5YIfBD4IfBD4If4GyAAAAEgkGbYOsEP///////nml/E4TQ89J8db8Ouuf//////XPGQQRsHgXEeIADx9wYAAiIA6AhUBQAEZADsAjpGbFAYRcmCzXdZhNcdhAE4YsIAAqDC3FBcAAgbWQB1fqnjoygYASgD15APLrgcv3rBBDmcMCDgSxAHiILxJ6igaEtOT1eCBRFCAJzk/gaAJCYv4FwACQKTAUNuGU/3/jvM5oAAoQgjH4QWdwgACIUgjDgSF7xMBBRrzPfP5/P/jOH4oYuFgsaRwfGIAPFEKJYVGCpDgRuECyOFNhfQMAHuNGbB4Mob5zYAVf2CIU7828F8ALCJ4Tp1zqF2niAADAAAgPgA1kDwTsARY5XSdmngWYifKhBwRpbV7BwEL6EtKWAL/CYIiBpMsKgwhSkzwfhmEoAAgAe5IAAIEugAssAhYB/bgdIsrHL/+EOD9sOSwbMh9j1hhpTI7ij3lNbfIVJAjzF+v72MiYBc9fb/z+fz8V7EKclgh51z+fz8C3BDBH3euCHwQ+CHwQ5YIfBDCvLDADoEjkA4ptwNtX0xhC3OyBM23r4IYZhwBKxQMLadDbV/1+hWn/BD4IcvrrhUEELQcAR/BwBH6gGrP8fwn8IAmEYJARg8DgQQq5gGDVKp7vL4n13btz+Qe+oPT4PT4/c19zKfru3bw29a/Wv19lZTH4k/QTcil7/e/53HEBj8Sfo7vC7//3v1MfiT9Hc6+CHMfiT9BN0L9/vfHuq2Ox+Y/En6O6FghzH4k/XE27du3OfiQ3gCFNpNG1N/4ECY27V/A4Epeb+CXftoe7r9j8EOaCEIhjwFiQ1SScsARsA8DGZaIw/hFy79NGuW+54RCAV+B4GOy4QTMb1q/6RfL3sQR/oJu/Q9/v53TN1eJggggwDiwCEFVkOgREE0qIBPRH1qIQIiAftwwQgIiAQAAqCQcAAQDAAfBwIFgaBUIFuQBwB+vAAgVEH0AG9WCHncvi3TaaCCHsIXLeiHEtBEAccBCHUmFWQAJEA+LCAoJiwIfoQG2rDoUVAU7QgNtQQCwrAglAEDx42DgQWEAgDogqKr1RDXMBCqteEwDLwA1rhB4SwwK5JVdVO9YjhetzDoCZBYdATIBWHQEyBw6BIgEAAKg0GAAEAwAFMOIgLcIGw4iB7jDDgPABrjGDgPoAMsj3ay6x86/fzu3ghzcL5AEAoCEDlQJEAhUjAIDgIJAfUQC7AhqQhDIJXBFgAIDoMdAKuZwyTZ7BZR3IgiZlC7tDwBRgVCUHc9DgljByIY7+qd5QbcrNavfX81vfzQQw9gx8rsFbNR0lhK5kSX5r/cIEjkQBFGbLRxN+1lEJHbKyiY/wf/R3N4bc3rVa+q1lsHZ9WXNw9u1w6RLg5jxAbamBMhIgUOgjIIdBGQBALCNCYAAQBgBYCwcNdyHnh5JAABEwS5AezJowh5biB0gFwAS5ghBx8TcndndndnwQ5sMKVf17O74IcwhaCboS6/Wt78EOblgeAYdl8kEPgh8EPgh8EOWCHwQ+CHwQ+CH9wECMpCVq8hAEGZYGyAAAEh0GbgOlBD///////4Itay+I2226dP////+fFYzh+nTWwaaYWWoAMLMAOp7GFuOUB5cSAB4aEF71Emgjm6keeYAalAKnng1SCeuPCQQXdAhSfAE2g53m3AhuWvcEAkPQOgIVBgdYijfUJfsCPXx9/6YWZb7Ov4TvdQIBdzhAAEAhBgDQZQdJ1Mf2GgCEAduwAYDWVEVf0nOsEAk9f63/P5/P5+MggEhSIAA8kA8KAGAO1WtFr8/1zBMO5BhxQAwZRtY7CEf34Bwrw0sgH2BKPlhg4CmM+C+B0UifgQWAjRYKHAEwy4GvA4pPP4DQMYvEuRWRzKqgIBLjkMpirH8M4gARfYWv8Dz9K53z+fihPYhXksEIjOufz+fgWz5iDgh8EMTSS27beCHwQ5TvwQw1gB0CRyAcU24G2r8MFRhni5AsBM9pbfwQwzDgCVigYW06G2r/p1+ytn/BD4Icvk4V8AQAlZgY8JerVh0LFKBxjjobavQCfgIwrnZxGfKfiv8tttuI8Sdzf3bt4bc7Na/Wvr6KizvN76smCb//73Z3m8Sdy+Eyb33u999HeY7xJ3s7zHeJO9Hc7M7zHeh7htJBfY7HneaCHcEOY72d5vEwQ7ghzcLYZFF8AwBikSjYfgRHu16HudhUOh/wQhAPw/H+8PAAH+ATRO7VqZACIgaY2dq1doY5PEhYNF4IHD2CerXlZvEj3gxKiJxNiJsXliIWIn3ghDkBBMbrWpomYwJWryECGZQAQf4IKEvrGghhaOIMBYSMUHPOEVq8PCRjg55witXh4CVygxxwitXhUDOEsEYAWCSnMYofeIAsEavj0HV4A3CWFKQPrxALmI8BGt/m25uuGPAmCJXeoBCtI61IyM6S2WjWqSAvapzioyTwbhrKLJRuGYHIBhmWzNAd8CBW55/3BBC0DgIDD0GHAQGHoMOAgMNQB+mQIQxx26whkyEAAMgWDAACA0AASDgICwg4IFhA4AsAAIAFzwHEGmuAAMN5euvjZAAIAIDEE51MyqJVAHABABAcgHdSAqSIwAwUwQG2pkLIIlUbiAAExYgABI0HIaY47yVifV7wFi9iZeHPv5CwwdxLWMEIQd6veAudIapDA1VQ4NwQQtBwEGU+DgIIpg4CDKYoABJwOgBgogAAgJAAaBoA0FWY4CDwhwTAAlzDgkABLmb3w/DgIDYgw8DAHQYCgLrQQ7nhtq8OhZqCn88NtX5sg6wQAA8A0AKA7C9j2zVe8SCUVHJWN2E5emC65Q71e8QQjBfQIQdXm4Zh4JXKDHFOrV4sExAYg1oQEhGgASuU5ylK9f9kBZhEGHzef98LQcEGUwcBAimDgIIpg4CDKScIATmMBAAAgHAAwA8CcFSlLuw4ABUolzDgkABLmHEIAGuZepU+HpoV1rWoS9oAeJ0KUh39+v7+judfBCEBvz3BdqdxBBgzIdeKc5wmZesZTwhJrDQeAF0jWGxl9v7BiBRuD2ub3BDm5NaoW7bcEOWCGEu7u4A04ykJWrywQ+CHwQ+CH+WCHwQ+CHwQ/uQgEGZcqBsgAAAVdQZugqUENZf//////9Xf/8McDgJF94OXlf4acf///Xi+CCBAfc/9AGRCAFQ9CHsKUElXABhsQ7cw7wRy+SMPMAauA/40E1FsaKsSDgHAIKUjQ6kcZEMrmEYWEfyX5//OABBCBSgVuPjamIAAEBvAngEpjMqFGIDdn6OcCASHMFYIsC4mM8iEUAW7EAklYiXrULDqMEAEBcOCACAvZ/P5+vFxMbcOAkLQV2AKio0lT7ZBMUfv+sewABAdo4Y76ASTFJ4Ou4OVuAAICQcWxmdxW5DaALANkA/ipMH7nTMIMS66vAERWoYQ/i/YuSP4Dds1/Ve/DEhAhmQLyISSfOeOACL4OAIvhAAEgENHhAAGwAUMFmAGS8pKWWA3wm4AzI/vlFLsEAQxlwf7ghAgwMEEPgh8EPghzQQw1gB0LOwOIZaDbV9j8NKL4IYZhwF0cGPOFhtq/7j0CXR/gh8EObl8AQC7MCHniK1PhqD9TAEBZaHKEO1q9YMWT/DpinN4nqyg24ioe/q/9f2XBDm8SPerHY/oJuv13/zvN6DboX1r9ay/suCHMd7O83iTvZ3mO9BNxCoe+tXvrWd5jvXNp053mO9HfO5FzHeubL+PerHY/mO+dx0HOdx0Sp3mHub146k9Nht//xDT1yw+Y753YsEPghzQQ7ghzQQ67vefhvgHj7NSVNCAL+EStn3hAGGPdwE0jMVamQAiIIADnyCXmgI/wJpTQmzYkN8AT/RiEr5h8xLLJ/4Hz7XNp0z+uXtuf3wQcBDGigtavWTyIMVkGCRka/ir8Gt0MqViNwtgJpDK1agA6SIYUsowNtTgjVgxhZtag6SIYUsowNtR+gcg4JmMMUUYG2rABcEBM7hAJdgAczUMSmkNV/niAkMK9RqDq8AULIDQV3908PAHlIaHCUve+HIDVEzRGCzWoFy41qSgraSbwbjfwQD6xcvXXwtA8BhGWPLAOghmRg0ArRsAwxRobamw4LRgEHINDbUEsIgEACVOALIMTyEloOrwVPLYD0I7C8Qg6vQTcrP1rvrXBCIC8BCmJnrUHBkmEXjohAQVAHiZAgxYXKtQF1YIqK1Jj1YaTxem7Qt2ZVvDJGIKUe4NtQTAQ4EgAISABpnxEmDrIRAhHIOg5B1OAOxW3sI6j/0LIZKVngenjcLSAAQBgUgngcAEAYFIMBUkRgDDlGBtq8KQBhwOgQwSHsVx3rL9XvAWT8SPRz5uxIYO4v2QZSCPV7wFzVGZQINWQcHCb/Wv1rXC/S+hwBACAlBAXIzAMMUbWqHBMjAIFKLDbUDgAIwDAAEB8ArCuOURyyfV6IIYi3LNQdUA6NhEOKhlV6IQjkOwyDqNwtkAAgBAWg8DgAgDAtBAVJGYBhCiw21CAAEg0CAACIUHM1gnGagv1e8CD9EbQGCbFCwwfJwbCq8iq94E1ZpMIPVycew24ACAY15RLv0e9KlU1vU8WAQArBwsa1iBYBwCAFYCo0AcEyIAQcs21BKAhQuDNB2F8eOMvvV4zwFypmSZAbLREMHM0wqYVH+rxXgQ/RNowC8w5oIYZh62MYooytUjiAeQHBMzAIIQUG2pAgfC2aCW2AHGBl25xSXx977/yiEYnExhT/G/7wgNw0mlKMSfeKluHHysZSU4b3cdsqkUgAWF/ZEj1/+yds/u3Z+j8h92T8vVj4Wm4eJowBClNrUDUWT/dZOEJjUQR8fLiCdoY/f9/RwUW0PUT/od/skE3Ko+tfr4IYX2w7IMjKxMdSXab5BKacLNDQntr87d7Pm8T6CboX1r9a4IcsEMsBAjdiVq8hAQZllgh8EPgh8EP8sEPgh8EPgh/gbIAAAReQZvAqUEP/////////8McDgJH98HFYv8N8f///Xi4IIKYoABCKAASigAEIoABCCZEMu0WGUAZGYiTfihuiYT+Lghh7A4CQ9OAKioxU/MgmLs/AOODlxioJhivBQNQM57t5/rNnY/RuhWnAF56xOe/Aa9Pn/gg8UGTmGgOKJTw4DgBE44AIvHAInHAEXhACIx4QABIFFuejgfDuYGgSFsaIqAAIAprg/3BDgYIIfBD4IfBDmghhqaQAdCzsDiGWg21fKAPSkVjVzABk+9KbIdVOTzf+CGGYcBdnBhKzYbav+5OjGP//gh8EObhjNkAQC7MCHniK1GUyAAEAMAhBgfYVtfZGBAIwFyKhPieSAsF3cEMMOrV/31qbhqAIBdmBDTTq1eHgu7AhhoAVWrwJ4TO+DgkYxI96sdj+J8Sd4k733TpzHeJO8Sd4k7xJ3iTvEj3r2XY3y06cx3iYIcTBDieGOAePs1LwOFuulH8JT8TtfvBQF/AJVyCOOsDSmfLfhxSvNghDHAnjYZOXxXpR/BI2cHXdtvP4nCNd29s/DuBMEakQyADpIhhSyjA21QhZkAQYssNtUAEaMhl6jGQ2qsOkiGFLKMDbUGHBMxhCijA21eEEjlCBKmABow0caGuhb74beNT5hASGKFQag6gwArC+HQuVf9YYRuLb/sCxGWENChKfg3w5gkAlsqIMsfsyX+Cw5ZRuNgeAwjLHlgHQjMsPBjMswaAVKMwDDFGhtqbDgtGAQco0NtQ8BIwE7LAhvCBdiBkwHQcAWQYiSknoOrwVuWDbXwB6Edh+IQdR4DfD2T0wCj3Ibk3yE71qLygOCZBBCwuQbagD0Rs0HEyCGEv4DbVh0kNgpQnwbaghIBChFgYkACaZ8RIwfIawIRyBUCEHVACslniKX//ULIZKol+fT8bhaQACAMCkHwOACAMCkGAqSIwBhyjA21eFQAw4HQCGBdD2KcV6yfV7wFk9iRaOfd2LDB3F6QgilO9XvAXNSMygINFQcCsNuAf1nX/9HELFZHwzZmjX5a1k6xnw7kAAgBAWg44Eb+BwAQBgWggKkjMAwhRYbagLAAIBgIAAIhQczLBFGaon1e8BY/RNoGCbFCwwdiaBkFUl3q94GVZpMEHq5Ob2G3AAQDG3Me7bFrUpVtqtZYAQB2K1rBwAgDsQBQTIgBByTbUEKCFAlUOAa8KE+L+1CwujQspCtosD3ZTqDhUwePDcKw9bGMUUZWqXTAukhwTMwCCEEBtqhkkgAzi+G2qbsFjiAJUFSWsDvSUvcFf9v/yIVjlD/4kSQUzbME/ro/sNuAlz5D399Nj/mYiAACAMAPYHAbZACAxwEAjF7m4Wm4cE0YAhTGhtqBqLIuf1k4OCVA6+H5aIE7Qwu/90/hJY5RtTG1oDe+E3A6pB3+9/nccTOCEIze4Ic0EPO5GJ3QFghCMsEMsGgAQzL5YIfBD4IfBD/LBD4IfBD4If3AG7CI71q8iAYdlgbIAAAP7bW9vdgAAAGxtdmhkAAAAAAAAAAAAAAAAAAAD6AAABBoAAQAAAQAAAAAAAAAAAAAAAAEAAAAAAAAAAAAAAAAAAAABAAAAAAAAAAAAAAAAAABAAAAAAAAAAAAAAAAAAAAAAAAAAAAAAAAAAAAAAAAAAgAAAyV0cmFrAAAAXHRraGQAAAADAAAAAAAAAAAAAAABAAAAAAAABBoAAAAAAAAAAAAAAAAAAAAAAAEAAAAAAAAAAAAAAAAAAAABAAAAAAAAAAAAAAAAAABAAAAAASAAAAIAAAAAAAAkZWR0cwAAABxlbHN0AAAAAAAAAAEAAAQaAAAAAAABAAAAAAKdbWRpYQAAACBtZGhkAAAAAAAAAAAAAAAAAAA8AAAAPwBVxAAAAAAALWhkbHIAAAAAAAAAAHZpZGUAAAAAAAAAAAAAAABWaWRlb0hhbmRsZXIAAAACSG1pbmYAAAAUdm1oZAAAAAEAAAAAAAAAAAAAACRkaW5mAAAAHGRyZWYAAAAAAAAAAQAAAAx1cmwgAAAAAQAAAghzdGJsAAAAlHN0c2QAAAAAAAAAAQAAAIRhdmMxAAAAAAAAAAEAAAAAAAAAAAAAAAAAAAAAASACAABIAAAASAAAAAAAAAABAAAAAAAAAAAAAAAAAAAAAAAAAAAAAAAAAAAAAAAAAAAAGP//AAAALmF2Y0MBQsAe/+EAF2dCwB7aBIEGhAAAAwAEAAADAeA8WLqAAQAEaM4PyAAAABhzdHRzAAAAAAAAAAEAAAA/AAABAAAAABRzdHNzAAAAAAAAAAEAAAABAAAAHHN0c2MAAAAAAAAAAQAAAAEAAAA/AAAAAQAAARBzdHN6AAAAAAAAAAAAAAA/AAAkdQAAAAoAAABjAAAAsAAAARsAAANDAAABRwAAA8UAAAOnAAACxQAAAh0AAAHNAAADSQAAAWYAAALEAAABsgAAAqwAAALPAAABkAAAAgYAAAP/AAACowAAAoAAAAN/AAADZQAAAaoAAALaAAACUwAAAmAAAAKNAAACJAAAAj8AAAIBAAAC2wAAAJEAAAMFAAABggAAApsAAAEgAAADiAAAAHAAAAJQAAACjgAAAoUAAAWnAAAE/AAAA7cAAASGAAAG9QAAAacAAATNAAADBAAABDEAAAQsAAADHQAAAzsAAAVDAAAFIAAABMEAAASGAAAEiwAABWEAAARiAAAAFHN0Y28AAAAAAAAAAQAAADAAAABidWR0YQAAAFptZXRhAAAAAAAAACFoZGxyAAAAAAAAAABtZGlyYXBwbAAAAAAAAAAAAAAAAC1pbHN0AAAAJal0b28AAAAdZGF0YQAAAAEAAAAATGF2ZjU3LjU2LjEwMQ==' controls>Sorry, seems like your browser doesn't support HTML5 audio/video</video></div>"
      ],
      "text/plain": [
       "<moviepy.video.io.html_tools.HTML2 object>"
      ]
     },
     "metadata": {},
     "output_type": "display_data"
    }
   ],
   "source": [
    "from moviepy.editor import *\n",
    "clip = VideoFileClip(\"movie/pg_200.webm\")\n",
    "display(clip.ipython_display(fps=60, autoplay=1, loop=1))"
   ]
  },
  {
   "cell_type": "markdown",
   "metadata": {},
   "source": [
    "# Actor-Critic"
   ]
  },
  {
   "cell_type": "code",
   "execution_count": 36,
   "metadata": {},
   "outputs": [],
   "source": [
    "class Actor_critic:\n",
    "\n",
    "  def __init__(self, name, num_action, discount_factor=0.99):\n",
    "    self.exploring_rate = 0.1\n",
    "    self.discount_factor = discount_factor\n",
    "    self.num_action = num_action\n",
    "    self.name = name\n",
    "    with tf.variable_scope(name):\n",
    "      self.build_model()\n",
    "\n",
    "  def build_model(self):\n",
    "    # input: current screen, selected action and reward\n",
    "    #self.input_screen = tf.placeholder(tf.float32, shape=[None, screen_width, screen_height, num_stack])\n",
    "    self.input_state = tf.placeholder(tf.float32, [None,8])\n",
    "    self.action = tf.placeholder(tf.int32, [None])\n",
    "    self.reward = tf.placeholder(tf.float32, [None])\n",
    "    self.is_training = tf.placeholder(tf.bool, shape=[])\n",
    "\n",
    "    def value_net(state, reuse=False):\n",
    "      with tf.variable_scope(\n",
    "          \"value_net\",\n",
    "          reuse=reuse,\n",
    "          initializer=tf.truncated_normal_initializer(stddev=1e-2)):\n",
    "        '''\n",
    "        conv1 = tf.layers.conv2d(\n",
    "            inputs=screen,\n",
    "            filters=32,\n",
    "            kernel_size=[8, 8],\n",
    "            strides=[4, 4],\n",
    "            padding='SAME',\n",
    "            activation=tf.nn.relu)\n",
    "        pool1 = tf.layers.max_pooling2d(\n",
    "            conv1, pool_size=[2, 2], strides=[2, 2], padding='SAME')\n",
    "\n",
    "        conv2 = tf.layers.conv2d(\n",
    "            inputs=pool1,\n",
    "            filters=64,\n",
    "            kernel_size=[4, 4],\n",
    "            strides=[2, 2],\n",
    "            padding='SAME',\n",
    "            activation=tf.nn.relu)\n",
    "        conv3 = tf.layers.conv2d(\n",
    "            inputs=conv2,\n",
    "            filters=64,\n",
    "            kernel_size=[3, 3],\n",
    "            strides=[1, 1],\n",
    "            padding='SAME',\n",
    "            activation=tf.nn.relu)\n",
    "        flat = tf.contrib.layers.flatten(conv3)\n",
    "        '''\n",
    "        dense = tf.layers.dense(inputs=state, units=128, activation=tf.nn.relu)\n",
    "        dense = tf.layers.dense(inputs=dense, units=128, activation=tf.nn.relu)\n",
    "        dense = tf.layers.dense(inputs=dense, units=128, activation=tf.nn.relu)\n",
    "        dense = tf.layers.dense(inputs=dense, units=512, activation=tf.nn.relu)\n",
    "        V = tf.layers.dense(inputs=dense, units=1, activation=None)\n",
    "        return V\n",
    "\n",
    "    def policy_net(state, reuse=False):\n",
    "      with tf.variable_scope(\"policy_net\", reuse=reuse):\n",
    "        '''\n",
    "        conv1 = tf.layers.conv2d(\n",
    "            inputs=screen,\n",
    "            filters=32,\n",
    "            kernel_size=[8, 8],\n",
    "            strides=[4, 4],\n",
    "            padding='SAME',\n",
    "            activation=tf.nn.relu)\n",
    "        pool1 = tf.layers.max_pooling2d(\n",
    "            conv1, pool_size=[2, 2], strides=[2, 2], padding='SAME')\n",
    "\n",
    "        conv2 = tf.layers.conv2d(\n",
    "            inputs=pool1,\n",
    "            filters=64,\n",
    "            kernel_size=[4, 4],\n",
    "            strides=[2, 2],\n",
    "            padding='SAME',\n",
    "            activation=tf.nn.relu)\n",
    "        conv3 = tf.layers.conv2d(\n",
    "            inputs=conv2,\n",
    "            filters=64,\n",
    "            kernel_size=[3, 3],\n",
    "            strides=[1, 1],\n",
    "            padding='SAME',\n",
    "            activation=tf.nn.relu)\n",
    "        self.flat = tf.contrib.layers.flatten(conv3)\n",
    "        '''\n",
    "        dense = tf.layers.dense(inputs=state, units=128, activation=tf.nn.relu)\n",
    "        dense = tf.layers.dense(inputs=dense, units=128, activation=tf.nn.relu)\n",
    "        dense = tf.layers.dense(inputs=dense, units=128, activation=tf.nn.relu)\n",
    "        self.dense1 = tf.layers.dense(\n",
    "            inputs=dense, units=512, activation=tf.nn.relu)\n",
    "        self.dense2 = tf.layers.dense(\n",
    "            inputs=self.dense1, units=self.num_action, activation=None)\n",
    "        return self.dense2\n",
    "\n",
    "    # value\n",
    "    self.v_output = value_net(\n",
    "        self.input_state\n",
    "    )  # Q(s,a,theta) for all a, shape (batch_size, num_action)\n",
    "    self.tar_V = tf.placeholder(tf.float32, [None])\n",
    "    self.V_loss = tf.reduce_mean(\n",
    "        tf.square(self.reward + self.discount_factor * self.tar_V -\n",
    "                  self.v_output))\n",
    "    optimizer = tf.train.AdamOptimizer(learning_rate=1e-6)\n",
    "    g_gvs = optimizer.compute_gradients(\n",
    "        self.V_loss,\n",
    "        var_list=[v for v in tf.global_variables() if 'value_net' in v.name])\n",
    "    self.V_train_op = optimizer.apply_gradients(g_gvs)\n",
    "\n",
    "    # policy\n",
    "    self.policy_logit = policy_net(\n",
    "        self.input_state\n",
    "    )  # logit of probility(P(s,a,theta)) for all a, shape (batch_size, num_action)\n",
    "    index = tf.stack([tf.range(tf.shape(self.action)[0]), self.action], axis=1)\n",
    "    self.prob = tf.gather_nd(\n",
    "        tf.nn.softmax(self.policy_logit),\n",
    "        index)  # P(s,a,theta) for selected action, shape (batch_size, 1)\n",
    "\n",
    "    # loss = E[log(p(s,a))*r]\n",
    "    self.policy_loss = -tf.reduce_mean(\n",
    "        tf.log(self.prob + 0.00000001) * self.reward)\n",
    "    optimizer = tf.train.AdamOptimizer(learning_rate=1e-6)\n",
    "    g_gvs = optimizer.compute_gradients(\n",
    "        self.policy_loss,\n",
    "        var_list=[v for v in tf.global_variables() if 'policy_net' in v.name])\n",
    "    self.train_op = optimizer.apply_gradients(g_gvs)\n",
    "    self.pred = tf.multinomial(self.policy_logit,\n",
    "                               1)  # sample action from distribution\n",
    "\n",
    "  def select_action(self, input_state, sess):\n",
    "    #input_screen = np.array(input_screen).transpose([1, 2, 0])\n",
    "    feed_dict = {\n",
    "        self.input_state: input_state,\n",
    "    }\n",
    "    action = sess.run(\n",
    "        self.pred,\n",
    "        feed_dict=feed_dict)[0][0]  # sameple action from distribution\n",
    "    return action\n",
    "\n",
    "  def update_policy(self, input_state, actions, rewards, input_state_plum):\n",
    "    feed_dict = {\n",
    "        self.input_state: input_state_plum,\n",
    "    }\n",
    "    esti_V = sess.run(self.v_output, feed_dict=feed_dict).flatten()\n",
    "    td_target = rewards + self.discount_factor * esti_V\n",
    "\n",
    "    feed_dict = {\n",
    "        self.input_state: input_state,\n",
    "    }\n",
    "    esti_V = sess.run(self.v_output, feed_dict=feed_dict).flatten()\n",
    "    td_error = td_target - esti_V\n",
    "    feed_dict = {\n",
    "        self.input_state: input_state_plum,\n",
    "    }\n",
    "    feed_dict = {\n",
    "        self.input_state: input_state,\n",
    "        self.tar_V: td_target,\n",
    "        self.reward: rewards,\n",
    "    }\n",
    "\n",
    "    V_loss, _ = sess.run([self.V_loss, self.V_train_op], feed_dict=feed_dict)\n",
    "\n",
    "    feed_dict = {\n",
    "        self.input_state: input_state,\n",
    "        self.action: actions,\n",
    "        self.reward: td_error,\n",
    "    }\n",
    "    policy_loss, _ = sess.run(\n",
    "        [self.policy_loss, self.train_op], feed_dict=feed_dict)\n",
    "    return V_loss, policy_loss\n",
    "\n",
    "  def update_parameters(self, episode):\n",
    "    if self.exploring_rate > MIN_EXPLORING_RATE:\n",
    "      self.exploring_rate -= (0.1 - MIN_EXPLORING_RATE) / 3000000\n",
    "\n",
    "  def shutdown_explore(self):\n",
    "    # make action selection greedy\n",
    "    self.exploring_rate = 0"
   ]
  },
  {
   "cell_type": "code",
   "execution_count": 37,
   "metadata": {},
   "outputs": [],
   "source": [
    "# init agent\n",
    "tf.reset_default_graph()\n",
    "# agent for frequently updating\n",
    "ac_agent = Actor_critic('PG_Agent', num_action)\n",
    "# init all\n",
    "config = tf.ConfigProto()\n",
    "config.gpu_options.allow_growth = True\n",
    "sess = tf.InteractiveSession(config=config)\n",
    "sess.run(tf.global_variables_initializer())"
   ]
  },
  {
   "cell_type": "code",
   "execution_count": 38,
   "metadata": {},
   "outputs": [
    {
     "name": "stdout",
     "output_type": "stream",
     "text": [
      "[100] time live:75, cumulated reward: 7.499999999999989, loss: (3.9601018, 0.05025584)\n",
      "[MoviePy] >>>> Building video movie/ac_100.webm\n",
      "[MoviePy] Writing video movie/ac_100.webm\n"
     ]
    },
    {
     "name": "stderr",
     "output_type": "stream",
     "text": [
      " 99%|████████████████████████████████████████████████████████████████████████████████▉ | 76/77 [00:01<00:00, 41.39it/s]\n"
     ]
    },
    {
     "name": "stdout",
     "output_type": "stream",
     "text": [
      "[MoviePy] Done.\n",
      "[MoviePy] >>>> Video ready: movie/ac_100.webm \n",
      "\n",
      "[200] time live:54, cumulated reward: 4.399999999999997, loss: (3.9601, -0.079638325)\n",
      "[MoviePy] >>>> Building video movie/ac_200.webm\n",
      "[MoviePy] Writing video movie/ac_200.webm\n"
     ]
    },
    {
     "name": "stderr",
     "output_type": "stream",
     "text": [
      " 98%|████████████████████████████████████████████████████████████████████████████████▌ | 55/56 [00:01<00:00, 42.42it/s]\n"
     ]
    },
    {
     "name": "stdout",
     "output_type": "stream",
     "text": [
      "[MoviePy] Done.\n",
      "[MoviePy] >>>> Video ready: movie/ac_200.webm \n",
      "\n",
      "[300] time live:61, cumulated reward: 5.099999999999994, loss: (3.9600995, -0.059361473)\n",
      "[MoviePy] >>>> Building video movie/ac_300.webm\n",
      "[MoviePy] Writing video movie/ac_300.webm\n"
     ]
    },
    {
     "name": "stderr",
     "output_type": "stream",
     "text": [
      "100%|██████████████████████████████████████████████████████████████████████████████████| 63/63 [00:01<00:00, 33.13it/s]\n"
     ]
    },
    {
     "name": "stdout",
     "output_type": "stream",
     "text": [
      "[MoviePy] Done.\n",
      "[MoviePy] >>>> Video ready: movie/ac_300.webm \n",
      "\n",
      "[400] time live:50, cumulated reward: 3.9999999999999982, loss: (3.9601, 0.06469143)\n",
      "[MoviePy] >>>> Building video movie/ac_400.webm\n",
      "[MoviePy] Writing video movie/ac_400.webm\n"
     ]
    },
    {
     "name": "stderr",
     "output_type": "stream",
     "text": [
      " 98%|████████████████████████████████████████████████████████████████████████████████▍ | 51/52 [00:01<00:00, 41.24it/s]\n"
     ]
    },
    {
     "name": "stdout",
     "output_type": "stream",
     "text": [
      "[MoviePy] Done.\n",
      "[MoviePy] >>>> Video ready: movie/ac_400.webm \n",
      "\n",
      "[500] time live:53, cumulated reward: 4.299999999999997, loss: (3.9601004, -0.09443105)\n",
      "[MoviePy] >>>> Building video movie/ac_500.webm\n",
      "[MoviePy] Writing video movie/ac_500.webm\n"
     ]
    },
    {
     "name": "stderr",
     "output_type": "stream",
     "text": [
      " 98%|████████████████████████████████████████████████████████████████████████████████▌ | 54/55 [00:01<00:00, 37.81it/s]\n"
     ]
    },
    {
     "name": "stdout",
     "output_type": "stream",
     "text": [
      "[MoviePy] Done.\n",
      "[MoviePy] >>>> Video ready: movie/ac_500.webm \n",
      "\n",
      "[600] time live:51, cumulated reward: 4.099999999999998, loss: (3.9600995, 0.04022288)\n",
      "[MoviePy] >>>> Building video movie/ac_600.webm\n",
      "[MoviePy] Writing video movie/ac_600.webm\n"
     ]
    },
    {
     "name": "stderr",
     "output_type": "stream",
     "text": [
      " 98%|████████████████████████████████████████████████████████████████████████████████▍ | 52/53 [00:01<00:00, 31.19it/s]\n"
     ]
    },
    {
     "name": "stdout",
     "output_type": "stream",
     "text": [
      "[MoviePy] Done.\n",
      "[MoviePy] >>>> Video ready: movie/ac_600.webm \n",
      "\n",
      "[700] time live:59, cumulated reward: 4.899999999999995, loss: (3.9601002, -0.008182816)\n",
      "[MoviePy] >>>> Building video movie/ac_700.webm\n",
      "[MoviePy] Writing video movie/ac_700.webm\n"
     ]
    },
    {
     "name": "stderr",
     "output_type": "stream",
     "text": [
      " 98%|████████████████████████████████████████████████████████████████████████████████▋ | 60/61 [00:01<00:00, 41.73it/s]\n"
     ]
    },
    {
     "name": "stdout",
     "output_type": "stream",
     "text": [
      "[MoviePy] Done.\n",
      "[MoviePy] >>>> Video ready: movie/ac_700.webm \n",
      "\n",
      "[800] time live:61, cumulated reward: 5.099999999999994, loss: (3.9600995, -0.011961999)\n",
      "[MoviePy] >>>> Building video movie/ac_800.webm\n",
      "[MoviePy] Writing video movie/ac_800.webm\n"
     ]
    },
    {
     "name": "stderr",
     "output_type": "stream",
     "text": [
      "100%|██████████████████████████████████████████████████████████████████████████████████| 63/63 [00:01<00:00, 37.15it/s]\n"
     ]
    },
    {
     "name": "stdout",
     "output_type": "stream",
     "text": [
      "[MoviePy] Done.\n",
      "[MoviePy] >>>> Video ready: movie/ac_800.webm \n",
      "\n",
      "[900] time live:58, cumulated reward: 4.799999999999995, loss: (3.9600997, -0.061957344)\n",
      "[MoviePy] >>>> Building video movie/ac_900.webm\n",
      "[MoviePy] Writing video movie/ac_900.webm\n"
     ]
    },
    {
     "name": "stderr",
     "output_type": "stream",
     "text": [
      " 98%|████████████████████████████████████████████████████████████████████████████████▋ | 59/60 [00:01<00:00, 40.63it/s]\n"
     ]
    },
    {
     "name": "stdout",
     "output_type": "stream",
     "text": [
      "[MoviePy] Done.\n",
      "[MoviePy] >>>> Video ready: movie/ac_900.webm \n",
      "\n",
      "[1000] time live:61, cumulated reward: 5.099999999999994, loss: (3.9600997, 0.056905527)\n",
      "[MoviePy] >>>> Building video movie/ac_1000.webm\n",
      "[MoviePy] Writing video movie/ac_1000.webm\n"
     ]
    },
    {
     "name": "stderr",
     "output_type": "stream",
     "text": [
      "100%|██████████████████████████████████████████████████████████████████████████████████| 63/63 [00:01<00:00, 38.56it/s]\n"
     ]
    },
    {
     "name": "stdout",
     "output_type": "stream",
     "text": [
      "[MoviePy] Done.\n",
      "[MoviePy] >>>> Video ready: movie/ac_1000.webm \n",
      "\n",
      "[1100] time live:51, cumulated reward: 4.099999999999998, loss: (3.9600995, -0.07691748)\n",
      "[MoviePy] >>>> Building video movie/ac_1100.webm\n",
      "[MoviePy] Writing video movie/ac_1100.webm\n"
     ]
    },
    {
     "name": "stderr",
     "output_type": "stream",
     "text": [
      " 98%|████████████████████████████████████████████████████████████████████████████████▍ | 52/53 [00:01<00:00, 34.72it/s]\n"
     ]
    },
    {
     "name": "stdout",
     "output_type": "stream",
     "text": [
      "[MoviePy] Done.\n",
      "[MoviePy] >>>> Video ready: movie/ac_1100.webm \n",
      "\n",
      "[1200] time live:65, cumulated reward: 6.499999999999993, loss: (3.9601011, 0.08232641)\n",
      "[MoviePy] >>>> Building video movie/ac_1200.webm\n",
      "[MoviePy] Writing video movie/ac_1200.webm\n"
     ]
    },
    {
     "name": "stderr",
     "output_type": "stream",
     "text": [
      " 99%|████████████████████████████████████████████████████████████████████████████████▊ | 66/67 [00:02<00:00, 36.49it/s]\n"
     ]
    },
    {
     "name": "stdout",
     "output_type": "stream",
     "text": [
      "[MoviePy] Done.\n",
      "[MoviePy] >>>> Video ready: movie/ac_1200.webm \n",
      "\n",
      "[1300] time live:49, cumulated reward: 3.8999999999999986, loss: (3.9601, 0.05400313)\n",
      "[MoviePy] >>>> Building video movie/ac_1300.webm\n",
      "[MoviePy] Writing video movie/ac_1300.webm\n"
     ]
    },
    {
     "name": "stderr",
     "output_type": "stream",
     "text": [
      " 98%|████████████████████████████████████████████████████████████████████████████████▍ | 50/51 [00:01<00:00, 42.34it/s]\n"
     ]
    },
    {
     "name": "stdout",
     "output_type": "stream",
     "text": [
      "[MoviePy] Done.\n",
      "[MoviePy] >>>> Video ready: movie/ac_1300.webm \n",
      "\n",
      "[1400] time live:60, cumulated reward: 4.999999999999995, loss: (3.9601002, -0.010662715)\n",
      "[MoviePy] >>>> Building video movie/ac_1400.webm\n",
      "[MoviePy] Writing video movie/ac_1400.webm\n"
     ]
    },
    {
     "name": "stderr",
     "output_type": "stream",
     "text": [
      " 98%|████████████████████████████████████████████████████████████████████████████████▋ | 61/62 [00:01<00:00, 37.28it/s]\n"
     ]
    },
    {
     "name": "stdout",
     "output_type": "stream",
     "text": [
      "[MoviePy] Done.\n",
      "[MoviePy] >>>> Video ready: movie/ac_1400.webm \n",
      "\n",
      "[1500] time live:52, cumulated reward: 4.1999999999999975, loss: (3.9601, -0.01904706)\n",
      "[MoviePy] >>>> Building video movie/ac_1500.webm\n",
      "[MoviePy] Writing video movie/ac_1500.webm\n"
     ]
    },
    {
     "name": "stderr",
     "output_type": "stream",
     "text": [
      " 98%|████████████████████████████████████████████████████████████████████████████████▍ | 53/54 [00:01<00:00, 32.67it/s]\n"
     ]
    },
    {
     "name": "stdout",
     "output_type": "stream",
     "text": [
      "[MoviePy] Done.\n",
      "[MoviePy] >>>> Video ready: movie/ac_1500.webm \n",
      "\n",
      "[1600] time live:61, cumulated reward: 5.099999999999994, loss: (3.9600997, -0.018570993)\n",
      "[MoviePy] >>>> Building video movie/ac_1600.webm\n",
      "[MoviePy] Writing video movie/ac_1600.webm\n"
     ]
    },
    {
     "name": "stderr",
     "output_type": "stream",
     "text": [
      "100%|██████████████████████████████████████████████████████████████████████████████████| 63/63 [00:01<00:00, 38.12it/s]\n"
     ]
    },
    {
     "name": "stdout",
     "output_type": "stream",
     "text": [
      "[MoviePy] Done.\n",
      "[MoviePy] >>>> Video ready: movie/ac_1600.webm \n",
      "\n",
      "[1700] time live:56, cumulated reward: 4.599999999999996, loss: (3.9601002, -0.07440065)\n",
      "[MoviePy] >>>> Building video movie/ac_1700.webm\n",
      "[MoviePy] Writing video movie/ac_1700.webm\n"
     ]
    },
    {
     "name": "stderr",
     "output_type": "stream",
     "text": [
      " 98%|████████████████████████████████████████████████████████████████████████████████▌ | 57/58 [00:01<00:00, 42.64it/s]\n"
     ]
    },
    {
     "name": "stdout",
     "output_type": "stream",
     "text": [
      "[MoviePy] Done.\n",
      "[MoviePy] >>>> Video ready: movie/ac_1700.webm \n",
      "\n",
      "[1800] time live:50, cumulated reward: 3.9999999999999982, loss: (3.9601004, -0.06502968)\n",
      "[MoviePy] >>>> Building video movie/ac_1800.webm\n",
      "[MoviePy] Writing video movie/ac_1800.webm\n"
     ]
    },
    {
     "name": "stderr",
     "output_type": "stream",
     "text": [
      " 98%|████████████████████████████████████████████████████████████████████████████████▍ | 51/52 [00:01<00:00, 32.05it/s]\n"
     ]
    },
    {
     "name": "stdout",
     "output_type": "stream",
     "text": [
      "[MoviePy] Done.\n",
      "[MoviePy] >>>> Video ready: movie/ac_1800.webm \n",
      "\n",
      "[1900] time live:61, cumulated reward: 5.099999999999994, loss: (3.9600995, 0.027211392)\n",
      "[MoviePy] >>>> Building video movie/ac_1900.webm\n",
      "[MoviePy] Writing video movie/ac_1900.webm\n"
     ]
    },
    {
     "name": "stderr",
     "output_type": "stream",
     "text": [
      "100%|██████████████████████████████████████████████████████████████████████████████████| 63/63 [00:01<00:00, 32.08it/s]\n"
     ]
    },
    {
     "name": "stdout",
     "output_type": "stream",
     "text": [
      "[MoviePy] Done.\n",
      "[MoviePy] >>>> Video ready: movie/ac_1900.webm \n",
      "\n",
      "[2000] time live:60, cumulated reward: 4.999999999999995, loss: (3.9601, 0.02369631)\n",
      "[MoviePy] >>>> Building video movie/ac_2000.webm\n",
      "[MoviePy] Writing video movie/ac_2000.webm\n"
     ]
    },
    {
     "name": "stderr",
     "output_type": "stream",
     "text": [
      " 98%|████████████████████████████████████████████████████████████████████████████████▋ | 61/62 [00:02<00:00, 25.64it/s]\n"
     ]
    },
    {
     "name": "stdout",
     "output_type": "stream",
     "text": [
      "[MoviePy] Done.\n",
      "[MoviePy] >>>> Video ready: movie/ac_2000.webm \n",
      "\n",
      "[2100] time live:55, cumulated reward: 4.4999999999999964, loss: (3.9601002, 0.016381402)\n",
      "[MoviePy] >>>> Building video movie/ac_2100.webm\n",
      "[MoviePy] Writing video movie/ac_2100.webm\n"
     ]
    },
    {
     "name": "stderr",
     "output_type": "stream",
     "text": [
      " 98%|████████████████████████████████████████████████████████████████████████████████▌ | 56/57 [00:01<00:00, 42.41it/s]\n"
     ]
    },
    {
     "name": "stdout",
     "output_type": "stream",
     "text": [
      "[MoviePy] Done.\n",
      "[MoviePy] >>>> Video ready: movie/ac_2100.webm \n",
      "\n",
      "[2200] time live:58, cumulated reward: 4.799999999999995, loss: (3.9600992, 0.041054923)\n",
      "[MoviePy] >>>> Building video movie/ac_2200.webm\n",
      "[MoviePy] Writing video movie/ac_2200.webm\n"
     ]
    },
    {
     "name": "stderr",
     "output_type": "stream",
     "text": [
      " 98%|████████████████████████████████████████████████████████████████████████████████▋ | 59/60 [00:01<00:00, 37.74it/s]\n"
     ]
    },
    {
     "name": "stdout",
     "output_type": "stream",
     "text": [
      "[MoviePy] Done.\n",
      "[MoviePy] >>>> Video ready: movie/ac_2200.webm \n",
      "\n",
      "[2300] time live:55, cumulated reward: 4.4999999999999964, loss: (3.9601002, -0.0039834804)\n",
      "[MoviePy] >>>> Building video movie/ac_2300.webm\n",
      "[MoviePy] Writing video movie/ac_2300.webm\n"
     ]
    },
    {
     "name": "stderr",
     "output_type": "stream",
     "text": [
      " 98%|████████████████████████████████████████████████████████████████████████████████▌ | 56/57 [00:01<00:00, 47.37it/s]\n"
     ]
    },
    {
     "name": "stdout",
     "output_type": "stream",
     "text": [
      "[MoviePy] Done.\n",
      "[MoviePy] >>>> Video ready: movie/ac_2300.webm \n",
      "\n",
      "[2400] time live:54, cumulated reward: 4.399999999999997, loss: (3.9601, 0.07396108)\n",
      "[MoviePy] >>>> Building video movie/ac_2400.webm\n",
      "[MoviePy] Writing video movie/ac_2400.webm\n"
     ]
    },
    {
     "name": "stderr",
     "output_type": "stream",
     "text": [
      " 98%|████████████████████████████████████████████████████████████████████████████████▌ | 55/56 [00:01<00:00, 50.64it/s]\n"
     ]
    },
    {
     "name": "stdout",
     "output_type": "stream",
     "text": [
      "[MoviePy] Done.\n",
      "[MoviePy] >>>> Video ready: movie/ac_2400.webm \n",
      "\n",
      "[2500] time live:51, cumulated reward: 4.099999999999998, loss: (3.9601, 0.00072473637)\n",
      "[MoviePy] >>>> Building video movie/ac_2500.webm\n",
      "[MoviePy] Writing video movie/ac_2500.webm\n"
     ]
    },
    {
     "name": "stderr",
     "output_type": "stream",
     "text": [
      " 98%|████████████████████████████████████████████████████████████████████████████████▍ | 52/53 [00:01<00:00, 43.60it/s]\n"
     ]
    },
    {
     "name": "stdout",
     "output_type": "stream",
     "text": [
      "[MoviePy] Done.\n",
      "[MoviePy] >>>> Video ready: movie/ac_2500.webm \n",
      "\n",
      "[2600] time live:58, cumulated reward: 4.799999999999995, loss: (3.9600992, 0.034312643)\n",
      "[MoviePy] >>>> Building video movie/ac_2600.webm\n",
      "[MoviePy] Writing video movie/ac_2600.webm\n"
     ]
    },
    {
     "name": "stderr",
     "output_type": "stream",
     "text": [
      " 98%|████████████████████████████████████████████████████████████████████████████████▋ | 59/60 [00:01<00:00, 50.29it/s]\n"
     ]
    },
    {
     "name": "stdout",
     "output_type": "stream",
     "text": [
      "[MoviePy] Done.\n",
      "[MoviePy] >>>> Video ready: movie/ac_2600.webm \n",
      "\n",
      "[2700] time live:59, cumulated reward: 4.899999999999995, loss: (3.9601007, 0.06939233)\n",
      "[MoviePy] >>>> Building video movie/ac_2700.webm\n",
      "[MoviePy] Writing video movie/ac_2700.webm\n"
     ]
    },
    {
     "name": "stderr",
     "output_type": "stream",
     "text": [
      " 98%|████████████████████████████████████████████████████████████████████████████████▋ | 60/61 [00:01<00:00, 42.45it/s]\n"
     ]
    },
    {
     "name": "stdout",
     "output_type": "stream",
     "text": [
      "[MoviePy] Done.\n",
      "[MoviePy] >>>> Video ready: movie/ac_2700.webm \n",
      "\n",
      "[2800] time live:55, cumulated reward: 4.4999999999999964, loss: (3.9601002, 0.116535254)\n",
      "[MoviePy] >>>> Building video movie/ac_2800.webm\n",
      "[MoviePy] Writing video movie/ac_2800.webm\n"
     ]
    },
    {
     "name": "stderr",
     "output_type": "stream",
     "text": [
      " 98%|████████████████████████████████████████████████████████████████████████████████▌ | 56/57 [00:01<00:00, 47.54it/s]\n"
     ]
    },
    {
     "name": "stdout",
     "output_type": "stream",
     "text": [
      "[MoviePy] Done.\n",
      "[MoviePy] >>>> Video ready: movie/ac_2800.webm \n",
      "\n",
      "[2900] time live:51, cumulated reward: 4.099999999999998, loss: (3.9600995, 0.049206227)\n",
      "[MoviePy] >>>> Building video movie/ac_2900.webm\n",
      "[MoviePy] Writing video movie/ac_2900.webm\n"
     ]
    },
    {
     "name": "stderr",
     "output_type": "stream",
     "text": [
      " 98%|████████████████████████████████████████████████████████████████████████████████▍ | 52/53 [00:01<00:00, 48.02it/s]\n"
     ]
    },
    {
     "name": "stdout",
     "output_type": "stream",
     "text": [
      "[MoviePy] Done.\n",
      "[MoviePy] >>>> Video ready: movie/ac_2900.webm \n",
      "\n",
      "[3000] time live:61, cumulated reward: 5.099999999999994, loss: (3.9600995, 0.039549876)\n",
      "[MoviePy] >>>> Building video movie/ac_3000.webm\n",
      "[MoviePy] Writing video movie/ac_3000.webm\n"
     ]
    },
    {
     "name": "stderr",
     "output_type": "stream",
     "text": [
      "100%|██████████████████████████████████████████████████████████████████████████████████| 63/63 [00:01<00:00, 45.49it/s]\n"
     ]
    },
    {
     "name": "stdout",
     "output_type": "stream",
     "text": [
      "[MoviePy] Done.\n",
      "[MoviePy] >>>> Video ready: movie/ac_3000.webm \n",
      "\n",
      "[3100] time live:54, cumulated reward: 4.399999999999997, loss: (3.9601, -0.05694769)\n",
      "[MoviePy] >>>> Building video movie/ac_3100.webm\n",
      "[MoviePy] Writing video movie/ac_3100.webm\n"
     ]
    },
    {
     "name": "stderr",
     "output_type": "stream",
     "text": [
      " 98%|████████████████████████████████████████████████████████████████████████████████▌ | 55/56 [00:01<00:00, 48.27it/s]\n"
     ]
    },
    {
     "name": "stdout",
     "output_type": "stream",
     "text": [
      "[MoviePy] Done.\n",
      "[MoviePy] >>>> Video ready: movie/ac_3100.webm \n",
      "\n",
      "[3200] time live:56, cumulated reward: 4.599999999999996, loss: (3.9601, -0.019714883)\n",
      "[MoviePy] >>>> Building video movie/ac_3200.webm\n",
      "[MoviePy] Writing video movie/ac_3200.webm\n"
     ]
    },
    {
     "name": "stderr",
     "output_type": "stream",
     "text": [
      " 98%|████████████████████████████████████████████████████████████████████████████████▌ | 57/58 [00:01<00:00, 47.27it/s]\n"
     ]
    },
    {
     "name": "stdout",
     "output_type": "stream",
     "text": [
      "[MoviePy] Done.\n",
      "[MoviePy] >>>> Video ready: movie/ac_3200.webm \n",
      "\n",
      "[3300] time live:61, cumulated reward: 5.099999999999994, loss: (3.9600997, 0.03342014)\n",
      "[MoviePy] >>>> Building video movie/ac_3300.webm\n",
      "[MoviePy] Writing video movie/ac_3300.webm\n"
     ]
    },
    {
     "name": "stderr",
     "output_type": "stream",
     "text": [
      "100%|██████████████████████████████████████████████████████████████████████████████████| 63/63 [00:01<00:00, 44.24it/s]\n"
     ]
    },
    {
     "name": "stdout",
     "output_type": "stream",
     "text": [
      "[MoviePy] Done.\n",
      "[MoviePy] >>>> Video ready: movie/ac_3300.webm \n",
      "\n",
      "[3400] time live:52, cumulated reward: 4.1999999999999975, loss: (3.9601, -0.0036128117)\n",
      "[MoviePy] >>>> Building video movie/ac_3400.webm\n",
      "[MoviePy] Writing video movie/ac_3400.webm\n"
     ]
    },
    {
     "name": "stderr",
     "output_type": "stream",
     "text": [
      " 98%|████████████████████████████████████████████████████████████████████████████████▍ | 53/54 [00:01<00:00, 44.80it/s]\n"
     ]
    },
    {
     "name": "stdout",
     "output_type": "stream",
     "text": [
      "[MoviePy] Done.\n",
      "[MoviePy] >>>> Video ready: movie/ac_3400.webm \n",
      "\n",
      "[3500] time live:57, cumulated reward: 4.699999999999996, loss: (3.9601014, 0.044854347)\n",
      "[MoviePy] >>>> Building video movie/ac_3500.webm\n",
      "[MoviePy] Writing video movie/ac_3500.webm\n"
     ]
    },
    {
     "name": "stderr",
     "output_type": "stream",
     "text": [
      " 98%|████████████████████████████████████████████████████████████████████████████████▌ | 58/59 [00:01<00:00, 36.61it/s]\n"
     ]
    },
    {
     "name": "stdout",
     "output_type": "stream",
     "text": [
      "[MoviePy] Done.\n",
      "[MoviePy] >>>> Video ready: movie/ac_3500.webm \n",
      "\n",
      "[3600] time live:58, cumulated reward: 4.799999999999995, loss: (3.9600992, 0.015048849)\n",
      "[MoviePy] >>>> Building video movie/ac_3600.webm\n",
      "[MoviePy] Writing video movie/ac_3600.webm\n"
     ]
    },
    {
     "name": "stderr",
     "output_type": "stream",
     "text": [
      " 98%|████████████████████████████████████████████████████████████████████████████████▋ | 59/60 [00:01<00:00, 43.23it/s]\n"
     ]
    },
    {
     "name": "stdout",
     "output_type": "stream",
     "text": [
      "[MoviePy] Done.\n",
      "[MoviePy] >>>> Video ready: movie/ac_3600.webm \n",
      "\n",
      "[3700] time live:55, cumulated reward: 4.4999999999999964, loss: (3.9601002, 0.014422972)\n",
      "[MoviePy] >>>> Building video movie/ac_3700.webm\n",
      "[MoviePy] Writing video movie/ac_3700.webm\n"
     ]
    },
    {
     "name": "stderr",
     "output_type": "stream",
     "text": [
      " 98%|████████████████████████████████████████████████████████████████████████████████▌ | 56/57 [00:01<00:00, 29.69it/s]\n"
     ]
    },
    {
     "name": "stdout",
     "output_type": "stream",
     "text": [
      "[MoviePy] Done.\n",
      "[MoviePy] >>>> Video ready: movie/ac_3700.webm \n",
      "\n",
      "[3800] time live:59, cumulated reward: 4.899999999999995, loss: (3.9600992, 0.028466208)\n",
      "[MoviePy] >>>> Building video movie/ac_3800.webm\n",
      "[MoviePy] Writing video movie/ac_3800.webm\n"
     ]
    },
    {
     "name": "stderr",
     "output_type": "stream",
     "text": [
      " 98%|████████████████████████████████████████████████████████████████████████████████▋ | 60/61 [00:01<00:00, 44.41it/s]\n"
     ]
    },
    {
     "name": "stdout",
     "output_type": "stream",
     "text": [
      "[MoviePy] Done.\n",
      "[MoviePy] >>>> Video ready: movie/ac_3800.webm \n",
      "\n",
      "[3900] time live:49, cumulated reward: 3.8999999999999986, loss: (3.9600997, 0.0823677)\n",
      "[MoviePy] >>>> Building video movie/ac_3900.webm\n",
      "[MoviePy] Writing video movie/ac_3900.webm\n"
     ]
    },
    {
     "name": "stderr",
     "output_type": "stream",
     "text": [
      " 98%|████████████████████████████████████████████████████████████████████████████████▍ | 50/51 [00:01<00:00, 46.14it/s]\n"
     ]
    },
    {
     "name": "stdout",
     "output_type": "stream",
     "text": [
      "[MoviePy] Done.\n",
      "[MoviePy] >>>> Video ready: movie/ac_3900.webm \n",
      "\n",
      "[4000] time live:59, cumulated reward: 4.899999999999995, loss: (3.9600997, 0.039813932)\n",
      "[MoviePy] >>>> Building video movie/ac_4000.webm\n",
      "[MoviePy] Writing video movie/ac_4000.webm\n"
     ]
    },
    {
     "name": "stderr",
     "output_type": "stream",
     "text": [
      " 98%|████████████████████████████████████████████████████████████████████████████████▋ | 60/61 [00:01<00:00, 47.86it/s]\n"
     ]
    },
    {
     "name": "stdout",
     "output_type": "stream",
     "text": [
      "[MoviePy] Done.\n",
      "[MoviePy] >>>> Video ready: movie/ac_4000.webm \n",
      "\n",
      "[4100] time live:59, cumulated reward: 4.899999999999995, loss: (3.9600997, -0.0040951096)\n",
      "[MoviePy] >>>> Building video movie/ac_4100.webm\n",
      "[MoviePy] Writing video movie/ac_4100.webm\n"
     ]
    },
    {
     "name": "stderr",
     "output_type": "stream",
     "text": [
      " 98%|████████████████████████████████████████████████████████████████████████████████▋ | 60/61 [00:01<00:00, 45.50it/s]\n"
     ]
    },
    {
     "name": "stdout",
     "output_type": "stream",
     "text": [
      "[MoviePy] Done.\n",
      "[MoviePy] >>>> Video ready: movie/ac_4100.webm \n",
      "\n",
      "[4200] time live:59, cumulated reward: 4.899999999999995, loss: (3.9600992, 0.005969969)\n",
      "[MoviePy] >>>> Building video movie/ac_4200.webm\n",
      "[MoviePy] Writing video movie/ac_4200.webm\n"
     ]
    },
    {
     "name": "stderr",
     "output_type": "stream",
     "text": [
      " 98%|████████████████████████████████████████████████████████████████████████████████▋ | 60/61 [00:01<00:00, 44.96it/s]\n"
     ]
    },
    {
     "name": "stdout",
     "output_type": "stream",
     "text": [
      "[MoviePy] Done.\n",
      "[MoviePy] >>>> Video ready: movie/ac_4200.webm \n",
      "\n",
      "[4300] time live:56, cumulated reward: 4.599999999999996, loss: (3.9601, -0.042234797)\n",
      "[MoviePy] >>>> Building video movie/ac_4300.webm\n",
      "[MoviePy] Writing video movie/ac_4300.webm\n"
     ]
    },
    {
     "name": "stderr",
     "output_type": "stream",
     "text": [
      " 98%|████████████████████████████████████████████████████████████████████████████████▌ | 57/58 [00:01<00:00, 42.33it/s]\n"
     ]
    },
    {
     "name": "stdout",
     "output_type": "stream",
     "text": [
      "[MoviePy] Done.\n",
      "[MoviePy] >>>> Video ready: movie/ac_4300.webm \n",
      "\n",
      "[4400] time live:54, cumulated reward: 4.399999999999997, loss: (3.9601007, -0.023249839)\n",
      "[MoviePy] >>>> Building video movie/ac_4400.webm\n",
      "[MoviePy] Writing video movie/ac_4400.webm\n"
     ]
    },
    {
     "name": "stderr",
     "output_type": "stream",
     "text": [
      " 98%|████████████████████████████████████████████████████████████████████████████████▌ | 55/56 [00:01<00:00, 48.75it/s]\n"
     ]
    },
    {
     "name": "stdout",
     "output_type": "stream",
     "text": [
      "[MoviePy] Done.\n",
      "[MoviePy] >>>> Video ready: movie/ac_4400.webm \n",
      "\n",
      "[4500] time live:56, cumulated reward: 4.599999999999996, loss: (3.9600995, -0.034238834)\n",
      "[MoviePy] >>>> Building video movie/ac_4500.webm\n",
      "[MoviePy] Writing video movie/ac_4500.webm\n"
     ]
    },
    {
     "name": "stderr",
     "output_type": "stream",
     "text": [
      " 98%|████████████████████████████████████████████████████████████████████████████████▌ | 57/58 [00:01<00:00, 42.03it/s]\n"
     ]
    },
    {
     "name": "stdout",
     "output_type": "stream",
     "text": [
      "[MoviePy] Done.\n",
      "[MoviePy] >>>> Video ready: movie/ac_4500.webm \n",
      "\n",
      "[4600] time live:61, cumulated reward: 5.099999999999994, loss: (3.9600997, -0.07183691)\n",
      "[MoviePy] >>>> Building video movie/ac_4600.webm\n",
      "[MoviePy] Writing video movie/ac_4600.webm\n"
     ]
    },
    {
     "name": "stderr",
     "output_type": "stream",
     "text": [
      "100%|██████████████████████████████████████████████████████████████████████████████████| 63/63 [00:01<00:00, 44.46it/s]\n"
     ]
    },
    {
     "name": "stdout",
     "output_type": "stream",
     "text": [
      "[MoviePy] Done.\n",
      "[MoviePy] >>>> Video ready: movie/ac_4600.webm \n",
      "\n",
      "[4700] time live:61, cumulated reward: 5.099999999999994, loss: (3.9600995, -0.08167722)\n",
      "[MoviePy] >>>> Building video movie/ac_4700.webm\n",
      "[MoviePy] Writing video movie/ac_4700.webm\n"
     ]
    },
    {
     "name": "stderr",
     "output_type": "stream",
     "text": [
      "100%|██████████████████████████████████████████████████████████████████████████████████| 63/63 [00:01<00:00, 38.18it/s]\n"
     ]
    },
    {
     "name": "stdout",
     "output_type": "stream",
     "text": [
      "[MoviePy] Done.\n",
      "[MoviePy] >>>> Video ready: movie/ac_4700.webm \n",
      "\n",
      "[4800] time live:61, cumulated reward: 5.099999999999994, loss: (3.9600995, 0.026858345)\n",
      "[MoviePy] >>>> Building video movie/ac_4800.webm\n",
      "[MoviePy] Writing video movie/ac_4800.webm\n"
     ]
    },
    {
     "name": "stderr",
     "output_type": "stream",
     "text": [
      "100%|██████████████████████████████████████████████████████████████████████████████████| 63/63 [00:01<00:00, 53.28it/s]\n"
     ]
    },
    {
     "name": "stdout",
     "output_type": "stream",
     "text": [
      "[MoviePy] Done.\n",
      "[MoviePy] >>>> Video ready: movie/ac_4800.webm \n",
      "\n",
      "[4900] time live:50, cumulated reward: 3.9999999999999982, loss: (3.9600997, 0.010509891)\n",
      "[MoviePy] >>>> Building video movie/ac_4900.webm\n",
      "[MoviePy] Writing video movie/ac_4900.webm\n"
     ]
    },
    {
     "name": "stderr",
     "output_type": "stream",
     "text": [
      " 98%|████████████████████████████████████████████████████████████████████████████████▍ | 51/52 [00:01<00:00, 48.05it/s]\n"
     ]
    },
    {
     "name": "stdout",
     "output_type": "stream",
     "text": [
      "[MoviePy] Done.\n",
      "[MoviePy] >>>> Video ready: movie/ac_4900.webm \n",
      "\n",
      "[5000] time live:61, cumulated reward: 5.099999999999994, loss: (3.9600997, -0.012891816)\n",
      "[MoviePy] >>>> Building video movie/ac_5000.webm\n",
      "[MoviePy] Writing video movie/ac_5000.webm\n"
     ]
    },
    {
     "name": "stderr",
     "output_type": "stream",
     "text": [
      "100%|██████████████████████████████████████████████████████████████████████████████████| 63/63 [00:01<00:00, 44.10it/s]\n"
     ]
    },
    {
     "name": "stdout",
     "output_type": "stream",
     "text": [
      "[MoviePy] Done.\n",
      "[MoviePy] >>>> Video ready: movie/ac_5000.webm \n",
      "\n",
      "[5100] time live:56, cumulated reward: 4.599999999999996, loss: (3.9601, -0.017076049)\n",
      "[MoviePy] >>>> Building video movie/ac_5100.webm\n",
      "[MoviePy] Writing video movie/ac_5100.webm\n"
     ]
    },
    {
     "name": "stderr",
     "output_type": "stream",
     "text": [
      " 98%|████████████████████████████████████████████████████████████████████████████████▌ | 57/58 [00:01<00:00, 53.83it/s]\n"
     ]
    },
    {
     "name": "stdout",
     "output_type": "stream",
     "text": [
      "[MoviePy] Done.\n",
      "[MoviePy] >>>> Video ready: movie/ac_5100.webm \n",
      "\n",
      "[5200] time live:57, cumulated reward: 4.699999999999996, loss: (3.9601004, -0.03659322)\n",
      "[MoviePy] >>>> Building video movie/ac_5200.webm\n",
      "[MoviePy] Writing video movie/ac_5200.webm\n"
     ]
    },
    {
     "name": "stderr",
     "output_type": "stream",
     "text": [
      " 98%|████████████████████████████████████████████████████████████████████████████████▌ | 58/59 [00:01<00:00, 41.64it/s]\n"
     ]
    },
    {
     "name": "stdout",
     "output_type": "stream",
     "text": [
      "[MoviePy] Done.\n",
      "[MoviePy] >>>> Video ready: movie/ac_5200.webm \n",
      "\n",
      "[5300] time live:57, cumulated reward: 4.699999999999996, loss: (3.9600995, -0.036367215)\n",
      "[MoviePy] >>>> Building video movie/ac_5300.webm\n",
      "[MoviePy] Writing video movie/ac_5300.webm\n"
     ]
    },
    {
     "name": "stderr",
     "output_type": "stream",
     "text": [
      " 98%|████████████████████████████████████████████████████████████████████████████████▌ | 58/59 [00:01<00:00, 45.62it/s]\n"
     ]
    },
    {
     "name": "stdout",
     "output_type": "stream",
     "text": [
      "[MoviePy] Done.\n",
      "[MoviePy] >>>> Video ready: movie/ac_5300.webm \n",
      "\n",
      "[5400] time live:60, cumulated reward: 4.999999999999995, loss: (3.9601, 0.0287014)\n",
      "[MoviePy] >>>> Building video movie/ac_5400.webm\n",
      "[MoviePy] Writing video movie/ac_5400.webm\n"
     ]
    },
    {
     "name": "stderr",
     "output_type": "stream",
     "text": [
      " 98%|████████████████████████████████████████████████████████████████████████████████▋ | 61/62 [00:01<00:00, 50.20it/s]\n"
     ]
    },
    {
     "name": "stdout",
     "output_type": "stream",
     "text": [
      "[MoviePy] Done.\n",
      "[MoviePy] >>>> Video ready: movie/ac_5400.webm \n",
      "\n",
      "[5500] time live:52, cumulated reward: 4.1999999999999975, loss: (3.9601004, 0.045235597)\n",
      "[MoviePy] >>>> Building video movie/ac_5500.webm\n",
      "[MoviePy] Writing video movie/ac_5500.webm\n"
     ]
    },
    {
     "name": "stderr",
     "output_type": "stream",
     "text": [
      " 98%|████████████████████████████████████████████████████████████████████████████████▍ | 53/54 [00:01<00:00, 42.96it/s]\n"
     ]
    },
    {
     "name": "stdout",
     "output_type": "stream",
     "text": [
      "[MoviePy] Done.\n",
      "[MoviePy] >>>> Video ready: movie/ac_5500.webm \n",
      "\n",
      "[5600] time live:61, cumulated reward: 5.099999999999994, loss: (3.9600997, 0.03254459)\n",
      "[MoviePy] >>>> Building video movie/ac_5600.webm\n",
      "[MoviePy] Writing video movie/ac_5600.webm\n"
     ]
    },
    {
     "name": "stderr",
     "output_type": "stream",
     "text": [
      "100%|██████████████████████████████████████████████████████████████████████████████████| 63/63 [00:01<00:00, 42.65it/s]\n"
     ]
    },
    {
     "name": "stdout",
     "output_type": "stream",
     "text": [
      "[MoviePy] Done.\n",
      "[MoviePy] >>>> Video ready: movie/ac_5600.webm \n",
      "\n",
      "[5700] time live:61, cumulated reward: 5.099999999999994, loss: (3.9600995, 0.04701247)\n",
      "[MoviePy] >>>> Building video movie/ac_5700.webm\n",
      "[MoviePy] Writing video movie/ac_5700.webm\n"
     ]
    },
    {
     "name": "stderr",
     "output_type": "stream",
     "text": [
      "100%|██████████████████████████████████████████████████████████████████████████████████| 63/63 [00:01<00:00, 42.74it/s]\n"
     ]
    },
    {
     "name": "stdout",
     "output_type": "stream",
     "text": [
      "[MoviePy] Done.\n",
      "[MoviePy] >>>> Video ready: movie/ac_5700.webm \n",
      "\n",
      "[5800] time live:61, cumulated reward: 5.099999999999994, loss: (3.9600997, -0.025239475)\n",
      "[MoviePy] >>>> Building video movie/ac_5800.webm\n",
      "[MoviePy] Writing video movie/ac_5800.webm\n"
     ]
    },
    {
     "name": "stderr",
     "output_type": "stream",
     "text": [
      "100%|██████████████████████████████████████████████████████████████████████████████████| 63/63 [00:01<00:00, 44.53it/s]\n"
     ]
    },
    {
     "name": "stdout",
     "output_type": "stream",
     "text": [
      "[MoviePy] Done.\n",
      "[MoviePy] >>>> Video ready: movie/ac_5800.webm \n",
      "\n",
      "[5900] time live:56, cumulated reward: 4.599999999999996, loss: (3.9601, -0.0019523756)\n",
      "[MoviePy] >>>> Building video movie/ac_5900.webm\n",
      "[MoviePy] Writing video movie/ac_5900.webm\n"
     ]
    },
    {
     "name": "stderr",
     "output_type": "stream",
     "text": [
      " 98%|████████████████████████████████████████████████████████████████████████████████▌ | 57/58 [00:01<00:00, 53.33it/s]\n"
     ]
    },
    {
     "name": "stdout",
     "output_type": "stream",
     "text": [
      "[MoviePy] Done.\n",
      "[MoviePy] >>>> Video ready: movie/ac_5900.webm \n",
      "\n",
      "[6000] time live:62, cumulated reward: 5.199999999999994, loss: (3.9600992, -0.043695386)\n",
      "[MoviePy] >>>> Building video movie/ac_6000.webm\n",
      "[MoviePy] Writing video movie/ac_6000.webm\n"
     ]
    },
    {
     "name": "stderr",
     "output_type": "stream",
     "text": [
      " 98%|████████████████████████████████████████████████████████████████████████████████▋ | 63/64 [00:01<00:00, 34.01it/s]\n"
     ]
    },
    {
     "name": "stdout",
     "output_type": "stream",
     "text": [
      "[MoviePy] Done.\n",
      "[MoviePy] >>>> Video ready: movie/ac_6000.webm \n",
      "\n",
      "[6100] time live:58, cumulated reward: 4.799999999999995, loss: (3.9601002, -0.050523546)\n",
      "[MoviePy] >>>> Building video movie/ac_6100.webm\n",
      "[MoviePy] Writing video movie/ac_6100.webm\n"
     ]
    },
    {
     "name": "stderr",
     "output_type": "stream",
     "text": [
      " 98%|████████████████████████████████████████████████████████████████████████████████▋ | 59/60 [00:01<00:00, 30.65it/s]\n"
     ]
    },
    {
     "name": "stdout",
     "output_type": "stream",
     "text": [
      "[MoviePy] Done.\n",
      "[MoviePy] >>>> Video ready: movie/ac_6100.webm \n",
      "\n",
      "[6200] time live:59, cumulated reward: 4.899999999999995, loss: (3.9600995, 0.00810245)\n",
      "[MoviePy] >>>> Building video movie/ac_6200.webm\n",
      "[MoviePy] Writing video movie/ac_6200.webm\n"
     ]
    },
    {
     "name": "stderr",
     "output_type": "stream",
     "text": [
      " 98%|████████████████████████████████████████████████████████████████████████████████▋ | 60/61 [00:01<00:00, 31.40it/s]\n"
     ]
    },
    {
     "name": "stdout",
     "output_type": "stream",
     "text": [
      "[MoviePy] Done.\n",
      "[MoviePy] >>>> Video ready: movie/ac_6200.webm \n",
      "\n",
      "[6300] time live:61, cumulated reward: 5.099999999999994, loss: (3.9601014, 0.09551877)\n",
      "[MoviePy] >>>> Building video movie/ac_6300.webm\n",
      "[MoviePy] Writing video movie/ac_6300.webm\n"
     ]
    },
    {
     "name": "stderr",
     "output_type": "stream",
     "text": [
      "100%|██████████████████████████████████████████████████████████████████████████████████| 63/63 [00:02<00:00, 30.24it/s]\n"
     ]
    },
    {
     "name": "stdout",
     "output_type": "stream",
     "text": [
      "[MoviePy] Done.\n",
      "[MoviePy] >>>> Video ready: movie/ac_6300.webm \n",
      "\n",
      "[6400] time live:54, cumulated reward: 4.399999999999997, loss: (3.9601, -0.14806582)\n",
      "[MoviePy] >>>> Building video movie/ac_6400.webm\n",
      "[MoviePy] Writing video movie/ac_6400.webm\n"
     ]
    },
    {
     "name": "stderr",
     "output_type": "stream",
     "text": [
      " 98%|████████████████████████████████████████████████████████████████████████████████▌ | 55/56 [00:01<00:00, 28.77it/s]\n"
     ]
    },
    {
     "name": "stdout",
     "output_type": "stream",
     "text": [
      "[MoviePy] Done.\n",
      "[MoviePy] >>>> Video ready: movie/ac_6400.webm \n",
      "\n",
      "[6500] time live:58, cumulated reward: 4.799999999999995, loss: (3.9600992, 0.0811318)\n",
      "[MoviePy] >>>> Building video movie/ac_6500.webm\n",
      "[MoviePy] Writing video movie/ac_6500.webm\n"
     ]
    },
    {
     "name": "stderr",
     "output_type": "stream",
     "text": [
      " 98%|████████████████████████████████████████████████████████████████████████████████▋ | 59/60 [00:01<00:00, 41.17it/s]\n"
     ]
    },
    {
     "name": "stdout",
     "output_type": "stream",
     "text": [
      "[MoviePy] Done.\n",
      "[MoviePy] >>>> Video ready: movie/ac_6500.webm \n",
      "\n",
      "[6600] time live:57, cumulated reward: 4.699999999999996, loss: (3.9601002, -0.10759775)\n",
      "[MoviePy] >>>> Building video movie/ac_6600.webm\n",
      "[MoviePy] Writing video movie/ac_6600.webm\n"
     ]
    },
    {
     "name": "stderr",
     "output_type": "stream",
     "text": [
      " 98%|████████████████████████████████████████████████████████████████████████████████▌ | 58/59 [00:01<00:00, 29.73it/s]\n"
     ]
    },
    {
     "name": "stdout",
     "output_type": "stream",
     "text": [
      "[MoviePy] Done.\n",
      "[MoviePy] >>>> Video ready: movie/ac_6600.webm \n",
      "\n",
      "[6700] time live:52, cumulated reward: 4.1999999999999975, loss: (3.9601, -0.11367031)\n",
      "[MoviePy] >>>> Building video movie/ac_6700.webm\n",
      "[MoviePy] Writing video movie/ac_6700.webm\n"
     ]
    },
    {
     "name": "stderr",
     "output_type": "stream",
     "text": [
      " 98%|████████████████████████████████████████████████████████████████████████████████▍ | 53/54 [00:01<00:00, 30.25it/s]\n"
     ]
    },
    {
     "name": "stdout",
     "output_type": "stream",
     "text": [
      "[MoviePy] Done.\n",
      "[MoviePy] >>>> Video ready: movie/ac_6700.webm \n",
      "\n",
      "[6800] time live:53, cumulated reward: 4.299999999999997, loss: (3.9600997, 0.09951802)\n",
      "[MoviePy] >>>> Building video movie/ac_6800.webm\n",
      "[MoviePy] Writing video movie/ac_6800.webm\n"
     ]
    },
    {
     "name": "stderr",
     "output_type": "stream",
     "text": [
      " 98%|████████████████████████████████████████████████████████████████████████████████▌ | 54/55 [00:01<00:00, 32.30it/s]\n"
     ]
    },
    {
     "name": "stdout",
     "output_type": "stream",
     "text": [
      "[MoviePy] Done.\n",
      "[MoviePy] >>>> Video ready: movie/ac_6800.webm \n",
      "\n",
      "[6900] time live:64, cumulated reward: 5.399999999999993, loss: (3.9601002, 0.0020834506)\n",
      "[MoviePy] >>>> Building video movie/ac_6900.webm\n",
      "[MoviePy] Writing video movie/ac_6900.webm\n"
     ]
    },
    {
     "name": "stderr",
     "output_type": "stream",
     "text": [
      " 98%|████████████████████████████████████████████████████████████████████████████████▊ | 65/66 [00:01<00:00, 32.71it/s]\n"
     ]
    },
    {
     "name": "stdout",
     "output_type": "stream",
     "text": [
      "[MoviePy] Done.\n",
      "[MoviePy] >>>> Video ready: movie/ac_6900.webm \n",
      "\n",
      "[7000] time live:61, cumulated reward: 5.099999999999994, loss: (3.9600995, 0.028992027)\n",
      "[MoviePy] >>>> Building video movie/ac_7000.webm\n",
      "[MoviePy] Writing video movie/ac_7000.webm\n"
     ]
    },
    {
     "name": "stderr",
     "output_type": "stream",
     "text": [
      "100%|██████████████████████████████████████████████████████████████████████████████████| 63/63 [00:02<00:00, 29.05it/s]\n"
     ]
    },
    {
     "name": "stdout",
     "output_type": "stream",
     "text": [
      "[MoviePy] Done.\n",
      "[MoviePy] >>>> Video ready: movie/ac_7000.webm \n",
      "\n",
      "[7100] time live:56, cumulated reward: 4.599999999999996, loss: (3.9601, 0.065260954)\n",
      "[MoviePy] >>>> Building video movie/ac_7100.webm\n",
      "[MoviePy] Writing video movie/ac_7100.webm\n"
     ]
    },
    {
     "name": "stderr",
     "output_type": "stream",
     "text": [
      " 98%|████████████████████████████████████████████████████████████████████████████████▌ | 57/58 [00:02<00:00, 23.34it/s]\n"
     ]
    },
    {
     "name": "stdout",
     "output_type": "stream",
     "text": [
      "[MoviePy] Done.\n",
      "[MoviePy] >>>> Video ready: movie/ac_7100.webm \n",
      "\n",
      "[7200] time live:61, cumulated reward: 5.099999999999994, loss: (3.9601, -0.028747246)\n",
      "[MoviePy] >>>> Building video movie/ac_7200.webm\n",
      "[MoviePy] Writing video movie/ac_7200.webm\n"
     ]
    },
    {
     "name": "stderr",
     "output_type": "stream",
     "text": [
      "100%|██████████████████████████████████████████████████████████████████████████████████| 63/63 [00:02<00:00, 30.67it/s]\n"
     ]
    },
    {
     "name": "stdout",
     "output_type": "stream",
     "text": [
      "[MoviePy] Done.\n",
      "[MoviePy] >>>> Video ready: movie/ac_7200.webm \n",
      "\n",
      "[7300] time live:53, cumulated reward: 4.299999999999997, loss: (3.9600997, -0.012089135)\n",
      "[MoviePy] >>>> Building video movie/ac_7300.webm\n",
      "[MoviePy] Writing video movie/ac_7300.webm\n"
     ]
    },
    {
     "name": "stderr",
     "output_type": "stream",
     "text": [
      " 98%|████████████████████████████████████████████████████████████████████████████████▌ | 54/55 [00:02<00:00, 26.50it/s]\n"
     ]
    },
    {
     "name": "stdout",
     "output_type": "stream",
     "text": [
      "[MoviePy] Done.\n",
      "[MoviePy] >>>> Video ready: movie/ac_7300.webm \n",
      "\n",
      "[7400] time live:47, cumulated reward: 3.6999999999999993, loss: (3.9601002, -0.11768263)\n",
      "[MoviePy] >>>> Building video movie/ac_7400.webm\n",
      "[MoviePy] Writing video movie/ac_7400.webm\n"
     ]
    },
    {
     "name": "stderr",
     "output_type": "stream",
     "text": [
      " 98%|████████████████████████████████████████████████████████████████████████████████▎ | 48/49 [00:01<00:00, 28.75it/s]\n"
     ]
    },
    {
     "name": "stdout",
     "output_type": "stream",
     "text": [
      "[MoviePy] Done.\n",
      "[MoviePy] >>>> Video ready: movie/ac_7400.webm \n",
      "\n",
      "[7500] time live:51, cumulated reward: 4.099999999999998, loss: (3.9600995, 0.030954828)\n",
      "[MoviePy] >>>> Building video movie/ac_7500.webm\n",
      "[MoviePy] Writing video movie/ac_7500.webm\n"
     ]
    },
    {
     "name": "stderr",
     "output_type": "stream",
     "text": [
      " 98%|████████████████████████████████████████████████████████████████████████████████▍ | 52/53 [00:01<00:00, 35.51it/s]\n"
     ]
    },
    {
     "name": "stdout",
     "output_type": "stream",
     "text": [
      "[MoviePy] Done.\n",
      "[MoviePy] >>>> Video ready: movie/ac_7500.webm \n",
      "\n",
      "[7600] time live:55, cumulated reward: 4.4999999999999964, loss: (3.9601002, 0.030740825)\n",
      "[MoviePy] >>>> Building video movie/ac_7600.webm\n",
      "[MoviePy] Writing video movie/ac_7600.webm\n"
     ]
    },
    {
     "name": "stderr",
     "output_type": "stream",
     "text": [
      " 98%|████████████████████████████████████████████████████████████████████████████████▌ | 56/57 [00:01<00:00, 37.80it/s]\n"
     ]
    },
    {
     "name": "stdout",
     "output_type": "stream",
     "text": [
      "[MoviePy] Done.\n",
      "[MoviePy] >>>> Video ready: movie/ac_7600.webm \n",
      "\n",
      "[7700] time live:54, cumulated reward: 4.399999999999997, loss: (3.9601, 0.036570515)\n",
      "[MoviePy] >>>> Building video movie/ac_7700.webm\n",
      "[MoviePy] Writing video movie/ac_7700.webm\n"
     ]
    },
    {
     "name": "stderr",
     "output_type": "stream",
     "text": [
      " 98%|████████████████████████████████████████████████████████████████████████████████▌ | 55/56 [00:01<00:00, 41.80it/s]\n"
     ]
    },
    {
     "name": "stdout",
     "output_type": "stream",
     "text": [
      "[MoviePy] Done.\n",
      "[MoviePy] >>>> Video ready: movie/ac_7700.webm \n",
      "\n",
      "[7800] time live:60, cumulated reward: 4.999999999999995, loss: (3.9600995, 0.03670041)\n",
      "[MoviePy] >>>> Building video movie/ac_7800.webm\n",
      "[MoviePy] Writing video movie/ac_7800.webm\n"
     ]
    },
    {
     "name": "stderr",
     "output_type": "stream",
     "text": [
      " 98%|████████████████████████████████████████████████████████████████████████████████▋ | 61/62 [00:01<00:00, 33.08it/s]\n"
     ]
    },
    {
     "name": "stdout",
     "output_type": "stream",
     "text": [
      "[MoviePy] Done.\n",
      "[MoviePy] >>>> Video ready: movie/ac_7800.webm \n",
      "\n",
      "[7900] time live:58, cumulated reward: 4.799999999999995, loss: (3.9600997, -0.025304072)\n",
      "[MoviePy] >>>> Building video movie/ac_7900.webm\n",
      "[MoviePy] Writing video movie/ac_7900.webm\n"
     ]
    },
    {
     "name": "stderr",
     "output_type": "stream",
     "text": [
      " 98%|████████████████████████████████████████████████████████████████████████████████▋ | 59/60 [00:01<00:00, 34.61it/s]\n"
     ]
    },
    {
     "name": "stdout",
     "output_type": "stream",
     "text": [
      "[MoviePy] Done.\n",
      "[MoviePy] >>>> Video ready: movie/ac_7900.webm \n",
      "\n",
      "[8000] time live:56, cumulated reward: 4.599999999999996, loss: (3.9601, 0.04325257)\n",
      "[MoviePy] >>>> Building video movie/ac_8000.webm\n",
      "[MoviePy] Writing video movie/ac_8000.webm\n"
     ]
    },
    {
     "name": "stderr",
     "output_type": "stream",
     "text": [
      " 98%|████████████████████████████████████████████████████████████████████████████████▌ | 57/58 [00:01<00:00, 30.37it/s]\n"
     ]
    },
    {
     "name": "stdout",
     "output_type": "stream",
     "text": [
      "[MoviePy] Done.\n",
      "[MoviePy] >>>> Video ready: movie/ac_8000.webm \n",
      "\n",
      "[8100] time live:61, cumulated reward: 5.099999999999994, loss: (3.9600992, -0.005302429)\n",
      "[MoviePy] >>>> Building video movie/ac_8100.webm\n",
      "[MoviePy] Writing video movie/ac_8100.webm\n"
     ]
    },
    {
     "name": "stderr",
     "output_type": "stream",
     "text": [
      "100%|██████████████████████████████████████████████████████████████████████████████████| 63/63 [00:02<00:00, 30.31it/s]\n"
     ]
    },
    {
     "name": "stdout",
     "output_type": "stream",
     "text": [
      "[MoviePy] Done.\n",
      "[MoviePy] >>>> Video ready: movie/ac_8100.webm \n",
      "\n",
      "[8200] time live:56, cumulated reward: 4.599999999999996, loss: (3.9601, -0.069633365)\n",
      "[MoviePy] >>>> Building video movie/ac_8200.webm\n",
      "[MoviePy] Writing video movie/ac_8200.webm\n"
     ]
    },
    {
     "name": "stderr",
     "output_type": "stream",
     "text": [
      " 98%|████████████████████████████████████████████████████████████████████████████████▌ | 57/58 [00:01<00:00, 36.97it/s]\n"
     ]
    },
    {
     "name": "stdout",
     "output_type": "stream",
     "text": [
      "[MoviePy] Done.\n",
      "[MoviePy] >>>> Video ready: movie/ac_8200.webm \n",
      "\n",
      "[8300] time live:54, cumulated reward: 4.399999999999997, loss: (3.9601007, 0.11838306)\n",
      "[MoviePy] >>>> Building video movie/ac_8300.webm\n",
      "[MoviePy] Writing video movie/ac_8300.webm\n"
     ]
    },
    {
     "name": "stderr",
     "output_type": "stream",
     "text": [
      " 98%|████████████████████████████████████████████████████████████████████████████████▌ | 55/56 [00:01<00:00, 37.49it/s]\n"
     ]
    },
    {
     "name": "stdout",
     "output_type": "stream",
     "text": [
      "[MoviePy] Done.\n",
      "[MoviePy] >>>> Video ready: movie/ac_8300.webm \n",
      "\n",
      "[8400] time live:61, cumulated reward: 5.099999999999994, loss: (3.9600997, 0.095711194)\n",
      "[MoviePy] >>>> Building video movie/ac_8400.webm\n",
      "[MoviePy] Writing video movie/ac_8400.webm\n"
     ]
    },
    {
     "name": "stderr",
     "output_type": "stream",
     "text": [
      "100%|██████████████████████████████████████████████████████████████████████████████████| 63/63 [00:02<00:00, 32.31it/s]\n"
     ]
    },
    {
     "name": "stdout",
     "output_type": "stream",
     "text": [
      "[MoviePy] Done.\n",
      "[MoviePy] >>>> Video ready: movie/ac_8400.webm \n",
      "\n",
      "[8500] time live:61, cumulated reward: 5.099999999999994, loss: (3.9600995, 0.04404678)\n",
      "[MoviePy] >>>> Building video movie/ac_8500.webm\n",
      "[MoviePy] Writing video movie/ac_8500.webm\n"
     ]
    },
    {
     "name": "stderr",
     "output_type": "stream",
     "text": [
      "100%|██████████████████████████████████████████████████████████████████████████████████| 63/63 [00:02<00:00, 30.27it/s]\n"
     ]
    },
    {
     "name": "stdout",
     "output_type": "stream",
     "text": [
      "[MoviePy] Done.\n",
      "[MoviePy] >>>> Video ready: movie/ac_8500.webm \n",
      "\n",
      "[8600] time live:55, cumulated reward: 4.4999999999999964, loss: (3.9600992, 0.023376621)\n",
      "[MoviePy] >>>> Building video movie/ac_8600.webm\n",
      "[MoviePy] Writing video movie/ac_8600.webm\n"
     ]
    },
    {
     "name": "stderr",
     "output_type": "stream",
     "text": [
      " 98%|████████████████████████████████████████████████████████████████████████████████▌ | 56/57 [00:01<00:00, 35.44it/s]\n"
     ]
    },
    {
     "name": "stdout",
     "output_type": "stream",
     "text": [
      "[MoviePy] Done.\n",
      "[MoviePy] >>>> Video ready: movie/ac_8600.webm \n",
      "\n",
      "[8700] time live:56, cumulated reward: 4.599999999999996, loss: (3.9601002, -0.008003763)\n",
      "[MoviePy] >>>> Building video movie/ac_8700.webm\n",
      "[MoviePy] Writing video movie/ac_8700.webm\n"
     ]
    },
    {
     "name": "stderr",
     "output_type": "stream",
     "text": [
      " 98%|████████████████████████████████████████████████████████████████████████████████▌ | 57/58 [00:02<00:00, 27.54it/s]\n"
     ]
    },
    {
     "name": "stdout",
     "output_type": "stream",
     "text": [
      "[MoviePy] Done.\n",
      "[MoviePy] >>>> Video ready: movie/ac_8700.webm \n",
      "\n",
      "[8800] time live:61, cumulated reward: 5.099999999999994, loss: (3.9601, -0.0042459145)\n",
      "[MoviePy] >>>> Building video movie/ac_8800.webm\n",
      "[MoviePy] Writing video movie/ac_8800.webm\n"
     ]
    },
    {
     "name": "stderr",
     "output_type": "stream",
     "text": [
      "100%|██████████████████████████████████████████████████████████████████████████████████| 63/63 [00:01<00:00, 31.54it/s]\n"
     ]
    },
    {
     "name": "stdout",
     "output_type": "stream",
     "text": [
      "[MoviePy] Done.\n",
      "[MoviePy] >>>> Video ready: movie/ac_8800.webm \n",
      "\n",
      "[8900] time live:61, cumulated reward: 5.099999999999994, loss: (3.9600997, -0.13929667)\n",
      "[MoviePy] >>>> Building video movie/ac_8900.webm\n",
      "[MoviePy] Writing video movie/ac_8900.webm\n"
     ]
    },
    {
     "name": "stderr",
     "output_type": "stream",
     "text": [
      "100%|██████████████████████████████████████████████████████████████████████████████████| 63/63 [00:01<00:00, 39.58it/s]\n"
     ]
    },
    {
     "name": "stdout",
     "output_type": "stream",
     "text": [
      "[MoviePy] Done.\n",
      "[MoviePy] >>>> Video ready: movie/ac_8900.webm \n",
      "\n",
      "[9000] time live:56, cumulated reward: 4.599999999999996, loss: (3.9601, 0.026407275)\n",
      "[MoviePy] >>>> Building video movie/ac_9000.webm\n",
      "[MoviePy] Writing video movie/ac_9000.webm\n"
     ]
    },
    {
     "name": "stderr",
     "output_type": "stream",
     "text": [
      " 98%|████████████████████████████████████████████████████████████████████████████████▌ | 57/58 [00:01<00:00, 35.06it/s]\n"
     ]
    },
    {
     "name": "stdout",
     "output_type": "stream",
     "text": [
      "[MoviePy] Done.\n",
      "[MoviePy] >>>> Video ready: movie/ac_9000.webm \n",
      "\n",
      "[9100] time live:58, cumulated reward: 4.799999999999995, loss: (3.9600997, 0.13561775)\n",
      "[MoviePy] >>>> Building video movie/ac_9100.webm\n",
      "[MoviePy] Writing video movie/ac_9100.webm\n"
     ]
    },
    {
     "name": "stderr",
     "output_type": "stream",
     "text": [
      " 98%|████████████████████████████████████████████████████████████████████████████████▋ | 59/60 [00:01<00:00, 30.28it/s]\n"
     ]
    },
    {
     "name": "stdout",
     "output_type": "stream",
     "text": [
      "[MoviePy] Done.\n",
      "[MoviePy] >>>> Video ready: movie/ac_9100.webm \n",
      "\n",
      "[9200] time live:59, cumulated reward: 4.899999999999995, loss: (3.9601002, -0.031911496)\n",
      "[MoviePy] >>>> Building video movie/ac_9200.webm\n",
      "[MoviePy] Writing video movie/ac_9200.webm\n"
     ]
    },
    {
     "name": "stderr",
     "output_type": "stream",
     "text": [
      " 98%|████████████████████████████████████████████████████████████████████████████████▋ | 60/61 [00:02<00:00, 32.14it/s]\n"
     ]
    },
    {
     "name": "stdout",
     "output_type": "stream",
     "text": [
      "[MoviePy] Done.\n",
      "[MoviePy] >>>> Video ready: movie/ac_9200.webm \n",
      "\n",
      "[9300] time live:51, cumulated reward: 4.099999999999998, loss: (3.9600995, 0.074875966)\n",
      "[MoviePy] >>>> Building video movie/ac_9300.webm\n",
      "[MoviePy] Writing video movie/ac_9300.webm\n"
     ]
    },
    {
     "name": "stderr",
     "output_type": "stream",
     "text": [
      " 98%|████████████████████████████████████████████████████████████████████████████████▍ | 52/53 [00:01<00:00, 33.30it/s]\n"
     ]
    },
    {
     "name": "stdout",
     "output_type": "stream",
     "text": [
      "[MoviePy] Done.\n",
      "[MoviePy] >>>> Video ready: movie/ac_9300.webm \n",
      "\n",
      "[9400] time live:54, cumulated reward: 4.399999999999997, loss: (3.9600997, 0.071274295)\n",
      "[MoviePy] >>>> Building video movie/ac_9400.webm\n",
      "[MoviePy] Writing video movie/ac_9400.webm\n"
     ]
    },
    {
     "name": "stderr",
     "output_type": "stream",
     "text": [
      " 98%|████████████████████████████████████████████████████████████████████████████████▌ | 55/56 [00:01<00:00, 39.30it/s]\n"
     ]
    },
    {
     "name": "stdout",
     "output_type": "stream",
     "text": [
      "[MoviePy] Done.\n",
      "[MoviePy] >>>> Video ready: movie/ac_9400.webm \n",
      "\n",
      "[9500] time live:58, cumulated reward: 4.799999999999995, loss: (3.9601007, -0.08753324)\n",
      "[MoviePy] >>>> Building video movie/ac_9500.webm\n",
      "[MoviePy] Writing video movie/ac_9500.webm\n"
     ]
    },
    {
     "name": "stderr",
     "output_type": "stream",
     "text": [
      " 98%|████████████████████████████████████████████████████████████████████████████████▋ | 59/60 [00:01<00:00, 30.16it/s]\n"
     ]
    },
    {
     "name": "stdout",
     "output_type": "stream",
     "text": [
      "[MoviePy] Done.\n",
      "[MoviePy] >>>> Video ready: movie/ac_9500.webm \n",
      "\n",
      "[9600] time live:61, cumulated reward: 5.099999999999994, loss: (3.9600997, -0.0021178918)\n",
      "[MoviePy] >>>> Building video movie/ac_9600.webm\n",
      "[MoviePy] Writing video movie/ac_9600.webm\n"
     ]
    },
    {
     "name": "stderr",
     "output_type": "stream",
     "text": [
      "100%|██████████████████████████████████████████████████████████████████████████████████| 63/63 [00:01<00:00, 40.72it/s]\n"
     ]
    },
    {
     "name": "stdout",
     "output_type": "stream",
     "text": [
      "[MoviePy] Done.\n",
      "[MoviePy] >>>> Video ready: movie/ac_9600.webm \n",
      "\n",
      "[9700] time live:61, cumulated reward: 5.099999999999994, loss: (3.9600997, -0.040542994)\n",
      "[MoviePy] >>>> Building video movie/ac_9700.webm\n",
      "[MoviePy] Writing video movie/ac_9700.webm\n"
     ]
    },
    {
     "name": "stderr",
     "output_type": "stream",
     "text": [
      "100%|██████████████████████████████████████████████████████████████████████████████████| 63/63 [00:01<00:00, 42.15it/s]\n"
     ]
    },
    {
     "name": "stdout",
     "output_type": "stream",
     "text": [
      "[MoviePy] Done.\n",
      "[MoviePy] >>>> Video ready: movie/ac_9700.webm \n",
      "\n",
      "[9800] time live:61, cumulated reward: 5.099999999999994, loss: (3.9600997, -0.07230496)\n",
      "[MoviePy] >>>> Building video movie/ac_9800.webm\n",
      "[MoviePy] Writing video movie/ac_9800.webm\n"
     ]
    },
    {
     "name": "stderr",
     "output_type": "stream",
     "text": [
      "100%|██████████████████████████████████████████████████████████████████████████████████| 63/63 [00:01<00:00, 45.99it/s]\n"
     ]
    },
    {
     "name": "stdout",
     "output_type": "stream",
     "text": [
      "[MoviePy] Done.\n",
      "[MoviePy] >>>> Video ready: movie/ac_9800.webm \n",
      "\n",
      "[9900] time live:61, cumulated reward: 5.099999999999994, loss: (3.9600997, -0.02733559)\n",
      "[MoviePy] >>>> Building video movie/ac_9900.webm\n",
      "[MoviePy] Writing video movie/ac_9900.webm\n"
     ]
    },
    {
     "name": "stderr",
     "output_type": "stream",
     "text": [
      "100%|██████████████████████████████████████████████████████████████████████████████████| 63/63 [00:01<00:00, 42.88it/s]\n"
     ]
    },
    {
     "name": "stdout",
     "output_type": "stream",
     "text": [
      "[MoviePy] Done.\n",
      "[MoviePy] >>>> Video ready: movie/ac_9900.webm \n",
      "\n",
      "[10000] time live:61, cumulated reward: 5.099999999999994, loss: (3.9600997, -0.06814709)\n",
      "[MoviePy] >>>> Building video movie/ac_10000.webm\n",
      "[MoviePy] Writing video movie/ac_10000.webm\n"
     ]
    },
    {
     "name": "stderr",
     "output_type": "stream",
     "text": [
      "100%|██████████████████████████████████████████████████████████████████████████████████| 63/63 [00:01<00:00, 34.79it/s]\n"
     ]
    },
    {
     "name": "stdout",
     "output_type": "stream",
     "text": [
      "[MoviePy] Done.\n",
      "[MoviePy] >>>> Video ready: movie/ac_10000.webm \n",
      "\n"
     ]
    }
   ],
   "source": [
    "from IPython.display import Image, display\n",
    "\n",
    "update_every_episode = 1\n",
    "print_every_episode = 100\n",
    "save_video_every_episode = 100\n",
    "NUM_EPISODE = 10000\n",
    "NUM_EXPLORE = 0\n",
    "reward_values = {\n",
    "    \"positive\": 1,\n",
    "    \"tick\": 0.1,  # reward per timestamp\n",
    "    \"loss\": -1,\n",
    "}\n",
    "for episode in range(0, NUM_EPISODE + 1):\n",
    "\n",
    "  # Reset the environment\n",
    "  game = FlappyBird()\n",
    "  env = PLE(\n",
    "      game,\n",
    "      fps=30,\n",
    "      display_screen=False,\n",
    "      reward_values=reward_values,\n",
    "      rng=np.random.RandomState(1))\n",
    "  env.reset_game()\n",
    "  env.act(0)  # dummy input to make sure input screen is correct\n",
    "\n",
    "  # record frame\n",
    "  if episode % save_video_every_episode == 0:\n",
    "    frames = [env.getScreenRGB()]\n",
    "\n",
    "  # grayscale input screen for this episode\n",
    "  #input_screens = [preprocess(env.getScreenGrayscale())] * 4\n",
    "\n",
    "  input_states = preprocess(game.getGameState())\n",
    "    \n",
    "  # cumulate reward for this episode\n",
    "  cum_reward = 0\n",
    "\n",
    "  experiences = []\n",
    "  t = 0\n",
    "  while not env.game_over():\n",
    "    # feed four previous screen, select an action\n",
    "    action = ac_agent.select_action(input_states, sess)\n",
    "\n",
    "    # execute the action and get reward\n",
    "    reward = env.act(env.getActionSet()[action])\n",
    "\n",
    "    # record frame\n",
    "    if episode % save_video_every_episode == 0:\n",
    "      frames.append(env.getScreenRGB())\n",
    "\n",
    "    # cumulate reward\n",
    "    cum_reward += reward\n",
    "\n",
    "    # append grayscale screen for this episode\n",
    "    #input_screens.append(preprocess(env.getScreenGrayscale()))\n",
    "\n",
    "    input_states_plum = preprocess(game.getGameState())\n",
    "    \n",
    "    # append experience for this episode\n",
    "    experiences.append(\n",
    "        [input_states, action, reward, input_states_plum])\n",
    "\n",
    "    t += 1\n",
    "\n",
    "  def discount_reward(x, discount_rate):\n",
    "    discounted_r = np.zeros(len(x))\n",
    "    num_r = len(x)\n",
    "    for i in range(num_r):\n",
    "      discounted_r[i] = x[i] * math.pow(discount_rate, i)\n",
    "    discounted_r = np.cumsum(discounted_r[::-1])\n",
    "    return discounted_r[::-1]\n",
    "\n",
    "  rewards = [e[2] for e in experiences]\n",
    "  discounted_reward = discount_reward(rewards, ac_agent.discount_factor)\n",
    "\n",
    "  # normalize\n",
    "  discounted_reward -= np.mean(discounted_reward)\n",
    "  discounted_reward /= np.std(discounted_reward)\n",
    "  train_states = []\n",
    "  train_actions = []\n",
    "  train_rewards = []\n",
    "  train_input_states_plum = []\n",
    "  for i in range(len(experiences)):\n",
    "    experiences[i][2] = discounted_reward[i]\n",
    "    train_states.append(experiences[i][0])\n",
    "    train_actions.append(experiences[i][1])\n",
    "    train_rewards.append(experiences[i][2])\n",
    "    train_input_states_plum.append(experiences[i][3])\n",
    "  loss = ac_agent.update_policy(np.squeeze(train_states), train_actions, train_rewards,\n",
    "                                np.squeeze(train_input_states_plum))\n",
    "\n",
    "  if episode % print_every_episode == 0 and episode > NUM_EXPLORE:\n",
    "    print(\"[{}] time live:{}, cumulated reward: {}, loss: {}\".format(\n",
    "        episode, t, cum_reward, loss))\n",
    "\n",
    "  if episode % save_video_every_episode == 0 and episode > NUM_EXPLORE:  # for every 5000 episode, record an animation\n",
    "    clip = make_anim(frames, fps=60, true_image=True).rotate(-90)\n",
    "    clip.write_videofile(\"movie/ac_{}.webm\".format(episode), fps=60)\n",
    "    #display(clip.ipython_display(fps=60, autoplay=1, loop=1))"
   ]
  },
  {
   "cell_type": "code",
   "execution_count": 28,
   "metadata": {},
   "outputs": [
    {
     "name": "stderr",
     "output_type": "stream",
     "text": [
      "100%|█████████████████████████████████████████████████████████████████████████████████| 59/59 [00:00<00:00, 497.13it/s]\n"
     ]
    },
    {
     "data": {
      "text/html": [
       "<div align=middle><video autoplay='1' loop='1'src='data:video/mp4;base64,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' controls>Sorry, seems like your browser doesn't support HTML5 audio/video</video></div>"
      ],
      "text/plain": [
       "<moviepy.video.io.html_tools.HTML2 object>"
      ]
     },
     "metadata": {},
     "output_type": "display_data"
    }
   ],
   "source": [
    "from moviepy.editor import *\n",
    "clip = VideoFileClip(\"movie/ac_100.webm\")\n",
    "display(clip.ipython_display(fps=60, autoplay=1, loop=1))"
   ]
  },
  {
   "cell_type": "markdown",
   "metadata": {},
   "source": [
    "# Report"
   ]
  },
  {
   "cell_type": "markdown",
   "metadata": {},
   "source": [
    "將input從screen轉成上次lab preprocess好的game state，因為game state只有一個維度，所以將convolution layer全部改成fully connected layer，除此之外的部分都按照notebook的作法。\n",
    "\n",
    "此次作業我將DQN、Policy Gradient、Actor-Critic都跑過10000個episode，實驗結果發現DQN的結果遠比Policy Gradient和Actor-Critic穩定許多，誠如老師在影片中所說，Policy Gradient使用MC estimation，因此variance很高，所以需要透過baseline以及Actor-Critic、A2C等方式來降低variance。"
   ]
  },
  {
   "cell_type": "code",
   "execution_count": null,
   "metadata": {},
   "outputs": [],
   "source": []
  }
 ],
 "metadata": {
  "kernelspec": {
   "display_name": "Python 3",
   "language": "python",
   "name": "python3"
  },
  "language_info": {
   "codemirror_mode": {
    "name": "ipython",
    "version": 3
   },
   "file_extension": ".py",
   "mimetype": "text/x-python",
   "name": "python",
   "nbconvert_exporter": "python",
   "pygments_lexer": "ipython3",
   "version": "3.6.6"
  }
 },
 "nbformat": 4,
 "nbformat_minor": 2
}
